{
 "cells": [
  {
   "cell_type": "code",
   "execution_count": 69,
   "metadata": {
    "id": "qWQOlspX78iz"
   },
   "outputs": [],
   "source": [
    "ticker='LMT'"
   ]
  },
  {
   "cell_type": "markdown",
   "metadata": {
    "id": "DGNSEWbH-Bm7"
   },
   "source": [
    "# Initial Setup"
   ]
  },
  {
   "cell_type": "code",
   "execution_count": 70,
   "metadata": {
    "collapsed": true,
    "id": "L9Ij_bfb8K6q"
   },
   "outputs": [
    {
     "name": "stdout",
     "output_type": "stream",
     "text": [
      "Requirement already satisfied: simfin in c:\\users\\lenovo\\anaconda3\\lib\\site-packages (0.8.1)\n",
      "Requirement already satisfied: pandas in c:\\users\\lenovo\\anaconda3\\lib\\site-packages (from simfin) (0.24.2)\n",
      "Requirement already satisfied: numpy in c:\\users\\lenovo\\anaconda3\\lib\\site-packages (from simfin) (1.16.2)\n",
      "Requirement already satisfied: requests in c:\\users\\lenovo\\anaconda3\\lib\\site-packages (from simfin) (2.21.0)\n",
      "Requirement already satisfied: python-dateutil>=2.5.0 in c:\\users\\lenovo\\anaconda3\\lib\\site-packages (from pandas->simfin) (2.8.0)\n",
      "Requirement already satisfied: pytz>=2011k in c:\\users\\lenovo\\anaconda3\\lib\\site-packages (from pandas->simfin) (2018.9)\n",
      "Requirement already satisfied: chardet<3.1.0,>=3.0.2 in c:\\users\\lenovo\\anaconda3\\lib\\site-packages (from requests->simfin) (3.0.4)\n",
      "Requirement already satisfied: idna<2.9,>=2.5 in c:\\users\\lenovo\\anaconda3\\lib\\site-packages (from requests->simfin) (2.8)\n",
      "Requirement already satisfied: certifi>=2017.4.17 in c:\\users\\lenovo\\anaconda3\\lib\\site-packages (from requests->simfin) (2021.5.30)\n",
      "Requirement already satisfied: urllib3<1.25,>=1.21.1 in c:\\users\\lenovo\\anaconda3\\lib\\site-packages (from requests->simfin) (1.24.1)\n",
      "Requirement already satisfied: six>=1.5 in c:\\users\\lenovo\\anaconda3\\lib\\site-packages (from python-dateutil>=2.5.0->pandas->simfin) (1.12.0)\n",
      "Requirement already satisfied: notebook>=5.3 in c:\\users\\lenovo\\anaconda3\\lib\\site-packages (5.7.8)\n",
      "Requirement already satisfied: ipywidgets>=7.5 in c:\\users\\lenovo\\anaconda3\\lib\\site-packages (7.6.3)\n",
      "Requirement already satisfied: ipykernel in c:\\users\\lenovo\\anaconda3\\lib\\site-packages (from notebook>=5.3) (5.1.0)\n",
      "Requirement already satisfied: terminado>=0.8.1 in c:\\users\\lenovo\\anaconda3\\lib\\site-packages (from notebook>=5.3) (0.8.1)\n",
      "Requirement already satisfied: tornado<7,>=4.1 in c:\\users\\lenovo\\anaconda3\\lib\\site-packages (from notebook>=5.3) (6.0.2)\n",
      "Requirement already satisfied: prometheus-client in c:\\users\\lenovo\\anaconda3\\lib\\site-packages (from notebook>=5.3) (0.6.0)\n",
      "Requirement already satisfied: Send2Trash in c:\\users\\lenovo\\anaconda3\\lib\\site-packages (from notebook>=5.3) (1.5.0)\n",
      "Requirement already satisfied: jinja2 in c:\\users\\lenovo\\anaconda3\\lib\\site-packages (from notebook>=5.3) (2.10)\n",
      "Requirement already satisfied: jupyter-core>=4.4.0 in c:\\users\\lenovo\\anaconda3\\lib\\site-packages (from notebook>=5.3) (4.4.0)\n",
      "Requirement already satisfied: pyzmq>=17 in c:\\users\\lenovo\\anaconda3\\lib\\site-packages (from notebook>=5.3) (18.0.0)\n",
      "Requirement already satisfied: traitlets>=4.2.1 in c:\\users\\lenovo\\anaconda3\\lib\\site-packages (from notebook>=5.3) (4.3.2)\n",
      "Requirement already satisfied: ipython-genutils in c:\\users\\lenovo\\anaconda3\\lib\\site-packages (from notebook>=5.3) (0.2.0)\n",
      "Requirement already satisfied: jupyter-client>=5.2.0 in c:\\users\\lenovo\\anaconda3\\lib\\site-packages (from notebook>=5.3) (5.2.4)\n",
      "Requirement already satisfied: nbconvert in c:\\users\\lenovo\\anaconda3\\lib\\site-packages (from notebook>=5.3) (5.4.1)\n",
      "Requirement already satisfied: nbformat in c:\\users\\lenovo\\anaconda3\\lib\\site-packages (from notebook>=5.3) (4.4.0)\n",
      "Requirement already satisfied: ipython>=4.0.0; python_version >= \"3.3\" in c:\\users\\lenovo\\anaconda3\\lib\\site-packages (from ipywidgets>=7.5) (7.4.0)\n",
      "Requirement already satisfied: widgetsnbextension~=3.5.0 in c:\\users\\lenovo\\anaconda3\\lib\\site-packages (from ipywidgets>=7.5) (3.5.1)\n",
      "Requirement already satisfied: jupyterlab-widgets>=1.0.0; python_version >= \"3.6\" in c:\\users\\lenovo\\anaconda3\\lib\\site-packages (from ipywidgets>=7.5) (1.0.0)\n",
      "Requirement already satisfied: MarkupSafe>=0.23 in c:\\users\\lenovo\\anaconda3\\lib\\site-packages (from jinja2->notebook>=5.3) (1.1.1)\n",
      "Requirement already satisfied: decorator in c:\\users\\lenovo\\anaconda3\\lib\\site-packages (from traitlets>=4.2.1->notebook>=5.3) (4.4.0)\n",
      "Requirement already satisfied: six in c:\\users\\lenovo\\anaconda3\\lib\\site-packages (from traitlets>=4.2.1->notebook>=5.3) (1.12.0)\n",
      "Requirement already satisfied: python-dateutil>=2.1 in c:\\users\\lenovo\\anaconda3\\lib\\site-packages (from jupyter-client>=5.2.0->notebook>=5.3) (2.8.0)\n",
      "Requirement already satisfied: mistune>=0.8.1 in c:\\users\\lenovo\\anaconda3\\lib\\site-packages (from nbconvert->notebook>=5.3) (0.8.4)\n",
      "Requirement already satisfied: pygments in c:\\users\\lenovo\\anaconda3\\lib\\site-packages (from nbconvert->notebook>=5.3) (2.3.1)\n",
      "Requirement already satisfied: entrypoints>=0.2.2 in c:\\users\\lenovo\\anaconda3\\lib\\site-packages (from nbconvert->notebook>=5.3) (0.3)\n",
      "Requirement already satisfied: bleach in c:\\users\\lenovo\\anaconda3\\lib\\site-packages (from nbconvert->notebook>=5.3) (3.1.0)\n",
      "Requirement already satisfied: pandocfilters>=1.4.1 in c:\\users\\lenovo\\anaconda3\\lib\\site-packages (from nbconvert->notebook>=5.3) (1.4.2)\n",
      "Requirement already satisfied: testpath in c:\\users\\lenovo\\anaconda3\\lib\\site-packages (from nbconvert->notebook>=5.3) (0.4.2)\n",
      "Requirement already satisfied: defusedxml in c:\\users\\lenovo\\anaconda3\\lib\\site-packages (from nbconvert->notebook>=5.3) (0.5.0)\n",
      "Requirement already satisfied: jsonschema!=2.5.0,>=2.4 in c:\\users\\lenovo\\anaconda3\\lib\\site-packages (from nbformat->notebook>=5.3) (3.0.1)\n",
      "Requirement already satisfied: jedi>=0.10 in c:\\users\\lenovo\\anaconda3\\lib\\site-packages (from ipython>=4.0.0; python_version >= \"3.3\"->ipywidgets>=7.5) (0.13.3)\n",
      "Requirement already satisfied: pickleshare in c:\\users\\lenovo\\anaconda3\\lib\\site-packages (from ipython>=4.0.0; python_version >= \"3.3\"->ipywidgets>=7.5) (0.7.5)\n",
      "Requirement already satisfied: prompt-toolkit<2.1.0,>=2.0.0 in c:\\users\\lenovo\\anaconda3\\lib\\site-packages (from ipython>=4.0.0; python_version >= \"3.3\"->ipywidgets>=7.5) (2.0.9)\n",
      "Requirement already satisfied: colorama; sys_platform == \"win32\" in c:\\users\\lenovo\\anaconda3\\lib\\site-packages (from ipython>=4.0.0; python_version >= \"3.3\"->ipywidgets>=7.5) (0.4.1)\n",
      "Requirement already satisfied: backcall in c:\\users\\lenovo\\anaconda3\\lib\\site-packages (from ipython>=4.0.0; python_version >= \"3.3\"->ipywidgets>=7.5) (0.1.0)\n",
      "Requirement already satisfied: setuptools>=18.5 in c:\\users\\lenovo\\anaconda3\\lib\\site-packages (from ipython>=4.0.0; python_version >= \"3.3\"->ipywidgets>=7.5) (40.8.0)\n",
      "Requirement already satisfied: webencodings in c:\\users\\lenovo\\anaconda3\\lib\\site-packages (from bleach->nbconvert->notebook>=5.3) (0.5.1)\n",
      "Requirement already satisfied: attrs>=17.4.0 in c:\\users\\lenovo\\anaconda3\\lib\\site-packages (from jsonschema!=2.5.0,>=2.4->nbformat->notebook>=5.3) (19.1.0)\n",
      "Requirement already satisfied: pyrsistent>=0.14.0 in c:\\users\\lenovo\\anaconda3\\lib\\site-packages (from jsonschema!=2.5.0,>=2.4->nbformat->notebook>=5.3) (0.14.11)\n",
      "Requirement already satisfied: parso>=0.3.0 in c:\\users\\lenovo\\anaconda3\\lib\\site-packages (from jedi>=0.10->ipython>=4.0.0; python_version >= \"3.3\"->ipywidgets>=7.5) (0.3.4)\n",
      "Requirement already satisfied: wcwidth in c:\\users\\lenovo\\anaconda3\\lib\\site-packages (from prompt-toolkit<2.1.0,>=2.0.0->ipython>=4.0.0; python_version >= \"3.3\"->ipywidgets>=7.5) (0.1.7)\n",
      "Requirement already satisfied: yfinance==0.1.62 in c:\\users\\lenovo\\anaconda3\\lib\\site-packages (0.1.62)\n",
      "Requirement already satisfied: pandas>=0.24 in c:\\users\\lenovo\\anaconda3\\lib\\site-packages (from yfinance==0.1.62) (0.24.2)\n",
      "Requirement already satisfied: numpy>=1.15 in c:\\users\\lenovo\\anaconda3\\lib\\site-packages (from yfinance==0.1.62) (1.16.2)\n",
      "Requirement already satisfied: multitasking>=0.0.7 in c:\\users\\lenovo\\anaconda3\\lib\\site-packages (from yfinance==0.1.62) (0.0.9)\n",
      "Requirement already satisfied: lxml>=4.5.1 in c:\\users\\lenovo\\anaconda3\\lib\\site-packages (from yfinance==0.1.62) (4.6.3)\n",
      "Requirement already satisfied: requests>=2.20 in c:\\users\\lenovo\\anaconda3\\lib\\site-packages (from yfinance==0.1.62) (2.21.0)\n",
      "Requirement already satisfied: pytz>=2011k in c:\\users\\lenovo\\anaconda3\\lib\\site-packages (from pandas>=0.24->yfinance==0.1.62) (2018.9)\n",
      "Requirement already satisfied: python-dateutil>=2.5.0 in c:\\users\\lenovo\\anaconda3\\lib\\site-packages (from pandas>=0.24->yfinance==0.1.62) (2.8.0)\n",
      "Requirement already satisfied: urllib3<1.25,>=1.21.1 in c:\\users\\lenovo\\anaconda3\\lib\\site-packages (from requests>=2.20->yfinance==0.1.62) (1.24.1)\n",
      "Requirement already satisfied: idna<2.9,>=2.5 in c:\\users\\lenovo\\anaconda3\\lib\\site-packages (from requests>=2.20->yfinance==0.1.62) (2.8)\n",
      "Requirement already satisfied: certifi>=2017.4.17 in c:\\users\\lenovo\\anaconda3\\lib\\site-packages (from requests>=2.20->yfinance==0.1.62) (2021.5.30)\n",
      "Requirement already satisfied: chardet<3.1.0,>=3.0.2 in c:\\users\\lenovo\\anaconda3\\lib\\site-packages (from requests>=2.20->yfinance==0.1.62) (3.0.4)\n",
      "Requirement already satisfied: six>=1.5 in c:\\users\\lenovo\\anaconda3\\lib\\site-packages (from python-dateutil>=2.5.0->pandas>=0.24->yfinance==0.1.62) (1.12.0)\n"
     ]
    }
   ],
   "source": [
    "# !pip install yfinance\n",
    "!pip install simfin\n",
    "!pip install \"notebook>=5.3\" \"ipywidgets>=7.5\"\n",
    "!pip install yfinance==0.1.62"
   ]
  },
  {
   "cell_type": "code",
   "execution_count": 71,
   "metadata": {},
   "outputs": [
    {
     "name": "stdout",
     "output_type": "stream",
     "text": [
      "0.1.62\n"
     ]
    }
   ],
   "source": [
    "import yfinance\n",
    "print(yfinance.__version__)"
   ]
  },
  {
   "cell_type": "code",
   "execution_count": 72,
   "metadata": {
    "colab": {
     "base_uri": "https://localhost:8080/",
     "height": 34
    },
    "id": "tOxceCu53Xh-",
    "outputId": "db8d60bc-fcc0-4a26-c747-6a4a49b07ec7"
   },
   "outputs": [
    {
     "data": {
      "text/plain": [
       "<Figure size 1440x720 with 0 Axes>"
      ]
     },
     "metadata": {},
     "output_type": "display_data"
    }
   ],
   "source": [
    "import pandas as pd\n",
    "import numpy as np\n",
    "import math\n",
    "import pandas_datareader as web\n",
    "from numbers import Number\n",
    "import yfinance as yf\n",
    "import datetime as dt\n",
    "import requests\n",
    "from pylab import mpl, plt\n",
    "plt.style.use('seaborn')\n",
    "mpl.rcParams['font.family'] = 'serif'\n",
    "%matplotlib inline\n",
    "from itertools import product\n",
    "import io\n",
    "plt.figure(figsize=(20,10))\n",
    "pd.set_option('display.max_columns', None)\n",
    "pd.set_option('precision', 2)\n",
    "\n",
    "def Format_Table(final_table):\n",
    "  pd.options.display.float_format = '{:,}'.format\n",
    "  i= final_table.copy()\n",
    "  i.style.format(\"{:,.0f}\")\n",
    "  i = i.round(decimals=4)\n",
    "  return i"
   ]
  },
  {
   "cell_type": "markdown",
   "metadata": {
    "id": "G-k2NDah9Rdp"
   },
   "source": [
    "# Data gathering"
   ]
  },
  {
   "cell_type": "code",
   "execution_count": 73,
   "metadata": {},
   "outputs": [],
   "source": [
    "\n",
    "def yahoo_data_parser(ticker, start, end):\n",
    "\n",
    "    \n",
    "    data = pd.DataFrame()\n",
    "    # data = web.get_data_yahoo(ticker).dropna()\n",
    "    start_year = start[0]\n",
    "    start_month = start[1]\n",
    "    start_day = start[2]\n",
    "    \n",
    "    end_year = end[0]\n",
    "    end_month = end[1]\n",
    "    end_day = end[2]\n",
    "\n",
    "    import time\n",
    "    period1 = int(time.mktime(dt.datetime(start_year, start_month, start_day).timetuple()))\n",
    "    period2 = int(time.mktime(dt.datetime(end_year, end_month, end_day).timetuple()))\n",
    "    interval = '1d' # 1d, 1m\n",
    "    query_string = f'https://query1.finance.yahoo.com/v7/finance/download/{ticker}?period1={period1}&period2={period2}&interval={interval}&events=history&includeAdjustedClose=true'\n",
    "    data = pd.read_csv(query_string).dropna()\n",
    "\n",
    "    data['Close'] = data['Adj Close']\n",
    "    data.drop(['Adj Close'], axis=1)\n",
    "\n",
    "    #Calculates the log returns of the stock (i.e., the benchmark investment).\n",
    "    data['Returns'] = np.log(data['Close'] / data['Close'].shift(1))\n",
    "    data.dropna(inplace=True)\n",
    "\n",
    "    #Calculates the annualized volatility for the strategy and the benchmark investment.\n",
    "    data['Volatility'] = data['Returns'].rolling(252).std() * 252 ** 0.5\n",
    "\n",
    "\n",
    "#     data['Date'] = data['Date'].astype(str)\n",
    "\n",
    "\n",
    "    data['Date'] = pd.to_datetime(data['Date'], format=\"%Y/%m/%d\", errors='coerce')\n",
    "\n",
    "\n",
    "    data['Month'] = data['Date'].dt.month\n",
    "    data['Year'] = data['Date'].dt.year\n",
    "#     data['Date'] = data.index\n",
    "    data['Avg_month_price'] = data.groupby([(data.Year),(data.Month)])['Adj Close'].transform('mean')\n",
    "    data['Avg_month_volatility'] = data.groupby([(data.Year),(data.Month)])['Volatility'].transform('mean')\n",
    "    return data"
   ]
  },
  {
   "cell_type": "code",
   "execution_count": 74,
   "metadata": {
    "id": "YkcRe_RTTKdn"
   },
   "outputs": [
    {
     "data": {
      "text/html": [
       "<div>\n",
       "<style scoped>\n",
       "    .dataframe tbody tr th:only-of-type {\n",
       "        vertical-align: middle;\n",
       "    }\n",
       "\n",
       "    .dataframe tbody tr th {\n",
       "        vertical-align: top;\n",
       "    }\n",
       "\n",
       "    .dataframe thead th {\n",
       "        text-align: right;\n",
       "    }\n",
       "</style>\n",
       "<table border=\"1\" class=\"dataframe\">\n",
       "  <thead>\n",
       "    <tr style=\"text-align: right;\">\n",
       "      <th></th>\n",
       "      <th>Date</th>\n",
       "      <th>Open</th>\n",
       "      <th>High</th>\n",
       "      <th>Low</th>\n",
       "      <th>Close</th>\n",
       "      <th>Adj Close</th>\n",
       "      <th>Volume</th>\n",
       "      <th>Returns</th>\n",
       "      <th>Volatility</th>\n",
       "      <th>Month</th>\n",
       "      <th>Year</th>\n",
       "      <th>Avg_month_price</th>\n",
       "      <th>Avg_month_volatility</th>\n",
       "    </tr>\n",
       "  </thead>\n",
       "  <tbody>\n",
       "    <tr>\n",
       "      <th>1</th>\n",
       "      <td>2018-01-03</td>\n",
       "      <td>318.98</td>\n",
       "      <td>321.52</td>\n",
       "      <td>318.63</td>\n",
       "      <td>286.918</td>\n",
       "      <td>286.918</td>\n",
       "      <td>893400</td>\n",
       "      <td>0.0083</td>\n",
       "      <td>nan</td>\n",
       "      <td>1</td>\n",
       "      <td>2018</td>\n",
       "      <td>298.7512</td>\n",
       "      <td>nan</td>\n",
       "    </tr>\n",
       "    <tr>\n",
       "      <th>2</th>\n",
       "      <td>2018-01-04</td>\n",
       "      <td>321.19</td>\n",
       "      <td>326.9</td>\n",
       "      <td>320.99</td>\n",
       "      <td>291.8398</td>\n",
       "      <td>291.8398</td>\n",
       "      <td>1443000</td>\n",
       "      <td>0.017</td>\n",
       "      <td>nan</td>\n",
       "      <td>1</td>\n",
       "      <td>2018</td>\n",
       "      <td>298.7512</td>\n",
       "      <td>nan</td>\n",
       "    </tr>\n",
       "    <tr>\n",
       "      <th>3</th>\n",
       "      <td>2018-01-05</td>\n",
       "      <td>325.99</td>\n",
       "      <td>330.18</td>\n",
       "      <td>325.98</td>\n",
       "      <td>294.4837</td>\n",
       "      <td>294.4837</td>\n",
       "      <td>1241100</td>\n",
       "      <td>0.009</td>\n",
       "      <td>nan</td>\n",
       "      <td>1</td>\n",
       "      <td>2018</td>\n",
       "      <td>298.7512</td>\n",
       "      <td>nan</td>\n",
       "    </tr>\n",
       "    <tr>\n",
       "      <th>4</th>\n",
       "      <td>2018-01-08</td>\n",
       "      <td>328.96</td>\n",
       "      <td>330.41</td>\n",
       "      <td>327.81</td>\n",
       "      <td>293.126</td>\n",
       "      <td>293.126</td>\n",
       "      <td>1084500</td>\n",
       "      <td>-0.0046</td>\n",
       "      <td>nan</td>\n",
       "      <td>1</td>\n",
       "      <td>2018</td>\n",
       "      <td>298.7512</td>\n",
       "      <td>nan</td>\n",
       "    </tr>\n",
       "    <tr>\n",
       "      <th>5</th>\n",
       "      <td>2018-01-09</td>\n",
       "      <td>329.0</td>\n",
       "      <td>331.83</td>\n",
       "      <td>328.42</td>\n",
       "      <td>295.2251</td>\n",
       "      <td>295.2251</td>\n",
       "      <td>865400</td>\n",
       "      <td>0.0071</td>\n",
       "      <td>nan</td>\n",
       "      <td>1</td>\n",
       "      <td>2018</td>\n",
       "      <td>298.7512</td>\n",
       "      <td>nan</td>\n",
       "    </tr>\n",
       "  </tbody>\n",
       "</table>\n",
       "</div>"
      ],
      "text/plain": [
       "        Date   Open   High    Low    Close  Adj Close   Volume  Returns  \\\n",
       "1 2018-01-03 318.98 321.52 318.63  286.918    286.918   893400   0.0083   \n",
       "2 2018-01-04 321.19  326.9 320.99 291.8398   291.8398  1443000    0.017   \n",
       "3 2018-01-05 325.99 330.18 325.98 294.4837   294.4837  1241100    0.009   \n",
       "4 2018-01-08 328.96 330.41 327.81  293.126    293.126  1084500  -0.0046   \n",
       "5 2018-01-09  329.0 331.83 328.42 295.2251   295.2251   865400   0.0071   \n",
       "\n",
       "   Volatility  Month  Year  Avg_month_price  Avg_month_volatility  \n",
       "1         nan      1  2018         298.7512                   nan  \n",
       "2         nan      1  2018         298.7512                   nan  \n",
       "3         nan      1  2018         298.7512                   nan  \n",
       "4         nan      1  2018         298.7512                   nan  \n",
       "5         nan      1  2018         298.7512                   nan  "
      ]
     },
     "execution_count": 74,
     "metadata": {},
     "output_type": "execute_result"
    }
   ],
   "source": [
    "start_date = [2017, 12, 31]\n",
    "end_date = [2021, 12, 31]\n",
    "\n",
    "data = yahoo_data_parser(ticker, start_date, end_date)\n",
    "data= Format_Table(data)\n",
    "\n",
    "data_prices = pd.DataFrame()\n",
    "data_prices['Year'] = data['Year']\n",
    "data_prices['Month'] = data['Month']\n",
    "data_prices['Avg_month_price'] = data['Avg_month_price']\n",
    "data_prices.reset_index(drop=True, inplace=True)\n",
    "data_prices = data_prices.drop_duplicates()\n",
    "data.head()"
   ]
  },
  {
   "cell_type": "code",
   "execution_count": 75,
   "metadata": {
    "id": "4SM2Im2Kbxue"
   },
   "outputs": [],
   "source": [
    "company = yf.Ticker(ticker)\n",
    "\n",
    "cashflow_statement = pd.DataFrame()\n",
    "cashflow_statement = company.cashflow\n",
    "\n",
    "financials = pd.DataFrame()\n",
    "financials = company.financials\n",
    "\n",
    "\n",
    "balance_sheet = pd.DataFrame()\n",
    "balance_sheet = company.balance_sheet\n",
    "\n",
    "df = pd.DataFrame(list(company.info.items()),columns = ['Key','Value']) \n",
    "\n",
    "#we need these dataframes transposed, so we have a single row by each time period\n",
    "#Except for earnings, which comes already transposed and with years instead of YYYMMMDDD.\n",
    "balance_sheet = balance_sheet.transpose()\n",
    "financials = financials.transpose()\n",
    "cashflow_statement = cashflow_statement.transpose()\n",
    "\n",
    "earnings = pd.DataFrame()\n",
    "earnings = company.earnings"
   ]
  },
  {
   "cell_type": "code",
   "execution_count": 76,
   "metadata": {
    "id": "d6-KTA8zpxve"
   },
   "outputs": [],
   "source": [
    "#Normalize dates columns so we can make a big join later\n",
    "financials['Date'] = financials.index\n",
    "cashflow_statement['Date'] = cashflow_statement.index\n",
    "earnings.index.names = ['Date']\n",
    "earnings['Year'] = earnings.index\n",
    "balance_sheet['Date'] = balance_sheet.index"
   ]
  },
  {
   "cell_type": "code",
   "execution_count": 77,
   "metadata": {
    "id": "6WBkGaDFwAha"
   },
   "outputs": [],
   "source": [
    "#Net Income gets dupped on financials, so we dropped to avoid having a \"Net Income_y\" table\n",
    "financials.drop('Net Income', inplace=True, axis=1)\n",
    "financials.drop('Minority Interest', inplace=True, axis=1)\n",
    "result = pd.merge(cashflow_statement, financials, on='Date')\n",
    "result = pd.merge(result, balance_sheet, on='Date')\n",
    "\n",
    "\n",
    "#Normalize datetime to years so we can add income table\n",
    "result['Year']= pd.DatetimeIndex(result['Date']).year\n",
    "result['Month']= pd.DatetimeIndex(result['Date']).month\n",
    "result = pd.merge(result, earnings, on='Year')\n",
    "col_name = 'Date'\n",
    "first_col = result.pop(col_name)\n",
    "result.insert(0, col_name, first_col)\n",
    "result['Working Capital']= result['Total Current Assets']- result['Total Current Liabilities']"
   ]
  },
  {
   "cell_type": "code",
   "execution_count": 78,
   "metadata": {
    "id": "28aRgRwcc6K-"
   },
   "outputs": [],
   "source": [
    "pd.set_option('float_format', '{:f}'.format)"
   ]
  },
  {
   "cell_type": "markdown",
   "metadata": {
    "id": "fz_9QqKLwwGl"
   },
   "source": [
    "## Get Shares"
   ]
  },
  {
   "cell_type": "code",
   "execution_count": 79,
   "metadata": {
    "id": "vDbppCXAMrHZ"
   },
   "outputs": [],
   "source": [
    "def Get_Shares():\n",
    "\n",
    "  simfin_api_key = 'En45n7bGFsBZoqGypg0bWJ0C9xGDG7u9'\n",
    "  request_url = 'https://simfin.com/api/v2/companies/shares'\n",
    "  \n",
    "  response = requests.get(request_url, {\"ticker\": 'ticker', \"type\": \"common\", \"api-key\": simfin_api_key}).json()\n",
    "\n",
    "\n",
    "  type(response)\n",
    "  response_dict = response[0]\n",
    "  type(response_dict)\n",
    "  last_date_response_dict = response_dict.get('data')\n",
    "  \n",
    "  for i in last_date_response_dict:\n",
    "    i.pop(0)\n",
    "    i.pop(0)\n",
    "  \n",
    "  shares_df = pd.DataFrame(last_date_response_dict, columns = ['Date', 'Shares']) \n",
    "\n",
    "  shares_df['Year']= pd.DatetimeIndex(shares_df['Date']).year\n",
    "  \n",
    "  return shares_df\n",
    "\n",
    "shares_simfin = Get_Shares()"
   ]
  },
  {
   "cell_type": "code",
   "execution_count": 80,
   "metadata": {
    "id": "BCs2GWFBv3KF"
   },
   "outputs": [],
   "source": [
    "if shares_simfin.empty:\n",
    "  # print('SIMFIN shares returned Empty')\n",
    "  # shares = pd.DataFrame()\n",
    "  shares_year_avg = pd.DataFrame()\n",
    "  shares_year_avg['Year'] = result['Year'].copy()\n",
    "  yshares= float(company.info.get('sharesOutstanding'))\n",
    "  shares_year_avg['Shares'] = yshares\n",
    "  # print(shares_year_avg)\n",
    "else:  \n",
    "  shares['Date'] = pd.to_datetime(shares_simfin['Date'])\n",
    "  shares_year_avg = pd.DataFrame()\n",
    "  shares_year_avg['Year'] = shares_simfin['Year']\n",
    "  shares_year_avg['Shares'] = shares_simfin['Shares']\n",
    "  shares_year_avg['Shares'] = shares_simfin.groupby(shares_simfin['Date'].dt.year)['Shares'].transform('mean')\n",
    "  shares_year_avg = shares_year_avg.drop_duplicates()\n",
    "\n",
    "\n",
    "#Use this line only if shares count is wrong\n",
    "# shares_year_avg['Shares'] = 340000000"
   ]
  },
  {
   "cell_type": "code",
   "execution_count": 81,
   "metadata": {
    "id": "fA2BElSB-8KM"
   },
   "outputs": [],
   "source": [
    "result = pd.merge(result, shares_year_avg ,on='Year',how='left')\n",
    "statements_target_month = result['Month'].iloc[0].astype(int)\n",
    "statements_target_year = result['Year'].iloc[0].astype(int)\n",
    "\n",
    "avg_statement_month_prices = data_prices.copy()\n",
    "\n",
    "if statements_target_year > avg_statement_month_prices['Year'].iloc[-1]:\n",
    "  print('Statement Year is bigger than avg price year')\n",
    "  print(avg_statement_month_prices['Year'].iloc[-1])\n",
    "avg_statement_month_prices = avg_statement_month_prices.drop(avg_statement_month_prices[avg_statement_month_prices.Month != statements_target_month].index)\n",
    "avg_statement_month_prices = avg_statement_month_prices.drop(['Month'], axis=1)\n",
    "# print(avg_statement_month_prices)\n",
    "result = pd.merge(result, avg_statement_month_prices ,on='Year',how='left')\n",
    "result = Format_Table(result)"
   ]
  },
  {
   "cell_type": "code",
   "execution_count": 82,
   "metadata": {},
   "outputs": [],
   "source": [
    "initial_fields = ['Date',\n",
    "                  'Change To Liabilities',\n",
    "                  'Total Cashflows From Investing Activities',\n",
    "                  'Net Borrowings',\n",
    "                  'Total Cash From Financing Activities',\n",
    "                  'Change To Operating Activities',\n",
    "                  'Net Income',\n",
    "                  'Change In Cash',\n",
    "                  'Repurchase Of Stock',\n",
    "                  'Total Cash From Operating Activities',\n",
    "                  'Depreciation',\n",
    "                  'Other Cashflows From Investing Activities',\n",
    "                  'Dividends Paid',\n",
    "                  'Change To Inventory',\n",
    "                  'Change To Account Receivables',\n",
    "                  'Other Cashflows From Financing Activities',\n",
    "                  'Change To Netincome',\n",
    "                  'Capital Expenditures',\n",
    "                  'Research Development',\n",
    "                  'Effect Of Accounting Charges',\n",
    "                  'Income Before Tax',\n",
    "                  'Selling General Administrative',\n",
    "                  'Gross Profit',\n",
    "                  'Ebit',\n",
    "                  'Operating Income',\n",
    "                  'Other Operating Expenses',\n",
    "                  'Interest Expense',\n",
    "                  'Extraordinary Items',\n",
    "                  'Non Recurring',\n",
    "                  'Other Items',\n",
    "                  'Income Tax Expense',\n",
    "                  'Total Revenue',\n",
    "                  'Total Operating Expenses',\n",
    "                  'Cost Of Revenue',\n",
    "                  'Total Other Income Expense Net',\n",
    "                  'Discontinued Operations',\n",
    "                  'Net Income From Continuing Ops',\n",
    "                  'Net Income Applicable To Common Shares',\n",
    "                  'Intangible Assets',\n",
    "                  'Capital Surplus',\n",
    "                  'Total Liab',\n",
    "                  'Total Stockholder Equity',\n",
    "                  'Minority Interest',\n",
    "                  'Other Current Liab',\n",
    "                  'Total Assets',\n",
    "                  'Common Stock',\n",
    "                  'Other Current Assets',\n",
    "                  'Retained Earnings',\n",
    "                  'Other Liab',\n",
    "                  'Good Will',\n",
    "                  'Treasury Stock',\n",
    "                  'Other Assets',\n",
    "                  'Cash',\n",
    "                  'Total Current Liabilities',\n",
    "                  'Deferred Long Term Asset Charges',\n",
    "                  'Short Long Term Debt',\n",
    "                  'Other Stockholder Equity',\n",
    "                  'Property Plant Equipment',\n",
    "                  'Total Current Assets',\n",
    "                  'Long Term Investments',\n",
    "                  'Net Tangible Assets',\n",
    "                  'Net Receivables',\n",
    "                  'Long Term Debt',\n",
    "                  'Inventory',\n",
    "                  'Accounts Payable',\n",
    "                  'Year',\n",
    "                  'Month',\n",
    "                  'Revenue',\n",
    "                  'Earnings',\n",
    "                  'Working Capital',\n",
    "                  'Shares',\n",
    "                  'Avg_month_price']\n",
    "\n",
    "current_fields = []\n",
    "for i in result.columns:\n",
    "  current_fields.append(i)\n",
    "for i in initial_fields:\n",
    "  if i not in current_fields:\n",
    "    # print(i, \"Not here. Setting it up to zero\")\n",
    "    result[i] = 0"
   ]
  },
  {
   "cell_type": "markdown",
   "metadata": {
    "id": "t9RPfmQe-bsL"
   },
   "source": [
    "# First layer data output"
   ]
  },
  {
   "cell_type": "code",
   "execution_count": 83,
   "metadata": {
    "colab": {
     "base_uri": "https://localhost:8080/",
     "height": 678
    },
    "id": "FxO9mALO-hPK",
    "outputId": "f2353f44-60e2-4b0b-c765-b900cce4842d"
   },
   "outputs": [
    {
     "data": {
      "application/vnd.plotly.v1+json": {
       "config": {
        "plotlyServerURL": "https://plot.ly"
       },
       "data": [
        {
         "hovertemplate": "variable=Close<br>index=%{x}<br>value=%{y}<extra></extra>",
         "legendgroup": "Close",
         "line": {
          "color": "#636efa",
          "dash": "solid"
         },
         "mode": "lines",
         "name": "Close",
         "showlegend": true,
         "type": "scattergl",
         "x": [
          1,
          2,
          3,
          4,
          5,
          6,
          7,
          8,
          9,
          10,
          11,
          12,
          13,
          14,
          15,
          16,
          17,
          18,
          19,
          20,
          21,
          22,
          23,
          24,
          25,
          26,
          27,
          28,
          29,
          30,
          31,
          32,
          33,
          34,
          35,
          36,
          37,
          38,
          39,
          40,
          41,
          42,
          43,
          44,
          45,
          46,
          47,
          48,
          49,
          50,
          51,
          52,
          53,
          54,
          55,
          56,
          57,
          58,
          59,
          60,
          61,
          62,
          63,
          64,
          65,
          66,
          67,
          68,
          69,
          70,
          71,
          72,
          73,
          74,
          75,
          76,
          77,
          78,
          79,
          80,
          81,
          82,
          83,
          84,
          85,
          86,
          87,
          88,
          89,
          90,
          91,
          92,
          93,
          94,
          95,
          96,
          97,
          98,
          99,
          100,
          101,
          102,
          103,
          104,
          105,
          106,
          107,
          108,
          109,
          110,
          111,
          112,
          113,
          114,
          115,
          116,
          117,
          118,
          119,
          120,
          121,
          122,
          123,
          124,
          125,
          126,
          127,
          128,
          129,
          130,
          131,
          132,
          133,
          134,
          135,
          136,
          137,
          138,
          139,
          140,
          141,
          142,
          143,
          144,
          145,
          146,
          147,
          148,
          149,
          150,
          151,
          152,
          153,
          154,
          155,
          156,
          157,
          158,
          159,
          160,
          161,
          162,
          163,
          164,
          165,
          166,
          167,
          168,
          169,
          170,
          171,
          172,
          173,
          174,
          175,
          176,
          177,
          178,
          179,
          180,
          181,
          182,
          183,
          184,
          185,
          186,
          187,
          188,
          189,
          190,
          191,
          192,
          193,
          194,
          195,
          196,
          197,
          198,
          199,
          200,
          201,
          202,
          203,
          204,
          205,
          206,
          207,
          208,
          209,
          210,
          211,
          212,
          213,
          214,
          215,
          216,
          217,
          218,
          219,
          220,
          221,
          222,
          223,
          224,
          225,
          226,
          227,
          228,
          229,
          230,
          231,
          232,
          233,
          234,
          235,
          236,
          237,
          238,
          239,
          240,
          241,
          242,
          243,
          244,
          245,
          246,
          247,
          248,
          249,
          250,
          251,
          252,
          253,
          254,
          255,
          256,
          257,
          258,
          259,
          260,
          261,
          262,
          263,
          264,
          265,
          266,
          267,
          268,
          269,
          270,
          271,
          272,
          273,
          274,
          275,
          276,
          277,
          278,
          279,
          280,
          281,
          282,
          283,
          284,
          285,
          286,
          287,
          288,
          289,
          290,
          291,
          292,
          293,
          294,
          295,
          296,
          297,
          298,
          299,
          300,
          301,
          302,
          303,
          304,
          305,
          306,
          307,
          308,
          309,
          310,
          311,
          312,
          313,
          314,
          315,
          316,
          317,
          318,
          319,
          320,
          321,
          322,
          323,
          324,
          325,
          326,
          327,
          328,
          329,
          330,
          331,
          332,
          333,
          334,
          335,
          336,
          337,
          338,
          339,
          340,
          341,
          342,
          343,
          344,
          345,
          346,
          347,
          348,
          349,
          350,
          351,
          352,
          353,
          354,
          355,
          356,
          357,
          358,
          359,
          360,
          361,
          362,
          363,
          364,
          365,
          366,
          367,
          368,
          369,
          370,
          371,
          372,
          373,
          374,
          375,
          376,
          377,
          378,
          379,
          380,
          381,
          382,
          383,
          384,
          385,
          386,
          387,
          388,
          389,
          390,
          391,
          392,
          393,
          394,
          395,
          396,
          397,
          398,
          399,
          400,
          401,
          402,
          403,
          404,
          405,
          406,
          407,
          408,
          409,
          410,
          411,
          412,
          413,
          414,
          415,
          416,
          417,
          418,
          419,
          420,
          421,
          422,
          423,
          424,
          425,
          426,
          427,
          428,
          429,
          430,
          431,
          432,
          433,
          434,
          435,
          436,
          437,
          438,
          439,
          440,
          441,
          442,
          443,
          444,
          445,
          446,
          447,
          448,
          449,
          450,
          451,
          452,
          453,
          454,
          455,
          456,
          457,
          458,
          459,
          460,
          461,
          462,
          463,
          464,
          465,
          466,
          467,
          468,
          469,
          470,
          471,
          472,
          473,
          474,
          475,
          476,
          477,
          478,
          479,
          480,
          481,
          482,
          483,
          484,
          485,
          486,
          487,
          488,
          489,
          490,
          491,
          492,
          493,
          494,
          495,
          496,
          497,
          498,
          499,
          500,
          501,
          502,
          503,
          504,
          505,
          506,
          507,
          508,
          509,
          510,
          511,
          512,
          513,
          514,
          515,
          516,
          517,
          518,
          519,
          520,
          521,
          522,
          523,
          524,
          525,
          526,
          527,
          528,
          529,
          530,
          531,
          532,
          533,
          534,
          535,
          536,
          537,
          538,
          539,
          540,
          541,
          542,
          543,
          544,
          545,
          546,
          547,
          548,
          549,
          550,
          551,
          552,
          553,
          554,
          555,
          556,
          557,
          558,
          559,
          560,
          561,
          562,
          563,
          564,
          565,
          566,
          567,
          568,
          569,
          570,
          571,
          572,
          573,
          574,
          575,
          576,
          577,
          578,
          579,
          580,
          581,
          582,
          583,
          584,
          585,
          586,
          587,
          588,
          589,
          590,
          591,
          592,
          593,
          594,
          595,
          596,
          597,
          598,
          599,
          600,
          601,
          602,
          603,
          604,
          605,
          606,
          607,
          608,
          609,
          610,
          611,
          612,
          613,
          614,
          615,
          616,
          617,
          618,
          619,
          620,
          621,
          622,
          623,
          624,
          625,
          626,
          627,
          628,
          629,
          630,
          631,
          632,
          633,
          634,
          635,
          636,
          637,
          638,
          639,
          640,
          641,
          642,
          643,
          644,
          645,
          646,
          647,
          648,
          649,
          650,
          651,
          652,
          653,
          654,
          655,
          656,
          657,
          658,
          659,
          660,
          661,
          662,
          663,
          664,
          665,
          666,
          667,
          668,
          669,
          670,
          671,
          672,
          673,
          674,
          675,
          676,
          677,
          678,
          679,
          680,
          681,
          682,
          683,
          684,
          685,
          686,
          687,
          688,
          689,
          690,
          691,
          692,
          693,
          694,
          695,
          696,
          697,
          698,
          699,
          700,
          701,
          702,
          703,
          704,
          705,
          706,
          707,
          708,
          709,
          710,
          711,
          712,
          713,
          714,
          715,
          716,
          717,
          718,
          719,
          720,
          721,
          722,
          723,
          724,
          725,
          726,
          727,
          728,
          729,
          730,
          731,
          732,
          733,
          734,
          735,
          736,
          737,
          738,
          739,
          740,
          741,
          742,
          743,
          744,
          745,
          746,
          747,
          748,
          749,
          750,
          751,
          752,
          753,
          754,
          755,
          756,
          757,
          758,
          759,
          760,
          761,
          762,
          763,
          764,
          765,
          766,
          767,
          768,
          769,
          770,
          771,
          772,
          773,
          774,
          775,
          776,
          777,
          778,
          779,
          780,
          781,
          782,
          783,
          784,
          785,
          786,
          787,
          788,
          789,
          790,
          791,
          792,
          793,
          794,
          795,
          796,
          797,
          798,
          799,
          800,
          801,
          802,
          803,
          804,
          805,
          806,
          807,
          808,
          809,
          810,
          811,
          812,
          813,
          814,
          815,
          816,
          817,
          818,
          819,
          820,
          821,
          822,
          823,
          824,
          825,
          826,
          827,
          828,
          829,
          830,
          831,
          832,
          833,
          834,
          835,
          836,
          837,
          838,
          839,
          840,
          841,
          842,
          843,
          844,
          845,
          846,
          847,
          848,
          849,
          850,
          851,
          852,
          853,
          854,
          855,
          856,
          857,
          858,
          859,
          860,
          861,
          862,
          863,
          864,
          865,
          866,
          867,
          868,
          869,
          870,
          871,
          872,
          873,
          874,
          875,
          876,
          877,
          878,
          879,
          880,
          881,
          882,
          883,
          884,
          885,
          886,
          887,
          888,
          889,
          890,
          891,
          892,
          893,
          894,
          895,
          896,
          897,
          898,
          899,
          900,
          901,
          902,
          903,
          904,
          905,
          906,
          907,
          908,
          909,
          910,
          911,
          912,
          913,
          914,
          915,
          916,
          917,
          918,
          919,
          920,
          921,
          922,
          923,
          924,
          925,
          926,
          927,
          928,
          929,
          930,
          931,
          932,
          933,
          934,
          935,
          936,
          937,
          938,
          939,
          940,
          941,
          942,
          943,
          944,
          945,
          946,
          947,
          948,
          949,
          950,
          951,
          952,
          953,
          954,
          955,
          956,
          957,
          958,
          959,
          960,
          961,
          962,
          963,
          964,
          965,
          966,
          967,
          968,
          969,
          970,
          971,
          972,
          973,
          974,
          975,
          976,
          977,
          978,
          979,
          980,
          981,
          982,
          983,
          984,
          985,
          986,
          987,
          988,
          989,
          990,
          991,
          992,
          993,
          994,
          995,
          996,
          997,
          998,
          999,
          1000,
          1001,
          1002,
          1003,
          1004,
          1005,
          1006
         ],
         "xaxis": "x",
         "y": [
          286.918,
          291.8398,
          294.4837,
          293.126,
          295.2251,
          295.7075,
          295.7789,
          300.3524,
          294.8678,
          299.1107,
          297.4493,
          296.556,
          293.8764,
          293.6083,
          295.2073,
          298.9857,
          308.0788,
          313.9028,
          312.9828,
          316.9666,
          319.2265,
          315.0105,
          300.5399,
          301.5493,
          308.5522,
          298.6105,
          304.9704,
          308.8917,
          312.8399,
          316.7969,
          322.46,
          322.0403,
          320.3966,
          318.9407,
          317.4668,
          320.3966,
          320.4055,
          319.9322,
          316.5816,
          305.1289,
          306.9524,
          307.5273,
          304.9582,
          307.3836,
          307.0062,
          305.8474,
          299.2094,
          299.5327,
          297.9338,
          299.3261,
          297.6824,
          301.1407,
          301.4551,
          301.3383,
          293.8647,
          302.0928,
          308.9375,
          304.3744,
          301.2125,
          303.5479,
          299.1196,
          300.6555,
          307.0153,
          311.3808,
          300.6107,
          301.7335,
          304.8325,
          304.9044,
          307.9943,
          307.7428,
          310.5274,
          313.6175,
          315.4229,
          317.4261,
          316.1774,
          322.115,
          302.2544,
          295.9757,
          296.7841,
          289.2657,
          288.1968,
          277.0763,
          274.5972,
          278.3968,
          279.7532,
          285.3852,
          291.2059,
          292.9395,
          291.4754,
          291.0712,
          286.6158,
          287.2356,
          286.8404,
          287.8195,
          287.8465,
          291.2867,
          284.8642,
          292.2209,
          293.1461,
          288.1608,
          284.9271,
          288.3764,
          284.3089,
          286.198,
          287.5901,
          289.2622,
          289.1628,
          291.0067,
          291.3322,
          288.6114,
          284.8693,
          284.1372,
          280.7385,
          280.3318,
          279.7714,
          273.4442,
          273.7514,
          271.5098,
          270.606,
          270.0546,
          270.3348,
          266.4481,
          266.8639,
          267.0356,
          270.3709,
          270.6783,
          270.4342,
          270.4342,
          277.0236,
          279.1476,
          277.1139,
          283.1971,
          287.7708,
          288.3854,
          286.9844,
          289.0363,
          288.8826,
          291.549,
          287.7346,
          291.5672,
          293.1851,
          291.9015,
          292.941,
          289.3436,
          294.7578,
          293.7003,
          291.0699,
          289.7412,
          286.4602,
          286.9031,
          285.0049,
          285.3664,
          283.0255,
          283.4954,
          287.9696,
          287.1651,
          294.541,
          293.9715,
          293.0585,
          293.2122,
          290.9796,
          289.2532,
          290.4102,
          293.167,
          293.167,
          293.149,
          290.9163,
          291.4257,
          292.79,
          292.2625,
          299.1568,
          298.8111,
          293.7359,
          293.081,
          295.8552,
          301.3124,
          305.4235,
          308.6432,
          312.1723,
          308.6069,
          302.995,
          307.1153,
          307.0425,
          312.4633,
          311.863,
          314.7462,
          314.6644,
          316.4562,
          317.4931,
          316.0105,
          317.8478,
          315.8014,
          318.2753,
          315.8923,
          306.2876,
          296.7465,
          297.9834,
          301.276,
          306.6332,
          303.2406,
          298.3291,
          298.4565,
          297.2194,
          292.2807,
          282.9852,
          278.6922,
          277.4551,
          260.7379,
          264.7397,
          267.2683,
          272.3344,
          272.2071,
          275.7815,
          278.8285,
          281.7936,
          280.6476,
          284.7951,
          277.5188,
          278.0827,
          275.9454,
          277.8462,
          273.9898,
          267.9414,
          267.2774,
          267.6685,
          268.6599,
          268.569,
          268.5781,
          272.8074,
          275.063,
          275.2555,
          271.9205,
          262.7034,
          262.3553,
          261.4849,
          273.3956,
          267.6693,
          267.9899,
          267.7426,
          263.5922,
          255.8319,
          256.0518,
          251.0035,
          243.06,
          235.0524,
          224.6718,
          230.5355,
          238.0209,
          239.3677,
          239.8991,
          242.547,
          236.4541,
          242.8309,
          245.6162,
          247.2562,
          247.8701,
          254.2469,
          254.4576,
          254.256,
          252.8726,
          249.5651,
          255.4379,
          259.1669,
          256.1617,
          259.7533,
          261.3475,
          262.9875,
          263.7479,
          267.5776,
          267.2295,
          265.4154,
          266.2308,
          273.7346,
          274.3667,
          274.7058,
          274.9806,
          276.2358,
          274.8981,
          278.627,
          278.9111,
          275.7777,
          281.4856,
          279.6075,
          281.4582,
          278.9936,
          281.394,
          280.3312,
          280.2488,
          281.8063,
          285.5252,
          285.5806,
          281.1695,
          282.157,
          279.9053,
          279.6193,
          277.7183,
          280.9019,
          278.6134,
          280.0253,
          275.4667,
          273.2888,
          274.6638,
          273.7041,
          273.132,
          275.928,
          271.3141,
          271.4156,
          272.1538,
          271.2586,
          272.7813,
          276.9893,
          280.8005,
          279.7023,
          274.3223,
          276.5371,
          279.2225,
          282.0647,
          279.3147,
          276.0296,
          282.0001,
          285.7928,
          284.8792,
          286.125,
          286.5311,
          290.0008,
          290.9236,
          307.3865,
          304.6365,
          303.483,
          302.9847,
          303.2246,
          307.5987,
          306.2329,
          306.8789,
          308.2816,
          309.8042,
          305.3564,
          308.3831,
          313.1632,
          314.9996,
          309.4813,
          310.2195,
          308.3554,
          313.1909,
          311.899,
          315.6087,
          317.399,
          314.9535,
          313.8184,
          312.6281,
          311.8067,
          313.1447,
          315.5625,
          314.4294,
          320.0299,
          324.4695,
          327.581,
          327.4138,
          329.9308,
          326.5593,
          319.5377,
          320.903,
          324.2187,
          325.2033,
          323.8565,
          328.3425,
          330.3952,
          336.9616,
          333.7666,
          334.3424,
          334.8812,
          333.8966,
          333.5158,
          337.6489,
          335.7264,
          341.392,
          344.0018,
          343.5746,
          342.8873,
          343.3981,
          341.9399,
          342.0049,
          343.138,
          341.5034,
          339.33,
          332.94,
          330.8409,
          331.5375,
          332.1599,
          332.3177,
          342.6272,
          343.946,
          343.1473,
          343.2959,
          339.9244,
          336.3765,
          337.231,
          336.135,
          332.9029,
          340.6582,
          342.9987,
          350.3082,
          350.1597,
          350.1503,
          350.3547,
          342.6644,
          346.8625,
          350.1503,
          353.3732,
          354.562,
          355.7231,
          358.3979,
          350.0482,
          353.2339,
          352.9273,
          353.8376,
          357.0511,
          358.8073,
          359.3491,
          363.45,
          359.7788,
          361.0959,
          355.1642,
          356.2011,
          356.4159,
          361.1613,
          359.5079,
          366.7941,
          368.0271,
          370.8856,
          367.5134,
          362.6746,
          362.1329,
          363.534,
          364.711,
          367.037,
          362.3196,
          364.3654,
          358.8821,
          353.2494,
          355.0241,
          359.592,
          358.4991,
          356.9484,
          359.2744,
          361.3949,
          356.3412,
          357.4062,
          357.5369,
          357.621,
          352.2217,
          347.9434,
          349.41,
          349.0644,
          348.5132,
          350.0546,
          346.3087,
          347.3456,
          346.6543,
          353.6976,
          351.8668,
          354.1928,
          349.8117,
          349.0177,
          354.7719,
          353.8004,
          356.7055,
          356.2572,
          360.853,
          362.1515,
          364.4588,
          367.6255,
          366.8875,
          365.0659,
          366.8315,
          364.5522,
          365.0005,
          364.2907,
          366.6447,
          368.27,
          367.5088,
          360.5444,
          358.6648,
          361.4467,
          362.7249,
          363.5896,
          360.2813,
          361.3151,
          363.0069,
          360.9486,
          363.2231,
          362.7343,
          363.6179,
          357.6779,
          360.1028,
          363.2231,
          368.3264,
          366.7005,
          368.7024,
          369.9241,
          368.3264,
          365.958,
          375.3471,
          388.8527,
          388.2606,
          389.567,
          386.3057,
          389.9711,
          388.9373,
          393.8151,
          391.1084,
          395.629,
          400.0933,
          400.0558,
          400.5162,
          398.8903,
          402.988,
          406.4843,
          406.3715,
          410.8734,
          407.7436,
          409.6797,
          402.3677,
          398.364,
          404.8677,
          409.0125,
          412.5651,
          412.7531,
          413.3076,
          413.3921,
          410.3376,
          408.5519,
          411.5125,
          409.3508,
          408.3452,
          400.347,
          402.0669,
          394.1252,
          376.2775,
          376.7851,
          361.4655,
          349.8044,
          360.6616,
          356.9259,
          380.2198,
          363.8299,
          361.7209,
          332.9322,
          347.2509,
          337.5664,
          294.4876,
          310.7639,
          272.3192,
          301.5334,
          315.3224,
          297.1546,
          275.4212,
          261.7835,
          273.2366,
          302.3278,
          331.3245,
          329.4803,
          329.9248,
          320.5619,
          320.1552,
          334.7576,
          331.4853,
          347.9886,
          336.006,
          341.8034,
          350.8732,
          349.8706,
          359.4133,
          354.0698,
          357.3799,
          379.7279,
          362.4207,
          353.1808,
          359.7632,
          356.2923,
          361.0589,
          358.0325,
          363.8583,
          366.8658,
          367.9534,
          362.6666,
          359.5362,
          369.1261,
          358.0419,
          356.1126,
          357.8717,
          356.1315,
          350.9771,
          344.4231,
          336.9518,
          340.8482,
          357.0584,
          351.3271,
          342.8437,
          348.8114,
          348.9816,
          352.0081,
          375.5761,
          376.8245,
          369.5933,
          370.088,
          370.8587,
          383.0948,
          384.0843,
          390.8208,
          394.1985,
          388.7371,
          384.1794,
          365.2545,
          363.342,
          355.1688,
          364.1984,
          363.5703,
          360.0309,
          354.1412,
          357.7188,
          353.6655,
          342.3618,
          345.2163,
          339.4504,
          349.6692,
          347.2144,
          342.9327,
          344.4361,
          344.9975,
          336.1297,
          333.2372,
          323.4654,
          332.3047,
          335.9298,
          338.4037,
          346.8719,
          348.1278,
          350.6207,
          347.7948,
          356.9196,
          374.9596,
          368.813,
          367.4715,
          363.5514,
          367.8996,
          368.5085,
          363.1993,
          360.5827,
          358.8035,
          359.6502,
          364.8929,
          361.3153,
          366.9101,
          370.3734,
          372.9425,
          373.3992,
          370.3544,
          372.4286,
          370.088,
          371.325,
          371.1251,
          369.0604,
          370.6684,
          375.8731,
          375.6827,
          376.2536,
          375.8539,
          376.3964,
          373.5915,
          370.2888,
          381.0679,
          369.791,
          368.5752,
          363.9898,
          368.7859,
          362.9177,
          372.816,
          376.9324,
          375.7837,
          378.6842,
          379.0288,
          378.263,
          363.3963,
          371.83,
          366.8713,
          362.5827,
          370.1835,
          373.8308,
          372.1364,
          366.9096,
          364.6217,
          364.3249,
          367.5605,
          360.3809,
          366.5841,
          371.9928,
          369.4464,
          372.3087,
          372.3374,
          374.0318,
          369.6283,
          369.9921,
          367.3212,
          356.3124,
          351.459,
          353.2012,
          358.3418,
          352.8087,
          346.9501,
          335.8742,
          337.3868,
          335.1754,
          337.3677,
          347.917,
          356.2646,
          349.1232,
          345.8396,
          348.4052,
          355.4221,
          353.5076,
          352.1769,
          359.1173,
          361.0223,
          359.8448,
          361.4339,
          360.3809,
          352.3013,
          355.0105,
          362.3146,
          362.1806,
          358.3514,
          351.8542,
          351.8445,
          348.3453,
          348.9911,
          353.4062,
          349.0875,
          346.292,
          348.3356,
          342.5903,
          348.6826,
          344.7785,
          344.6918,
          341.7998,
          339.9008,
          343.2072,
          336.7678,
          335.3894,
          338.9368,
          339.2935,
          341.4239,
          341.154,
          341.4046,
          342.1951,
          332.2275,
          336.228,
          335.4953,
          330.2127,
          323.9951,
          325.5181,
          329.538,
          333.0468,
          334.9266,
          334.7627,
          329.2005,
          329.3644,
          327.4365,
          327.6389,
          331.1382,
          318.7798,
          320.5343,
          316.1193,
          310.2293,
          312.3598,
          320.7175,
          320.4187,
          325.0844,
          324.9012,
          325.6724,
          330.0103,
          329.8657,
          326.9256,
          325.5663,
          322.9636,
          324.8626,
          325.7495,
          323.3396,
          328.2076,
          333.7602,
          334.0494,
          329.3837,
          320.7967,
          323.9246,
          328.898,
          331.1516,
          328.5678,
          330.6853,
          331.6762,
          327.8392,
          331.0836,
          330.0054,
          330.4522,
          336.4942,
          337.1936,
          340.9722,
          348.1895,
          344.9063,
          347.4222,
          343.4881,
          345.9262,
          350.8802,
          354.2703,
          362.1191,
          359.9335,
          358.9232,
          360.3998,
          367.9085,
          368.1222,
          369.3073,
          374.9703,
          375.1743,
          376.748,
          376.0292,
          377.5445,
          379.4484,
          380.5946,
          380.5169,
          376.2428,
          376.1555,
          369.2101,
          366.4903,
          361.3322,
          362.5368,
          362.2648,
          369.4627,
          369.6667,
          374.2807,
          376.3886,
          375.3104,
          376.2526,
          379.1667,
          381.8866,
          376.7188,
          369.7249,
          376.6703,
          379.5941,
          379.9243,
          376.136,
          374.5042,
          377.2045,
          376.136,
          376.612,
          374.8052,
          373.1345,
          376.3011,
          373.7683,
          373.4945,
          376.5945,
          378.8047,
          385.4058,
          382.8729,
          379.9586,
          378.2668,
          379.1665,
          379.1665,
          380.5258,
          381.2006,
          375.1374,
          374.4528,
          370.8247,
          374.0617,
          374.0421,
          369.0057,
          369.3969,
          373.5825,
          371.6853,
          365.182,
          370.0032,
          371.832,
          373.0739,
          370.3162,
          375.0201,
          371.5386,
          374.6582,
          370.7073,
          369.5045,
          368.507,
          369.9054,
          368.8199,
          363.8129,
          371.5973,
          372.4872,
          371.5484,
          372.3698,
          359.9304,
          366.4631,
          364.5854,
          364.3801,
          363.4706,
          360.1749,
          361.2996,
          353.6619,
          352.8208,
          354.0628,
          353.0751,
          354.2486,
          355.2852,
          351.8136,
          350.0826,
          352.3025,
          353.6228,
          348.7331,
          346.2198,
          349.2905,
          349.4665,
          351.0801,
          350.8356,
          353.6423,
          354.0042,
          354.0628,
          354.4076,
          351.3146,
          352.6838,
          350.6645,
          343.9665,
          346.1926,
          343.7005,
          340.6962,
          341.1198,
          339.1793,
          339.8983,
          336.3818,
          335.8697,
          333.3874,
          331.0135,
          336.6084,
          339.0414,
          344.2816,
          348.0641,
          346.8723,
          345.0401,
          339.9279,
          342.5874,
          340.8045,
          342.5382,
          344.7446,
          346.5078,
          348.4482,
          351.7283,
          352.7527,
          356.3382,
          356.6436,
          360.1404,
          359.5296,
          365.5087,
          365.5678,
          367.5477,
          368.9858,
          370.6898,
          326.9356,
          325.9801,
          326.4234,
          327.3394,
          325.9702,
          321.4195,
          326.384,
          330.4718,
          334.796,
          336.6577,
          333.1018,
          332.5699,
          330.856,
          333.9784,
          335.8105,
          335.2688,
          336.8645,
          336.9531,
          336.3228,
          339.8097,
          340.0067,
          338.4307,
          337.5836,
          336.1159,
          331.0408,
          326.1743,
          328.2699,
          331.5275,
          337.6354,
          336.8508,
          338.7477,
          341.2505,
          342.5218,
          343.1872,
          343.2766,
          342.0649,
          342.4821,
          341.7869,
          335.1128,
          338.4399,
          340.7937,
          344.6472,
          347.8849,
          351.3311,
          351.8476,
          351.1623
         ],
         "yaxis": "y"
        }
       ],
       "layout": {
        "legend": {
         "title": {
          "text": "variable"
         },
         "tracegroupgap": 0
        },
        "margin": {
         "t": 60
        },
        "template": {
         "data": {
          "bar": [
           {
            "error_x": {
             "color": "#2a3f5f"
            },
            "error_y": {
             "color": "#2a3f5f"
            },
            "marker": {
             "line": {
              "color": "#E5ECF6",
              "width": 0.5
             }
            },
            "type": "bar"
           }
          ],
          "barpolar": [
           {
            "marker": {
             "line": {
              "color": "#E5ECF6",
              "width": 0.5
             }
            },
            "type": "barpolar"
           }
          ],
          "carpet": [
           {
            "aaxis": {
             "endlinecolor": "#2a3f5f",
             "gridcolor": "white",
             "linecolor": "white",
             "minorgridcolor": "white",
             "startlinecolor": "#2a3f5f"
            },
            "baxis": {
             "endlinecolor": "#2a3f5f",
             "gridcolor": "white",
             "linecolor": "white",
             "minorgridcolor": "white",
             "startlinecolor": "#2a3f5f"
            },
            "type": "carpet"
           }
          ],
          "choropleth": [
           {
            "colorbar": {
             "outlinewidth": 0,
             "ticks": ""
            },
            "type": "choropleth"
           }
          ],
          "contour": [
           {
            "colorbar": {
             "outlinewidth": 0,
             "ticks": ""
            },
            "colorscale": [
             [
              0,
              "#0d0887"
             ],
             [
              0.1111111111111111,
              "#46039f"
             ],
             [
              0.2222222222222222,
              "#7201a8"
             ],
             [
              0.3333333333333333,
              "#9c179e"
             ],
             [
              0.4444444444444444,
              "#bd3786"
             ],
             [
              0.5555555555555556,
              "#d8576b"
             ],
             [
              0.6666666666666666,
              "#ed7953"
             ],
             [
              0.7777777777777778,
              "#fb9f3a"
             ],
             [
              0.8888888888888888,
              "#fdca26"
             ],
             [
              1,
              "#f0f921"
             ]
            ],
            "type": "contour"
           }
          ],
          "contourcarpet": [
           {
            "colorbar": {
             "outlinewidth": 0,
             "ticks": ""
            },
            "type": "contourcarpet"
           }
          ],
          "heatmap": [
           {
            "colorbar": {
             "outlinewidth": 0,
             "ticks": ""
            },
            "colorscale": [
             [
              0,
              "#0d0887"
             ],
             [
              0.1111111111111111,
              "#46039f"
             ],
             [
              0.2222222222222222,
              "#7201a8"
             ],
             [
              0.3333333333333333,
              "#9c179e"
             ],
             [
              0.4444444444444444,
              "#bd3786"
             ],
             [
              0.5555555555555556,
              "#d8576b"
             ],
             [
              0.6666666666666666,
              "#ed7953"
             ],
             [
              0.7777777777777778,
              "#fb9f3a"
             ],
             [
              0.8888888888888888,
              "#fdca26"
             ],
             [
              1,
              "#f0f921"
             ]
            ],
            "type": "heatmap"
           }
          ],
          "heatmapgl": [
           {
            "colorbar": {
             "outlinewidth": 0,
             "ticks": ""
            },
            "colorscale": [
             [
              0,
              "#0d0887"
             ],
             [
              0.1111111111111111,
              "#46039f"
             ],
             [
              0.2222222222222222,
              "#7201a8"
             ],
             [
              0.3333333333333333,
              "#9c179e"
             ],
             [
              0.4444444444444444,
              "#bd3786"
             ],
             [
              0.5555555555555556,
              "#d8576b"
             ],
             [
              0.6666666666666666,
              "#ed7953"
             ],
             [
              0.7777777777777778,
              "#fb9f3a"
             ],
             [
              0.8888888888888888,
              "#fdca26"
             ],
             [
              1,
              "#f0f921"
             ]
            ],
            "type": "heatmapgl"
           }
          ],
          "histogram": [
           {
            "marker": {
             "colorbar": {
              "outlinewidth": 0,
              "ticks": ""
             }
            },
            "type": "histogram"
           }
          ],
          "histogram2d": [
           {
            "colorbar": {
             "outlinewidth": 0,
             "ticks": ""
            },
            "colorscale": [
             [
              0,
              "#0d0887"
             ],
             [
              0.1111111111111111,
              "#46039f"
             ],
             [
              0.2222222222222222,
              "#7201a8"
             ],
             [
              0.3333333333333333,
              "#9c179e"
             ],
             [
              0.4444444444444444,
              "#bd3786"
             ],
             [
              0.5555555555555556,
              "#d8576b"
             ],
             [
              0.6666666666666666,
              "#ed7953"
             ],
             [
              0.7777777777777778,
              "#fb9f3a"
             ],
             [
              0.8888888888888888,
              "#fdca26"
             ],
             [
              1,
              "#f0f921"
             ]
            ],
            "type": "histogram2d"
           }
          ],
          "histogram2dcontour": [
           {
            "colorbar": {
             "outlinewidth": 0,
             "ticks": ""
            },
            "colorscale": [
             [
              0,
              "#0d0887"
             ],
             [
              0.1111111111111111,
              "#46039f"
             ],
             [
              0.2222222222222222,
              "#7201a8"
             ],
             [
              0.3333333333333333,
              "#9c179e"
             ],
             [
              0.4444444444444444,
              "#bd3786"
             ],
             [
              0.5555555555555556,
              "#d8576b"
             ],
             [
              0.6666666666666666,
              "#ed7953"
             ],
             [
              0.7777777777777778,
              "#fb9f3a"
             ],
             [
              0.8888888888888888,
              "#fdca26"
             ],
             [
              1,
              "#f0f921"
             ]
            ],
            "type": "histogram2dcontour"
           }
          ],
          "mesh3d": [
           {
            "colorbar": {
             "outlinewidth": 0,
             "ticks": ""
            },
            "type": "mesh3d"
           }
          ],
          "parcoords": [
           {
            "line": {
             "colorbar": {
              "outlinewidth": 0,
              "ticks": ""
             }
            },
            "type": "parcoords"
           }
          ],
          "pie": [
           {
            "automargin": true,
            "type": "pie"
           }
          ],
          "scatter": [
           {
            "marker": {
             "colorbar": {
              "outlinewidth": 0,
              "ticks": ""
             }
            },
            "type": "scatter"
           }
          ],
          "scatter3d": [
           {
            "line": {
             "colorbar": {
              "outlinewidth": 0,
              "ticks": ""
             }
            },
            "marker": {
             "colorbar": {
              "outlinewidth": 0,
              "ticks": ""
             }
            },
            "type": "scatter3d"
           }
          ],
          "scattercarpet": [
           {
            "marker": {
             "colorbar": {
              "outlinewidth": 0,
              "ticks": ""
             }
            },
            "type": "scattercarpet"
           }
          ],
          "scattergeo": [
           {
            "marker": {
             "colorbar": {
              "outlinewidth": 0,
              "ticks": ""
             }
            },
            "type": "scattergeo"
           }
          ],
          "scattergl": [
           {
            "marker": {
             "colorbar": {
              "outlinewidth": 0,
              "ticks": ""
             }
            },
            "type": "scattergl"
           }
          ],
          "scattermapbox": [
           {
            "marker": {
             "colorbar": {
              "outlinewidth": 0,
              "ticks": ""
             }
            },
            "type": "scattermapbox"
           }
          ],
          "scatterpolar": [
           {
            "marker": {
             "colorbar": {
              "outlinewidth": 0,
              "ticks": ""
             }
            },
            "type": "scatterpolar"
           }
          ],
          "scatterpolargl": [
           {
            "marker": {
             "colorbar": {
              "outlinewidth": 0,
              "ticks": ""
             }
            },
            "type": "scatterpolargl"
           }
          ],
          "scatterternary": [
           {
            "marker": {
             "colorbar": {
              "outlinewidth": 0,
              "ticks": ""
             }
            },
            "type": "scatterternary"
           }
          ],
          "surface": [
           {
            "colorbar": {
             "outlinewidth": 0,
             "ticks": ""
            },
            "colorscale": [
             [
              0,
              "#0d0887"
             ],
             [
              0.1111111111111111,
              "#46039f"
             ],
             [
              0.2222222222222222,
              "#7201a8"
             ],
             [
              0.3333333333333333,
              "#9c179e"
             ],
             [
              0.4444444444444444,
              "#bd3786"
             ],
             [
              0.5555555555555556,
              "#d8576b"
             ],
             [
              0.6666666666666666,
              "#ed7953"
             ],
             [
              0.7777777777777778,
              "#fb9f3a"
             ],
             [
              0.8888888888888888,
              "#fdca26"
             ],
             [
              1,
              "#f0f921"
             ]
            ],
            "type": "surface"
           }
          ],
          "table": [
           {
            "cells": {
             "fill": {
              "color": "#EBF0F8"
             },
             "line": {
              "color": "white"
             }
            },
            "header": {
             "fill": {
              "color": "#C8D4E3"
             },
             "line": {
              "color": "white"
             }
            },
            "type": "table"
           }
          ]
         },
         "layout": {
          "annotationdefaults": {
           "arrowcolor": "#2a3f5f",
           "arrowhead": 0,
           "arrowwidth": 1
          },
          "autotypenumbers": "strict",
          "coloraxis": {
           "colorbar": {
            "outlinewidth": 0,
            "ticks": ""
           }
          },
          "colorscale": {
           "diverging": [
            [
             0,
             "#8e0152"
            ],
            [
             0.1,
             "#c51b7d"
            ],
            [
             0.2,
             "#de77ae"
            ],
            [
             0.3,
             "#f1b6da"
            ],
            [
             0.4,
             "#fde0ef"
            ],
            [
             0.5,
             "#f7f7f7"
            ],
            [
             0.6,
             "#e6f5d0"
            ],
            [
             0.7,
             "#b8e186"
            ],
            [
             0.8,
             "#7fbc41"
            ],
            [
             0.9,
             "#4d9221"
            ],
            [
             1,
             "#276419"
            ]
           ],
           "sequential": [
            [
             0,
             "#0d0887"
            ],
            [
             0.1111111111111111,
             "#46039f"
            ],
            [
             0.2222222222222222,
             "#7201a8"
            ],
            [
             0.3333333333333333,
             "#9c179e"
            ],
            [
             0.4444444444444444,
             "#bd3786"
            ],
            [
             0.5555555555555556,
             "#d8576b"
            ],
            [
             0.6666666666666666,
             "#ed7953"
            ],
            [
             0.7777777777777778,
             "#fb9f3a"
            ],
            [
             0.8888888888888888,
             "#fdca26"
            ],
            [
             1,
             "#f0f921"
            ]
           ],
           "sequentialminus": [
            [
             0,
             "#0d0887"
            ],
            [
             0.1111111111111111,
             "#46039f"
            ],
            [
             0.2222222222222222,
             "#7201a8"
            ],
            [
             0.3333333333333333,
             "#9c179e"
            ],
            [
             0.4444444444444444,
             "#bd3786"
            ],
            [
             0.5555555555555556,
             "#d8576b"
            ],
            [
             0.6666666666666666,
             "#ed7953"
            ],
            [
             0.7777777777777778,
             "#fb9f3a"
            ],
            [
             0.8888888888888888,
             "#fdca26"
            ],
            [
             1,
             "#f0f921"
            ]
           ]
          },
          "colorway": [
           "#636efa",
           "#EF553B",
           "#00cc96",
           "#ab63fa",
           "#FFA15A",
           "#19d3f3",
           "#FF6692",
           "#B6E880",
           "#FF97FF",
           "#FECB52"
          ],
          "font": {
           "color": "#2a3f5f"
          },
          "geo": {
           "bgcolor": "white",
           "lakecolor": "white",
           "landcolor": "#E5ECF6",
           "showlakes": true,
           "showland": true,
           "subunitcolor": "white"
          },
          "hoverlabel": {
           "align": "left"
          },
          "hovermode": "closest",
          "mapbox": {
           "style": "light"
          },
          "paper_bgcolor": "white",
          "plot_bgcolor": "#E5ECF6",
          "polar": {
           "angularaxis": {
            "gridcolor": "white",
            "linecolor": "white",
            "ticks": ""
           },
           "bgcolor": "#E5ECF6",
           "radialaxis": {
            "gridcolor": "white",
            "linecolor": "white",
            "ticks": ""
           }
          },
          "scene": {
           "xaxis": {
            "backgroundcolor": "#E5ECF6",
            "gridcolor": "white",
            "gridwidth": 2,
            "linecolor": "white",
            "showbackground": true,
            "ticks": "",
            "zerolinecolor": "white"
           },
           "yaxis": {
            "backgroundcolor": "#E5ECF6",
            "gridcolor": "white",
            "gridwidth": 2,
            "linecolor": "white",
            "showbackground": true,
            "ticks": "",
            "zerolinecolor": "white"
           },
           "zaxis": {
            "backgroundcolor": "#E5ECF6",
            "gridcolor": "white",
            "gridwidth": 2,
            "linecolor": "white",
            "showbackground": true,
            "ticks": "",
            "zerolinecolor": "white"
           }
          },
          "shapedefaults": {
           "line": {
            "color": "#2a3f5f"
           }
          },
          "ternary": {
           "aaxis": {
            "gridcolor": "white",
            "linecolor": "white",
            "ticks": ""
           },
           "baxis": {
            "gridcolor": "white",
            "linecolor": "white",
            "ticks": ""
           },
           "bgcolor": "#E5ECF6",
           "caxis": {
            "gridcolor": "white",
            "linecolor": "white",
            "ticks": ""
           }
          },
          "title": {
           "x": 0.05
          },
          "xaxis": {
           "automargin": true,
           "gridcolor": "white",
           "linecolor": "white",
           "ticks": "",
           "title": {
            "standoff": 15
           },
           "zerolinecolor": "white",
           "zerolinewidth": 2
          },
          "yaxis": {
           "automargin": true,
           "gridcolor": "white",
           "linecolor": "white",
           "ticks": "",
           "title": {
            "standoff": 15
           },
           "zerolinecolor": "white",
           "zerolinewidth": 2
          }
         }
        },
        "xaxis": {
         "anchor": "y",
         "domain": [
          0,
          1
         ],
         "title": {
          "text": "index"
         }
        },
        "yaxis": {
         "anchor": "x",
         "domain": [
          0,
          1
         ],
         "title": {
          "text": "value"
         }
        }
       }
      },
      "text/html": [
       "<div>                            <div id=\"1b7c5e3a-44ca-44bd-8d46-eba282e8983b\" class=\"plotly-graph-div\" style=\"height:525px; width:100%;\"></div>            <script type=\"text/javascript\">                require([\"plotly\"], function(Plotly) {                    window.PLOTLYENV=window.PLOTLYENV || {};                                    if (document.getElementById(\"1b7c5e3a-44ca-44bd-8d46-eba282e8983b\")) {                    Plotly.newPlot(                        \"1b7c5e3a-44ca-44bd-8d46-eba282e8983b\",                        [{\"hovertemplate\": \"variable=Close<br>index=%{x}<br>value=%{y}<extra></extra>\", \"legendgroup\": \"Close\", \"line\": {\"color\": \"#636efa\", \"dash\": \"solid\"}, \"mode\": \"lines\", \"name\": \"Close\", \"showlegend\": true, \"type\": \"scattergl\", \"x\": [1, 2, 3, 4, 5, 6, 7, 8, 9, 10, 11, 12, 13, 14, 15, 16, 17, 18, 19, 20, 21, 22, 23, 24, 25, 26, 27, 28, 29, 30, 31, 32, 33, 34, 35, 36, 37, 38, 39, 40, 41, 42, 43, 44, 45, 46, 47, 48, 49, 50, 51, 52, 53, 54, 55, 56, 57, 58, 59, 60, 61, 62, 63, 64, 65, 66, 67, 68, 69, 70, 71, 72, 73, 74, 75, 76, 77, 78, 79, 80, 81, 82, 83, 84, 85, 86, 87, 88, 89, 90, 91, 92, 93, 94, 95, 96, 97, 98, 99, 100, 101, 102, 103, 104, 105, 106, 107, 108, 109, 110, 111, 112, 113, 114, 115, 116, 117, 118, 119, 120, 121, 122, 123, 124, 125, 126, 127, 128, 129, 130, 131, 132, 133, 134, 135, 136, 137, 138, 139, 140, 141, 142, 143, 144, 145, 146, 147, 148, 149, 150, 151, 152, 153, 154, 155, 156, 157, 158, 159, 160, 161, 162, 163, 164, 165, 166, 167, 168, 169, 170, 171, 172, 173, 174, 175, 176, 177, 178, 179, 180, 181, 182, 183, 184, 185, 186, 187, 188, 189, 190, 191, 192, 193, 194, 195, 196, 197, 198, 199, 200, 201, 202, 203, 204, 205, 206, 207, 208, 209, 210, 211, 212, 213, 214, 215, 216, 217, 218, 219, 220, 221, 222, 223, 224, 225, 226, 227, 228, 229, 230, 231, 232, 233, 234, 235, 236, 237, 238, 239, 240, 241, 242, 243, 244, 245, 246, 247, 248, 249, 250, 251, 252, 253, 254, 255, 256, 257, 258, 259, 260, 261, 262, 263, 264, 265, 266, 267, 268, 269, 270, 271, 272, 273, 274, 275, 276, 277, 278, 279, 280, 281, 282, 283, 284, 285, 286, 287, 288, 289, 290, 291, 292, 293, 294, 295, 296, 297, 298, 299, 300, 301, 302, 303, 304, 305, 306, 307, 308, 309, 310, 311, 312, 313, 314, 315, 316, 317, 318, 319, 320, 321, 322, 323, 324, 325, 326, 327, 328, 329, 330, 331, 332, 333, 334, 335, 336, 337, 338, 339, 340, 341, 342, 343, 344, 345, 346, 347, 348, 349, 350, 351, 352, 353, 354, 355, 356, 357, 358, 359, 360, 361, 362, 363, 364, 365, 366, 367, 368, 369, 370, 371, 372, 373, 374, 375, 376, 377, 378, 379, 380, 381, 382, 383, 384, 385, 386, 387, 388, 389, 390, 391, 392, 393, 394, 395, 396, 397, 398, 399, 400, 401, 402, 403, 404, 405, 406, 407, 408, 409, 410, 411, 412, 413, 414, 415, 416, 417, 418, 419, 420, 421, 422, 423, 424, 425, 426, 427, 428, 429, 430, 431, 432, 433, 434, 435, 436, 437, 438, 439, 440, 441, 442, 443, 444, 445, 446, 447, 448, 449, 450, 451, 452, 453, 454, 455, 456, 457, 458, 459, 460, 461, 462, 463, 464, 465, 466, 467, 468, 469, 470, 471, 472, 473, 474, 475, 476, 477, 478, 479, 480, 481, 482, 483, 484, 485, 486, 487, 488, 489, 490, 491, 492, 493, 494, 495, 496, 497, 498, 499, 500, 501, 502, 503, 504, 505, 506, 507, 508, 509, 510, 511, 512, 513, 514, 515, 516, 517, 518, 519, 520, 521, 522, 523, 524, 525, 526, 527, 528, 529, 530, 531, 532, 533, 534, 535, 536, 537, 538, 539, 540, 541, 542, 543, 544, 545, 546, 547, 548, 549, 550, 551, 552, 553, 554, 555, 556, 557, 558, 559, 560, 561, 562, 563, 564, 565, 566, 567, 568, 569, 570, 571, 572, 573, 574, 575, 576, 577, 578, 579, 580, 581, 582, 583, 584, 585, 586, 587, 588, 589, 590, 591, 592, 593, 594, 595, 596, 597, 598, 599, 600, 601, 602, 603, 604, 605, 606, 607, 608, 609, 610, 611, 612, 613, 614, 615, 616, 617, 618, 619, 620, 621, 622, 623, 624, 625, 626, 627, 628, 629, 630, 631, 632, 633, 634, 635, 636, 637, 638, 639, 640, 641, 642, 643, 644, 645, 646, 647, 648, 649, 650, 651, 652, 653, 654, 655, 656, 657, 658, 659, 660, 661, 662, 663, 664, 665, 666, 667, 668, 669, 670, 671, 672, 673, 674, 675, 676, 677, 678, 679, 680, 681, 682, 683, 684, 685, 686, 687, 688, 689, 690, 691, 692, 693, 694, 695, 696, 697, 698, 699, 700, 701, 702, 703, 704, 705, 706, 707, 708, 709, 710, 711, 712, 713, 714, 715, 716, 717, 718, 719, 720, 721, 722, 723, 724, 725, 726, 727, 728, 729, 730, 731, 732, 733, 734, 735, 736, 737, 738, 739, 740, 741, 742, 743, 744, 745, 746, 747, 748, 749, 750, 751, 752, 753, 754, 755, 756, 757, 758, 759, 760, 761, 762, 763, 764, 765, 766, 767, 768, 769, 770, 771, 772, 773, 774, 775, 776, 777, 778, 779, 780, 781, 782, 783, 784, 785, 786, 787, 788, 789, 790, 791, 792, 793, 794, 795, 796, 797, 798, 799, 800, 801, 802, 803, 804, 805, 806, 807, 808, 809, 810, 811, 812, 813, 814, 815, 816, 817, 818, 819, 820, 821, 822, 823, 824, 825, 826, 827, 828, 829, 830, 831, 832, 833, 834, 835, 836, 837, 838, 839, 840, 841, 842, 843, 844, 845, 846, 847, 848, 849, 850, 851, 852, 853, 854, 855, 856, 857, 858, 859, 860, 861, 862, 863, 864, 865, 866, 867, 868, 869, 870, 871, 872, 873, 874, 875, 876, 877, 878, 879, 880, 881, 882, 883, 884, 885, 886, 887, 888, 889, 890, 891, 892, 893, 894, 895, 896, 897, 898, 899, 900, 901, 902, 903, 904, 905, 906, 907, 908, 909, 910, 911, 912, 913, 914, 915, 916, 917, 918, 919, 920, 921, 922, 923, 924, 925, 926, 927, 928, 929, 930, 931, 932, 933, 934, 935, 936, 937, 938, 939, 940, 941, 942, 943, 944, 945, 946, 947, 948, 949, 950, 951, 952, 953, 954, 955, 956, 957, 958, 959, 960, 961, 962, 963, 964, 965, 966, 967, 968, 969, 970, 971, 972, 973, 974, 975, 976, 977, 978, 979, 980, 981, 982, 983, 984, 985, 986, 987, 988, 989, 990, 991, 992, 993, 994, 995, 996, 997, 998, 999, 1000, 1001, 1002, 1003, 1004, 1005, 1006], \"xaxis\": \"x\", \"y\": [286.918, 291.8398, 294.4837, 293.126, 295.2251, 295.7075, 295.7789, 300.3524, 294.8678, 299.1107, 297.4493, 296.556, 293.8764, 293.6083, 295.2073, 298.9857, 308.0788, 313.9028, 312.9828, 316.9666, 319.2265, 315.0105, 300.5399, 301.5493, 308.5522, 298.6105, 304.9704, 308.8917, 312.8399, 316.7969, 322.46, 322.0403, 320.3966, 318.9407, 317.4668, 320.3966, 320.4055, 319.9322, 316.5816, 305.1289, 306.9524, 307.5273, 304.9582, 307.3836, 307.0062, 305.8474, 299.2094, 299.5327, 297.9338, 299.3261, 297.6824, 301.1407, 301.4551, 301.3383, 293.8647, 302.0928, 308.9375, 304.3744, 301.2125, 303.5479, 299.1196, 300.6555, 307.0153, 311.3808, 300.6107, 301.7335, 304.8325, 304.9044, 307.9943, 307.7428, 310.5274, 313.6175, 315.4229, 317.4261, 316.1774, 322.115, 302.2544, 295.9757, 296.7841, 289.2657, 288.1968, 277.0763, 274.5972, 278.3968, 279.7532, 285.3852, 291.2059, 292.9395, 291.4754, 291.0712, 286.6158, 287.2356, 286.8404, 287.8195, 287.8465, 291.2867, 284.8642, 292.2209, 293.1461, 288.1608, 284.9271, 288.3764, 284.3089, 286.198, 287.5901, 289.2622, 289.1628, 291.0067, 291.3322, 288.6114, 284.8693, 284.1372, 280.7385, 280.3318, 279.7714, 273.4442, 273.7514, 271.5098, 270.606, 270.0546, 270.3348, 266.4481, 266.8639, 267.0356, 270.3709, 270.6783, 270.4342, 270.4342, 277.0236, 279.1476, 277.1139, 283.1971, 287.7708, 288.3854, 286.9844, 289.0363, 288.8826, 291.549, 287.7346, 291.5672, 293.1851, 291.9015, 292.941, 289.3436, 294.7578, 293.7003, 291.0699, 289.7412, 286.4602, 286.9031, 285.0049, 285.3664, 283.0255, 283.4954, 287.9696, 287.1651, 294.541, 293.9715, 293.0585, 293.2122, 290.9796, 289.2532, 290.4102, 293.167, 293.167, 293.149, 290.9163, 291.4257, 292.79, 292.2625, 299.1568, 298.8111, 293.7359, 293.081, 295.8552, 301.3124, 305.4235, 308.6432, 312.1723, 308.6069, 302.995, 307.1153, 307.0425, 312.4633, 311.863, 314.7462, 314.6644, 316.4562, 317.4931, 316.0105, 317.8478, 315.8014, 318.2753, 315.8923, 306.2876, 296.7465, 297.9834, 301.276, 306.6332, 303.2406, 298.3291, 298.4565, 297.2194, 292.2807, 282.9852, 278.6922, 277.4551, 260.7379, 264.7397, 267.2683, 272.3344, 272.2071, 275.7815, 278.8285, 281.7936, 280.6476, 284.7951, 277.5188, 278.0827, 275.9454, 277.8462, 273.9898, 267.9414, 267.2774, 267.6685, 268.6599, 268.569, 268.5781, 272.8074, 275.063, 275.2555, 271.9205, 262.7034, 262.3553, 261.4849, 273.3956, 267.6693, 267.9899, 267.7426, 263.5922, 255.8319, 256.0518, 251.0035, 243.06, 235.0524, 224.6718, 230.5355, 238.0209, 239.3677, 239.8991, 242.547, 236.4541, 242.8309, 245.6162, 247.2562, 247.8701, 254.2469, 254.4576, 254.256, 252.8726, 249.5651, 255.4379, 259.1669, 256.1617, 259.7533, 261.3475, 262.9875, 263.7479, 267.5776, 267.2295, 265.4154, 266.2308, 273.7346, 274.3667, 274.7058, 274.9806, 276.2358, 274.8981, 278.627, 278.9111, 275.7777, 281.4856, 279.6075, 281.4582, 278.9936, 281.394, 280.3312, 280.2488, 281.8063, 285.5252, 285.5806, 281.1695, 282.157, 279.9053, 279.6193, 277.7183, 280.9019, 278.6134, 280.0253, 275.4667, 273.2888, 274.6638, 273.7041, 273.132, 275.928, 271.3141, 271.4156, 272.1538, 271.2586, 272.7813, 276.9893, 280.8005, 279.7023, 274.3223, 276.5371, 279.2225, 282.0647, 279.3147, 276.0296, 282.0001, 285.7928, 284.8792, 286.125, 286.5311, 290.0008, 290.9236, 307.3865, 304.6365, 303.483, 302.9847, 303.2246, 307.5987, 306.2329, 306.8789, 308.2816, 309.8042, 305.3564, 308.3831, 313.1632, 314.9996, 309.4813, 310.2195, 308.3554, 313.1909, 311.899, 315.6087, 317.399, 314.9535, 313.8184, 312.6281, 311.8067, 313.1447, 315.5625, 314.4294, 320.0299, 324.4695, 327.581, 327.4138, 329.9308, 326.5593, 319.5377, 320.903, 324.2187, 325.2033, 323.8565, 328.3425, 330.3952, 336.9616, 333.7666, 334.3424, 334.8812, 333.8966, 333.5158, 337.6489, 335.7264, 341.392, 344.0018, 343.5746, 342.8873, 343.3981, 341.9399, 342.0049, 343.138, 341.5034, 339.33, 332.94, 330.8409, 331.5375, 332.1599, 332.3177, 342.6272, 343.946, 343.1473, 343.2959, 339.9244, 336.3765, 337.231, 336.135, 332.9029, 340.6582, 342.9987, 350.3082, 350.1597, 350.1503, 350.3547, 342.6644, 346.8625, 350.1503, 353.3732, 354.562, 355.7231, 358.3979, 350.0482, 353.2339, 352.9273, 353.8376, 357.0511, 358.8073, 359.3491, 363.45, 359.7788, 361.0959, 355.1642, 356.2011, 356.4159, 361.1613, 359.5079, 366.7941, 368.0271, 370.8856, 367.5134, 362.6746, 362.1329, 363.534, 364.711, 367.037, 362.3196, 364.3654, 358.8821, 353.2494, 355.0241, 359.592, 358.4991, 356.9484, 359.2744, 361.3949, 356.3412, 357.4062, 357.5369, 357.621, 352.2217, 347.9434, 349.41, 349.0644, 348.5132, 350.0546, 346.3087, 347.3456, 346.6543, 353.6976, 351.8668, 354.1928, 349.8117, 349.0177, 354.7719, 353.8004, 356.7055, 356.2572, 360.853, 362.1515, 364.4588, 367.6255, 366.8875, 365.0659, 366.8315, 364.5522, 365.0005, 364.2907, 366.6447, 368.27, 367.5088, 360.5444, 358.6648, 361.4467, 362.7249, 363.5896, 360.2813, 361.3151, 363.0069, 360.9486, 363.2231, 362.7343, 363.6179, 357.6779, 360.1028, 363.2231, 368.3264, 366.7005, 368.7024, 369.9241, 368.3264, 365.958, 375.3471, 388.8527, 388.2606, 389.567, 386.3057, 389.9711, 388.9373, 393.8151, 391.1084, 395.629, 400.0933, 400.0558, 400.5162, 398.8903, 402.988, 406.4843, 406.3715, 410.8734, 407.7436, 409.6797, 402.3677, 398.364, 404.8677, 409.0125, 412.5651, 412.7531, 413.3076, 413.3921, 410.3376, 408.5519, 411.5125, 409.3508, 408.3452, 400.347, 402.0669, 394.1252, 376.2775, 376.7851, 361.4655, 349.8044, 360.6616, 356.9259, 380.2198, 363.8299, 361.7209, 332.9322, 347.2509, 337.5664, 294.4876, 310.7639, 272.3192, 301.5334, 315.3224, 297.1546, 275.4212, 261.7835, 273.2366, 302.3278, 331.3245, 329.4803, 329.9248, 320.5619, 320.1552, 334.7576, 331.4853, 347.9886, 336.006, 341.8034, 350.8732, 349.8706, 359.4133, 354.0698, 357.3799, 379.7279, 362.4207, 353.1808, 359.7632, 356.2923, 361.0589, 358.0325, 363.8583, 366.8658, 367.9534, 362.6666, 359.5362, 369.1261, 358.0419, 356.1126, 357.8717, 356.1315, 350.9771, 344.4231, 336.9518, 340.8482, 357.0584, 351.3271, 342.8437, 348.8114, 348.9816, 352.0081, 375.5761, 376.8245, 369.5933, 370.088, 370.8587, 383.0948, 384.0843, 390.8208, 394.1985, 388.7371, 384.1794, 365.2545, 363.342, 355.1688, 364.1984, 363.5703, 360.0309, 354.1412, 357.7188, 353.6655, 342.3618, 345.2163, 339.4504, 349.6692, 347.2144, 342.9327, 344.4361, 344.9975, 336.1297, 333.2372, 323.4654, 332.3047, 335.9298, 338.4037, 346.8719, 348.1278, 350.6207, 347.7948, 356.9196, 374.9596, 368.813, 367.4715, 363.5514, 367.8996, 368.5085, 363.1993, 360.5827, 358.8035, 359.6502, 364.8929, 361.3153, 366.9101, 370.3734, 372.9425, 373.3992, 370.3544, 372.4286, 370.088, 371.325, 371.1251, 369.0604, 370.6684, 375.8731, 375.6827, 376.2536, 375.8539, 376.3964, 373.5915, 370.2888, 381.0679, 369.791, 368.5752, 363.9898, 368.7859, 362.9177, 372.816, 376.9324, 375.7837, 378.6842, 379.0288, 378.263, 363.3963, 371.83, 366.8713, 362.5827, 370.1835, 373.8308, 372.1364, 366.9096, 364.6217, 364.3249, 367.5605, 360.3809, 366.5841, 371.9928, 369.4464, 372.3087, 372.3374, 374.0318, 369.6283, 369.9921, 367.3212, 356.3124, 351.459, 353.2012, 358.3418, 352.8087, 346.9501, 335.8742, 337.3868, 335.1754, 337.3677, 347.917, 356.2646, 349.1232, 345.8396, 348.4052, 355.4221, 353.5076, 352.1769, 359.1173, 361.0223, 359.8448, 361.4339, 360.3809, 352.3013, 355.0105, 362.3146, 362.1806, 358.3514, 351.8542, 351.8445, 348.3453, 348.9911, 353.4062, 349.0875, 346.292, 348.3356, 342.5903, 348.6826, 344.7785, 344.6918, 341.7998, 339.9008, 343.2072, 336.7678, 335.3894, 338.9368, 339.2935, 341.4239, 341.154, 341.4046, 342.1951, 332.2275, 336.228, 335.4953, 330.2127, 323.9951, 325.5181, 329.538, 333.0468, 334.9266, 334.7627, 329.2005, 329.3644, 327.4365, 327.6389, 331.1382, 318.7798, 320.5343, 316.1193, 310.2293, 312.3598, 320.7175, 320.4187, 325.0844, 324.9012, 325.6724, 330.0103, 329.8657, 326.9256, 325.5663, 322.9636, 324.8626, 325.7495, 323.3396, 328.2076, 333.7602, 334.0494, 329.3837, 320.7967, 323.9246, 328.898, 331.1516, 328.5678, 330.6853, 331.6762, 327.8392, 331.0836, 330.0054, 330.4522, 336.4942, 337.1936, 340.9722, 348.1895, 344.9063, 347.4222, 343.4881, 345.9262, 350.8802, 354.2703, 362.1191, 359.9335, 358.9232, 360.3998, 367.9085, 368.1222, 369.3073, 374.9703, 375.1743, 376.748, 376.0292, 377.5445, 379.4484, 380.5946, 380.5169, 376.2428, 376.1555, 369.2101, 366.4903, 361.3322, 362.5368, 362.2648, 369.4627, 369.6667, 374.2807, 376.3886, 375.3104, 376.2526, 379.1667, 381.8866, 376.7188, 369.7249, 376.6703, 379.5941, 379.9243, 376.136, 374.5042, 377.2045, 376.136, 376.612, 374.8052, 373.1345, 376.3011, 373.7683, 373.4945, 376.5945, 378.8047, 385.4058, 382.8729, 379.9586, 378.2668, 379.1665, 379.1665, 380.5258, 381.2006, 375.1374, 374.4528, 370.8247, 374.0617, 374.0421, 369.0057, 369.3969, 373.5825, 371.6853, 365.182, 370.0032, 371.832, 373.0739, 370.3162, 375.0201, 371.5386, 374.6582, 370.7073, 369.5045, 368.507, 369.9054, 368.8199, 363.8129, 371.5973, 372.4872, 371.5484, 372.3698, 359.9304, 366.4631, 364.5854, 364.3801, 363.4706, 360.1749, 361.2996, 353.6619, 352.8208, 354.0628, 353.0751, 354.2486, 355.2852, 351.8136, 350.0826, 352.3025, 353.6228, 348.7331, 346.2198, 349.2905, 349.4665, 351.0801, 350.8356, 353.6423, 354.0042, 354.0628, 354.4076, 351.3146, 352.6838, 350.6645, 343.9665, 346.1926, 343.7005, 340.6962, 341.1198, 339.1793, 339.8983, 336.3818, 335.8697, 333.3874, 331.0135, 336.6084, 339.0414, 344.2816, 348.0641, 346.8723, 345.0401, 339.9279, 342.5874, 340.8045, 342.5382, 344.7446, 346.5078, 348.4482, 351.7283, 352.7527, 356.3382, 356.6436, 360.1404, 359.5296, 365.5087, 365.5678, 367.5477, 368.9858, 370.6898, 326.9356, 325.9801, 326.4234, 327.3394, 325.9702, 321.4195, 326.384, 330.4718, 334.796, 336.6577, 333.1018, 332.5699, 330.856, 333.9784, 335.8105, 335.2688, 336.8645, 336.9531, 336.3228, 339.8097, 340.0067, 338.4307, 337.5836, 336.1159, 331.0408, 326.1743, 328.2699, 331.5275, 337.6354, 336.8508, 338.7477, 341.2505, 342.5218, 343.1872, 343.2766, 342.0649, 342.4821, 341.7869, 335.1128, 338.4399, 340.7937, 344.6472, 347.8849, 351.3311, 351.8476, 351.1623], \"yaxis\": \"y\"}],                        {\"legend\": {\"title\": {\"text\": \"variable\"}, \"tracegroupgap\": 0}, \"margin\": {\"t\": 60}, \"template\": {\"data\": {\"bar\": [{\"error_x\": {\"color\": \"#2a3f5f\"}, \"error_y\": {\"color\": \"#2a3f5f\"}, \"marker\": {\"line\": {\"color\": \"#E5ECF6\", \"width\": 0.5}}, \"type\": \"bar\"}], \"barpolar\": [{\"marker\": {\"line\": {\"color\": \"#E5ECF6\", \"width\": 0.5}}, \"type\": \"barpolar\"}], \"carpet\": [{\"aaxis\": {\"endlinecolor\": \"#2a3f5f\", \"gridcolor\": \"white\", \"linecolor\": \"white\", \"minorgridcolor\": \"white\", \"startlinecolor\": \"#2a3f5f\"}, \"baxis\": {\"endlinecolor\": \"#2a3f5f\", \"gridcolor\": \"white\", \"linecolor\": \"white\", \"minorgridcolor\": \"white\", \"startlinecolor\": \"#2a3f5f\"}, \"type\": \"carpet\"}], \"choropleth\": [{\"colorbar\": {\"outlinewidth\": 0, \"ticks\": \"\"}, \"type\": \"choropleth\"}], \"contour\": [{\"colorbar\": {\"outlinewidth\": 0, \"ticks\": \"\"}, \"colorscale\": [[0.0, \"#0d0887\"], [0.1111111111111111, \"#46039f\"], [0.2222222222222222, \"#7201a8\"], [0.3333333333333333, \"#9c179e\"], [0.4444444444444444, \"#bd3786\"], [0.5555555555555556, \"#d8576b\"], [0.6666666666666666, \"#ed7953\"], [0.7777777777777778, \"#fb9f3a\"], [0.8888888888888888, \"#fdca26\"], [1.0, \"#f0f921\"]], \"type\": \"contour\"}], \"contourcarpet\": [{\"colorbar\": {\"outlinewidth\": 0, \"ticks\": \"\"}, \"type\": \"contourcarpet\"}], \"heatmap\": [{\"colorbar\": {\"outlinewidth\": 0, \"ticks\": \"\"}, \"colorscale\": [[0.0, \"#0d0887\"], [0.1111111111111111, \"#46039f\"], [0.2222222222222222, \"#7201a8\"], [0.3333333333333333, \"#9c179e\"], [0.4444444444444444, \"#bd3786\"], [0.5555555555555556, \"#d8576b\"], [0.6666666666666666, \"#ed7953\"], [0.7777777777777778, \"#fb9f3a\"], [0.8888888888888888, \"#fdca26\"], [1.0, \"#f0f921\"]], \"type\": \"heatmap\"}], \"heatmapgl\": [{\"colorbar\": {\"outlinewidth\": 0, \"ticks\": \"\"}, \"colorscale\": [[0.0, \"#0d0887\"], [0.1111111111111111, \"#46039f\"], [0.2222222222222222, \"#7201a8\"], [0.3333333333333333, \"#9c179e\"], [0.4444444444444444, \"#bd3786\"], [0.5555555555555556, \"#d8576b\"], [0.6666666666666666, \"#ed7953\"], [0.7777777777777778, \"#fb9f3a\"], [0.8888888888888888, \"#fdca26\"], [1.0, \"#f0f921\"]], \"type\": \"heatmapgl\"}], \"histogram\": [{\"marker\": {\"colorbar\": {\"outlinewidth\": 0, \"ticks\": \"\"}}, \"type\": \"histogram\"}], \"histogram2d\": [{\"colorbar\": {\"outlinewidth\": 0, \"ticks\": \"\"}, \"colorscale\": [[0.0, \"#0d0887\"], [0.1111111111111111, \"#46039f\"], [0.2222222222222222, \"#7201a8\"], [0.3333333333333333, \"#9c179e\"], [0.4444444444444444, \"#bd3786\"], [0.5555555555555556, \"#d8576b\"], [0.6666666666666666, \"#ed7953\"], [0.7777777777777778, \"#fb9f3a\"], [0.8888888888888888, \"#fdca26\"], [1.0, \"#f0f921\"]], \"type\": \"histogram2d\"}], \"histogram2dcontour\": [{\"colorbar\": {\"outlinewidth\": 0, \"ticks\": \"\"}, \"colorscale\": [[0.0, \"#0d0887\"], [0.1111111111111111, \"#46039f\"], [0.2222222222222222, \"#7201a8\"], [0.3333333333333333, \"#9c179e\"], [0.4444444444444444, \"#bd3786\"], [0.5555555555555556, \"#d8576b\"], [0.6666666666666666, \"#ed7953\"], [0.7777777777777778, \"#fb9f3a\"], [0.8888888888888888, \"#fdca26\"], [1.0, \"#f0f921\"]], \"type\": \"histogram2dcontour\"}], \"mesh3d\": [{\"colorbar\": {\"outlinewidth\": 0, \"ticks\": \"\"}, \"type\": \"mesh3d\"}], \"parcoords\": [{\"line\": {\"colorbar\": {\"outlinewidth\": 0, \"ticks\": \"\"}}, \"type\": \"parcoords\"}], \"pie\": [{\"automargin\": true, \"type\": \"pie\"}], \"scatter\": [{\"marker\": {\"colorbar\": {\"outlinewidth\": 0, \"ticks\": \"\"}}, \"type\": \"scatter\"}], \"scatter3d\": [{\"line\": {\"colorbar\": {\"outlinewidth\": 0, \"ticks\": \"\"}}, \"marker\": {\"colorbar\": {\"outlinewidth\": 0, \"ticks\": \"\"}}, \"type\": \"scatter3d\"}], \"scattercarpet\": [{\"marker\": {\"colorbar\": {\"outlinewidth\": 0, \"ticks\": \"\"}}, \"type\": \"scattercarpet\"}], \"scattergeo\": [{\"marker\": {\"colorbar\": {\"outlinewidth\": 0, \"ticks\": \"\"}}, \"type\": \"scattergeo\"}], \"scattergl\": [{\"marker\": {\"colorbar\": {\"outlinewidth\": 0, \"ticks\": \"\"}}, \"type\": \"scattergl\"}], \"scattermapbox\": [{\"marker\": {\"colorbar\": {\"outlinewidth\": 0, \"ticks\": \"\"}}, \"type\": \"scattermapbox\"}], \"scatterpolar\": [{\"marker\": {\"colorbar\": {\"outlinewidth\": 0, \"ticks\": \"\"}}, \"type\": \"scatterpolar\"}], \"scatterpolargl\": [{\"marker\": {\"colorbar\": {\"outlinewidth\": 0, \"ticks\": \"\"}}, \"type\": \"scatterpolargl\"}], \"scatterternary\": [{\"marker\": {\"colorbar\": {\"outlinewidth\": 0, \"ticks\": \"\"}}, \"type\": \"scatterternary\"}], \"surface\": [{\"colorbar\": {\"outlinewidth\": 0, \"ticks\": \"\"}, \"colorscale\": [[0.0, \"#0d0887\"], [0.1111111111111111, \"#46039f\"], [0.2222222222222222, \"#7201a8\"], [0.3333333333333333, \"#9c179e\"], [0.4444444444444444, \"#bd3786\"], [0.5555555555555556, \"#d8576b\"], [0.6666666666666666, \"#ed7953\"], [0.7777777777777778, \"#fb9f3a\"], [0.8888888888888888, \"#fdca26\"], [1.0, \"#f0f921\"]], \"type\": \"surface\"}], \"table\": [{\"cells\": {\"fill\": {\"color\": \"#EBF0F8\"}, \"line\": {\"color\": \"white\"}}, \"header\": {\"fill\": {\"color\": \"#C8D4E3\"}, \"line\": {\"color\": \"white\"}}, \"type\": \"table\"}]}, \"layout\": {\"annotationdefaults\": {\"arrowcolor\": \"#2a3f5f\", \"arrowhead\": 0, \"arrowwidth\": 1}, \"autotypenumbers\": \"strict\", \"coloraxis\": {\"colorbar\": {\"outlinewidth\": 0, \"ticks\": \"\"}}, \"colorscale\": {\"diverging\": [[0, \"#8e0152\"], [0.1, \"#c51b7d\"], [0.2, \"#de77ae\"], [0.3, \"#f1b6da\"], [0.4, \"#fde0ef\"], [0.5, \"#f7f7f7\"], [0.6, \"#e6f5d0\"], [0.7, \"#b8e186\"], [0.8, \"#7fbc41\"], [0.9, \"#4d9221\"], [1, \"#276419\"]], \"sequential\": [[0.0, \"#0d0887\"], [0.1111111111111111, \"#46039f\"], [0.2222222222222222, \"#7201a8\"], [0.3333333333333333, \"#9c179e\"], [0.4444444444444444, \"#bd3786\"], [0.5555555555555556, \"#d8576b\"], [0.6666666666666666, \"#ed7953\"], [0.7777777777777778, \"#fb9f3a\"], [0.8888888888888888, \"#fdca26\"], [1.0, \"#f0f921\"]], \"sequentialminus\": [[0.0, \"#0d0887\"], [0.1111111111111111, \"#46039f\"], [0.2222222222222222, \"#7201a8\"], [0.3333333333333333, \"#9c179e\"], [0.4444444444444444, \"#bd3786\"], [0.5555555555555556, \"#d8576b\"], [0.6666666666666666, \"#ed7953\"], [0.7777777777777778, \"#fb9f3a\"], [0.8888888888888888, \"#fdca26\"], [1.0, \"#f0f921\"]]}, \"colorway\": [\"#636efa\", \"#EF553B\", \"#00cc96\", \"#ab63fa\", \"#FFA15A\", \"#19d3f3\", \"#FF6692\", \"#B6E880\", \"#FF97FF\", \"#FECB52\"], \"font\": {\"color\": \"#2a3f5f\"}, \"geo\": {\"bgcolor\": \"white\", \"lakecolor\": \"white\", \"landcolor\": \"#E5ECF6\", \"showlakes\": true, \"showland\": true, \"subunitcolor\": \"white\"}, \"hoverlabel\": {\"align\": \"left\"}, \"hovermode\": \"closest\", \"mapbox\": {\"style\": \"light\"}, \"paper_bgcolor\": \"white\", \"plot_bgcolor\": \"#E5ECF6\", \"polar\": {\"angularaxis\": {\"gridcolor\": \"white\", \"linecolor\": \"white\", \"ticks\": \"\"}, \"bgcolor\": \"#E5ECF6\", \"radialaxis\": {\"gridcolor\": \"white\", \"linecolor\": \"white\", \"ticks\": \"\"}}, \"scene\": {\"xaxis\": {\"backgroundcolor\": \"#E5ECF6\", \"gridcolor\": \"white\", \"gridwidth\": 2, \"linecolor\": \"white\", \"showbackground\": true, \"ticks\": \"\", \"zerolinecolor\": \"white\"}, \"yaxis\": {\"backgroundcolor\": \"#E5ECF6\", \"gridcolor\": \"white\", \"gridwidth\": 2, \"linecolor\": \"white\", \"showbackground\": true, \"ticks\": \"\", \"zerolinecolor\": \"white\"}, \"zaxis\": {\"backgroundcolor\": \"#E5ECF6\", \"gridcolor\": \"white\", \"gridwidth\": 2, \"linecolor\": \"white\", \"showbackground\": true, \"ticks\": \"\", \"zerolinecolor\": \"white\"}}, \"shapedefaults\": {\"line\": {\"color\": \"#2a3f5f\"}}, \"ternary\": {\"aaxis\": {\"gridcolor\": \"white\", \"linecolor\": \"white\", \"ticks\": \"\"}, \"baxis\": {\"gridcolor\": \"white\", \"linecolor\": \"white\", \"ticks\": \"\"}, \"bgcolor\": \"#E5ECF6\", \"caxis\": {\"gridcolor\": \"white\", \"linecolor\": \"white\", \"ticks\": \"\"}}, \"title\": {\"x\": 0.05}, \"xaxis\": {\"automargin\": true, \"gridcolor\": \"white\", \"linecolor\": \"white\", \"ticks\": \"\", \"title\": {\"standoff\": 15}, \"zerolinecolor\": \"white\", \"zerolinewidth\": 2}, \"yaxis\": {\"automargin\": true, \"gridcolor\": \"white\", \"linecolor\": \"white\", \"ticks\": \"\", \"title\": {\"standoff\": 15}, \"zerolinecolor\": \"white\", \"zerolinewidth\": 2}}}, \"xaxis\": {\"anchor\": \"y\", \"domain\": [0.0, 1.0], \"title\": {\"text\": \"index\"}}, \"yaxis\": {\"anchor\": \"x\", \"domain\": [0.0, 1.0], \"title\": {\"text\": \"value\"}}},                        {\"responsive\": true}                    ).then(function(){\n",
       "                            \n",
       "var gd = document.getElementById('1b7c5e3a-44ca-44bd-8d46-eba282e8983b');\n",
       "var x = new MutationObserver(function (mutations, observer) {{\n",
       "        var display = window.getComputedStyle(gd).display;\n",
       "        if (!display || display === 'none') {{\n",
       "            console.log([gd, 'removed!']);\n",
       "            Plotly.purge(gd);\n",
       "            observer.disconnect();\n",
       "        }}\n",
       "}});\n",
       "\n",
       "// Listen for the removal of the full notebook cells\n",
       "var notebookContainer = gd.closest('#notebook-container');\n",
       "if (notebookContainer) {{\n",
       "    x.observe(notebookContainer, {childList: true});\n",
       "}}\n",
       "\n",
       "// Listen for the clearing of the current output cell\n",
       "var outputEl = gd.closest('.output');\n",
       "if (outputEl) {{\n",
       "    x.observe(outputEl, {childList: true});\n",
       "}}\n",
       "\n",
       "                        })                };                });            </script>        </div>"
      ]
     },
     "metadata": {},
     "output_type": "display_data"
    },
    {
     "data": {
      "text/html": [
       "<div>\n",
       "<style scoped>\n",
       "    .dataframe tbody tr th:only-of-type {\n",
       "        vertical-align: middle;\n",
       "    }\n",
       "\n",
       "    .dataframe tbody tr th {\n",
       "        vertical-align: top;\n",
       "    }\n",
       "\n",
       "    .dataframe thead th {\n",
       "        text-align: right;\n",
       "    }\n",
       "</style>\n",
       "<table border=\"1\" class=\"dataframe\">\n",
       "  <thead>\n",
       "    <tr style=\"text-align: right;\">\n",
       "      <th></th>\n",
       "      <th>Date</th>\n",
       "      <th>Capital Expenditures</th>\n",
       "      <th>Change In Cash</th>\n",
       "      <th>Change To Account Receivables</th>\n",
       "      <th>Change To Inventory</th>\n",
       "      <th>Change To Liabilities</th>\n",
       "      <th>Change To Netincome</th>\n",
       "      <th>Change To Operating Activities</th>\n",
       "      <th>Depreciation</th>\n",
       "      <th>Dividends Paid</th>\n",
       "      <th>Net Borrowings</th>\n",
       "      <th>Net Income</th>\n",
       "      <th>Other Cashflows From Financing Activities</th>\n",
       "      <th>Other Cashflows From Investing Activities</th>\n",
       "      <th>Repurchase Of Stock</th>\n",
       "      <th>Total Cash From Financing Activities</th>\n",
       "      <th>Total Cash From Operating Activities</th>\n",
       "      <th>Total Cashflows From Investing Activities</th>\n",
       "      <th>Cost Of Revenue</th>\n",
       "      <th>Discontinued Operations</th>\n",
       "      <th>Ebit</th>\n",
       "      <th>Effect Of Accounting Charges</th>\n",
       "      <th>Extraordinary Items</th>\n",
       "      <th>Gross Profit</th>\n",
       "      <th>Income Before Tax</th>\n",
       "      <th>Income Tax Expense</th>\n",
       "      <th>Interest Expense</th>\n",
       "      <th>Net Income Applicable To Common Shares</th>\n",
       "      <th>Net Income From Continuing Ops</th>\n",
       "      <th>Non Recurring</th>\n",
       "      <th>Operating Income</th>\n",
       "      <th>Other Items</th>\n",
       "      <th>Other Operating Expenses</th>\n",
       "      <th>Research Development</th>\n",
       "      <th>Selling General Administrative</th>\n",
       "      <th>Total Operating Expenses</th>\n",
       "      <th>Total Other Income Expense Net</th>\n",
       "      <th>Total Revenue</th>\n",
       "      <th>Accounts Payable</th>\n",
       "      <th>Capital Surplus</th>\n",
       "      <th>Cash</th>\n",
       "      <th>Common Stock</th>\n",
       "      <th>Deferred Long Term Asset Charges</th>\n",
       "      <th>Good Will</th>\n",
       "      <th>Intangible Assets</th>\n",
       "      <th>Inventory</th>\n",
       "      <th>Long Term Debt</th>\n",
       "      <th>Long Term Investments</th>\n",
       "      <th>Minority Interest</th>\n",
       "      <th>Net Receivables</th>\n",
       "      <th>Net Tangible Assets</th>\n",
       "      <th>Other Assets</th>\n",
       "      <th>Other Current Assets</th>\n",
       "      <th>Other Current Liab</th>\n",
       "      <th>Other Liab</th>\n",
       "      <th>Other Stockholder Equity</th>\n",
       "      <th>Property Plant Equipment</th>\n",
       "      <th>Retained Earnings</th>\n",
       "      <th>Short Long Term Debt</th>\n",
       "      <th>Total Assets</th>\n",
       "      <th>Total Current Assets</th>\n",
       "      <th>Total Current Liabilities</th>\n",
       "      <th>Total Liab</th>\n",
       "      <th>Total Stockholder Equity</th>\n",
       "      <th>Treasury Stock</th>\n",
       "      <th>Year</th>\n",
       "      <th>Month</th>\n",
       "      <th>Earnings</th>\n",
       "      <th>Revenue</th>\n",
       "      <th>Working Capital</th>\n",
       "      <th>Shares</th>\n",
       "      <th>Avg_month_price</th>\n",
       "    </tr>\n",
       "  </thead>\n",
       "  <tbody>\n",
       "    <tr>\n",
       "      <th>0</th>\n",
       "      <td>2021-12-31</td>\n",
       "      <td>-1,522,000,000.0</td>\n",
       "      <td>444,000,000.0</td>\n",
       "      <td>-1,019,000,000.0</td>\n",
       "      <td>564,000,000.0</td>\n",
       "      <td>464,000,000.0</td>\n",
       "      <td>1,755,000,000.0</td>\n",
       "      <td>-267,000,000.0</td>\n",
       "      <td>1,189,000,000.0</td>\n",
       "      <td>-2,940,000,000.0</td>\n",
       "      <td>-500,000,000.0</td>\n",
       "      <td>6,315,000,000.0</td>\n",
       "      <td>-89,000,000.0</td>\n",
       "      <td>361,000,000.0</td>\n",
       "      <td>-4,087,000,000.0</td>\n",
       "      <td>-7,616,000,000.0</td>\n",
       "      <td>9,221,000,000.0</td>\n",
       "      <td>-1,161,000,000.0</td>\n",
       "      <td>57,947,000,000.0</td>\n",
       "      <td>NaN</td>\n",
       "      <td>7,821,000,000.0</td>\n",
       "      <td>None</td>\n",
       "      <td>None</td>\n",
       "      <td>9,097,000,000.0</td>\n",
       "      <td>7,550,000,000.0</td>\n",
       "      <td>1,235,000,000.0</td>\n",
       "      <td>-569,000,000.0</td>\n",
       "      <td>6,315,000,000.0</td>\n",
       "      <td>6,315,000,000.0</td>\n",
       "      <td>None</td>\n",
       "      <td>7,821,000,000.0</td>\n",
       "      <td>None</td>\n",
       "      <td>35,000,000.0</td>\n",
       "      <td>None</td>\n",
       "      <td>1,241,000,000.0</td>\n",
       "      <td>59,223,000,000.0</td>\n",
       "      <td>-271,000,000.0</td>\n",
       "      <td>67,044,000,000.0</td>\n",
       "      <td>780,000,000.0</td>\n",
       "      <td>94,000,000.0</td>\n",
       "      <td>3,604,000,000.0</td>\n",
       "      <td>271,000,000.0</td>\n",
       "      <td>2,290,000,000.0</td>\n",
       "      <td>10,813,000,000.0</td>\n",
       "      <td>3,483,000,000.0</td>\n",
       "      <td>2,981,000,000.0</td>\n",
       "      <td>11,670,000,000.0</td>\n",
       "      <td>689,000,000.0</td>\n",
       "      <td>nan</td>\n",
       "      <td>12,542,000,000.0</td>\n",
       "      <td>-3,337,000,000.0</td>\n",
       "      <td>7,176,000,000.0</td>\n",
       "      <td>688,000,000.0</td>\n",
       "      <td>9,778,000,000.0</td>\n",
       "      <td>13,146,000,000.0</td>\n",
       "      <td>-11,006,000,000.0</td>\n",
       "      <td>8,897,000,000.0</td>\n",
       "      <td>21,600,000,000.0</td>\n",
       "      <td>6,000,000.0</td>\n",
       "      <td>50,873,000,000.0</td>\n",
       "      <td>19,815,000,000.0</td>\n",
       "      <td>13,997,000,000.0</td>\n",
       "      <td>39,914,000,000.0</td>\n",
       "      <td>10,959,000,000.0</td>\n",
       "      <td>-11,006,000,000.0</td>\n",
       "      <td>2021</td>\n",
       "      <td>12</td>\n",
       "      <td>6315000000</td>\n",
       "      <td>67044000000</td>\n",
       "      <td>5,818,000,000.0</td>\n",
       "      <td>272,327,008.0</td>\n",
       "      <td>340.8093</td>\n",
       "    </tr>\n",
       "    <tr>\n",
       "      <th>1</th>\n",
       "      <td>2020-12-31</td>\n",
       "      <td>-1,766,000,000.0</td>\n",
       "      <td>1,646,000,000.0</td>\n",
       "      <td>-92,000,000.0</td>\n",
       "      <td>74,000,000.0</td>\n",
       "      <td>119,000,000.0</td>\n",
       "      <td>1,175,000,000.0</td>\n",
       "      <td>-1,197,000,000.0</td>\n",
       "      <td>1,124,000,000.0</td>\n",
       "      <td>-2,764,000,000.0</td>\n",
       "      <td>-519,000,000.0</td>\n",
       "      <td>6,833,000,000.0</td>\n",
       "      <td>-144,000,000.0</td>\n",
       "      <td>38,000,000.0</td>\n",
       "      <td>-1,100,000,000.0</td>\n",
       "      <td>-4,527,000,000.0</td>\n",
       "      <td>8,183,000,000.0</td>\n",
       "      <td>-2,010,000,000.0</td>\n",
       "      <td>56,717,000,000.0</td>\n",
       "      <td>-55,000,000.0</td>\n",
       "      <td>8,877,000,000.0</td>\n",
       "      <td>None</td>\n",
       "      <td>None</td>\n",
       "      <td>8,681,000,000.0</td>\n",
       "      <td>8,235,000,000.0</td>\n",
       "      <td>1,347,000,000.0</td>\n",
       "      <td>-591,000,000.0</td>\n",
       "      <td>6,833,000,000.0</td>\n",
       "      <td>6,888,000,000.0</td>\n",
       "      <td>None</td>\n",
       "      <td>8,877,000,000.0</td>\n",
       "      <td>None</td>\n",
       "      <td>45,000,000.0</td>\n",
       "      <td>None</td>\n",
       "      <td>-241,000,000.0</td>\n",
       "      <td>56,521,000,000.0</td>\n",
       "      <td>-642,000,000.0</td>\n",
       "      <td>65,398,000,000.0</td>\n",
       "      <td>880,000,000.0</td>\n",
       "      <td>221,000,000.0</td>\n",
       "      <td>3,160,000,000.0</td>\n",
       "      <td>279,000,000.0</td>\n",
       "      <td>3,475,000,000.0</td>\n",
       "      <td>10,806,000,000.0</td>\n",
       "      <td>3,698,000,000.0</td>\n",
       "      <td>3,545,000,000.0</td>\n",
       "      <td>11,669,000,000.0</td>\n",
       "      <td>784,000,000.0</td>\n",
       "      <td>23,000,000.0</td>\n",
       "      <td>11,523,000,000.0</td>\n",
       "      <td>-8,489,000,000.0</td>\n",
       "      <td>8,831,000,000.0</td>\n",
       "      <td>1,150,000,000.0</td>\n",
       "      <td>9,390,000,000.0</td>\n",
       "      <td>19,070,000,000.0</td>\n",
       "      <td>-16,121,000,000.0</td>\n",
       "      <td>7,213,000,000.0</td>\n",
       "      <td>21,636,000,000.0</td>\n",
       "      <td>500,000,000.0</td>\n",
       "      <td>50,710,000,000.0</td>\n",
       "      <td>19,378,000,000.0</td>\n",
       "      <td>13,933,000,000.0</td>\n",
       "      <td>44,672,000,000.0</td>\n",
       "      <td>6,015,000,000.0</td>\n",
       "      <td>-16,121,000,000.0</td>\n",
       "      <td>2020</td>\n",
       "      <td>12</td>\n",
       "      <td>6833000000</td>\n",
       "      <td>65398000000</td>\n",
       "      <td>5,445,000,000.0</td>\n",
       "      <td>272,327,008.0</td>\n",
       "      <td>344.0236</td>\n",
       "    </tr>\n",
       "    <tr>\n",
       "      <th>2</th>\n",
       "      <td>2019-12-31</td>\n",
       "      <td>-1,484,000,000.0</td>\n",
       "      <td>742,000,000.0</td>\n",
       "      <td>485,000,000.0</td>\n",
       "      <td>-622,000,000.0</td>\n",
       "      <td>-535,000,000.0</td>\n",
       "      <td>634,000,000.0</td>\n",
       "      <td>81,000,000.0</td>\n",
       "      <td>1,078,000,000.0</td>\n",
       "      <td>-2,556,000,000.0</td>\n",
       "      <td>-1,500,000,000.0</td>\n",
       "      <td>6,230,000,000.0</td>\n",
       "      <td>-72,000,000.0</td>\n",
       "      <td>243,000,000.0</td>\n",
       "      <td>-1,200,000,000.0</td>\n",
       "      <td>-5,328,000,000.0</td>\n",
       "      <td>7,311,000,000.0</td>\n",
       "      <td>-1,241,000,000.0</td>\n",
       "      <td>51,445,000,000.0</td>\n",
       "      <td>-55,000,000.0</td>\n",
       "      <td>7,698,000,000.0</td>\n",
       "      <td>None</td>\n",
       "      <td>None</td>\n",
       "      <td>8,367,000,000.0</td>\n",
       "      <td>7,241,000,000.0</td>\n",
       "      <td>1,011,000,000.0</td>\n",
       "      <td>-653,000,000.0</td>\n",
       "      <td>6,230,000,000.0</td>\n",
       "      <td>6,230,000,000.0</td>\n",
       "      <td>None</td>\n",
       "      <td>7,698,000,000.0</td>\n",
       "      <td>None</td>\n",
       "      <td>61,000,000.0</td>\n",
       "      <td>None</td>\n",
       "      <td>608,000,000.0</td>\n",
       "      <td>52,114,000,000.0</td>\n",
       "      <td>-457,000,000.0</td>\n",
       "      <td>59,812,000,000.0</td>\n",
       "      <td>1,281,000,000.0</td>\n",
       "      <td>nan</td>\n",
       "      <td>1,514,000,000.0</td>\n",
       "      <td>280,000,000.0</td>\n",
       "      <td>3,319,000,000.0</td>\n",
       "      <td>10,604,000,000.0</td>\n",
       "      <td>3,724,000,000.0</td>\n",
       "      <td>3,619,000,000.0</td>\n",
       "      <td>11,404,000,000.0</td>\n",
       "      <td>1,200,000,000.0</td>\n",
       "      <td>44,000,000.0</td>\n",
       "      <td>11,431,000,000.0</td>\n",
       "      <td>-11,201,000,000.0</td>\n",
       "      <td>8,314,000,000.0</td>\n",
       "      <td>531,000,000.0</td>\n",
       "      <td>8,975,000,000.0</td>\n",
       "      <td>18,981,000,000.0</td>\n",
       "      <td>-15,554,000,000.0</td>\n",
       "      <td>6,591,000,000.0</td>\n",
       "      <td>18,401,000,000.0</td>\n",
       "      <td>1,250,000,000.0</td>\n",
       "      <td>47,528,000,000.0</td>\n",
       "      <td>17,095,000,000.0</td>\n",
       "      <td>13,972,000,000.0</td>\n",
       "      <td>44,357,000,000.0</td>\n",
       "      <td>3,127,000,000.0</td>\n",
       "      <td>-15,554,000,000.0</td>\n",
       "      <td>2019</td>\n",
       "      <td>12</td>\n",
       "      <td>6230000000</td>\n",
       "      <td>59812000000</td>\n",
       "      <td>3,123,000,000.0</td>\n",
       "      <td>272,327,008.0</td>\n",
       "      <td>363.3828</td>\n",
       "    </tr>\n",
       "    <tr>\n",
       "      <th>3</th>\n",
       "      <td>2018-12-31</td>\n",
       "      <td>-1,278,000,000.0</td>\n",
       "      <td>-2,089,000,000.0</td>\n",
       "      <td>-1,659,000,000.0</td>\n",
       "      <td>-119,000,000.0</td>\n",
       "      <td>377,000,000.0</td>\n",
       "      <td>829,000,000.0</td>\n",
       "      <td>-3,574,000,000.0</td>\n",
       "      <td>1,055,000,000.0</td>\n",
       "      <td>-2,347,000,000.0</td>\n",
       "      <td>-150,000,000.0</td>\n",
       "      <td>5,046,000,000.0</td>\n",
       "      <td>-163,000,000.0</td>\n",
       "      <td>203,000,000.0</td>\n",
       "      <td>-1,492,000,000.0</td>\n",
       "      <td>-4,152,000,000.0</td>\n",
       "      <td>3,138,000,000.0</td>\n",
       "      <td>-1,075,000,000.0</td>\n",
       "      <td>46,392,000,000.0</td>\n",
       "      <td>-55,000,000.0</td>\n",
       "      <td>6,644,000,000.0</td>\n",
       "      <td>None</td>\n",
       "      <td>None</td>\n",
       "      <td>7,370,000,000.0</td>\n",
       "      <td>5,838,000,000.0</td>\n",
       "      <td>792,000,000.0</td>\n",
       "      <td>-668,000,000.0</td>\n",
       "      <td>5,046,000,000.0</td>\n",
       "      <td>5,046,000,000.0</td>\n",
       "      <td>None</td>\n",
       "      <td>6,644,000,000.0</td>\n",
       "      <td>None</td>\n",
       "      <td>-51,000,000.0</td>\n",
       "      <td>None</td>\n",
       "      <td>777,000,000.0</td>\n",
       "      <td>47,118,000,000.0</td>\n",
       "      <td>-806,000,000.0</td>\n",
       "      <td>53,762,000,000.0</td>\n",
       "      <td>2,402,000,000.0</td>\n",
       "      <td>nan</td>\n",
       "      <td>772,000,000.0</td>\n",
       "      <td>281,000,000.0</td>\n",
       "      <td>3,208,000,000.0</td>\n",
       "      <td>10,769,000,000.0</td>\n",
       "      <td>3,941,000,000.0</td>\n",
       "      <td>2,997,000,000.0</td>\n",
       "      <td>12,604,000,000.0</td>\n",
       "      <td>1,200,000,000.0</td>\n",
       "      <td>55,000,000.0</td>\n",
       "      <td>11,916,000,000.0</td>\n",
       "      <td>-13,316,000,000.0</td>\n",
       "      <td>6,739,000,000.0</td>\n",
       "      <td>418,000,000.0</td>\n",
       "      <td>8,374,000,000.0</td>\n",
       "      <td>16,425,000,000.0</td>\n",
       "      <td>-14,321,000,000.0</td>\n",
       "      <td>6,124,000,000.0</td>\n",
       "      <td>15,434,000,000.0</td>\n",
       "      <td>900,000,000.0</td>\n",
       "      <td>44,876,000,000.0</td>\n",
       "      <td>16,103,000,000.0</td>\n",
       "      <td>14,398,000,000.0</td>\n",
       "      <td>43,427,000,000.0</td>\n",
       "      <td>1,394,000,000.0</td>\n",
       "      <td>-14,321,000,000.0</td>\n",
       "      <td>2018</td>\n",
       "      <td>12</td>\n",
       "      <td>5046000000</td>\n",
       "      <td>53762000000</td>\n",
       "      <td>1,705,000,000.0</td>\n",
       "      <td>272,327,008.0</td>\n",
       "      <td>253.2815</td>\n",
       "    </tr>\n",
       "  </tbody>\n",
       "</table>\n",
       "</div>"
      ],
      "text/plain": [
       "        Date  Capital Expenditures   Change In Cash  \\\n",
       "0 2021-12-31      -1,522,000,000.0    444,000,000.0   \n",
       "1 2020-12-31      -1,766,000,000.0  1,646,000,000.0   \n",
       "2 2019-12-31      -1,484,000,000.0    742,000,000.0   \n",
       "3 2018-12-31      -1,278,000,000.0 -2,089,000,000.0   \n",
       "\n",
       "   Change To Account Receivables  Change To Inventory  Change To Liabilities  \\\n",
       "0               -1,019,000,000.0        564,000,000.0          464,000,000.0   \n",
       "1                  -92,000,000.0         74,000,000.0          119,000,000.0   \n",
       "2                  485,000,000.0       -622,000,000.0         -535,000,000.0   \n",
       "3               -1,659,000,000.0       -119,000,000.0          377,000,000.0   \n",
       "\n",
       "   Change To Netincome  Change To Operating Activities    Depreciation  \\\n",
       "0      1,755,000,000.0                  -267,000,000.0 1,189,000,000.0   \n",
       "1      1,175,000,000.0                -1,197,000,000.0 1,124,000,000.0   \n",
       "2        634,000,000.0                    81,000,000.0 1,078,000,000.0   \n",
       "3        829,000,000.0                -3,574,000,000.0 1,055,000,000.0   \n",
       "\n",
       "    Dividends Paid   Net Borrowings      Net Income  \\\n",
       "0 -2,940,000,000.0   -500,000,000.0 6,315,000,000.0   \n",
       "1 -2,764,000,000.0   -519,000,000.0 6,833,000,000.0   \n",
       "2 -2,556,000,000.0 -1,500,000,000.0 6,230,000,000.0   \n",
       "3 -2,347,000,000.0   -150,000,000.0 5,046,000,000.0   \n",
       "\n",
       "   Other Cashflows From Financing Activities  \\\n",
       "0                              -89,000,000.0   \n",
       "1                             -144,000,000.0   \n",
       "2                              -72,000,000.0   \n",
       "3                             -163,000,000.0   \n",
       "\n",
       "   Other Cashflows From Investing Activities  Repurchase Of Stock  \\\n",
       "0                              361,000,000.0     -4,087,000,000.0   \n",
       "1                               38,000,000.0     -1,100,000,000.0   \n",
       "2                              243,000,000.0     -1,200,000,000.0   \n",
       "3                              203,000,000.0     -1,492,000,000.0   \n",
       "\n",
       "   Total Cash From Financing Activities  Total Cash From Operating Activities  \\\n",
       "0                      -7,616,000,000.0                       9,221,000,000.0   \n",
       "1                      -4,527,000,000.0                       8,183,000,000.0   \n",
       "2                      -5,328,000,000.0                       7,311,000,000.0   \n",
       "3                      -4,152,000,000.0                       3,138,000,000.0   \n",
       "\n",
       "   Total Cashflows From Investing Activities  Cost Of Revenue  \\\n",
       "0                           -1,161,000,000.0 57,947,000,000.0   \n",
       "1                           -2,010,000,000.0 56,717,000,000.0   \n",
       "2                           -1,241,000,000.0 51,445,000,000.0   \n",
       "3                           -1,075,000,000.0 46,392,000,000.0   \n",
       "\n",
       "  Discontinued Operations            Ebit Effect Of Accounting Charges  \\\n",
       "0                     NaN 7,821,000,000.0                         None   \n",
       "1           -55,000,000.0 8,877,000,000.0                         None   \n",
       "2           -55,000,000.0 7,698,000,000.0                         None   \n",
       "3           -55,000,000.0 6,644,000,000.0                         None   \n",
       "\n",
       "  Extraordinary Items    Gross Profit Income Before Tax Income Tax Expense  \\\n",
       "0                None 9,097,000,000.0   7,550,000,000.0    1,235,000,000.0   \n",
       "1                None 8,681,000,000.0   8,235,000,000.0    1,347,000,000.0   \n",
       "2                None 8,367,000,000.0   7,241,000,000.0    1,011,000,000.0   \n",
       "3                None 7,370,000,000.0   5,838,000,000.0      792,000,000.0   \n",
       "\n",
       "  Interest Expense Net Income Applicable To Common Shares  \\\n",
       "0   -569,000,000.0                        6,315,000,000.0   \n",
       "1   -591,000,000.0                        6,833,000,000.0   \n",
       "2   -653,000,000.0                        6,230,000,000.0   \n",
       "3   -668,000,000.0                        5,046,000,000.0   \n",
       "\n",
       "  Net Income From Continuing Ops Non Recurring Operating Income Other Items  \\\n",
       "0                6,315,000,000.0          None  7,821,000,000.0        None   \n",
       "1                6,888,000,000.0          None  8,877,000,000.0        None   \n",
       "2                6,230,000,000.0          None  7,698,000,000.0        None   \n",
       "3                5,046,000,000.0          None  6,644,000,000.0        None   \n",
       "\n",
       "  Other Operating Expenses Research Development  \\\n",
       "0             35,000,000.0                 None   \n",
       "1             45,000,000.0                 None   \n",
       "2             61,000,000.0                 None   \n",
       "3            -51,000,000.0                 None   \n",
       "\n",
       "  Selling General Administrative Total Operating Expenses  \\\n",
       "0                1,241,000,000.0         59,223,000,000.0   \n",
       "1                 -241,000,000.0         56,521,000,000.0   \n",
       "2                  608,000,000.0         52,114,000,000.0   \n",
       "3                  777,000,000.0         47,118,000,000.0   \n",
       "\n",
       "  Total Other Income Expense Net    Total Revenue  Accounts Payable  \\\n",
       "0                 -271,000,000.0 67,044,000,000.0     780,000,000.0   \n",
       "1                 -642,000,000.0 65,398,000,000.0     880,000,000.0   \n",
       "2                 -457,000,000.0 59,812,000,000.0   1,281,000,000.0   \n",
       "3                 -806,000,000.0 53,762,000,000.0   2,402,000,000.0   \n",
       "\n",
       "   Capital Surplus            Cash  Common Stock  \\\n",
       "0     94,000,000.0 3,604,000,000.0 271,000,000.0   \n",
       "1    221,000,000.0 3,160,000,000.0 279,000,000.0   \n",
       "2              nan 1,514,000,000.0 280,000,000.0   \n",
       "3              nan   772,000,000.0 281,000,000.0   \n",
       "\n",
       "   Deferred Long Term Asset Charges        Good Will  Intangible Assets  \\\n",
       "0                   2,290,000,000.0 10,813,000,000.0    3,483,000,000.0   \n",
       "1                   3,475,000,000.0 10,806,000,000.0    3,698,000,000.0   \n",
       "2                   3,319,000,000.0 10,604,000,000.0    3,724,000,000.0   \n",
       "3                   3,208,000,000.0 10,769,000,000.0    3,941,000,000.0   \n",
       "\n",
       "        Inventory   Long Term Debt  Long Term Investments  Minority Interest  \\\n",
       "0 2,981,000,000.0 11,670,000,000.0          689,000,000.0                nan   \n",
       "1 3,545,000,000.0 11,669,000,000.0          784,000,000.0       23,000,000.0   \n",
       "2 3,619,000,000.0 11,404,000,000.0        1,200,000,000.0       44,000,000.0   \n",
       "3 2,997,000,000.0 12,604,000,000.0        1,200,000,000.0       55,000,000.0   \n",
       "\n",
       "   Net Receivables  Net Tangible Assets    Other Assets  Other Current Assets  \\\n",
       "0 12,542,000,000.0     -3,337,000,000.0 7,176,000,000.0         688,000,000.0   \n",
       "1 11,523,000,000.0     -8,489,000,000.0 8,831,000,000.0       1,150,000,000.0   \n",
       "2 11,431,000,000.0    -11,201,000,000.0 8,314,000,000.0         531,000,000.0   \n",
       "3 11,916,000,000.0    -13,316,000,000.0 6,739,000,000.0         418,000,000.0   \n",
       "\n",
       "   Other Current Liab       Other Liab  Other Stockholder Equity  \\\n",
       "0     9,778,000,000.0 13,146,000,000.0         -11,006,000,000.0   \n",
       "1     9,390,000,000.0 19,070,000,000.0         -16,121,000,000.0   \n",
       "2     8,975,000,000.0 18,981,000,000.0         -15,554,000,000.0   \n",
       "3     8,374,000,000.0 16,425,000,000.0         -14,321,000,000.0   \n",
       "\n",
       "   Property Plant Equipment  Retained Earnings  Short Long Term Debt  \\\n",
       "0           8,897,000,000.0   21,600,000,000.0           6,000,000.0   \n",
       "1           7,213,000,000.0   21,636,000,000.0         500,000,000.0   \n",
       "2           6,591,000,000.0   18,401,000,000.0       1,250,000,000.0   \n",
       "3           6,124,000,000.0   15,434,000,000.0         900,000,000.0   \n",
       "\n",
       "      Total Assets  Total Current Assets  Total Current Liabilities  \\\n",
       "0 50,873,000,000.0      19,815,000,000.0           13,997,000,000.0   \n",
       "1 50,710,000,000.0      19,378,000,000.0           13,933,000,000.0   \n",
       "2 47,528,000,000.0      17,095,000,000.0           13,972,000,000.0   \n",
       "3 44,876,000,000.0      16,103,000,000.0           14,398,000,000.0   \n",
       "\n",
       "        Total Liab  Total Stockholder Equity    Treasury Stock  Year  Month  \\\n",
       "0 39,914,000,000.0          10,959,000,000.0 -11,006,000,000.0  2021     12   \n",
       "1 44,672,000,000.0           6,015,000,000.0 -16,121,000,000.0  2020     12   \n",
       "2 44,357,000,000.0           3,127,000,000.0 -15,554,000,000.0  2019     12   \n",
       "3 43,427,000,000.0           1,394,000,000.0 -14,321,000,000.0  2018     12   \n",
       "\n",
       "     Earnings      Revenue  Working Capital        Shares  Avg_month_price  \n",
       "0  6315000000  67044000000  5,818,000,000.0 272,327,008.0         340.8093  \n",
       "1  6833000000  65398000000  5,445,000,000.0 272,327,008.0         344.0236  \n",
       "2  6230000000  59812000000  3,123,000,000.0 272,327,008.0         363.3828  \n",
       "3  5046000000  53762000000  1,705,000,000.0 272,327,008.0         253.2815  "
      ]
     },
     "execution_count": 83,
     "metadata": {},
     "output_type": "execute_result"
    }
   ],
   "source": [
    "import plotly.graph_objects as go\n",
    "import plotly.express as px\n",
    "# data['Close'].plot(figsize=(10, 6))\n",
    "\n",
    "fig = px.line(data['Close'])\n",
    "fig.show()\n",
    "result"
   ]
  },
  {
   "cell_type": "markdown",
   "metadata": {
    "id": "6QIOs1IgcuAc"
   },
   "source": [
    "# Enterprise Value Sheet"
   ]
  },
  {
   "cell_type": "markdown",
   "metadata": {
    "id": "6IpkVAqeAREz"
   },
   "source": [
    "## Procedure"
   ]
  },
  {
   "cell_type": "code",
   "execution_count": 84,
   "metadata": {
    "colab": {
     "base_uri": "https://localhost:8080/",
     "height": 244
    },
    "id": "CyqXU6oycWsB",
    "outputId": "05f2e8b5-8369-4a3f-d135-589592f23de2"
   },
   "outputs": [],
   "source": [
    "#!!! IMPORTANT !!!\n",
    "#Yahoo data does not include amortisation. So EBITDA showed here is unaccurate.\n",
    "# Proper data source should be used here so we can have a df['Amortisation'] included\n",
    "# in the following sum.\n",
    "result = result.fillna(0)\n",
    "entreprise_value_sheet = pd.DataFrame()\n",
    "entreprise_value_sheet['Date'] = result['Date']\n",
    "entreprise_value_sheet['Year'] = entreprise_value_sheet['Date'].dt.year\n",
    "\n",
    "entreprise_value_sheet['EBITDA'] = result['Income Before Tax'] + result['Interest Expense'] +\\\n",
    "  result['Depreciation']\n",
    "\n",
    "# For the sole purpose of this script, we'll replace the original ebitda for\n",
    "# the EBITDA2 column, since this is a more close to reality number\n",
    "\n",
    "entreprise_value_sheet['EBITDA2'] = result['Ebit'] + result['Depreciation']\n",
    "\n",
    "entreprise_value_sheet['EBITDA'] = entreprise_value_sheet['EBITDA2']\n",
    "\n",
    "entreprise_value_sheet['Ebitda Growth'] = np.log(entreprise_value_sheet['EBITDA'].astype(float) / entreprise_value_sheet['EBITDA'].astype(float).shift(-1))\n",
    "\n",
    "# Debt seems to be fine, but one need to take into account that there's pension debt that is not being showed\n",
    "# We'll have to add later a function to get the pension debt number. Pension money is an obligation\n",
    "\n",
    "if 'Short Long Term Debt' in result:\n",
    "  result['Short Long Term Debt'] = result['Short Long Term Debt']\n",
    "else:\n",
    "  result['Short Long Term Debt'] = 0\n",
    "\n",
    "if 'Minority Interest' in result:\n",
    "  result['Minority Interest'] = result['Minority Interest']\n",
    "else:\n",
    "  result['Minority Interest'] = 0\n",
    "\n",
    "entreprise_value_sheet['Debt'] = result['Long Term Debt'] + np.where(result['Short Long Term Debt'], result['Short Long Term Debt'], 0 )\n",
    "entreprise_value_sheet['Debt_Ratio'] = entreprise_value_sheet['Debt']/result['Total Assets']\n",
    "\n",
    "#EXCESS CASH CALC.\n",
    "\n",
    "\n",
    "\n",
    "entreprise_value_sheet['Excess Cash'] = np.where((result['Cash'] - result['Working Capital']) > 0, \\\n",
    "                                                 (result['Cash'] - result['Working Capital']), 0)\n",
    "\n",
    "\n",
    "#Outstanding shares is not on this API. In the spirit of having the code working ASAP\n",
    "# I'll be hardcoding this variable for LMT. Because of this Market cap here is a \n",
    "# constant variable. But it should be a dynamic one. Where you do that number with\n",
    "# the same period (in this case Dec. from each year), SMA for the Close price of the given period\n",
    "# multiply by that same period outstanding shares\n",
    "\n",
    "\n",
    "entreprise_value_sheet['Shares'] = result['Shares']\n",
    "entreprise_value_sheet = pd.merge(entreprise_value_sheet, result[['Avg_month_price', 'Year']], on='Year', how='left')\n",
    "entreprise_value_sheet['Market Cap'] = entreprise_value_sheet['Shares'] * entreprise_value_sheet['Avg_month_price']\n",
    "entreprise_value_sheet['Earnings_per_share'] = result['Net Income'] / result['Shares']\n",
    "entreprise_value_sheet['Price_to_earnings'] =  entreprise_value_sheet['Avg_month_price'] / entreprise_value_sheet['Earnings_per_share']\n",
    "#This isn’t an exact calculation, because the amount of debt you carry over the course of the year can vary. \n",
    "#(If you want to be more precise, calculate the average amount of debt you carried for the year across all four quarters.)\n",
    "entreprise_value_sheet['Cost of debt'] = (result['Interest Expense']*(-1)) / entreprise_value_sheet['Debt']\n",
    "entreprise_value_sheet['Leverage'] = result['Total Assets'] / (result['Total Assets'] - result['Total Liab'])\n",
    "entreprise_value_sheet['Entrerprise Value'] = entreprise_value_sheet['Market Cap'] + entreprise_value_sheet['Debt'] - entreprise_value_sheet['Excess Cash']\n",
    "entreprise_value_sheet['Ev / Ebitda'] = entreprise_value_sheet['Entrerprise Value'] / entreprise_value_sheet['EBITDA']\n",
    "entreprise_value_sheet['Net Debt / Ebitda'] = entreprise_value_sheet['Debt'] / entreprise_value_sheet['EBITDA']\n",
    "entreprise_value_sheet = Format_Table(entreprise_value_sheet)\n"
   ]
  },
  {
   "cell_type": "markdown",
   "metadata": {
    "id": "rE3zQPJpAHar"
   },
   "source": [
    "## Output"
   ]
  },
  {
   "cell_type": "code",
   "execution_count": 85,
   "metadata": {
    "colab": {
     "base_uri": "https://localhost:8080/",
     "height": 171
    },
    "id": "eFYSDfEeALBK",
    "outputId": "42c14f55-4f6d-4633-fb30-14ca894e4ee0"
   },
   "outputs": [
    {
     "data": {
      "text/html": [
       "<div>\n",
       "<style scoped>\n",
       "    .dataframe tbody tr th:only-of-type {\n",
       "        vertical-align: middle;\n",
       "    }\n",
       "\n",
       "    .dataframe tbody tr th {\n",
       "        vertical-align: top;\n",
       "    }\n",
       "\n",
       "    .dataframe thead th {\n",
       "        text-align: right;\n",
       "    }\n",
       "</style>\n",
       "<table border=\"1\" class=\"dataframe\">\n",
       "  <thead>\n",
       "    <tr style=\"text-align: right;\">\n",
       "      <th></th>\n",
       "      <th>Date</th>\n",
       "      <th>Year</th>\n",
       "      <th>EBITDA</th>\n",
       "      <th>EBITDA2</th>\n",
       "      <th>Ebitda Growth</th>\n",
       "      <th>Debt</th>\n",
       "      <th>Debt_Ratio</th>\n",
       "      <th>Excess Cash</th>\n",
       "      <th>Shares</th>\n",
       "      <th>Avg_month_price</th>\n",
       "      <th>Market Cap</th>\n",
       "      <th>Earnings_per_share</th>\n",
       "      <th>Price_to_earnings</th>\n",
       "      <th>Cost of debt</th>\n",
       "      <th>Leverage</th>\n",
       "      <th>Entrerprise Value</th>\n",
       "      <th>Ev / Ebitda</th>\n",
       "      <th>Net Debt / Ebitda</th>\n",
       "    </tr>\n",
       "  </thead>\n",
       "  <tbody>\n",
       "    <tr>\n",
       "      <th>0</th>\n",
       "      <td>2021-12-31</td>\n",
       "      <td>2021</td>\n",
       "      <td>9,010,000,000.0</td>\n",
       "      <td>9,010,000,000.0</td>\n",
       "      <td>-0.1044</td>\n",
       "      <td>11,676,000,000.0</td>\n",
       "      <td>0.2295</td>\n",
       "      <td>0.0</td>\n",
       "      <td>272,327,008.0</td>\n",
       "      <td>340.8093</td>\n",
       "      <td>92,811,576,967.5744</td>\n",
       "      <td>23.189</td>\n",
       "      <td>14.697</td>\n",
       "      <td>0.0487</td>\n",
       "      <td>4.6421</td>\n",
       "      <td>104,487,576,967.5744</td>\n",
       "      <td>11.5968</td>\n",
       "      <td>1.2959</td>\n",
       "    </tr>\n",
       "    <tr>\n",
       "      <th>1</th>\n",
       "      <td>2020-12-31</td>\n",
       "      <td>2020</td>\n",
       "      <td>10,001,000,000.0</td>\n",
       "      <td>10,001,000,000.0</td>\n",
       "      <td>0.1307</td>\n",
       "      <td>12,169,000,000.0</td>\n",
       "      <td>0.24</td>\n",
       "      <td>0.0</td>\n",
       "      <td>272,327,008.0</td>\n",
       "      <td>344.0236</td>\n",
       "      <td>93,686,917,669.3888</td>\n",
       "      <td>25.0912</td>\n",
       "      <td>13.7109</td>\n",
       "      <td>0.0486</td>\n",
       "      <td>8.3985</td>\n",
       "      <td>105,855,917,669.3888</td>\n",
       "      <td>10.5845</td>\n",
       "      <td>1.2168</td>\n",
       "    </tr>\n",
       "    <tr>\n",
       "      <th>2</th>\n",
       "      <td>2019-12-31</td>\n",
       "      <td>2019</td>\n",
       "      <td>8,776,000,000.0</td>\n",
       "      <td>8,776,000,000.0</td>\n",
       "      <td>0.1309</td>\n",
       "      <td>12,654,000,000.0</td>\n",
       "      <td>0.2662</td>\n",
       "      <td>0.0</td>\n",
       "      <td>272,327,008.0</td>\n",
       "      <td>363.3828</td>\n",
       "      <td>98,958,950,682.6624</td>\n",
       "      <td>22.8769</td>\n",
       "      <td>15.8843</td>\n",
       "      <td>0.0516</td>\n",
       "      <td>14.9883</td>\n",
       "      <td>111,612,950,682.6624</td>\n",
       "      <td>12.718</td>\n",
       "      <td>1.4419</td>\n",
       "    </tr>\n",
       "    <tr>\n",
       "      <th>3</th>\n",
       "      <td>2018-12-31</td>\n",
       "      <td>2018</td>\n",
       "      <td>7,699,000,000.0</td>\n",
       "      <td>7,699,000,000.0</td>\n",
       "      <td>nan</td>\n",
       "      <td>13,504,000,000.0</td>\n",
       "      <td>0.3009</td>\n",
       "      <td>0.0</td>\n",
       "      <td>272,327,008.0</td>\n",
       "      <td>253.2815</td>\n",
       "      <td>68,975,393,076.752</td>\n",
       "      <td>18.5292</td>\n",
       "      <td>13.6693</td>\n",
       "      <td>0.0495</td>\n",
       "      <td>30.9703</td>\n",
       "      <td>82,479,393,076.752</td>\n",
       "      <td>10.713</td>\n",
       "      <td>1.754</td>\n",
       "    </tr>\n",
       "  </tbody>\n",
       "</table>\n",
       "</div>"
      ],
      "text/plain": [
       "        Date  Year           EBITDA          EBITDA2  Ebitda Growth  \\\n",
       "0 2021-12-31  2021  9,010,000,000.0  9,010,000,000.0        -0.1044   \n",
       "1 2020-12-31  2020 10,001,000,000.0 10,001,000,000.0         0.1307   \n",
       "2 2019-12-31  2019  8,776,000,000.0  8,776,000,000.0         0.1309   \n",
       "3 2018-12-31  2018  7,699,000,000.0  7,699,000,000.0            nan   \n",
       "\n",
       "              Debt  Debt_Ratio  Excess Cash        Shares  Avg_month_price  \\\n",
       "0 11,676,000,000.0      0.2295          0.0 272,327,008.0         340.8093   \n",
       "1 12,169,000,000.0        0.24          0.0 272,327,008.0         344.0236   \n",
       "2 12,654,000,000.0      0.2662          0.0 272,327,008.0         363.3828   \n",
       "3 13,504,000,000.0      0.3009          0.0 272,327,008.0         253.2815   \n",
       "\n",
       "           Market Cap  Earnings_per_share  Price_to_earnings  Cost of debt  \\\n",
       "0 92,811,576,967.5744              23.189             14.697        0.0487   \n",
       "1 93,686,917,669.3888             25.0912            13.7109        0.0486   \n",
       "2 98,958,950,682.6624             22.8769            15.8843        0.0516   \n",
       "3  68,975,393,076.752             18.5292            13.6693        0.0495   \n",
       "\n",
       "   Leverage    Entrerprise Value  Ev / Ebitda  Net Debt / Ebitda  \n",
       "0    4.6421 104,487,576,967.5744      11.5968             1.2959  \n",
       "1    8.3985 105,855,917,669.3888      10.5845             1.2168  \n",
       "2   14.9883 111,612,950,682.6624       12.718             1.4419  \n",
       "3   30.9703   82,479,393,076.752       10.713              1.754  "
      ]
     },
     "execution_count": 85,
     "metadata": {},
     "output_type": "execute_result"
    }
   ],
   "source": [
    "entreprise_value_sheet"
   ]
  },
  {
   "cell_type": "markdown",
   "metadata": {
    "id": "xJAIKPe5Nrh7"
   },
   "source": [
    "# Cash Flow Sheet"
   ]
  },
  {
   "cell_type": "markdown",
   "metadata": {
    "id": "0p7KwkLV_i7j"
   },
   "source": [
    "## Procedures"
   ]
  },
  {
   "cell_type": "code",
   "execution_count": 86,
   "metadata": {
    "id": "k8lyF_xcVVey"
   },
   "outputs": [],
   "source": [
    "cash_flow_sheet = pd.DataFrame()\n",
    "\n",
    "cash_flow_sheet['Date'] = result['Date']\n",
    "cash_flow_sheet['Month'] = cash_flow_sheet['Date'].dt.month\n",
    "cash_flow_sheet['CFO'] = result['Total Cash From Operating Activities']\n",
    "cash_flow_sheet['CFO_change'] = np.log(cash_flow_sheet['CFO'] / cash_flow_sheet['CFO'].shift(-1))\n",
    "cash_flow_sheet['CAPEX'] = result['Capital Expenditures'] * (-1)\n",
    "cash_flow_sheet['CAPEX_change'] = np.log(cash_flow_sheet['CAPEX'] / cash_flow_sheet['CAPEX'].shift(-1))\n",
    "cash_flow_sheet['CAPEX_to_CFO_Ratio'] = cash_flow_sheet['CAPEX_change'] / cash_flow_sheet['CFO_change']\n",
    "cash_flow_sheet['Net Borrowings'] = result['Net Borrowings']\n",
    "cash_flow_sheet['WC'] = result['Working Capital']\n",
    "cash_flow_sheet['Change in WC'] = cash_flow_sheet['WC'] - cash_flow_sheet['WC'].shift(-1)\n",
    "cash_flow_sheet['FCFE'] = cash_flow_sheet['CFO'] - cash_flow_sheet['CAPEX'] +cash_flow_sheet['Net Borrowings']\n",
    "cash_flow_sheet['Owners_earnings'] = cash_flow_sheet['FCFE'] ##+ result['Net Borrowings']\n",
    "cash_flow_sheet['Shares'] = entreprise_value_sheet['Shares']\n",
    "cash_flow_sheet['Shares Chg.'] = np.log(cash_flow_sheet['Shares']/cash_flow_sheet['Shares'].shift(-1))\n",
    "cash_flow_sheet['FCFE/Shr'] = cash_flow_sheet['FCFE']/cash_flow_sheet['Shares']\n",
    "cash_flow_sheet['Avg_month_price'] = result['Avg_month_price']\n",
    "cash_flow_sheet['FCFE Yield'] =  cash_flow_sheet['FCFE/Shr'] / cash_flow_sheet['Avg_month_price']\n",
    "cash_flow_sheet['Interest_coverage_ratio'] = result['Ebit'] / result['Interest Expense']*(-1)\n",
    "\n",
    "#The following Nopat, Invested Capital are just to compute ROIC. But it seems ROIC is being\n",
    "# Computed in a non-uniform way, since each data source on the internet have a different number for this value\n",
    "# This should be a point for further development with Damodaran method in the future\n",
    "\n",
    "cash_flow_sheet['Nopat'] = result['Total Cash From Operating Activities'] * (1 - 0.35) \n",
    "cash_flow_sheet['Invested Capital'] = result['Working Capital'] + result['Property Plant Equipment'] + result['Intangible Assets']\n",
    "cash_flow_sheet['ROIC'] = cash_flow_sheet['Nopat'] / cash_flow_sheet['Invested Capital']\n",
    "cash_flow_sheet['ROE'] = result['Net Income']/(result['Total Assets'] - result['Total Liab'])\n",
    "# cash_flow_sheet['ROE'] = result['Net Income'] / ((result['Total Assets']-result['Total Liab'])/result['Shares'])\n",
    "\n",
    "cash_flow_sheet = Format_Table(cash_flow_sheet)"
   ]
  },
  {
   "cell_type": "markdown",
   "metadata": {
    "id": "PHmK7Gjj_mt0"
   },
   "source": [
    "## Output"
   ]
  },
  {
   "cell_type": "code",
   "execution_count": 87,
   "metadata": {
    "colab": {
     "base_uri": "https://localhost:8080/",
     "height": 278
    },
    "id": "8M3agqnk_fpW",
    "outputId": "5af01c86-eeb6-4194-a9f5-e42680914680",
    "scrolled": true
   },
   "outputs": [
    {
     "data": {
      "text/html": [
       "<div>\n",
       "<style scoped>\n",
       "    .dataframe tbody tr th:only-of-type {\n",
       "        vertical-align: middle;\n",
       "    }\n",
       "\n",
       "    .dataframe tbody tr th {\n",
       "        vertical-align: top;\n",
       "    }\n",
       "\n",
       "    .dataframe thead th {\n",
       "        text-align: right;\n",
       "    }\n",
       "</style>\n",
       "<table border=\"1\" class=\"dataframe\">\n",
       "  <thead>\n",
       "    <tr style=\"text-align: right;\">\n",
       "      <th></th>\n",
       "      <th>Date</th>\n",
       "      <th>Month</th>\n",
       "      <th>CFO</th>\n",
       "      <th>CFO_change</th>\n",
       "      <th>CAPEX</th>\n",
       "      <th>CAPEX_change</th>\n",
       "      <th>CAPEX_to_CFO_Ratio</th>\n",
       "      <th>Net Borrowings</th>\n",
       "      <th>WC</th>\n",
       "      <th>Change in WC</th>\n",
       "      <th>FCFE</th>\n",
       "      <th>Owners_earnings</th>\n",
       "      <th>Shares</th>\n",
       "      <th>Shares Chg.</th>\n",
       "      <th>FCFE/Shr</th>\n",
       "      <th>Avg_month_price</th>\n",
       "      <th>FCFE Yield</th>\n",
       "      <th>Interest_coverage_ratio</th>\n",
       "      <th>Nopat</th>\n",
       "      <th>Invested Capital</th>\n",
       "      <th>ROIC</th>\n",
       "      <th>ROE</th>\n",
       "    </tr>\n",
       "  </thead>\n",
       "  <tbody>\n",
       "    <tr>\n",
       "      <th>0</th>\n",
       "      <td>2021-12-31</td>\n",
       "      <td>12</td>\n",
       "      <td>9,221,000,000.0</td>\n",
       "      <td>0.1194</td>\n",
       "      <td>1,522,000,000.0</td>\n",
       "      <td>-0.1487</td>\n",
       "      <td>-1.2451</td>\n",
       "      <td>-500,000,000.0</td>\n",
       "      <td>5,818,000,000.0</td>\n",
       "      <td>373,000,000.0</td>\n",
       "      <td>7,199,000,000.0</td>\n",
       "      <td>7,199,000,000.0</td>\n",
       "      <td>272,327,008.0</td>\n",
       "      <td>0.0</td>\n",
       "      <td>26.4351</td>\n",
       "      <td>340.8093</td>\n",
       "      <td>0.0776</td>\n",
       "      <td>13.7452</td>\n",
       "      <td>5,993,650,000.0</td>\n",
       "      <td>18,198,000,000.0</td>\n",
       "      <td>0.3294</td>\n",
       "      <td>0.5762</td>\n",
       "    </tr>\n",
       "    <tr>\n",
       "      <th>1</th>\n",
       "      <td>2020-12-31</td>\n",
       "      <td>12</td>\n",
       "      <td>8,183,000,000.0</td>\n",
       "      <td>0.1127</td>\n",
       "      <td>1,766,000,000.0</td>\n",
       "      <td>0.174</td>\n",
       "      <td>1.544</td>\n",
       "      <td>-519,000,000.0</td>\n",
       "      <td>5,445,000,000.0</td>\n",
       "      <td>2,322,000,000.0</td>\n",
       "      <td>5,898,000,000.0</td>\n",
       "      <td>5,898,000,000.0</td>\n",
       "      <td>272,327,008.0</td>\n",
       "      <td>0.0</td>\n",
       "      <td>21.6578</td>\n",
       "      <td>344.0236</td>\n",
       "      <td>0.063</td>\n",
       "      <td>15.0203</td>\n",
       "      <td>5,318,950,000.0</td>\n",
       "      <td>16,356,000,000.0</td>\n",
       "      <td>0.3252</td>\n",
       "      <td>1.1317</td>\n",
       "    </tr>\n",
       "    <tr>\n",
       "      <th>2</th>\n",
       "      <td>2019-12-31</td>\n",
       "      <td>12</td>\n",
       "      <td>7,311,000,000.0</td>\n",
       "      <td>0.8458</td>\n",
       "      <td>1,484,000,000.0</td>\n",
       "      <td>0.1494</td>\n",
       "      <td>0.1767</td>\n",
       "      <td>-1,500,000,000.0</td>\n",
       "      <td>3,123,000,000.0</td>\n",
       "      <td>1,418,000,000.0</td>\n",
       "      <td>4,327,000,000.0</td>\n",
       "      <td>4,327,000,000.0</td>\n",
       "      <td>272,327,008.0</td>\n",
       "      <td>0.0</td>\n",
       "      <td>15.889</td>\n",
       "      <td>363.3828</td>\n",
       "      <td>0.0437</td>\n",
       "      <td>11.7887</td>\n",
       "      <td>4,752,150,000.0</td>\n",
       "      <td>13,438,000,000.0</td>\n",
       "      <td>0.3536</td>\n",
       "      <td>1.9647</td>\n",
       "    </tr>\n",
       "    <tr>\n",
       "      <th>3</th>\n",
       "      <td>2018-12-31</td>\n",
       "      <td>12</td>\n",
       "      <td>3,138,000,000.0</td>\n",
       "      <td>nan</td>\n",
       "      <td>1,278,000,000.0</td>\n",
       "      <td>nan</td>\n",
       "      <td>nan</td>\n",
       "      <td>-150,000,000.0</td>\n",
       "      <td>1,705,000,000.0</td>\n",
       "      <td>nan</td>\n",
       "      <td>1,710,000,000.0</td>\n",
       "      <td>1,710,000,000.0</td>\n",
       "      <td>272,327,008.0</td>\n",
       "      <td>nan</td>\n",
       "      <td>6.2792</td>\n",
       "      <td>253.2815</td>\n",
       "      <td>0.0248</td>\n",
       "      <td>9.9461</td>\n",
       "      <td>2,039,700,000.0</td>\n",
       "      <td>11,770,000,000.0</td>\n",
       "      <td>0.1733</td>\n",
       "      <td>3.4824</td>\n",
       "    </tr>\n",
       "  </tbody>\n",
       "</table>\n",
       "</div>"
      ],
      "text/plain": [
       "        Date  Month             CFO  CFO_change           CAPEX  CAPEX_change  \\\n",
       "0 2021-12-31     12 9,221,000,000.0      0.1194 1,522,000,000.0       -0.1487   \n",
       "1 2020-12-31     12 8,183,000,000.0      0.1127 1,766,000,000.0         0.174   \n",
       "2 2019-12-31     12 7,311,000,000.0      0.8458 1,484,000,000.0        0.1494   \n",
       "3 2018-12-31     12 3,138,000,000.0         nan 1,278,000,000.0           nan   \n",
       "\n",
       "   CAPEX_to_CFO_Ratio   Net Borrowings              WC    Change in WC  \\\n",
       "0             -1.2451   -500,000,000.0 5,818,000,000.0   373,000,000.0   \n",
       "1               1.544   -519,000,000.0 5,445,000,000.0 2,322,000,000.0   \n",
       "2              0.1767 -1,500,000,000.0 3,123,000,000.0 1,418,000,000.0   \n",
       "3                 nan   -150,000,000.0 1,705,000,000.0             nan   \n",
       "\n",
       "             FCFE  Owners_earnings        Shares  Shares Chg.  FCFE/Shr  \\\n",
       "0 7,199,000,000.0  7,199,000,000.0 272,327,008.0          0.0   26.4351   \n",
       "1 5,898,000,000.0  5,898,000,000.0 272,327,008.0          0.0   21.6578   \n",
       "2 4,327,000,000.0  4,327,000,000.0 272,327,008.0          0.0    15.889   \n",
       "3 1,710,000,000.0  1,710,000,000.0 272,327,008.0          nan    6.2792   \n",
       "\n",
       "   Avg_month_price  FCFE Yield  Interest_coverage_ratio           Nopat  \\\n",
       "0         340.8093      0.0776                  13.7452 5,993,650,000.0   \n",
       "1         344.0236       0.063                  15.0203 5,318,950,000.0   \n",
       "2         363.3828      0.0437                  11.7887 4,752,150,000.0   \n",
       "3         253.2815      0.0248                   9.9461 2,039,700,000.0   \n",
       "\n",
       "   Invested Capital   ROIC    ROE  \n",
       "0  18,198,000,000.0 0.3294 0.5762  \n",
       "1  16,356,000,000.0 0.3252 1.1317  \n",
       "2  13,438,000,000.0 0.3536 1.9647  \n",
       "3  11,770,000,000.0 0.1733 3.4824  "
      ]
     },
     "execution_count": 87,
     "metadata": {},
     "output_type": "execute_result"
    }
   ],
   "source": [
    "cash_flow_sheet"
   ]
  },
  {
   "cell_type": "markdown",
   "metadata": {
    "id": "wXM22-_7fBml"
   },
   "source": [
    "# Other Data sources"
   ]
  },
  {
   "cell_type": "code",
   "execution_count": 88,
   "metadata": {
    "id": "U_Tp7kPXhn4g"
   },
   "outputs": [],
   "source": [
    "def Get_Simfin_fundamentals(ticker):\n",
    "\n",
    "  simfin_api_key = 'En45n7bGFsBZoqGypg0bWJ0C9xGDG7u9'\n",
    "  request_url = 'https://simfin.com/api/v2/companies/statements'\n",
    "  \n",
    "  year_end = dt.datetime.now().year\n",
    "  year_start = year_end - 5\n",
    "  year_int = int(year_start)\n",
    "  now = dt.datetime.now()\n",
    "  q = math.ceil(now.month/3.)\n",
    "  qstring = str(\"q\"+str(q))\n",
    "\n",
    "  # here you have to enter your actual API key from SimFin\n",
    "  api_key = \"En45n7bGFsBZoqGypg0bWJ0C9xGDG7u9\"\n",
    "\n",
    "  # list of tickers we want to get data for\n",
    "  tickers = [ticker]\n",
    "\n",
    "  # define the periods that we want to retrieve\n",
    "  periods = [\"fy\"]\n",
    "  year_start = 2011\n",
    "  year_end = 2020\n",
    "\n",
    "  # request url for all financial statements\n",
    "  request_url = 'https://simfin.com/api/v2/companies/statements'\n",
    "\n",
    "  # variable to store the names of the columns\n",
    "  columns = []\n",
    "  # variable to store our data\n",
    "  output = []\n",
    "\n",
    "  # if you don't have a SimFin+ subscription, you can only request data for single companies and one period at a time (with SimFin+, you can request multiple tickers and periods at once)\n",
    "  for ticker in tickers:\n",
    "      # loop through years:\n",
    "      for year in range(year_start, year_end + 1):\n",
    "          # loop through periods\n",
    "          for period in periods:\n",
    "\n",
    "              # define the parameters for the query\n",
    "              parameters = {\"statement\": \"pl\", \"ticker\": ticker, \"period\": period, \"fyear\": year, \"api-key\": api_key}\n",
    "              # make the request\n",
    "              request = requests.get(request_url, parameters)\n",
    "\n",
    "              # convert response to json and take 0th index as we only requested one ticker (if more than one ticker is requested, the data for the nth ticker will be at the nth position in the result returned from the API)\n",
    "              data = request.json()[0]\n",
    "\n",
    "              # make sure that data was found\n",
    "              if data['found'] and len(data['data']) > 0:\n",
    "                  # add the column descriptions once only\n",
    "                  if len(columns) == 0:\n",
    "                      columns = data['columns']\n",
    "                  # add the data\n",
    "                  output += data['data']\n",
    "\n",
    "  # make dataframe from output\n",
    "  df = pd.DataFrame(output, columns=columns)\n",
    "  return df"
   ]
  },
  {
   "cell_type": "markdown",
   "metadata": {
    "id": "aiPforlG1LD6"
   },
   "source": [
    "# Market & stock Volatility"
   ]
  },
  {
   "cell_type": "code",
   "execution_count": 89,
   "metadata": {
    "id": "d8fDMfoS1D3A",
    "scrolled": true
   },
   "outputs": [],
   "source": [
    "\n",
    "target_stock_volatility = pd.DataFrame()\n",
    "target_stock_volatility['Year'] = data['Year']\n",
    "target_stock_volatility['Month'] = data['Month']\n",
    "target_stock_volatility['Volatility'] = data['Volatility']\n",
    "target_stock_volatility.reset_index(drop=True, inplace=True)\n",
    "target_stock_volatility['Avg_month_volatility'] = target_stock_volatility.groupby(\\\n",
    "                                                                                  [(target_stock_volatility.Year),\\\n",
    "                                                                                   (target_stock_volatility.Month)])\\\n",
    "                                                                                   ['Volatility'].transform('mean')\n",
    "\n",
    "target_stock_volatility = target_stock_volatility.drop(['Volatility'], axis= 1)\n",
    "target_stock_volatility = target_stock_volatility.drop(target_stock_volatility[target_stock_volatility.Month != statements_target_month].index)\n",
    "target_stock_volatility = target_stock_volatility.drop_duplicates()\n",
    "\n",
    "\n",
    "\n",
    "market_ticker='^GSPC'\n",
    "market = pd.DataFrame()\n",
    "market = yahoo_data_parser(market_ticker, start_date, end_date)\n",
    "\n",
    "\n",
    "market_data = market.copy()\n",
    "# market_data['Date'] = market_data.index\n",
    "# market_data.reset_index(drop=True, inplace=True)\n",
    "market_data = market_data.drop(['Close'], axis=1)\n",
    "market_data = market_data.drop(['Open'], axis=1)\n",
    "market_data = market_data.drop(['Low'], axis=1)\n",
    "market_data = market_data.drop(['High'], axis=1)\n",
    "market_data = market_data.drop(['Volume'], axis=1)\n",
    "#Copy for transform later\n",
    "mkdp = market_data.copy(['Year', 'Month', 'Returns'])\n",
    "\n",
    "#we continue\n",
    "market_data = market_data.drop(['Returns'], axis=1)\n",
    "market_data['Avg_month_volatility'] = market_data.groupby([(market_data.Year),(market_data.Month)])['Volatility'].transform('mean')\n",
    "market_data = market_data.drop(['Volatility'], axis=1)\n",
    "market_data = market_data.drop(['Date'], axis=1)\n",
    "market_data = market_data.drop(market_data[market_data.Month != statements_target_month].index)\n",
    "\n",
    "market_data_volatility = market_data.copy(['Year', 'Month'])\n",
    "market_data_volatility = market_data_volatility.drop_duplicates()"
   ]
  },
  {
   "cell_type": "markdown",
   "metadata": {
    "id": "BOImktY9wWLf"
   },
   "source": [
    "## Correlation"
   ]
  },
  {
   "cell_type": "code",
   "execution_count": 90,
   "metadata": {
    "id": "F6fbLYykwUtZ"
   },
   "outputs": [
    {
     "name": "stdout",
     "output_type": "stream",
     "text": [
      "     Month  Year  Avg_month_correlation\n",
      "231     12  2018                    nan\n",
      "481     12  2019                  0.574\n",
      "733     12  2020                 0.7367\n",
      "985     12  2021                 0.2693\n"
     ]
    }
   ],
   "source": [
    "correlation_table = data[['Date', 'Returns']].copy()\n",
    "correlation_table.rename(columns={'Returns': 'Stock_returns'}, inplace=True)\n",
    "correlation_table.rename(columns={'Date':'Date'}, inplace = True)\n",
    "market.rename(columns={'Date':'Date'}, inplace = True)\n",
    "\n",
    "correlation_table = correlation_table.merge(market[['Returns', 'Date']], on = 'Date', how='left')\n",
    "correlation_table.rename(columns={'Returns': 'Market_returns'}, inplace=True)\n",
    "\n",
    "correlation_table['Correlation'] = correlation_table['Stock_returns'].rolling(252).corr(correlation_table['Market_returns'])\n",
    "\n",
    "\n",
    "period_correlation = correlation_table[['Date', 'Correlation']].copy()\n",
    "period_correlation['Month'] = period_correlation['Date'].dt.month\n",
    "period_correlation['Year'] = period_correlation['Date'].dt.year\n",
    "period_correlation['Avg_month_correlation'] = period_correlation.groupby([(period_correlation.Year),(period_correlation.Month)])['Correlation'].transform('mean')\n",
    "period_correlation = period_correlation.drop(['Date'], axis=1)\n",
    "period_correlation = period_correlation.drop(['Correlation'], axis=1)\n",
    "period_correlation = period_correlation.drop(period_correlation[period_correlation.Month != statements_target_month].index)\n",
    "period_correlation = period_correlation.drop_duplicates()\n",
    "period_correlation = Format_Table(period_correlation)\n",
    "print(period_correlation.tail())"
   ]
  },
  {
   "cell_type": "markdown",
   "metadata": {
    "id": "aMXKm_v65rQT"
   },
   "source": [
    "# WACC Calculation"
   ]
  },
  {
   "cell_type": "code",
   "execution_count": 91,
   "metadata": {
    "id": "q0HK9xmU5kph",
    "scrolled": true
   },
   "outputs": [
    {
     "data": {
      "text/html": [
       "<div>\n",
       "<style scoped>\n",
       "    .dataframe tbody tr th:only-of-type {\n",
       "        vertical-align: middle;\n",
       "    }\n",
       "\n",
       "    .dataframe tbody tr th {\n",
       "        vertical-align: top;\n",
       "    }\n",
       "\n",
       "    .dataframe thead th {\n",
       "        text-align: right;\n",
       "    }\n",
       "</style>\n",
       "<table border=\"1\" class=\"dataframe\">\n",
       "  <thead>\n",
       "    <tr style=\"text-align: right;\">\n",
       "      <th></th>\n",
       "      <th>Year</th>\n",
       "      <th>Month</th>\n",
       "      <th>Stock_Volatility</th>\n",
       "      <th>Adj Close</th>\n",
       "      <th>Avg_month_price_x</th>\n",
       "      <th>Market_volatility</th>\n",
       "      <th>Avg_month_correlation</th>\n",
       "      <th>Beta</th>\n",
       "      <th>Avg_month_price_y</th>\n",
       "      <th>Ann_Returns</th>\n",
       "      <th>RF</th>\n",
       "      <th>Wacc1</th>\n",
       "      <th>Equity_Risk_Premium</th>\n",
       "    </tr>\n",
       "  </thead>\n",
       "  <tbody>\n",
       "    <tr>\n",
       "      <th>0</th>\n",
       "      <td>2018</td>\n",
       "      <td>12</td>\n",
       "      <td>nan</td>\n",
       "      <td>2,790.3701</td>\n",
       "      <td>2,567.3074</td>\n",
       "      <td>nan</td>\n",
       "      <td>nan</td>\n",
       "      <td>nan</td>\n",
       "      <td>253.2815</td>\n",
       "      <td>nan</td>\n",
       "      <td>0.0144</td>\n",
       "      <td>0.0</td>\n",
       "      <td>-0.0144</td>\n",
       "    </tr>\n",
       "    <tr>\n",
       "      <th>1</th>\n",
       "      <td>2018</td>\n",
       "      <td>12</td>\n",
       "      <td>nan</td>\n",
       "      <td>2,790.3701</td>\n",
       "      <td>2,567.3074</td>\n",
       "      <td>nan</td>\n",
       "      <td>nan</td>\n",
       "      <td>nan</td>\n",
       "      <td>253.2815</td>\n",
       "      <td>nan</td>\n",
       "      <td>0.0144</td>\n",
       "      <td>0.0</td>\n",
       "      <td>-0.0144</td>\n",
       "    </tr>\n",
       "    <tr>\n",
       "      <th>2</th>\n",
       "      <td>2018</td>\n",
       "      <td>12</td>\n",
       "      <td>nan</td>\n",
       "      <td>2,790.3701</td>\n",
       "      <td>2,567.3074</td>\n",
       "      <td>nan</td>\n",
       "      <td>nan</td>\n",
       "      <td>nan</td>\n",
       "      <td>253.2815</td>\n",
       "      <td>nan</td>\n",
       "      <td>0.0144</td>\n",
       "      <td>0.0</td>\n",
       "      <td>-0.0144</td>\n",
       "    </tr>\n",
       "    <tr>\n",
       "      <th>3</th>\n",
       "      <td>2018</td>\n",
       "      <td>12</td>\n",
       "      <td>nan</td>\n",
       "      <td>2,790.3701</td>\n",
       "      <td>2,567.3074</td>\n",
       "      <td>nan</td>\n",
       "      <td>nan</td>\n",
       "      <td>nan</td>\n",
       "      <td>253.2815</td>\n",
       "      <td>nan</td>\n",
       "      <td>0.0144</td>\n",
       "      <td>0.0</td>\n",
       "      <td>-0.0144</td>\n",
       "    </tr>\n",
       "    <tr>\n",
       "      <th>4</th>\n",
       "      <td>2018</td>\n",
       "      <td>12</td>\n",
       "      <td>nan</td>\n",
       "      <td>2,790.3701</td>\n",
       "      <td>2,567.3074</td>\n",
       "      <td>nan</td>\n",
       "      <td>nan</td>\n",
       "      <td>nan</td>\n",
       "      <td>253.2815</td>\n",
       "      <td>nan</td>\n",
       "      <td>0.0144</td>\n",
       "      <td>0.0</td>\n",
       "      <td>-0.0144</td>\n",
       "    </tr>\n",
       "    <tr>\n",
       "      <th>5</th>\n",
       "      <td>2018</td>\n",
       "      <td>12</td>\n",
       "      <td>nan</td>\n",
       "      <td>2,790.3701</td>\n",
       "      <td>2,567.3074</td>\n",
       "      <td>nan</td>\n",
       "      <td>nan</td>\n",
       "      <td>nan</td>\n",
       "      <td>253.2815</td>\n",
       "      <td>nan</td>\n",
       "      <td>0.0144</td>\n",
       "      <td>0.0</td>\n",
       "      <td>-0.0144</td>\n",
       "    </tr>\n",
       "    <tr>\n",
       "      <th>6</th>\n",
       "      <td>2018</td>\n",
       "      <td>12</td>\n",
       "      <td>nan</td>\n",
       "      <td>2,790.3701</td>\n",
       "      <td>2,567.3074</td>\n",
       "      <td>nan</td>\n",
       "      <td>nan</td>\n",
       "      <td>nan</td>\n",
       "      <td>253.2815</td>\n",
       "      <td>nan</td>\n",
       "      <td>0.0144</td>\n",
       "      <td>0.0</td>\n",
       "      <td>-0.0144</td>\n",
       "    </tr>\n",
       "    <tr>\n",
       "      <th>7</th>\n",
       "      <td>2018</td>\n",
       "      <td>12</td>\n",
       "      <td>nan</td>\n",
       "      <td>2,790.3701</td>\n",
       "      <td>2,567.3074</td>\n",
       "      <td>nan</td>\n",
       "      <td>nan</td>\n",
       "      <td>nan</td>\n",
       "      <td>253.2815</td>\n",
       "      <td>nan</td>\n",
       "      <td>0.0144</td>\n",
       "      <td>0.0</td>\n",
       "      <td>-0.0144</td>\n",
       "    </tr>\n",
       "    <tr>\n",
       "      <th>8</th>\n",
       "      <td>2018</td>\n",
       "      <td>12</td>\n",
       "      <td>nan</td>\n",
       "      <td>2,790.3701</td>\n",
       "      <td>2,567.3074</td>\n",
       "      <td>nan</td>\n",
       "      <td>nan</td>\n",
       "      <td>nan</td>\n",
       "      <td>253.2815</td>\n",
       "      <td>nan</td>\n",
       "      <td>0.0144</td>\n",
       "      <td>0.0</td>\n",
       "      <td>-0.0144</td>\n",
       "    </tr>\n",
       "    <tr>\n",
       "      <th>9</th>\n",
       "      <td>2018</td>\n",
       "      <td>12</td>\n",
       "      <td>nan</td>\n",
       "      <td>2,790.3701</td>\n",
       "      <td>2,567.3074</td>\n",
       "      <td>nan</td>\n",
       "      <td>nan</td>\n",
       "      <td>nan</td>\n",
       "      <td>253.2815</td>\n",
       "      <td>nan</td>\n",
       "      <td>0.0144</td>\n",
       "      <td>0.0</td>\n",
       "      <td>-0.0144</td>\n",
       "    </tr>\n",
       "    <tr>\n",
       "      <th>10</th>\n",
       "      <td>2018</td>\n",
       "      <td>12</td>\n",
       "      <td>nan</td>\n",
       "      <td>2,790.3701</td>\n",
       "      <td>2,567.3074</td>\n",
       "      <td>nan</td>\n",
       "      <td>nan</td>\n",
       "      <td>nan</td>\n",
       "      <td>253.2815</td>\n",
       "      <td>nan</td>\n",
       "      <td>0.0144</td>\n",
       "      <td>0.0</td>\n",
       "      <td>-0.0144</td>\n",
       "    </tr>\n",
       "    <tr>\n",
       "      <th>11</th>\n",
       "      <td>2018</td>\n",
       "      <td>12</td>\n",
       "      <td>nan</td>\n",
       "      <td>2,790.3701</td>\n",
       "      <td>2,567.3074</td>\n",
       "      <td>nan</td>\n",
       "      <td>nan</td>\n",
       "      <td>nan</td>\n",
       "      <td>253.2815</td>\n",
       "      <td>nan</td>\n",
       "      <td>0.0144</td>\n",
       "      <td>0.0</td>\n",
       "      <td>-0.0144</td>\n",
       "    </tr>\n",
       "    <tr>\n",
       "      <th>12</th>\n",
       "      <td>2018</td>\n",
       "      <td>12</td>\n",
       "      <td>nan</td>\n",
       "      <td>2,790.3701</td>\n",
       "      <td>2,567.3074</td>\n",
       "      <td>nan</td>\n",
       "      <td>nan</td>\n",
       "      <td>nan</td>\n",
       "      <td>253.2815</td>\n",
       "      <td>nan</td>\n",
       "      <td>0.0144</td>\n",
       "      <td>0.0</td>\n",
       "      <td>-0.0144</td>\n",
       "    </tr>\n",
       "    <tr>\n",
       "      <th>13</th>\n",
       "      <td>2018</td>\n",
       "      <td>12</td>\n",
       "      <td>nan</td>\n",
       "      <td>2,790.3701</td>\n",
       "      <td>2,567.3074</td>\n",
       "      <td>nan</td>\n",
       "      <td>nan</td>\n",
       "      <td>nan</td>\n",
       "      <td>253.2815</td>\n",
       "      <td>nan</td>\n",
       "      <td>0.0144</td>\n",
       "      <td>0.0</td>\n",
       "      <td>-0.0144</td>\n",
       "    </tr>\n",
       "    <tr>\n",
       "      <th>14</th>\n",
       "      <td>2018</td>\n",
       "      <td>12</td>\n",
       "      <td>nan</td>\n",
       "      <td>2,790.3701</td>\n",
       "      <td>2,567.3074</td>\n",
       "      <td>nan</td>\n",
       "      <td>nan</td>\n",
       "      <td>nan</td>\n",
       "      <td>253.2815</td>\n",
       "      <td>nan</td>\n",
       "      <td>0.0144</td>\n",
       "      <td>0.0</td>\n",
       "      <td>-0.0144</td>\n",
       "    </tr>\n",
       "    <tr>\n",
       "      <th>15</th>\n",
       "      <td>2018</td>\n",
       "      <td>12</td>\n",
       "      <td>nan</td>\n",
       "      <td>2,790.3701</td>\n",
       "      <td>2,567.3074</td>\n",
       "      <td>nan</td>\n",
       "      <td>nan</td>\n",
       "      <td>nan</td>\n",
       "      <td>253.2815</td>\n",
       "      <td>nan</td>\n",
       "      <td>0.0144</td>\n",
       "      <td>0.0</td>\n",
       "      <td>-0.0144</td>\n",
       "    </tr>\n",
       "    <tr>\n",
       "      <th>16</th>\n",
       "      <td>2018</td>\n",
       "      <td>12</td>\n",
       "      <td>nan</td>\n",
       "      <td>2,790.3701</td>\n",
       "      <td>2,567.3074</td>\n",
       "      <td>nan</td>\n",
       "      <td>nan</td>\n",
       "      <td>nan</td>\n",
       "      <td>253.2815</td>\n",
       "      <td>nan</td>\n",
       "      <td>0.0144</td>\n",
       "      <td>0.0</td>\n",
       "      <td>-0.0144</td>\n",
       "    </tr>\n",
       "    <tr>\n",
       "      <th>17</th>\n",
       "      <td>2018</td>\n",
       "      <td>12</td>\n",
       "      <td>nan</td>\n",
       "      <td>2,790.3701</td>\n",
       "      <td>2,567.3074</td>\n",
       "      <td>nan</td>\n",
       "      <td>nan</td>\n",
       "      <td>nan</td>\n",
       "      <td>253.2815</td>\n",
       "      <td>nan</td>\n",
       "      <td>0.0144</td>\n",
       "      <td>0.0</td>\n",
       "      <td>-0.0144</td>\n",
       "    </tr>\n",
       "    <tr>\n",
       "      <th>18</th>\n",
       "      <td>2018</td>\n",
       "      <td>12</td>\n",
       "      <td>nan</td>\n",
       "      <td>2,790.3701</td>\n",
       "      <td>2,567.3074</td>\n",
       "      <td>nan</td>\n",
       "      <td>nan</td>\n",
       "      <td>nan</td>\n",
       "      <td>253.2815</td>\n",
       "      <td>nan</td>\n",
       "      <td>0.0144</td>\n",
       "      <td>0.0</td>\n",
       "      <td>-0.0144</td>\n",
       "    </tr>\n",
       "    <tr>\n",
       "      <th>19</th>\n",
       "      <td>2018</td>\n",
       "      <td>12</td>\n",
       "      <td>nan</td>\n",
       "      <td>2,700.0601</td>\n",
       "      <td>2,567.3074</td>\n",
       "      <td>nan</td>\n",
       "      <td>nan</td>\n",
       "      <td>nan</td>\n",
       "      <td>253.2815</td>\n",
       "      <td>nan</td>\n",
       "      <td>0.0144</td>\n",
       "      <td>0.0</td>\n",
       "      <td>-0.0144</td>\n",
       "    </tr>\n",
       "    <tr>\n",
       "      <th>20</th>\n",
       "      <td>2018</td>\n",
       "      <td>12</td>\n",
       "      <td>nan</td>\n",
       "      <td>2,700.0601</td>\n",
       "      <td>2,567.3074</td>\n",
       "      <td>nan</td>\n",
       "      <td>nan</td>\n",
       "      <td>nan</td>\n",
       "      <td>253.2815</td>\n",
       "      <td>nan</td>\n",
       "      <td>0.0144</td>\n",
       "      <td>0.0</td>\n",
       "      <td>-0.0144</td>\n",
       "    </tr>\n",
       "    <tr>\n",
       "      <th>21</th>\n",
       "      <td>2018</td>\n",
       "      <td>12</td>\n",
       "      <td>nan</td>\n",
       "      <td>2,700.0601</td>\n",
       "      <td>2,567.3074</td>\n",
       "      <td>nan</td>\n",
       "      <td>nan</td>\n",
       "      <td>nan</td>\n",
       "      <td>253.2815</td>\n",
       "      <td>nan</td>\n",
       "      <td>0.0144</td>\n",
       "      <td>0.0</td>\n",
       "      <td>-0.0144</td>\n",
       "    </tr>\n",
       "    <tr>\n",
       "      <th>22</th>\n",
       "      <td>2018</td>\n",
       "      <td>12</td>\n",
       "      <td>nan</td>\n",
       "      <td>2,700.0601</td>\n",
       "      <td>2,567.3074</td>\n",
       "      <td>nan</td>\n",
       "      <td>nan</td>\n",
       "      <td>nan</td>\n",
       "      <td>253.2815</td>\n",
       "      <td>nan</td>\n",
       "      <td>0.0144</td>\n",
       "      <td>0.0</td>\n",
       "      <td>-0.0144</td>\n",
       "    </tr>\n",
       "    <tr>\n",
       "      <th>23</th>\n",
       "      <td>2018</td>\n",
       "      <td>12</td>\n",
       "      <td>nan</td>\n",
       "      <td>2,700.0601</td>\n",
       "      <td>2,567.3074</td>\n",
       "      <td>nan</td>\n",
       "      <td>nan</td>\n",
       "      <td>nan</td>\n",
       "      <td>253.2815</td>\n",
       "      <td>nan</td>\n",
       "      <td>0.0144</td>\n",
       "      <td>0.0</td>\n",
       "      <td>-0.0144</td>\n",
       "    </tr>\n",
       "    <tr>\n",
       "      <th>24</th>\n",
       "      <td>2018</td>\n",
       "      <td>12</td>\n",
       "      <td>nan</td>\n",
       "      <td>2,700.0601</td>\n",
       "      <td>2,567.3074</td>\n",
       "      <td>nan</td>\n",
       "      <td>nan</td>\n",
       "      <td>nan</td>\n",
       "      <td>253.2815</td>\n",
       "      <td>nan</td>\n",
       "      <td>0.0144</td>\n",
       "      <td>0.0</td>\n",
       "      <td>-0.0144</td>\n",
       "    </tr>\n",
       "    <tr>\n",
       "      <th>25</th>\n",
       "      <td>2018</td>\n",
       "      <td>12</td>\n",
       "      <td>nan</td>\n",
       "      <td>2,700.0601</td>\n",
       "      <td>2,567.3074</td>\n",
       "      <td>nan</td>\n",
       "      <td>nan</td>\n",
       "      <td>nan</td>\n",
       "      <td>253.2815</td>\n",
       "      <td>nan</td>\n",
       "      <td>0.0144</td>\n",
       "      <td>0.0</td>\n",
       "      <td>-0.0144</td>\n",
       "    </tr>\n",
       "    <tr>\n",
       "      <th>26</th>\n",
       "      <td>2018</td>\n",
       "      <td>12</td>\n",
       "      <td>nan</td>\n",
       "      <td>2,700.0601</td>\n",
       "      <td>2,567.3074</td>\n",
       "      <td>nan</td>\n",
       "      <td>nan</td>\n",
       "      <td>nan</td>\n",
       "      <td>253.2815</td>\n",
       "      <td>nan</td>\n",
       "      <td>0.0144</td>\n",
       "      <td>0.0</td>\n",
       "      <td>-0.0144</td>\n",
       "    </tr>\n",
       "    <tr>\n",
       "      <th>27</th>\n",
       "      <td>2018</td>\n",
       "      <td>12</td>\n",
       "      <td>nan</td>\n",
       "      <td>2,700.0601</td>\n",
       "      <td>2,567.3074</td>\n",
       "      <td>nan</td>\n",
       "      <td>nan</td>\n",
       "      <td>nan</td>\n",
       "      <td>253.2815</td>\n",
       "      <td>nan</td>\n",
       "      <td>0.0144</td>\n",
       "      <td>0.0</td>\n",
       "      <td>-0.0144</td>\n",
       "    </tr>\n",
       "    <tr>\n",
       "      <th>28</th>\n",
       "      <td>2018</td>\n",
       "      <td>12</td>\n",
       "      <td>nan</td>\n",
       "      <td>2,700.0601</td>\n",
       "      <td>2,567.3074</td>\n",
       "      <td>nan</td>\n",
       "      <td>nan</td>\n",
       "      <td>nan</td>\n",
       "      <td>253.2815</td>\n",
       "      <td>nan</td>\n",
       "      <td>0.0144</td>\n",
       "      <td>0.0</td>\n",
       "      <td>-0.0144</td>\n",
       "    </tr>\n",
       "    <tr>\n",
       "      <th>29</th>\n",
       "      <td>2018</td>\n",
       "      <td>12</td>\n",
       "      <td>nan</td>\n",
       "      <td>2,700.0601</td>\n",
       "      <td>2,567.3074</td>\n",
       "      <td>nan</td>\n",
       "      <td>nan</td>\n",
       "      <td>nan</td>\n",
       "      <td>253.2815</td>\n",
       "      <td>nan</td>\n",
       "      <td>0.0144</td>\n",
       "      <td>0.0</td>\n",
       "      <td>-0.0144</td>\n",
       "    </tr>\n",
       "    <tr>\n",
       "      <th>...</th>\n",
       "      <td>...</td>\n",
       "      <td>...</td>\n",
       "      <td>...</td>\n",
       "      <td>...</td>\n",
       "      <td>...</td>\n",
       "      <td>...</td>\n",
       "      <td>...</td>\n",
       "      <td>...</td>\n",
       "      <td>...</td>\n",
       "      <td>...</td>\n",
       "      <td>...</td>\n",
       "      <td>...</td>\n",
       "      <td>...</td>\n",
       "    </tr>\n",
       "    <tr>\n",
       "      <th>1697</th>\n",
       "      <td>2021</td>\n",
       "      <td>12</td>\n",
       "      <td>0.2028</td>\n",
       "      <td>4,793.0601</td>\n",
       "      <td>4,670.42</td>\n",
       "      <td>0.1283</td>\n",
       "      <td>0.2693</td>\n",
       "      <td>0.4257</td>\n",
       "      <td>340.8093</td>\n",
       "      <td>0.2348</td>\n",
       "      <td>0.0144</td>\n",
       "      <td>0.1082</td>\n",
       "      <td>0.0938</td>\n",
       "    </tr>\n",
       "    <tr>\n",
       "      <th>1698</th>\n",
       "      <td>2021</td>\n",
       "      <td>12</td>\n",
       "      <td>0.2028</td>\n",
       "      <td>4,793.0601</td>\n",
       "      <td>4,670.42</td>\n",
       "      <td>0.1283</td>\n",
       "      <td>0.2693</td>\n",
       "      <td>0.4257</td>\n",
       "      <td>340.8093</td>\n",
       "      <td>0.2348</td>\n",
       "      <td>0.0144</td>\n",
       "      <td>0.1082</td>\n",
       "      <td>0.0938</td>\n",
       "    </tr>\n",
       "    <tr>\n",
       "      <th>1699</th>\n",
       "      <td>2021</td>\n",
       "      <td>12</td>\n",
       "      <td>0.2028</td>\n",
       "      <td>4,793.0601</td>\n",
       "      <td>4,670.42</td>\n",
       "      <td>0.1283</td>\n",
       "      <td>0.2693</td>\n",
       "      <td>0.4257</td>\n",
       "      <td>340.8093</td>\n",
       "      <td>0.2348</td>\n",
       "      <td>0.0144</td>\n",
       "      <td>0.1082</td>\n",
       "      <td>0.0938</td>\n",
       "    </tr>\n",
       "    <tr>\n",
       "      <th>1700</th>\n",
       "      <td>2021</td>\n",
       "      <td>12</td>\n",
       "      <td>0.2028</td>\n",
       "      <td>4,793.0601</td>\n",
       "      <td>4,670.42</td>\n",
       "      <td>0.1283</td>\n",
       "      <td>0.2693</td>\n",
       "      <td>0.4257</td>\n",
       "      <td>340.8093</td>\n",
       "      <td>0.2348</td>\n",
       "      <td>0.0144</td>\n",
       "      <td>0.1082</td>\n",
       "      <td>0.0938</td>\n",
       "    </tr>\n",
       "    <tr>\n",
       "      <th>1701</th>\n",
       "      <td>2021</td>\n",
       "      <td>12</td>\n",
       "      <td>0.2028</td>\n",
       "      <td>4,793.0601</td>\n",
       "      <td>4,670.42</td>\n",
       "      <td>0.1283</td>\n",
       "      <td>0.2693</td>\n",
       "      <td>0.4257</td>\n",
       "      <td>340.8093</td>\n",
       "      <td>0.2348</td>\n",
       "      <td>0.0144</td>\n",
       "      <td>0.1082</td>\n",
       "      <td>0.0938</td>\n",
       "    </tr>\n",
       "    <tr>\n",
       "      <th>1702</th>\n",
       "      <td>2021</td>\n",
       "      <td>12</td>\n",
       "      <td>0.2028</td>\n",
       "      <td>4,793.0601</td>\n",
       "      <td>4,670.42</td>\n",
       "      <td>0.1283</td>\n",
       "      <td>0.2693</td>\n",
       "      <td>0.4257</td>\n",
       "      <td>340.8093</td>\n",
       "      <td>0.2348</td>\n",
       "      <td>0.0144</td>\n",
       "      <td>0.1082</td>\n",
       "      <td>0.0938</td>\n",
       "    </tr>\n",
       "    <tr>\n",
       "      <th>1703</th>\n",
       "      <td>2021</td>\n",
       "      <td>12</td>\n",
       "      <td>0.2028</td>\n",
       "      <td>4,793.0601</td>\n",
       "      <td>4,670.42</td>\n",
       "      <td>0.1283</td>\n",
       "      <td>0.2693</td>\n",
       "      <td>0.4257</td>\n",
       "      <td>340.8093</td>\n",
       "      <td>0.2348</td>\n",
       "      <td>0.0144</td>\n",
       "      <td>0.1082</td>\n",
       "      <td>0.0938</td>\n",
       "    </tr>\n",
       "    <tr>\n",
       "      <th>1704</th>\n",
       "      <td>2021</td>\n",
       "      <td>12</td>\n",
       "      <td>0.2028</td>\n",
       "      <td>4,793.0601</td>\n",
       "      <td>4,670.42</td>\n",
       "      <td>0.1283</td>\n",
       "      <td>0.2693</td>\n",
       "      <td>0.4257</td>\n",
       "      <td>340.8093</td>\n",
       "      <td>0.2348</td>\n",
       "      <td>0.0144</td>\n",
       "      <td>0.1082</td>\n",
       "      <td>0.0938</td>\n",
       "    </tr>\n",
       "    <tr>\n",
       "      <th>1705</th>\n",
       "      <td>2021</td>\n",
       "      <td>12</td>\n",
       "      <td>0.2028</td>\n",
       "      <td>4,793.0601</td>\n",
       "      <td>4,670.42</td>\n",
       "      <td>0.1283</td>\n",
       "      <td>0.2693</td>\n",
       "      <td>0.4257</td>\n",
       "      <td>340.8093</td>\n",
       "      <td>0.2348</td>\n",
       "      <td>0.0144</td>\n",
       "      <td>0.1082</td>\n",
       "      <td>0.0938</td>\n",
       "    </tr>\n",
       "    <tr>\n",
       "      <th>1706</th>\n",
       "      <td>2021</td>\n",
       "      <td>12</td>\n",
       "      <td>0.2028</td>\n",
       "      <td>4,778.73</td>\n",
       "      <td>4,670.42</td>\n",
       "      <td>0.1283</td>\n",
       "      <td>0.2693</td>\n",
       "      <td>0.4257</td>\n",
       "      <td>340.8093</td>\n",
       "      <td>0.2348</td>\n",
       "      <td>0.0144</td>\n",
       "      <td>0.1082</td>\n",
       "      <td>0.0938</td>\n",
       "    </tr>\n",
       "    <tr>\n",
       "      <th>1707</th>\n",
       "      <td>2021</td>\n",
       "      <td>12</td>\n",
       "      <td>0.2028</td>\n",
       "      <td>4,778.73</td>\n",
       "      <td>4,670.42</td>\n",
       "      <td>0.1283</td>\n",
       "      <td>0.2693</td>\n",
       "      <td>0.4257</td>\n",
       "      <td>340.8093</td>\n",
       "      <td>0.2348</td>\n",
       "      <td>0.0144</td>\n",
       "      <td>0.1082</td>\n",
       "      <td>0.0938</td>\n",
       "    </tr>\n",
       "    <tr>\n",
       "      <th>1708</th>\n",
       "      <td>2021</td>\n",
       "      <td>12</td>\n",
       "      <td>0.2028</td>\n",
       "      <td>4,778.73</td>\n",
       "      <td>4,670.42</td>\n",
       "      <td>0.1283</td>\n",
       "      <td>0.2693</td>\n",
       "      <td>0.4257</td>\n",
       "      <td>340.8093</td>\n",
       "      <td>0.2348</td>\n",
       "      <td>0.0144</td>\n",
       "      <td>0.1082</td>\n",
       "      <td>0.0938</td>\n",
       "    </tr>\n",
       "    <tr>\n",
       "      <th>1709</th>\n",
       "      <td>2021</td>\n",
       "      <td>12</td>\n",
       "      <td>0.2028</td>\n",
       "      <td>4,778.73</td>\n",
       "      <td>4,670.42</td>\n",
       "      <td>0.1283</td>\n",
       "      <td>0.2693</td>\n",
       "      <td>0.4257</td>\n",
       "      <td>340.8093</td>\n",
       "      <td>0.2348</td>\n",
       "      <td>0.0144</td>\n",
       "      <td>0.1082</td>\n",
       "      <td>0.0938</td>\n",
       "    </tr>\n",
       "    <tr>\n",
       "      <th>1710</th>\n",
       "      <td>2021</td>\n",
       "      <td>12</td>\n",
       "      <td>0.2028</td>\n",
       "      <td>4,778.73</td>\n",
       "      <td>4,670.42</td>\n",
       "      <td>0.1283</td>\n",
       "      <td>0.2693</td>\n",
       "      <td>0.4257</td>\n",
       "      <td>340.8093</td>\n",
       "      <td>0.2348</td>\n",
       "      <td>0.0144</td>\n",
       "      <td>0.1082</td>\n",
       "      <td>0.0938</td>\n",
       "    </tr>\n",
       "    <tr>\n",
       "      <th>1711</th>\n",
       "      <td>2021</td>\n",
       "      <td>12</td>\n",
       "      <td>0.2028</td>\n",
       "      <td>4,778.73</td>\n",
       "      <td>4,670.42</td>\n",
       "      <td>0.1283</td>\n",
       "      <td>0.2693</td>\n",
       "      <td>0.4257</td>\n",
       "      <td>340.8093</td>\n",
       "      <td>0.2348</td>\n",
       "      <td>0.0144</td>\n",
       "      <td>0.1082</td>\n",
       "      <td>0.0938</td>\n",
       "    </tr>\n",
       "    <tr>\n",
       "      <th>1712</th>\n",
       "      <td>2021</td>\n",
       "      <td>12</td>\n",
       "      <td>0.2028</td>\n",
       "      <td>4,778.73</td>\n",
       "      <td>4,670.42</td>\n",
       "      <td>0.1283</td>\n",
       "      <td>0.2693</td>\n",
       "      <td>0.4257</td>\n",
       "      <td>340.8093</td>\n",
       "      <td>0.2348</td>\n",
       "      <td>0.0144</td>\n",
       "      <td>0.1082</td>\n",
       "      <td>0.0938</td>\n",
       "    </tr>\n",
       "    <tr>\n",
       "      <th>1713</th>\n",
       "      <td>2021</td>\n",
       "      <td>12</td>\n",
       "      <td>0.2028</td>\n",
       "      <td>4,778.73</td>\n",
       "      <td>4,670.42</td>\n",
       "      <td>0.1283</td>\n",
       "      <td>0.2693</td>\n",
       "      <td>0.4257</td>\n",
       "      <td>340.8093</td>\n",
       "      <td>0.2348</td>\n",
       "      <td>0.0144</td>\n",
       "      <td>0.1082</td>\n",
       "      <td>0.0938</td>\n",
       "    </tr>\n",
       "    <tr>\n",
       "      <th>1714</th>\n",
       "      <td>2021</td>\n",
       "      <td>12</td>\n",
       "      <td>0.2028</td>\n",
       "      <td>4,778.73</td>\n",
       "      <td>4,670.42</td>\n",
       "      <td>0.1283</td>\n",
       "      <td>0.2693</td>\n",
       "      <td>0.4257</td>\n",
       "      <td>340.8093</td>\n",
       "      <td>0.2348</td>\n",
       "      <td>0.0144</td>\n",
       "      <td>0.1082</td>\n",
       "      <td>0.0938</td>\n",
       "    </tr>\n",
       "    <tr>\n",
       "      <th>1715</th>\n",
       "      <td>2021</td>\n",
       "      <td>12</td>\n",
       "      <td>0.2028</td>\n",
       "      <td>4,778.73</td>\n",
       "      <td>4,670.42</td>\n",
       "      <td>0.1283</td>\n",
       "      <td>0.2693</td>\n",
       "      <td>0.4257</td>\n",
       "      <td>340.8093</td>\n",
       "      <td>0.2348</td>\n",
       "      <td>0.0144</td>\n",
       "      <td>0.1082</td>\n",
       "      <td>0.0938</td>\n",
       "    </tr>\n",
       "    <tr>\n",
       "      <th>1716</th>\n",
       "      <td>2021</td>\n",
       "      <td>12</td>\n",
       "      <td>0.2028</td>\n",
       "      <td>4,778.73</td>\n",
       "      <td>4,670.42</td>\n",
       "      <td>0.1283</td>\n",
       "      <td>0.2693</td>\n",
       "      <td>0.4257</td>\n",
       "      <td>340.8093</td>\n",
       "      <td>0.2348</td>\n",
       "      <td>0.0144</td>\n",
       "      <td>0.1082</td>\n",
       "      <td>0.0938</td>\n",
       "    </tr>\n",
       "    <tr>\n",
       "      <th>1717</th>\n",
       "      <td>2021</td>\n",
       "      <td>12</td>\n",
       "      <td>0.2028</td>\n",
       "      <td>4,778.73</td>\n",
       "      <td>4,670.42</td>\n",
       "      <td>0.1283</td>\n",
       "      <td>0.2693</td>\n",
       "      <td>0.4257</td>\n",
       "      <td>340.8093</td>\n",
       "      <td>0.2348</td>\n",
       "      <td>0.0144</td>\n",
       "      <td>0.1082</td>\n",
       "      <td>0.0938</td>\n",
       "    </tr>\n",
       "    <tr>\n",
       "      <th>1718</th>\n",
       "      <td>2021</td>\n",
       "      <td>12</td>\n",
       "      <td>0.2028</td>\n",
       "      <td>4,778.73</td>\n",
       "      <td>4,670.42</td>\n",
       "      <td>0.1283</td>\n",
       "      <td>0.2693</td>\n",
       "      <td>0.4257</td>\n",
       "      <td>340.8093</td>\n",
       "      <td>0.2348</td>\n",
       "      <td>0.0144</td>\n",
       "      <td>0.1082</td>\n",
       "      <td>0.0938</td>\n",
       "    </tr>\n",
       "    <tr>\n",
       "      <th>1719</th>\n",
       "      <td>2021</td>\n",
       "      <td>12</td>\n",
       "      <td>0.2028</td>\n",
       "      <td>4,778.73</td>\n",
       "      <td>4,670.42</td>\n",
       "      <td>0.1283</td>\n",
       "      <td>0.2693</td>\n",
       "      <td>0.4257</td>\n",
       "      <td>340.8093</td>\n",
       "      <td>0.2348</td>\n",
       "      <td>0.0144</td>\n",
       "      <td>0.1082</td>\n",
       "      <td>0.0938</td>\n",
       "    </tr>\n",
       "    <tr>\n",
       "      <th>1720</th>\n",
       "      <td>2021</td>\n",
       "      <td>12</td>\n",
       "      <td>0.2028</td>\n",
       "      <td>4,778.73</td>\n",
       "      <td>4,670.42</td>\n",
       "      <td>0.1283</td>\n",
       "      <td>0.2693</td>\n",
       "      <td>0.4257</td>\n",
       "      <td>340.8093</td>\n",
       "      <td>0.2348</td>\n",
       "      <td>0.0144</td>\n",
       "      <td>0.1082</td>\n",
       "      <td>0.0938</td>\n",
       "    </tr>\n",
       "    <tr>\n",
       "      <th>1721</th>\n",
       "      <td>2021</td>\n",
       "      <td>12</td>\n",
       "      <td>0.2028</td>\n",
       "      <td>4,778.73</td>\n",
       "      <td>4,670.42</td>\n",
       "      <td>0.1283</td>\n",
       "      <td>0.2693</td>\n",
       "      <td>0.4257</td>\n",
       "      <td>340.8093</td>\n",
       "      <td>0.2348</td>\n",
       "      <td>0.0144</td>\n",
       "      <td>0.1082</td>\n",
       "      <td>0.0938</td>\n",
       "    </tr>\n",
       "    <tr>\n",
       "      <th>1722</th>\n",
       "      <td>2021</td>\n",
       "      <td>12</td>\n",
       "      <td>0.2028</td>\n",
       "      <td>4,778.73</td>\n",
       "      <td>4,670.42</td>\n",
       "      <td>0.1283</td>\n",
       "      <td>0.2693</td>\n",
       "      <td>0.4257</td>\n",
       "      <td>340.8093</td>\n",
       "      <td>0.2348</td>\n",
       "      <td>0.0144</td>\n",
       "      <td>0.1082</td>\n",
       "      <td>0.0938</td>\n",
       "    </tr>\n",
       "    <tr>\n",
       "      <th>1723</th>\n",
       "      <td>2021</td>\n",
       "      <td>12</td>\n",
       "      <td>0.2028</td>\n",
       "      <td>4,778.73</td>\n",
       "      <td>4,670.42</td>\n",
       "      <td>0.1283</td>\n",
       "      <td>0.2693</td>\n",
       "      <td>0.4257</td>\n",
       "      <td>340.8093</td>\n",
       "      <td>0.2348</td>\n",
       "      <td>0.0144</td>\n",
       "      <td>0.1082</td>\n",
       "      <td>0.0938</td>\n",
       "    </tr>\n",
       "    <tr>\n",
       "      <th>1724</th>\n",
       "      <td>2021</td>\n",
       "      <td>12</td>\n",
       "      <td>0.2028</td>\n",
       "      <td>4,778.73</td>\n",
       "      <td>4,670.42</td>\n",
       "      <td>0.1283</td>\n",
       "      <td>0.2693</td>\n",
       "      <td>0.4257</td>\n",
       "      <td>340.8093</td>\n",
       "      <td>0.2348</td>\n",
       "      <td>0.0144</td>\n",
       "      <td>0.1082</td>\n",
       "      <td>0.0938</td>\n",
       "    </tr>\n",
       "    <tr>\n",
       "      <th>1725</th>\n",
       "      <td>2021</td>\n",
       "      <td>12</td>\n",
       "      <td>0.2028</td>\n",
       "      <td>4,778.73</td>\n",
       "      <td>4,670.42</td>\n",
       "      <td>0.1283</td>\n",
       "      <td>0.2693</td>\n",
       "      <td>0.4257</td>\n",
       "      <td>340.8093</td>\n",
       "      <td>0.2348</td>\n",
       "      <td>0.0144</td>\n",
       "      <td>0.1082</td>\n",
       "      <td>0.0938</td>\n",
       "    </tr>\n",
       "    <tr>\n",
       "      <th>1726</th>\n",
       "      <td>2021</td>\n",
       "      <td>12</td>\n",
       "      <td>0.2028</td>\n",
       "      <td>4,778.73</td>\n",
       "      <td>4,670.42</td>\n",
       "      <td>0.1283</td>\n",
       "      <td>0.2693</td>\n",
       "      <td>0.4257</td>\n",
       "      <td>340.8093</td>\n",
       "      <td>0.2348</td>\n",
       "      <td>0.0144</td>\n",
       "      <td>0.1082</td>\n",
       "      <td>0.0938</td>\n",
       "    </tr>\n",
       "  </tbody>\n",
       "</table>\n",
       "<p>1727 rows × 13 columns</p>\n",
       "</div>"
      ],
      "text/plain": [
       "      Year  Month  Stock_Volatility  Adj Close  Avg_month_price_x  \\\n",
       "0     2018     12               nan 2,790.3701         2,567.3074   \n",
       "1     2018     12               nan 2,790.3701         2,567.3074   \n",
       "2     2018     12               nan 2,790.3701         2,567.3074   \n",
       "3     2018     12               nan 2,790.3701         2,567.3074   \n",
       "4     2018     12               nan 2,790.3701         2,567.3074   \n",
       "5     2018     12               nan 2,790.3701         2,567.3074   \n",
       "6     2018     12               nan 2,790.3701         2,567.3074   \n",
       "7     2018     12               nan 2,790.3701         2,567.3074   \n",
       "8     2018     12               nan 2,790.3701         2,567.3074   \n",
       "9     2018     12               nan 2,790.3701         2,567.3074   \n",
       "10    2018     12               nan 2,790.3701         2,567.3074   \n",
       "11    2018     12               nan 2,790.3701         2,567.3074   \n",
       "12    2018     12               nan 2,790.3701         2,567.3074   \n",
       "13    2018     12               nan 2,790.3701         2,567.3074   \n",
       "14    2018     12               nan 2,790.3701         2,567.3074   \n",
       "15    2018     12               nan 2,790.3701         2,567.3074   \n",
       "16    2018     12               nan 2,790.3701         2,567.3074   \n",
       "17    2018     12               nan 2,790.3701         2,567.3074   \n",
       "18    2018     12               nan 2,790.3701         2,567.3074   \n",
       "19    2018     12               nan 2,700.0601         2,567.3074   \n",
       "20    2018     12               nan 2,700.0601         2,567.3074   \n",
       "21    2018     12               nan 2,700.0601         2,567.3074   \n",
       "22    2018     12               nan 2,700.0601         2,567.3074   \n",
       "23    2018     12               nan 2,700.0601         2,567.3074   \n",
       "24    2018     12               nan 2,700.0601         2,567.3074   \n",
       "25    2018     12               nan 2,700.0601         2,567.3074   \n",
       "26    2018     12               nan 2,700.0601         2,567.3074   \n",
       "27    2018     12               nan 2,700.0601         2,567.3074   \n",
       "28    2018     12               nan 2,700.0601         2,567.3074   \n",
       "29    2018     12               nan 2,700.0601         2,567.3074   \n",
       "...    ...    ...               ...        ...                ...   \n",
       "1697  2021     12            0.2028 4,793.0601           4,670.42   \n",
       "1698  2021     12            0.2028 4,793.0601           4,670.42   \n",
       "1699  2021     12            0.2028 4,793.0601           4,670.42   \n",
       "1700  2021     12            0.2028 4,793.0601           4,670.42   \n",
       "1701  2021     12            0.2028 4,793.0601           4,670.42   \n",
       "1702  2021     12            0.2028 4,793.0601           4,670.42   \n",
       "1703  2021     12            0.2028 4,793.0601           4,670.42   \n",
       "1704  2021     12            0.2028 4,793.0601           4,670.42   \n",
       "1705  2021     12            0.2028 4,793.0601           4,670.42   \n",
       "1706  2021     12            0.2028   4,778.73           4,670.42   \n",
       "1707  2021     12            0.2028   4,778.73           4,670.42   \n",
       "1708  2021     12            0.2028   4,778.73           4,670.42   \n",
       "1709  2021     12            0.2028   4,778.73           4,670.42   \n",
       "1710  2021     12            0.2028   4,778.73           4,670.42   \n",
       "1711  2021     12            0.2028   4,778.73           4,670.42   \n",
       "1712  2021     12            0.2028   4,778.73           4,670.42   \n",
       "1713  2021     12            0.2028   4,778.73           4,670.42   \n",
       "1714  2021     12            0.2028   4,778.73           4,670.42   \n",
       "1715  2021     12            0.2028   4,778.73           4,670.42   \n",
       "1716  2021     12            0.2028   4,778.73           4,670.42   \n",
       "1717  2021     12            0.2028   4,778.73           4,670.42   \n",
       "1718  2021     12            0.2028   4,778.73           4,670.42   \n",
       "1719  2021     12            0.2028   4,778.73           4,670.42   \n",
       "1720  2021     12            0.2028   4,778.73           4,670.42   \n",
       "1721  2021     12            0.2028   4,778.73           4,670.42   \n",
       "1722  2021     12            0.2028   4,778.73           4,670.42   \n",
       "1723  2021     12            0.2028   4,778.73           4,670.42   \n",
       "1724  2021     12            0.2028   4,778.73           4,670.42   \n",
       "1725  2021     12            0.2028   4,778.73           4,670.42   \n",
       "1726  2021     12            0.2028   4,778.73           4,670.42   \n",
       "\n",
       "      Market_volatility  Avg_month_correlation   Beta  Avg_month_price_y  \\\n",
       "0                   nan                    nan    nan           253.2815   \n",
       "1                   nan                    nan    nan           253.2815   \n",
       "2                   nan                    nan    nan           253.2815   \n",
       "3                   nan                    nan    nan           253.2815   \n",
       "4                   nan                    nan    nan           253.2815   \n",
       "5                   nan                    nan    nan           253.2815   \n",
       "6                   nan                    nan    nan           253.2815   \n",
       "7                   nan                    nan    nan           253.2815   \n",
       "8                   nan                    nan    nan           253.2815   \n",
       "9                   nan                    nan    nan           253.2815   \n",
       "10                  nan                    nan    nan           253.2815   \n",
       "11                  nan                    nan    nan           253.2815   \n",
       "12                  nan                    nan    nan           253.2815   \n",
       "13                  nan                    nan    nan           253.2815   \n",
       "14                  nan                    nan    nan           253.2815   \n",
       "15                  nan                    nan    nan           253.2815   \n",
       "16                  nan                    nan    nan           253.2815   \n",
       "17                  nan                    nan    nan           253.2815   \n",
       "18                  nan                    nan    nan           253.2815   \n",
       "19                  nan                    nan    nan           253.2815   \n",
       "20                  nan                    nan    nan           253.2815   \n",
       "21                  nan                    nan    nan           253.2815   \n",
       "22                  nan                    nan    nan           253.2815   \n",
       "23                  nan                    nan    nan           253.2815   \n",
       "24                  nan                    nan    nan           253.2815   \n",
       "25                  nan                    nan    nan           253.2815   \n",
       "26                  nan                    nan    nan           253.2815   \n",
       "27                  nan                    nan    nan           253.2815   \n",
       "28                  nan                    nan    nan           253.2815   \n",
       "29                  nan                    nan    nan           253.2815   \n",
       "...                 ...                    ...    ...                ...   \n",
       "1697             0.1283                 0.2693 0.4257           340.8093   \n",
       "1698             0.1283                 0.2693 0.4257           340.8093   \n",
       "1699             0.1283                 0.2693 0.4257           340.8093   \n",
       "1700             0.1283                 0.2693 0.4257           340.8093   \n",
       "1701             0.1283                 0.2693 0.4257           340.8093   \n",
       "1702             0.1283                 0.2693 0.4257           340.8093   \n",
       "1703             0.1283                 0.2693 0.4257           340.8093   \n",
       "1704             0.1283                 0.2693 0.4257           340.8093   \n",
       "1705             0.1283                 0.2693 0.4257           340.8093   \n",
       "1706             0.1283                 0.2693 0.4257           340.8093   \n",
       "1707             0.1283                 0.2693 0.4257           340.8093   \n",
       "1708             0.1283                 0.2693 0.4257           340.8093   \n",
       "1709             0.1283                 0.2693 0.4257           340.8093   \n",
       "1710             0.1283                 0.2693 0.4257           340.8093   \n",
       "1711             0.1283                 0.2693 0.4257           340.8093   \n",
       "1712             0.1283                 0.2693 0.4257           340.8093   \n",
       "1713             0.1283                 0.2693 0.4257           340.8093   \n",
       "1714             0.1283                 0.2693 0.4257           340.8093   \n",
       "1715             0.1283                 0.2693 0.4257           340.8093   \n",
       "1716             0.1283                 0.2693 0.4257           340.8093   \n",
       "1717             0.1283                 0.2693 0.4257           340.8093   \n",
       "1718             0.1283                 0.2693 0.4257           340.8093   \n",
       "1719             0.1283                 0.2693 0.4257           340.8093   \n",
       "1720             0.1283                 0.2693 0.4257           340.8093   \n",
       "1721             0.1283                 0.2693 0.4257           340.8093   \n",
       "1722             0.1283                 0.2693 0.4257           340.8093   \n",
       "1723             0.1283                 0.2693 0.4257           340.8093   \n",
       "1724             0.1283                 0.2693 0.4257           340.8093   \n",
       "1725             0.1283                 0.2693 0.4257           340.8093   \n",
       "1726             0.1283                 0.2693 0.4257           340.8093   \n",
       "\n",
       "      Ann_Returns     RF  Wacc1  Equity_Risk_Premium  \n",
       "0             nan 0.0144    0.0              -0.0144  \n",
       "1             nan 0.0144    0.0              -0.0144  \n",
       "2             nan 0.0144    0.0              -0.0144  \n",
       "3             nan 0.0144    0.0              -0.0144  \n",
       "4             nan 0.0144    0.0              -0.0144  \n",
       "5             nan 0.0144    0.0              -0.0144  \n",
       "6             nan 0.0144    0.0              -0.0144  \n",
       "7             nan 0.0144    0.0              -0.0144  \n",
       "8             nan 0.0144    0.0              -0.0144  \n",
       "9             nan 0.0144    0.0              -0.0144  \n",
       "10            nan 0.0144    0.0              -0.0144  \n",
       "11            nan 0.0144    0.0              -0.0144  \n",
       "12            nan 0.0144    0.0              -0.0144  \n",
       "13            nan 0.0144    0.0              -0.0144  \n",
       "14            nan 0.0144    0.0              -0.0144  \n",
       "15            nan 0.0144    0.0              -0.0144  \n",
       "16            nan 0.0144    0.0              -0.0144  \n",
       "17            nan 0.0144    0.0              -0.0144  \n",
       "18            nan 0.0144    0.0              -0.0144  \n",
       "19            nan 0.0144    0.0              -0.0144  \n",
       "20            nan 0.0144    0.0              -0.0144  \n",
       "21            nan 0.0144    0.0              -0.0144  \n",
       "22            nan 0.0144    0.0              -0.0144  \n",
       "23            nan 0.0144    0.0              -0.0144  \n",
       "24            nan 0.0144    0.0              -0.0144  \n",
       "25            nan 0.0144    0.0              -0.0144  \n",
       "26            nan 0.0144    0.0              -0.0144  \n",
       "27            nan 0.0144    0.0              -0.0144  \n",
       "28            nan 0.0144    0.0              -0.0144  \n",
       "29            nan 0.0144    0.0              -0.0144  \n",
       "...           ...    ...    ...                  ...  \n",
       "1697       0.2348 0.0144 0.1082               0.0938  \n",
       "1698       0.2348 0.0144 0.1082               0.0938  \n",
       "1699       0.2348 0.0144 0.1082               0.0938  \n",
       "1700       0.2348 0.0144 0.1082               0.0938  \n",
       "1701       0.2348 0.0144 0.1082               0.0938  \n",
       "1702       0.2348 0.0144 0.1082               0.0938  \n",
       "1703       0.2348 0.0144 0.1082               0.0938  \n",
       "1704       0.2348 0.0144 0.1082               0.0938  \n",
       "1705       0.2348 0.0144 0.1082               0.0938  \n",
       "1706       0.2348 0.0144 0.1082               0.0938  \n",
       "1707       0.2348 0.0144 0.1082               0.0938  \n",
       "1708       0.2348 0.0144 0.1082               0.0938  \n",
       "1709       0.2348 0.0144 0.1082               0.0938  \n",
       "1710       0.2348 0.0144 0.1082               0.0938  \n",
       "1711       0.2348 0.0144 0.1082               0.0938  \n",
       "1712       0.2348 0.0144 0.1082               0.0938  \n",
       "1713       0.2348 0.0144 0.1082               0.0938  \n",
       "1714       0.2348 0.0144 0.1082               0.0938  \n",
       "1715       0.2348 0.0144 0.1082               0.0938  \n",
       "1716       0.2348 0.0144 0.1082               0.0938  \n",
       "1717       0.2348 0.0144 0.1082               0.0938  \n",
       "1718       0.2348 0.0144 0.1082               0.0938  \n",
       "1719       0.2348 0.0144 0.1082               0.0938  \n",
       "1720       0.2348 0.0144 0.1082               0.0938  \n",
       "1721       0.2348 0.0144 0.1082               0.0938  \n",
       "1722       0.2348 0.0144 0.1082               0.0938  \n",
       "1723       0.2348 0.0144 0.1082               0.0938  \n",
       "1724       0.2348 0.0144 0.1082               0.0938  \n",
       "1725       0.2348 0.0144 0.1082               0.0938  \n",
       "1726       0.2348 0.0144 0.1082               0.0938  \n",
       "\n",
       "[1727 rows x 13 columns]"
      ]
     },
     "execution_count": 91,
     "metadata": {},
     "output_type": "execute_result"
    }
   ],
   "source": [
    "risk_free_rate = 0.0144\n",
    "target_stock_beta = pd.DataFrame()\n",
    "target_stock_beta['Year'] = target_stock_volatility['Year']\n",
    "target_stock_beta['Month'] = target_stock_volatility['Month']\n",
    "target_stock_beta['Stock_Volatility'] = target_stock_volatility['Avg_month_volatility']\n",
    "target_stock_beta = pd.merge(target_stock_beta, market_data_volatility ,on='Year',how='left')\n",
    "target_stock_beta = target_stock_beta.drop(['Month_y'], axis=1)\n",
    "target_stock_beta.rename(columns={'Month_x': 'Month', 'Avg_month_volatility':'Market_volatility'}, inplace=True)\n",
    "target_stock_beta = pd.merge(target_stock_beta, period_correlation ,on='Year',how='left')\n",
    "target_stock_beta = target_stock_beta.drop(['Month_y'], axis=1)\n",
    "target_stock_beta.rename(columns={'Month_x': 'Month'}, inplace=True)\n",
    "target_stock_beta['Beta'] = target_stock_beta['Avg_month_correlation'] * (target_stock_beta['Stock_Volatility']/target_stock_beta['Market_volatility'])\n",
    "\n",
    "\n",
    "target_stock_returns = data_prices.copy()\n",
    "target_stock_returns = target_stock_returns.drop(target_stock_returns[target_stock_returns.Month != statements_target_month].index) \n",
    "\n",
    "\n",
    "target_stock_beta = pd.merge(target_stock_beta, target_stock_returns[['Avg_month_price', 'Year']] ,on='Year',how='left')\n",
    "target_stock_beta.rename(columns={'Avg_month_price': 'Avg_Stock_price'}, inplace=True)\n",
    "\n",
    "\n",
    "market_data_prices = mkdp.copy()\n",
    "market_data_prices['Annual Returns']= market_data_prices['Returns'].rolling(252).sum()\n",
    "market_data_prices = market_data_prices.drop(['Volatility', 'Date', 'Returns'], axis=1)\n",
    "market_data_prices['Ann_Returns'] = market_data_prices.groupby([(market_data_prices.Year),(market_data_prices.Month)])['Annual Returns'].transform('mean')\n",
    "market_data_prices = market_data_prices.drop(['Annual Returns'], axis=1)\n",
    "market_data_prices = market_data_prices.drop(market_data_prices[market_data_prices.Month != statements_target_month].index) \n",
    "market_data_prices = market_data_prices.drop_duplicates()\n",
    "market_data_prices\n",
    "\n",
    "\n",
    "target_stock_beta = pd.merge(target_stock_beta, market_data_prices[['Ann_Returns', 'Year']] ,on='Year',how='left')\n",
    "target_stock_beta\n",
    "\n",
    "#just for now we are gonna take the free rate for granted as for 2021/04 being 1,2%\n",
    "\n",
    "target_stock_beta['RF'] = risk_free_rate \n",
    "\n",
    "target_stock_beta['Wacc1'] = target_stock_beta['RF'] + target_stock_beta['Beta'] * (target_stock_beta['Ann_Returns']-target_stock_beta['RF'])\n",
    "target_stock_beta['Wacc1'] = np.where(target_stock_beta['Wacc1'] > 0, target_stock_beta['Wacc1'], 0)\n",
    "target_stock_beta['Equity_Risk_Premium'] = target_stock_beta['Wacc1'] - target_stock_beta['RF']\n",
    "target_stock_beta = Format_Table(target_stock_beta)\n",
    "target_stock_beta"
   ]
  },
  {
   "cell_type": "markdown",
   "metadata": {
    "id": "1urCbj4Ub1y1"
   },
   "source": [
    "# FCF Valuation"
   ]
  },
  {
   "cell_type": "markdown",
   "metadata": {
    "id": "LtPcAmml_1Bf"
   },
   "source": [
    "## Procedure"
   ]
  },
  {
   "cell_type": "code",
   "execution_count": 92,
   "metadata": {
    "id": "RNvbzihnb4sF"
   },
   "outputs": [
    {
     "name": "stdout",
     "output_type": "stream",
     "text": [
      " Default_Spread:  0.00862548 \n",
      " After_tax_cost_of_debt:  0.0165783456 \n",
      " Retention_ratio:  0.5344418052256532 \n",
      " target_stock_beta 0.4257 \n",
      " Cost_of_equity:  0.05433066 \n",
      " Cost_of_capital:  0.050112014724388025 \n",
      " Cost of capital in stable growth:  0.8901072111152721 \n",
      " Retention_ratio_ret_ earnings_method:  3.4204275534441804 \n",
      " Growth_rate:  0.3079453681710214 \n",
      " ROE:  0.5762\n"
     ]
    }
   ],
   "source": [
    "fcf_valuation = pd.DataFrame()\n",
    "fcf_valuation['Year'] = cash_flow_sheet['Date'].dt.year\n",
    "fcf_valuation['CFO'] = cash_flow_sheet['CFO']\n",
    "fcf_valuation = pd.merge(fcf_valuation, target_stock_beta[['Wacc1', 'Year']] ,on='Year',how='left')\n",
    "\n",
    "risk_free_rate = risk_free_rate\n",
    "marginal_tax_rate = 0.28\n",
    "default_Spread = (1 - cash_flow_sheet['Interest_coverage_ratio'].iloc[0]/100) /100\n",
    "after_tax_cost_of_debt = (risk_free_rate + default_Spread)*(1-marginal_tax_rate)\n",
    "book_value_of_debt = entreprise_value_sheet['Debt'].iloc[0]\n",
    "\n",
    "\n",
    "\n",
    "cost_of_equity = target_stock_beta['RF'].iloc[-1] + (target_stock_beta['Beta'].iloc[-1] *\n",
    "                                                     target_stock_beta['Equity_Risk_Premium'].iloc[-1])\n",
    "market_cap = entreprise_value_sheet['Market Cap'].iloc[0]\n",
    "cost_of_capital = cost_of_equity * (\n",
    "                                        market_cap/\n",
    "                                       (market_cap + book_value_of_debt)\n",
    "                                   )+\\\n",
    "                                   (\n",
    "                                       after_tax_cost_of_debt *\n",
    "                                       (\n",
    "                                           book_value_of_debt/\n",
    "                                           (\n",
    "                                               market_cap+book_value_of_debt\n",
    "                                           )\n",
    "                                       )\n",
    "                                   )\n",
    "\n",
    "cost_of_capital_stable_growth= 1 * (\n",
    "                                        market_cap/\n",
    "                                       (market_cap + book_value_of_debt)\n",
    "                                   )+\\\n",
    "                                   (\n",
    "                                       after_tax_cost_of_debt *\n",
    "                                       (\n",
    "                                           book_value_of_debt/\n",
    "                                           (\n",
    "                                               market_cap+book_value_of_debt\n",
    "                                           )\n",
    "                                       )\n",
    "                                   )\n",
    "    \n",
    "retention_ratio = (result['Net Income'].iloc[0]+ result['Dividends Paid'].iloc[0]\n",
    "                 )/ result['Net Income'].iloc[0]\n",
    "\n",
    "retention_ratio_ret_earnings_method = result['Retained Earnings'].iloc[0]/ result['Net Income'].iloc[0]\n",
    "\n",
    "growth_rate = retention_ratio * cash_flow_sheet['ROE'].iloc[0]\n",
    "\n",
    "print(\" Default_Spread: \", default_Spread\n",
    "      , \"\\n\", \"After_tax_cost_of_debt: \", after_tax_cost_of_debt\n",
    "      , \"\\n\", \"Retention_ratio: \", retention_ratio\n",
    "      , \"\\n\", \"target_stock_beta\", target_stock_beta['Beta'].iloc[-1]\n",
    "      , \"\\n\", \"Cost_of_equity: \", cost_of_equity\n",
    "      , \"\\n\", \"Cost_of_capital: \", cost_of_capital\n",
    "      , \"\\n\", \"Cost of capital in stable growth: \", cost_of_capital_stable_growth\n",
    "      , \"\\n\", \"Retention_ratio_ret_ earnings_method: \", retention_ratio_ret_earnings_method\n",
    "      , \"\\n\", \"Growth_rate: \", growth_rate\n",
    "      , \"\\n\", \"ROE: \", cash_flow_sheet['ROE'].iloc[0])\n",
    "\n",
    "\n",
    "\n",
    "fcf_valuation['Firm_Value'] = fcf_valuation['CFO'] / (1+ fcf_valuation['Wacc1'])\n",
    "fcf_valuation =  pd.merge(fcf_valuation, result[['Shares', 'Year']] ,on='Year',how='left')\n",
    "fcf_valuation['Valuation'] = fcf_valuation['Firm_Value'] / fcf_valuation['Shares']\n",
    "\n",
    "for i in range(1,10):\n",
    "  col = 'Period_{}'.format(i)\n",
    "  fcf_valuation[col] = (fcf_valuation['CFO'] / (1+ fcf_valuation['Wacc1']) **i)/ fcf_valuation['Shares']\n",
    "\n",
    "values =[]\n",
    "for i in range(1,10):\n",
    "  col = 'Period_{}'.format(i)\n",
    "  \n",
    "  values.append(fcf_valuation[col])\n",
    "\n",
    "fcf_valuation['NPV'] = sum(values)\n",
    "\n",
    "fcf_valuation = Format_Table(fcf_valuation)"
   ]
  },
  {
   "cell_type": "markdown",
   "metadata": {},
   "source": [
    "The definitions of cash flow and growth rate have to be consistent with whether we are valuing dividends, cash flows to equity, or cash flows to the firm; the discount rate will be the cost of equity for the first two and the cost of capital for the last.\n",
    "\n",
    "    1) stable growth rate is that it should not exceed the risk-free rate used in the valuation; the risk-free rate is composed of expected inflation and a real interest rate, which should equate to the nominal growth rate of the economy in the long term.\n",
    "\n",
    "    2) As firms move from high growth to stable growth, we need to give them the characteristics of stable growth firms; as a general rule, their risk levels should move towards the market (beta of one) and debt ratios should increase to industry norms.\n",
    "\n",
    "    3) Third, a stable growth firm should reinvest enough to sustain the assumed growth rate."
   ]
  },
  {
   "attachments": {
    "image.png": {
     "image/png": "[encoded data removed]"
    }
   },
   "cell_type": "markdown",
   "metadata": {},
   "source": [
    "Given the relationship between growth, reinvestment rate, and returns that we established in the section on expected growth rates, we can estimate this reinvestment rate:\n",
    "![image.png](attachment:image.png)"
   ]
  },
  {
   "cell_type": "code",
   "execution_count": 93,
   "metadata": {},
   "outputs": [
    {
     "name": "stdout",
     "output_type": "stream",
     "text": [
      "Reinvenstment rate:  0.5344418052256532\n"
     ]
    }
   ],
   "source": [
    "reinvestment_rate = (growth_rate / cash_flow_sheet['ROE'].iloc[0])\n",
    "print(\"Reinvenstment rate: \", reinvestment_rate)"
   ]
  },
  {
   "attachments": {
    "image.png": {
     "image/png": "[encoded data removed]"
    }
   },
   "cell_type": "markdown",
   "metadata": {},
   "source": [
    "We assumed that the firm would be in stable growth after the fifth year and grow forever at the risk-free rate. As the growth declines after year five, the beta is adjusted towards one and the debt ratio is raised to the industry average to reflect the overall stability of the company. Then we proceed to use the stable growth cost of capital for the following formula (in the book example that number is 6.76%).The reinvestment rate in stable growth is changed to reflect the assumption that there will be no excess returns in stable growth (return on capital = cost of capital).\n",
    "![image.png](attachment:image.png)\n",
    "\n",
    "Where:\n",
    "\n",
    "    1) 3% = Grow rate = Risk free rate\n",
    "    2) 6.76% Stable growth cost of capital"
   ]
  },
  {
   "cell_type": "code",
   "execution_count": 94,
   "metadata": {},
   "outputs": [
    {
     "name": "stdout",
     "output_type": "stream",
     "text": [
      " Reinvenstment rate:  0.5344418052256532 \n",
      " Reinvestment_rate_in_stable_growth:  0.016177826468743377\n"
     ]
    }
   ],
   "source": [
    "reinvestment_rate_in_stable_growth = risk_free_rate/cost_of_capital_stable_growth\n",
    "print(\" Reinvenstment rate: \", reinvestment_rate\n",
    "        ,\"\\n\" , \"Reinvestment_rate_in_stable_growth: \", reinvestment_rate_in_stable_growth)"
   ]
  },
  {
   "cell_type": "code",
   "execution_count": 95,
   "metadata": {},
   "outputs": [],
   "source": [
    "expected_FCF_op_income = pd.DataFrame()\n",
    "expected_FCF_op_income['Year'] = cash_flow_sheet['Date'].dt.year\n",
    "expected_FCF_op_income = expected_FCF_op_income.drop(['Year'], axis=1)\n",
    "expected_FCF_op_income['Current_Net_Income'] = result['Net Income']\n",
    "expected_FCF_op_income = expected_FCF_op_income.drop(expected_FCF_op_income.index[1:])\n",
    "expected_FCF_op_income['1st_year'] = expected_FCF_op_income['Current_Net_Income']* (1+growth_rate)\n",
    "expected_FCF_op_income['2nd_year'] = expected_FCF_op_income['1st_year'] * (1+growth_rate)\n",
    "\n",
    "expected_FCF_op_income['3rd_year'] = expected_FCF_op_income['2nd_year'] * (1+growth_rate)\n",
    "expected_FCF_op_income['4th_year'] = expected_FCF_op_income['3rd_year'] * (1+growth_rate)\n",
    "expected_FCF_op_income['5th_year'] = expected_FCF_op_income['4th_year'] * (1+growth_rate)\n",
    "expected_FCF_op_income['1st_year'] = expected_FCF_op_income['1st_year'] - (\n",
    "    expected_FCF_op_income['1st_year'] * (1- retention_ratio))\n",
    "expected_FCF_op_income['2nd_year'] = expected_FCF_op_income['2nd_year'] - (\n",
    "    expected_FCF_op_income['2nd_year'] * (1- retention_ratio))\n",
    "expected_FCF_op_income['3rd_year'] = expected_FCF_op_income['3rd_year'] - (\n",
    "    expected_FCF_op_income['3rd_year'] * (1- retention_ratio))\n",
    "expected_FCF_op_income['4th_year'] = expected_FCF_op_income['4th_year'] - (\n",
    "    expected_FCF_op_income['4th_year'] * (1- retention_ratio))\n",
    "expected_FCF_op_income['5th_year'] = expected_FCF_op_income['5th_year'] - (\n",
    "    expected_FCF_op_income['5th_year'] * (1- retention_ratio))\n",
    "expected_FCF_op_income = Format_Table(expected_FCF_op_income)"
   ]
  },
  {
   "cell_type": "code",
   "execution_count": 96,
   "metadata": {},
   "outputs": [
    {
     "data": {
      "text/html": [
       "<div>\n",
       "<style scoped>\n",
       "    .dataframe tbody tr th:only-of-type {\n",
       "        vertical-align: middle;\n",
       "    }\n",
       "\n",
       "    .dataframe tbody tr th {\n",
       "        vertical-align: top;\n",
       "    }\n",
       "\n",
       "    .dataframe thead th {\n",
       "        text-align: right;\n",
       "    }\n",
       "</style>\n",
       "<table border=\"1\" class=\"dataframe\">\n",
       "  <thead>\n",
       "    <tr style=\"text-align: right;\">\n",
       "      <th></th>\n",
       "      <th>Current_Net_Income</th>\n",
       "      <th>1st_year</th>\n",
       "      <th>2nd_year</th>\n",
       "      <th>3rd_year</th>\n",
       "      <th>4th_year</th>\n",
       "      <th>5th_year</th>\n",
       "    </tr>\n",
       "  </thead>\n",
       "  <tbody>\n",
       "    <tr>\n",
       "      <th>0</th>\n",
       "      <td>6,315,000,000.0</td>\n",
       "      <td>4,414,315,617.5772</td>\n",
       "      <td>5,773,683,665.6551</td>\n",
       "      <td>7,551,662,807.7783</td>\n",
       "      <td>9,877,162,391.423</td>\n",
       "      <td>12,918,788,800.5347</td>\n",
       "    </tr>\n",
       "  </tbody>\n",
       "</table>\n",
       "</div>"
      ],
      "text/plain": [
       "   Current_Net_Income           1st_year           2nd_year  \\\n",
       "0     6,315,000,000.0 4,414,315,617.5772 5,773,683,665.6551   \n",
       "\n",
       "            3rd_year          4th_year            5th_year  \n",
       "0 7,551,662,807.7783 9,877,162,391.423 12,918,788,800.5347  "
      ]
     },
     "execution_count": 96,
     "metadata": {},
     "output_type": "execute_result"
    }
   ],
   "source": [
    "expected_FCF_op_income"
   ]
  },
  {
   "cell_type": "code",
   "execution_count": 97,
   "metadata": {},
   "outputs": [
    {
     "name": "stdout",
     "output_type": "stream",
     "text": [
      "Terminal_value_at_5th_year:  $14,722,742,604.05\n"
     ]
    }
   ],
   "source": [
    "terminal_value_at_5th_year = ((expected_FCF_op_income['5th_year'].iloc[0]*(1+risk_free_rate)*(1-reinvestment_rate_in_stable_growth))/\n",
    "                              (cost_of_capital_stable_growth - risk_free_rate))\n",
    "\n",
    "formated_terminal_value = \"${:,.2f}\". format(terminal_value_at_5th_year)\n",
    "print(\"Terminal_value_at_5th_year: \", formated_terminal_value)"
   ]
  },
  {
   "cell_type": "code",
   "execution_count": 98,
   "metadata": {},
   "outputs": [
    {
     "data": {
      "text/html": [
       "<div>\n",
       "<style scoped>\n",
       "    .dataframe tbody tr th:only-of-type {\n",
       "        vertical-align: middle;\n",
       "    }\n",
       "\n",
       "    .dataframe tbody tr th {\n",
       "        vertical-align: top;\n",
       "    }\n",
       "\n",
       "    .dataframe thead th {\n",
       "        text-align: right;\n",
       "    }\n",
       "</style>\n",
       "<table border=\"1\" class=\"dataframe\">\n",
       "  <thead>\n",
       "    <tr style=\"text-align: right;\">\n",
       "      <th></th>\n",
       "      <th>1st_year</th>\n",
       "      <th>2nd_year</th>\n",
       "      <th>3rd_year</th>\n",
       "      <th>4th_year</th>\n",
       "      <th>5th_year</th>\n",
       "      <th>Final_Value</th>\n",
       "    </tr>\n",
       "  </thead>\n",
       "  <tbody>\n",
       "    <tr>\n",
       "      <th>0</th>\n",
       "      <td>4,203,661,662.452057</td>\n",
       "      <td>5,235,784,110.331609</td>\n",
       "      <td>6,521,322,944.437541</td>\n",
       "      <td>8,122,499,333.333642</td>\n",
       "      <td>21,646,314,454.17671</td>\n",
       "      <td>45,729,582,504.73155</td>\n",
       "    </tr>\n",
       "  </tbody>\n",
       "</table>\n",
       "</div>"
      ],
      "text/plain": [
       "              1st_year             2nd_year             3rd_year  \\\n",
       "0 4,203,661,662.452057 5,235,784,110.331609 6,521,322,944.437541   \n",
       "\n",
       "              4th_year             5th_year          Final_Value  \n",
       "0 8,122,499,333.333642 21,646,314,454.17671 45,729,582,504.73155  "
      ]
     },
     "execution_count": 98,
     "metadata": {},
     "output_type": "execute_result"
    }
   ],
   "source": [
    "discounted_terminal_value = pd.DataFrame()\n",
    "\n",
    "discounted_terminal_value['1st_year'] = expected_FCF_op_income['1st_year']/(1+cost_of_capital)\n",
    "discounted_terminal_value['2nd_year'] = expected_FCF_op_income['2nd_year']/(1+cost_of_capital)**2\n",
    "discounted_terminal_value['3rd_year'] = expected_FCF_op_income['3rd_year']/(1+cost_of_capital)**3\n",
    "discounted_terminal_value['4th_year'] = expected_FCF_op_income['4th_year']/(1+cost_of_capital)**4\n",
    "discounted_terminal_value['5th_year'] = (expected_FCF_op_income['5th_year']+terminal_value_at_5th_year\n",
    "                                        )/(1+cost_of_capital)**5\n",
    "discounted_terminal_value['Final_Value'] = (discounted_terminal_value['1st_year'] +\n",
    "                                            discounted_terminal_value['2nd_year'] +\n",
    "                                            discounted_terminal_value['3rd_year'] +\n",
    "                                            discounted_terminal_value['4th_year'] +\n",
    "                                            discounted_terminal_value['5th_year'])\n",
    "discounted_terminal_value"
   ]
  },
  {
   "cell_type": "markdown",
   "metadata": {
    "id": "sZLUboGK_wwv"
   },
   "source": [
    "## Output"
   ]
  },
  {
   "cell_type": "code",
   "execution_count": 99,
   "metadata": {},
   "outputs": [
    {
     "name": "stdout",
     "output_type": "stream",
     "text": [
      "Shares Outstanding: 272,327,008.0\n",
      "Target Share Price: $167.92\n",
      "Current Share Price: $351.16\n"
     ]
    }
   ],
   "source": [
    "possible_target_share_price = discounted_terminal_value['Final_Value'].iloc[0]/ entreprise_value_sheet['Shares'].iloc[0]\n",
    "\"Target Share Price: ${:,.2f}\". format(possible_target_share_price)\n",
    "print(\"Shares Outstanding: {:,}\". format(entreprise_value_sheet['Shares'].iloc[0]))\n",
    "print(\"Target Share Price: ${:,.2f}\". format(possible_target_share_price))\n",
    "print(\"Current Share Price: ${:,.2f}\". format(data['Close'].iloc[-1]))"
   ]
  },
  {
   "cell_type": "markdown",
   "metadata": {
    "id": "4H8130_ycr-3"
   },
   "source": [
    "# Graham number\n",
    "The Graham number is a figure that measures a stock's fundamental value by taking into account the company's earnings per share and book value per share. The Graham number is the upper bound of the price range that a defensive investor should pay for the stock. According to the theory, any stock price below the Graham number is considered undervalued and thus worth investing in.\n",
    "This number tells you the Max. ammount of money you should pay for a given stock at T time.\n",
    "\n",
    " The 22.5 is included in the calculation to account for Graham's belief that the price to earnings ratio should not be over 15 and the price to book ratio should not be over 1.5 (15 x 1.5 = 22.5)."
   ]
  },
  {
   "cell_type": "code",
   "execution_count": 100,
   "metadata": {
    "colab": {
     "base_uri": "https://localhost:8080/",
     "height": 207
    },
    "id": "g0pOLca0Xuas",
    "outputId": "720ddc69-36c5-469d-e82c-697963cecdc7",
    "scrolled": true
   },
   "outputs": [
    {
     "data": {
      "text/html": [
       "<div>\n",
       "<style scoped>\n",
       "    .dataframe tbody tr th:only-of-type {\n",
       "        vertical-align: middle;\n",
       "    }\n",
       "\n",
       "    .dataframe tbody tr th {\n",
       "        vertical-align: top;\n",
       "    }\n",
       "\n",
       "    .dataframe thead th {\n",
       "        text-align: right;\n",
       "    }\n",
       "</style>\n",
       "<table border=\"1\" class=\"dataframe\">\n",
       "  <thead>\n",
       "    <tr style=\"text-align: right;\">\n",
       "      <th></th>\n",
       "      <th>Year</th>\n",
       "      <th>CFO</th>\n",
       "      <th>Wacc1</th>\n",
       "      <th>Firm_Value</th>\n",
       "      <th>Shares</th>\n",
       "      <th>Total Stockholder Equity</th>\n",
       "      <th>Net Income</th>\n",
       "      <th>Graham_number</th>\n",
       "    </tr>\n",
       "  </thead>\n",
       "  <tbody>\n",
       "    <tr>\n",
       "      <th>0</th>\n",
       "      <td>2021</td>\n",
       "      <td>9,221,000,000.0</td>\n",
       "      <td>0.1082</td>\n",
       "      <td>8,320,700,234.6147</td>\n",
       "      <td>272,327,008.0</td>\n",
       "      <td>10,959,000,000.0</td>\n",
       "      <td>6,315,000,000.0</td>\n",
       "      <td>144.9014</td>\n",
       "    </tr>\n",
       "    <tr>\n",
       "      <th>1</th>\n",
       "      <td>2021</td>\n",
       "      <td>9,221,000,000.0</td>\n",
       "      <td>0.1082</td>\n",
       "      <td>8,320,700,234.6147</td>\n",
       "      <td>272,327,008.0</td>\n",
       "      <td>10,959,000,000.0</td>\n",
       "      <td>6,315,000,000.0</td>\n",
       "      <td>144.9014</td>\n",
       "    </tr>\n",
       "    <tr>\n",
       "      <th>2</th>\n",
       "      <td>2021</td>\n",
       "      <td>9,221,000,000.0</td>\n",
       "      <td>0.1082</td>\n",
       "      <td>8,320,700,234.6147</td>\n",
       "      <td>272,327,008.0</td>\n",
       "      <td>10,959,000,000.0</td>\n",
       "      <td>6,315,000,000.0</td>\n",
       "      <td>144.9014</td>\n",
       "    </tr>\n",
       "    <tr>\n",
       "      <th>3</th>\n",
       "      <td>2021</td>\n",
       "      <td>9,221,000,000.0</td>\n",
       "      <td>0.1082</td>\n",
       "      <td>8,320,700,234.6147</td>\n",
       "      <td>272,327,008.0</td>\n",
       "      <td>10,959,000,000.0</td>\n",
       "      <td>6,315,000,000.0</td>\n",
       "      <td>144.9014</td>\n",
       "    </tr>\n",
       "    <tr>\n",
       "      <th>4</th>\n",
       "      <td>2021</td>\n",
       "      <td>9,221,000,000.0</td>\n",
       "      <td>0.1082</td>\n",
       "      <td>8,320,700,234.6147</td>\n",
       "      <td>272,327,008.0</td>\n",
       "      <td>10,959,000,000.0</td>\n",
       "      <td>6,315,000,000.0</td>\n",
       "      <td>144.9014</td>\n",
       "    </tr>\n",
       "    <tr>\n",
       "      <th>5</th>\n",
       "      <td>2021</td>\n",
       "      <td>9,221,000,000.0</td>\n",
       "      <td>0.1082</td>\n",
       "      <td>8,320,700,234.6147</td>\n",
       "      <td>272,327,008.0</td>\n",
       "      <td>10,959,000,000.0</td>\n",
       "      <td>6,315,000,000.0</td>\n",
       "      <td>144.9014</td>\n",
       "    </tr>\n",
       "    <tr>\n",
       "      <th>6</th>\n",
       "      <td>2021</td>\n",
       "      <td>9,221,000,000.0</td>\n",
       "      <td>0.1082</td>\n",
       "      <td>8,320,700,234.6147</td>\n",
       "      <td>272,327,008.0</td>\n",
       "      <td>10,959,000,000.0</td>\n",
       "      <td>6,315,000,000.0</td>\n",
       "      <td>144.9014</td>\n",
       "    </tr>\n",
       "    <tr>\n",
       "      <th>7</th>\n",
       "      <td>2021</td>\n",
       "      <td>9,221,000,000.0</td>\n",
       "      <td>0.1082</td>\n",
       "      <td>8,320,700,234.6147</td>\n",
       "      <td>272,327,008.0</td>\n",
       "      <td>10,959,000,000.0</td>\n",
       "      <td>6,315,000,000.0</td>\n",
       "      <td>144.9014</td>\n",
       "    </tr>\n",
       "    <tr>\n",
       "      <th>8</th>\n",
       "      <td>2021</td>\n",
       "      <td>9,221,000,000.0</td>\n",
       "      <td>0.1082</td>\n",
       "      <td>8,320,700,234.6147</td>\n",
       "      <td>272,327,008.0</td>\n",
       "      <td>10,959,000,000.0</td>\n",
       "      <td>6,315,000,000.0</td>\n",
       "      <td>144.9014</td>\n",
       "    </tr>\n",
       "    <tr>\n",
       "      <th>9</th>\n",
       "      <td>2021</td>\n",
       "      <td>9,221,000,000.0</td>\n",
       "      <td>0.1082</td>\n",
       "      <td>8,320,700,234.6147</td>\n",
       "      <td>272,327,008.0</td>\n",
       "      <td>10,959,000,000.0</td>\n",
       "      <td>6,315,000,000.0</td>\n",
       "      <td>144.9014</td>\n",
       "    </tr>\n",
       "    <tr>\n",
       "      <th>10</th>\n",
       "      <td>2021</td>\n",
       "      <td>9,221,000,000.0</td>\n",
       "      <td>0.1082</td>\n",
       "      <td>8,320,700,234.6147</td>\n",
       "      <td>272,327,008.0</td>\n",
       "      <td>10,959,000,000.0</td>\n",
       "      <td>6,315,000,000.0</td>\n",
       "      <td>144.9014</td>\n",
       "    </tr>\n",
       "    <tr>\n",
       "      <th>11</th>\n",
       "      <td>2021</td>\n",
       "      <td>9,221,000,000.0</td>\n",
       "      <td>0.1082</td>\n",
       "      <td>8,320,700,234.6147</td>\n",
       "      <td>272,327,008.0</td>\n",
       "      <td>10,959,000,000.0</td>\n",
       "      <td>6,315,000,000.0</td>\n",
       "      <td>144.9014</td>\n",
       "    </tr>\n",
       "    <tr>\n",
       "      <th>12</th>\n",
       "      <td>2021</td>\n",
       "      <td>9,221,000,000.0</td>\n",
       "      <td>0.1082</td>\n",
       "      <td>8,320,700,234.6147</td>\n",
       "      <td>272,327,008.0</td>\n",
       "      <td>10,959,000,000.0</td>\n",
       "      <td>6,315,000,000.0</td>\n",
       "      <td>144.9014</td>\n",
       "    </tr>\n",
       "    <tr>\n",
       "      <th>13</th>\n",
       "      <td>2021</td>\n",
       "      <td>9,221,000,000.0</td>\n",
       "      <td>0.1082</td>\n",
       "      <td>8,320,700,234.6147</td>\n",
       "      <td>272,327,008.0</td>\n",
       "      <td>10,959,000,000.0</td>\n",
       "      <td>6,315,000,000.0</td>\n",
       "      <td>144.9014</td>\n",
       "    </tr>\n",
       "    <tr>\n",
       "      <th>14</th>\n",
       "      <td>2021</td>\n",
       "      <td>9,221,000,000.0</td>\n",
       "      <td>0.1082</td>\n",
       "      <td>8,320,700,234.6147</td>\n",
       "      <td>272,327,008.0</td>\n",
       "      <td>10,959,000,000.0</td>\n",
       "      <td>6,315,000,000.0</td>\n",
       "      <td>144.9014</td>\n",
       "    </tr>\n",
       "    <tr>\n",
       "      <th>15</th>\n",
       "      <td>2021</td>\n",
       "      <td>9,221,000,000.0</td>\n",
       "      <td>0.1082</td>\n",
       "      <td>8,320,700,234.6147</td>\n",
       "      <td>272,327,008.0</td>\n",
       "      <td>10,959,000,000.0</td>\n",
       "      <td>6,315,000,000.0</td>\n",
       "      <td>144.9014</td>\n",
       "    </tr>\n",
       "    <tr>\n",
       "      <th>16</th>\n",
       "      <td>2021</td>\n",
       "      <td>9,221,000,000.0</td>\n",
       "      <td>0.1082</td>\n",
       "      <td>8,320,700,234.6147</td>\n",
       "      <td>272,327,008.0</td>\n",
       "      <td>10,959,000,000.0</td>\n",
       "      <td>6,315,000,000.0</td>\n",
       "      <td>144.9014</td>\n",
       "    </tr>\n",
       "    <tr>\n",
       "      <th>17</th>\n",
       "      <td>2021</td>\n",
       "      <td>9,221,000,000.0</td>\n",
       "      <td>0.1082</td>\n",
       "      <td>8,320,700,234.6147</td>\n",
       "      <td>272,327,008.0</td>\n",
       "      <td>10,959,000,000.0</td>\n",
       "      <td>6,315,000,000.0</td>\n",
       "      <td>144.9014</td>\n",
       "    </tr>\n",
       "    <tr>\n",
       "      <th>18</th>\n",
       "      <td>2021</td>\n",
       "      <td>9,221,000,000.0</td>\n",
       "      <td>0.1082</td>\n",
       "      <td>8,320,700,234.6147</td>\n",
       "      <td>272,327,008.0</td>\n",
       "      <td>10,959,000,000.0</td>\n",
       "      <td>6,315,000,000.0</td>\n",
       "      <td>144.9014</td>\n",
       "    </tr>\n",
       "    <tr>\n",
       "      <th>19</th>\n",
       "      <td>2021</td>\n",
       "      <td>9,221,000,000.0</td>\n",
       "      <td>0.1082</td>\n",
       "      <td>8,320,700,234.6147</td>\n",
       "      <td>272,327,008.0</td>\n",
       "      <td>10,959,000,000.0</td>\n",
       "      <td>6,315,000,000.0</td>\n",
       "      <td>144.9014</td>\n",
       "    </tr>\n",
       "    <tr>\n",
       "      <th>20</th>\n",
       "      <td>2021</td>\n",
       "      <td>9,221,000,000.0</td>\n",
       "      <td>0.1082</td>\n",
       "      <td>8,320,700,234.6147</td>\n",
       "      <td>272,327,008.0</td>\n",
       "      <td>10,959,000,000.0</td>\n",
       "      <td>6,315,000,000.0</td>\n",
       "      <td>144.9014</td>\n",
       "    </tr>\n",
       "    <tr>\n",
       "      <th>21</th>\n",
       "      <td>2021</td>\n",
       "      <td>9,221,000,000.0</td>\n",
       "      <td>0.1082</td>\n",
       "      <td>8,320,700,234.6147</td>\n",
       "      <td>272,327,008.0</td>\n",
       "      <td>10,959,000,000.0</td>\n",
       "      <td>6,315,000,000.0</td>\n",
       "      <td>144.9014</td>\n",
       "    </tr>\n",
       "    <tr>\n",
       "      <th>22</th>\n",
       "      <td>2021</td>\n",
       "      <td>9,221,000,000.0</td>\n",
       "      <td>0.1082</td>\n",
       "      <td>8,320,700,234.6147</td>\n",
       "      <td>272,327,008.0</td>\n",
       "      <td>10,959,000,000.0</td>\n",
       "      <td>6,315,000,000.0</td>\n",
       "      <td>144.9014</td>\n",
       "    </tr>\n",
       "    <tr>\n",
       "      <th>23</th>\n",
       "      <td>2021</td>\n",
       "      <td>9,221,000,000.0</td>\n",
       "      <td>0.1082</td>\n",
       "      <td>8,320,700,234.6147</td>\n",
       "      <td>272,327,008.0</td>\n",
       "      <td>10,959,000,000.0</td>\n",
       "      <td>6,315,000,000.0</td>\n",
       "      <td>144.9014</td>\n",
       "    </tr>\n",
       "    <tr>\n",
       "      <th>24</th>\n",
       "      <td>2021</td>\n",
       "      <td>9,221,000,000.0</td>\n",
       "      <td>0.1082</td>\n",
       "      <td>8,320,700,234.6147</td>\n",
       "      <td>272,327,008.0</td>\n",
       "      <td>10,959,000,000.0</td>\n",
       "      <td>6,315,000,000.0</td>\n",
       "      <td>144.9014</td>\n",
       "    </tr>\n",
       "    <tr>\n",
       "      <th>25</th>\n",
       "      <td>2021</td>\n",
       "      <td>9,221,000,000.0</td>\n",
       "      <td>0.1082</td>\n",
       "      <td>8,320,700,234.6147</td>\n",
       "      <td>272,327,008.0</td>\n",
       "      <td>10,959,000,000.0</td>\n",
       "      <td>6,315,000,000.0</td>\n",
       "      <td>144.9014</td>\n",
       "    </tr>\n",
       "    <tr>\n",
       "      <th>26</th>\n",
       "      <td>2021</td>\n",
       "      <td>9,221,000,000.0</td>\n",
       "      <td>0.1082</td>\n",
       "      <td>8,320,700,234.6147</td>\n",
       "      <td>272,327,008.0</td>\n",
       "      <td>10,959,000,000.0</td>\n",
       "      <td>6,315,000,000.0</td>\n",
       "      <td>144.9014</td>\n",
       "    </tr>\n",
       "    <tr>\n",
       "      <th>27</th>\n",
       "      <td>2021</td>\n",
       "      <td>9,221,000,000.0</td>\n",
       "      <td>0.1082</td>\n",
       "      <td>8,320,700,234.6147</td>\n",
       "      <td>272,327,008.0</td>\n",
       "      <td>10,959,000,000.0</td>\n",
       "      <td>6,315,000,000.0</td>\n",
       "      <td>144.9014</td>\n",
       "    </tr>\n",
       "    <tr>\n",
       "      <th>28</th>\n",
       "      <td>2021</td>\n",
       "      <td>9,221,000,000.0</td>\n",
       "      <td>0.1082</td>\n",
       "      <td>8,320,700,234.6147</td>\n",
       "      <td>272,327,008.0</td>\n",
       "      <td>10,959,000,000.0</td>\n",
       "      <td>6,315,000,000.0</td>\n",
       "      <td>144.9014</td>\n",
       "    </tr>\n",
       "    <tr>\n",
       "      <th>29</th>\n",
       "      <td>2021</td>\n",
       "      <td>9,221,000,000.0</td>\n",
       "      <td>0.1082</td>\n",
       "      <td>8,320,700,234.6147</td>\n",
       "      <td>272,327,008.0</td>\n",
       "      <td>10,959,000,000.0</td>\n",
       "      <td>6,315,000,000.0</td>\n",
       "      <td>144.9014</td>\n",
       "    </tr>\n",
       "    <tr>\n",
       "      <th>...</th>\n",
       "      <td>...</td>\n",
       "      <td>...</td>\n",
       "      <td>...</td>\n",
       "      <td>...</td>\n",
       "      <td>...</td>\n",
       "      <td>...</td>\n",
       "      <td>...</td>\n",
       "      <td>...</td>\n",
       "    </tr>\n",
       "    <tr>\n",
       "      <th>1697</th>\n",
       "      <td>2018</td>\n",
       "      <td>3,138,000,000.0</td>\n",
       "      <td>0.0</td>\n",
       "      <td>3,138,000,000.0</td>\n",
       "      <td>272,327,008.0</td>\n",
       "      <td>1,394,000,000.0</td>\n",
       "      <td>5,046,000,000.0</td>\n",
       "      <td>46.1961</td>\n",
       "    </tr>\n",
       "    <tr>\n",
       "      <th>1698</th>\n",
       "      <td>2018</td>\n",
       "      <td>3,138,000,000.0</td>\n",
       "      <td>0.0</td>\n",
       "      <td>3,138,000,000.0</td>\n",
       "      <td>272,327,008.0</td>\n",
       "      <td>1,394,000,000.0</td>\n",
       "      <td>5,046,000,000.0</td>\n",
       "      <td>46.1961</td>\n",
       "    </tr>\n",
       "    <tr>\n",
       "      <th>1699</th>\n",
       "      <td>2018</td>\n",
       "      <td>3,138,000,000.0</td>\n",
       "      <td>0.0</td>\n",
       "      <td>3,138,000,000.0</td>\n",
       "      <td>272,327,008.0</td>\n",
       "      <td>1,394,000,000.0</td>\n",
       "      <td>5,046,000,000.0</td>\n",
       "      <td>46.1961</td>\n",
       "    </tr>\n",
       "    <tr>\n",
       "      <th>1700</th>\n",
       "      <td>2018</td>\n",
       "      <td>3,138,000,000.0</td>\n",
       "      <td>0.0</td>\n",
       "      <td>3,138,000,000.0</td>\n",
       "      <td>272,327,008.0</td>\n",
       "      <td>1,394,000,000.0</td>\n",
       "      <td>5,046,000,000.0</td>\n",
       "      <td>46.1961</td>\n",
       "    </tr>\n",
       "    <tr>\n",
       "      <th>1701</th>\n",
       "      <td>2018</td>\n",
       "      <td>3,138,000,000.0</td>\n",
       "      <td>0.0</td>\n",
       "      <td>3,138,000,000.0</td>\n",
       "      <td>272,327,008.0</td>\n",
       "      <td>1,394,000,000.0</td>\n",
       "      <td>5,046,000,000.0</td>\n",
       "      <td>46.1961</td>\n",
       "    </tr>\n",
       "    <tr>\n",
       "      <th>1702</th>\n",
       "      <td>2018</td>\n",
       "      <td>3,138,000,000.0</td>\n",
       "      <td>0.0</td>\n",
       "      <td>3,138,000,000.0</td>\n",
       "      <td>272,327,008.0</td>\n",
       "      <td>1,394,000,000.0</td>\n",
       "      <td>5,046,000,000.0</td>\n",
       "      <td>46.1961</td>\n",
       "    </tr>\n",
       "    <tr>\n",
       "      <th>1703</th>\n",
       "      <td>2018</td>\n",
       "      <td>3,138,000,000.0</td>\n",
       "      <td>0.0</td>\n",
       "      <td>3,138,000,000.0</td>\n",
       "      <td>272,327,008.0</td>\n",
       "      <td>1,394,000,000.0</td>\n",
       "      <td>5,046,000,000.0</td>\n",
       "      <td>46.1961</td>\n",
       "    </tr>\n",
       "    <tr>\n",
       "      <th>1704</th>\n",
       "      <td>2018</td>\n",
       "      <td>3,138,000,000.0</td>\n",
       "      <td>0.0</td>\n",
       "      <td>3,138,000,000.0</td>\n",
       "      <td>272,327,008.0</td>\n",
       "      <td>1,394,000,000.0</td>\n",
       "      <td>5,046,000,000.0</td>\n",
       "      <td>46.1961</td>\n",
       "    </tr>\n",
       "    <tr>\n",
       "      <th>1705</th>\n",
       "      <td>2018</td>\n",
       "      <td>3,138,000,000.0</td>\n",
       "      <td>0.0</td>\n",
       "      <td>3,138,000,000.0</td>\n",
       "      <td>272,327,008.0</td>\n",
       "      <td>1,394,000,000.0</td>\n",
       "      <td>5,046,000,000.0</td>\n",
       "      <td>46.1961</td>\n",
       "    </tr>\n",
       "    <tr>\n",
       "      <th>1706</th>\n",
       "      <td>2018</td>\n",
       "      <td>3,138,000,000.0</td>\n",
       "      <td>0.0</td>\n",
       "      <td>3,138,000,000.0</td>\n",
       "      <td>272,327,008.0</td>\n",
       "      <td>1,394,000,000.0</td>\n",
       "      <td>5,046,000,000.0</td>\n",
       "      <td>46.1961</td>\n",
       "    </tr>\n",
       "    <tr>\n",
       "      <th>1707</th>\n",
       "      <td>2018</td>\n",
       "      <td>3,138,000,000.0</td>\n",
       "      <td>0.0</td>\n",
       "      <td>3,138,000,000.0</td>\n",
       "      <td>272,327,008.0</td>\n",
       "      <td>1,394,000,000.0</td>\n",
       "      <td>5,046,000,000.0</td>\n",
       "      <td>46.1961</td>\n",
       "    </tr>\n",
       "    <tr>\n",
       "      <th>1708</th>\n",
       "      <td>2018</td>\n",
       "      <td>3,138,000,000.0</td>\n",
       "      <td>0.0</td>\n",
       "      <td>3,138,000,000.0</td>\n",
       "      <td>272,327,008.0</td>\n",
       "      <td>1,394,000,000.0</td>\n",
       "      <td>5,046,000,000.0</td>\n",
       "      <td>46.1961</td>\n",
       "    </tr>\n",
       "    <tr>\n",
       "      <th>1709</th>\n",
       "      <td>2018</td>\n",
       "      <td>3,138,000,000.0</td>\n",
       "      <td>0.0</td>\n",
       "      <td>3,138,000,000.0</td>\n",
       "      <td>272,327,008.0</td>\n",
       "      <td>1,394,000,000.0</td>\n",
       "      <td>5,046,000,000.0</td>\n",
       "      <td>46.1961</td>\n",
       "    </tr>\n",
       "    <tr>\n",
       "      <th>1710</th>\n",
       "      <td>2018</td>\n",
       "      <td>3,138,000,000.0</td>\n",
       "      <td>0.0</td>\n",
       "      <td>3,138,000,000.0</td>\n",
       "      <td>272,327,008.0</td>\n",
       "      <td>1,394,000,000.0</td>\n",
       "      <td>5,046,000,000.0</td>\n",
       "      <td>46.1961</td>\n",
       "    </tr>\n",
       "    <tr>\n",
       "      <th>1711</th>\n",
       "      <td>2018</td>\n",
       "      <td>3,138,000,000.0</td>\n",
       "      <td>0.0</td>\n",
       "      <td>3,138,000,000.0</td>\n",
       "      <td>272,327,008.0</td>\n",
       "      <td>1,394,000,000.0</td>\n",
       "      <td>5,046,000,000.0</td>\n",
       "      <td>46.1961</td>\n",
       "    </tr>\n",
       "    <tr>\n",
       "      <th>1712</th>\n",
       "      <td>2018</td>\n",
       "      <td>3,138,000,000.0</td>\n",
       "      <td>0.0</td>\n",
       "      <td>3,138,000,000.0</td>\n",
       "      <td>272,327,008.0</td>\n",
       "      <td>1,394,000,000.0</td>\n",
       "      <td>5,046,000,000.0</td>\n",
       "      <td>46.1961</td>\n",
       "    </tr>\n",
       "    <tr>\n",
       "      <th>1713</th>\n",
       "      <td>2018</td>\n",
       "      <td>3,138,000,000.0</td>\n",
       "      <td>0.0</td>\n",
       "      <td>3,138,000,000.0</td>\n",
       "      <td>272,327,008.0</td>\n",
       "      <td>1,394,000,000.0</td>\n",
       "      <td>5,046,000,000.0</td>\n",
       "      <td>46.1961</td>\n",
       "    </tr>\n",
       "    <tr>\n",
       "      <th>1714</th>\n",
       "      <td>2018</td>\n",
       "      <td>3,138,000,000.0</td>\n",
       "      <td>0.0</td>\n",
       "      <td>3,138,000,000.0</td>\n",
       "      <td>272,327,008.0</td>\n",
       "      <td>1,394,000,000.0</td>\n",
       "      <td>5,046,000,000.0</td>\n",
       "      <td>46.1961</td>\n",
       "    </tr>\n",
       "    <tr>\n",
       "      <th>1715</th>\n",
       "      <td>2018</td>\n",
       "      <td>3,138,000,000.0</td>\n",
       "      <td>0.0</td>\n",
       "      <td>3,138,000,000.0</td>\n",
       "      <td>272,327,008.0</td>\n",
       "      <td>1,394,000,000.0</td>\n",
       "      <td>5,046,000,000.0</td>\n",
       "      <td>46.1961</td>\n",
       "    </tr>\n",
       "    <tr>\n",
       "      <th>1716</th>\n",
       "      <td>2018</td>\n",
       "      <td>3,138,000,000.0</td>\n",
       "      <td>0.0</td>\n",
       "      <td>3,138,000,000.0</td>\n",
       "      <td>272,327,008.0</td>\n",
       "      <td>1,394,000,000.0</td>\n",
       "      <td>5,046,000,000.0</td>\n",
       "      <td>46.1961</td>\n",
       "    </tr>\n",
       "    <tr>\n",
       "      <th>1717</th>\n",
       "      <td>2018</td>\n",
       "      <td>3,138,000,000.0</td>\n",
       "      <td>0.0</td>\n",
       "      <td>3,138,000,000.0</td>\n",
       "      <td>272,327,008.0</td>\n",
       "      <td>1,394,000,000.0</td>\n",
       "      <td>5,046,000,000.0</td>\n",
       "      <td>46.1961</td>\n",
       "    </tr>\n",
       "    <tr>\n",
       "      <th>1718</th>\n",
       "      <td>2018</td>\n",
       "      <td>3,138,000,000.0</td>\n",
       "      <td>0.0</td>\n",
       "      <td>3,138,000,000.0</td>\n",
       "      <td>272,327,008.0</td>\n",
       "      <td>1,394,000,000.0</td>\n",
       "      <td>5,046,000,000.0</td>\n",
       "      <td>46.1961</td>\n",
       "    </tr>\n",
       "    <tr>\n",
       "      <th>1719</th>\n",
       "      <td>2018</td>\n",
       "      <td>3,138,000,000.0</td>\n",
       "      <td>0.0</td>\n",
       "      <td>3,138,000,000.0</td>\n",
       "      <td>272,327,008.0</td>\n",
       "      <td>1,394,000,000.0</td>\n",
       "      <td>5,046,000,000.0</td>\n",
       "      <td>46.1961</td>\n",
       "    </tr>\n",
       "    <tr>\n",
       "      <th>1720</th>\n",
       "      <td>2018</td>\n",
       "      <td>3,138,000,000.0</td>\n",
       "      <td>0.0</td>\n",
       "      <td>3,138,000,000.0</td>\n",
       "      <td>272,327,008.0</td>\n",
       "      <td>1,394,000,000.0</td>\n",
       "      <td>5,046,000,000.0</td>\n",
       "      <td>46.1961</td>\n",
       "    </tr>\n",
       "    <tr>\n",
       "      <th>1721</th>\n",
       "      <td>2018</td>\n",
       "      <td>3,138,000,000.0</td>\n",
       "      <td>0.0</td>\n",
       "      <td>3,138,000,000.0</td>\n",
       "      <td>272,327,008.0</td>\n",
       "      <td>1,394,000,000.0</td>\n",
       "      <td>5,046,000,000.0</td>\n",
       "      <td>46.1961</td>\n",
       "    </tr>\n",
       "    <tr>\n",
       "      <th>1722</th>\n",
       "      <td>2018</td>\n",
       "      <td>3,138,000,000.0</td>\n",
       "      <td>0.0</td>\n",
       "      <td>3,138,000,000.0</td>\n",
       "      <td>272,327,008.0</td>\n",
       "      <td>1,394,000,000.0</td>\n",
       "      <td>5,046,000,000.0</td>\n",
       "      <td>46.1961</td>\n",
       "    </tr>\n",
       "    <tr>\n",
       "      <th>1723</th>\n",
       "      <td>2018</td>\n",
       "      <td>3,138,000,000.0</td>\n",
       "      <td>0.0</td>\n",
       "      <td>3,138,000,000.0</td>\n",
       "      <td>272,327,008.0</td>\n",
       "      <td>1,394,000,000.0</td>\n",
       "      <td>5,046,000,000.0</td>\n",
       "      <td>46.1961</td>\n",
       "    </tr>\n",
       "    <tr>\n",
       "      <th>1724</th>\n",
       "      <td>2018</td>\n",
       "      <td>3,138,000,000.0</td>\n",
       "      <td>0.0</td>\n",
       "      <td>3,138,000,000.0</td>\n",
       "      <td>272,327,008.0</td>\n",
       "      <td>1,394,000,000.0</td>\n",
       "      <td>5,046,000,000.0</td>\n",
       "      <td>46.1961</td>\n",
       "    </tr>\n",
       "    <tr>\n",
       "      <th>1725</th>\n",
       "      <td>2018</td>\n",
       "      <td>3,138,000,000.0</td>\n",
       "      <td>0.0</td>\n",
       "      <td>3,138,000,000.0</td>\n",
       "      <td>272,327,008.0</td>\n",
       "      <td>1,394,000,000.0</td>\n",
       "      <td>5,046,000,000.0</td>\n",
       "      <td>46.1961</td>\n",
       "    </tr>\n",
       "    <tr>\n",
       "      <th>1726</th>\n",
       "      <td>2018</td>\n",
       "      <td>3,138,000,000.0</td>\n",
       "      <td>0.0</td>\n",
       "      <td>3,138,000,000.0</td>\n",
       "      <td>272,327,008.0</td>\n",
       "      <td>1,394,000,000.0</td>\n",
       "      <td>5,046,000,000.0</td>\n",
       "      <td>46.1961</td>\n",
       "    </tr>\n",
       "  </tbody>\n",
       "</table>\n",
       "<p>1727 rows × 8 columns</p>\n",
       "</div>"
      ],
      "text/plain": [
       "      Year             CFO  Wacc1         Firm_Value        Shares  \\\n",
       "0     2021 9,221,000,000.0 0.1082 8,320,700,234.6147 272,327,008.0   \n",
       "1     2021 9,221,000,000.0 0.1082 8,320,700,234.6147 272,327,008.0   \n",
       "2     2021 9,221,000,000.0 0.1082 8,320,700,234.6147 272,327,008.0   \n",
       "3     2021 9,221,000,000.0 0.1082 8,320,700,234.6147 272,327,008.0   \n",
       "4     2021 9,221,000,000.0 0.1082 8,320,700,234.6147 272,327,008.0   \n",
       "5     2021 9,221,000,000.0 0.1082 8,320,700,234.6147 272,327,008.0   \n",
       "6     2021 9,221,000,000.0 0.1082 8,320,700,234.6147 272,327,008.0   \n",
       "7     2021 9,221,000,000.0 0.1082 8,320,700,234.6147 272,327,008.0   \n",
       "8     2021 9,221,000,000.0 0.1082 8,320,700,234.6147 272,327,008.0   \n",
       "9     2021 9,221,000,000.0 0.1082 8,320,700,234.6147 272,327,008.0   \n",
       "10    2021 9,221,000,000.0 0.1082 8,320,700,234.6147 272,327,008.0   \n",
       "11    2021 9,221,000,000.0 0.1082 8,320,700,234.6147 272,327,008.0   \n",
       "12    2021 9,221,000,000.0 0.1082 8,320,700,234.6147 272,327,008.0   \n",
       "13    2021 9,221,000,000.0 0.1082 8,320,700,234.6147 272,327,008.0   \n",
       "14    2021 9,221,000,000.0 0.1082 8,320,700,234.6147 272,327,008.0   \n",
       "15    2021 9,221,000,000.0 0.1082 8,320,700,234.6147 272,327,008.0   \n",
       "16    2021 9,221,000,000.0 0.1082 8,320,700,234.6147 272,327,008.0   \n",
       "17    2021 9,221,000,000.0 0.1082 8,320,700,234.6147 272,327,008.0   \n",
       "18    2021 9,221,000,000.0 0.1082 8,320,700,234.6147 272,327,008.0   \n",
       "19    2021 9,221,000,000.0 0.1082 8,320,700,234.6147 272,327,008.0   \n",
       "20    2021 9,221,000,000.0 0.1082 8,320,700,234.6147 272,327,008.0   \n",
       "21    2021 9,221,000,000.0 0.1082 8,320,700,234.6147 272,327,008.0   \n",
       "22    2021 9,221,000,000.0 0.1082 8,320,700,234.6147 272,327,008.0   \n",
       "23    2021 9,221,000,000.0 0.1082 8,320,700,234.6147 272,327,008.0   \n",
       "24    2021 9,221,000,000.0 0.1082 8,320,700,234.6147 272,327,008.0   \n",
       "25    2021 9,221,000,000.0 0.1082 8,320,700,234.6147 272,327,008.0   \n",
       "26    2021 9,221,000,000.0 0.1082 8,320,700,234.6147 272,327,008.0   \n",
       "27    2021 9,221,000,000.0 0.1082 8,320,700,234.6147 272,327,008.0   \n",
       "28    2021 9,221,000,000.0 0.1082 8,320,700,234.6147 272,327,008.0   \n",
       "29    2021 9,221,000,000.0 0.1082 8,320,700,234.6147 272,327,008.0   \n",
       "...    ...             ...    ...                ...           ...   \n",
       "1697  2018 3,138,000,000.0    0.0    3,138,000,000.0 272,327,008.0   \n",
       "1698  2018 3,138,000,000.0    0.0    3,138,000,000.0 272,327,008.0   \n",
       "1699  2018 3,138,000,000.0    0.0    3,138,000,000.0 272,327,008.0   \n",
       "1700  2018 3,138,000,000.0    0.0    3,138,000,000.0 272,327,008.0   \n",
       "1701  2018 3,138,000,000.0    0.0    3,138,000,000.0 272,327,008.0   \n",
       "1702  2018 3,138,000,000.0    0.0    3,138,000,000.0 272,327,008.0   \n",
       "1703  2018 3,138,000,000.0    0.0    3,138,000,000.0 272,327,008.0   \n",
       "1704  2018 3,138,000,000.0    0.0    3,138,000,000.0 272,327,008.0   \n",
       "1705  2018 3,138,000,000.0    0.0    3,138,000,000.0 272,327,008.0   \n",
       "1706  2018 3,138,000,000.0    0.0    3,138,000,000.0 272,327,008.0   \n",
       "1707  2018 3,138,000,000.0    0.0    3,138,000,000.0 272,327,008.0   \n",
       "1708  2018 3,138,000,000.0    0.0    3,138,000,000.0 272,327,008.0   \n",
       "1709  2018 3,138,000,000.0    0.0    3,138,000,000.0 272,327,008.0   \n",
       "1710  2018 3,138,000,000.0    0.0    3,138,000,000.0 272,327,008.0   \n",
       "1711  2018 3,138,000,000.0    0.0    3,138,000,000.0 272,327,008.0   \n",
       "1712  2018 3,138,000,000.0    0.0    3,138,000,000.0 272,327,008.0   \n",
       "1713  2018 3,138,000,000.0    0.0    3,138,000,000.0 272,327,008.0   \n",
       "1714  2018 3,138,000,000.0    0.0    3,138,000,000.0 272,327,008.0   \n",
       "1715  2018 3,138,000,000.0    0.0    3,138,000,000.0 272,327,008.0   \n",
       "1716  2018 3,138,000,000.0    0.0    3,138,000,000.0 272,327,008.0   \n",
       "1717  2018 3,138,000,000.0    0.0    3,138,000,000.0 272,327,008.0   \n",
       "1718  2018 3,138,000,000.0    0.0    3,138,000,000.0 272,327,008.0   \n",
       "1719  2018 3,138,000,000.0    0.0    3,138,000,000.0 272,327,008.0   \n",
       "1720  2018 3,138,000,000.0    0.0    3,138,000,000.0 272,327,008.0   \n",
       "1721  2018 3,138,000,000.0    0.0    3,138,000,000.0 272,327,008.0   \n",
       "1722  2018 3,138,000,000.0    0.0    3,138,000,000.0 272,327,008.0   \n",
       "1723  2018 3,138,000,000.0    0.0    3,138,000,000.0 272,327,008.0   \n",
       "1724  2018 3,138,000,000.0    0.0    3,138,000,000.0 272,327,008.0   \n",
       "1725  2018 3,138,000,000.0    0.0    3,138,000,000.0 272,327,008.0   \n",
       "1726  2018 3,138,000,000.0    0.0    3,138,000,000.0 272,327,008.0   \n",
       "\n",
       "      Total Stockholder Equity      Net Income  Graham_number  \n",
       "0             10,959,000,000.0 6,315,000,000.0       144.9014  \n",
       "1             10,959,000,000.0 6,315,000,000.0       144.9014  \n",
       "2             10,959,000,000.0 6,315,000,000.0       144.9014  \n",
       "3             10,959,000,000.0 6,315,000,000.0       144.9014  \n",
       "4             10,959,000,000.0 6,315,000,000.0       144.9014  \n",
       "5             10,959,000,000.0 6,315,000,000.0       144.9014  \n",
       "6             10,959,000,000.0 6,315,000,000.0       144.9014  \n",
       "7             10,959,000,000.0 6,315,000,000.0       144.9014  \n",
       "8             10,959,000,000.0 6,315,000,000.0       144.9014  \n",
       "9             10,959,000,000.0 6,315,000,000.0       144.9014  \n",
       "10            10,959,000,000.0 6,315,000,000.0       144.9014  \n",
       "11            10,959,000,000.0 6,315,000,000.0       144.9014  \n",
       "12            10,959,000,000.0 6,315,000,000.0       144.9014  \n",
       "13            10,959,000,000.0 6,315,000,000.0       144.9014  \n",
       "14            10,959,000,000.0 6,315,000,000.0       144.9014  \n",
       "15            10,959,000,000.0 6,315,000,000.0       144.9014  \n",
       "16            10,959,000,000.0 6,315,000,000.0       144.9014  \n",
       "17            10,959,000,000.0 6,315,000,000.0       144.9014  \n",
       "18            10,959,000,000.0 6,315,000,000.0       144.9014  \n",
       "19            10,959,000,000.0 6,315,000,000.0       144.9014  \n",
       "20            10,959,000,000.0 6,315,000,000.0       144.9014  \n",
       "21            10,959,000,000.0 6,315,000,000.0       144.9014  \n",
       "22            10,959,000,000.0 6,315,000,000.0       144.9014  \n",
       "23            10,959,000,000.0 6,315,000,000.0       144.9014  \n",
       "24            10,959,000,000.0 6,315,000,000.0       144.9014  \n",
       "25            10,959,000,000.0 6,315,000,000.0       144.9014  \n",
       "26            10,959,000,000.0 6,315,000,000.0       144.9014  \n",
       "27            10,959,000,000.0 6,315,000,000.0       144.9014  \n",
       "28            10,959,000,000.0 6,315,000,000.0       144.9014  \n",
       "29            10,959,000,000.0 6,315,000,000.0       144.9014  \n",
       "...                        ...             ...            ...  \n",
       "1697           1,394,000,000.0 5,046,000,000.0        46.1961  \n",
       "1698           1,394,000,000.0 5,046,000,000.0        46.1961  \n",
       "1699           1,394,000,000.0 5,046,000,000.0        46.1961  \n",
       "1700           1,394,000,000.0 5,046,000,000.0        46.1961  \n",
       "1701           1,394,000,000.0 5,046,000,000.0        46.1961  \n",
       "1702           1,394,000,000.0 5,046,000,000.0        46.1961  \n",
       "1703           1,394,000,000.0 5,046,000,000.0        46.1961  \n",
       "1704           1,394,000,000.0 5,046,000,000.0        46.1961  \n",
       "1705           1,394,000,000.0 5,046,000,000.0        46.1961  \n",
       "1706           1,394,000,000.0 5,046,000,000.0        46.1961  \n",
       "1707           1,394,000,000.0 5,046,000,000.0        46.1961  \n",
       "1708           1,394,000,000.0 5,046,000,000.0        46.1961  \n",
       "1709           1,394,000,000.0 5,046,000,000.0        46.1961  \n",
       "1710           1,394,000,000.0 5,046,000,000.0        46.1961  \n",
       "1711           1,394,000,000.0 5,046,000,000.0        46.1961  \n",
       "1712           1,394,000,000.0 5,046,000,000.0        46.1961  \n",
       "1713           1,394,000,000.0 5,046,000,000.0        46.1961  \n",
       "1714           1,394,000,000.0 5,046,000,000.0        46.1961  \n",
       "1715           1,394,000,000.0 5,046,000,000.0        46.1961  \n",
       "1716           1,394,000,000.0 5,046,000,000.0        46.1961  \n",
       "1717           1,394,000,000.0 5,046,000,000.0        46.1961  \n",
       "1718           1,394,000,000.0 5,046,000,000.0        46.1961  \n",
       "1719           1,394,000,000.0 5,046,000,000.0        46.1961  \n",
       "1720           1,394,000,000.0 5,046,000,000.0        46.1961  \n",
       "1721           1,394,000,000.0 5,046,000,000.0        46.1961  \n",
       "1722           1,394,000,000.0 5,046,000,000.0        46.1961  \n",
       "1723           1,394,000,000.0 5,046,000,000.0        46.1961  \n",
       "1724           1,394,000,000.0 5,046,000,000.0        46.1961  \n",
       "1725           1,394,000,000.0 5,046,000,000.0        46.1961  \n",
       "1726           1,394,000,000.0 5,046,000,000.0        46.1961  \n",
       "\n",
       "[1727 rows x 8 columns]"
      ]
     },
     "execution_count": 100,
     "metadata": {},
     "output_type": "execute_result"
    }
   ],
   "source": [
    "graham_number = fcf_valuation[['Year', 'CFO', 'Wacc1', 'Firm_Value', 'Shares']].copy()\n",
    "graham_number = pd.merge(graham_number, result[['Year', 'Total Stockholder Equity', 'Net Income']], on='Year', how='left')\n",
    "graham_number['Graham_number'] = np.sqrt(22.5 * \\\n",
    "                                         (graham_number['Net Income']/ graham_number['Shares']) \\\n",
    "                                         * (graham_number['Total Stockholder Equity']/ graham_number['Shares']))\n",
    "graham_number = Format_Table(graham_number)\n",
    "graham_number"
   ]
  },
  {
   "cell_type": "code",
   "execution_count": 101,
   "metadata": {},
   "outputs": [],
   "source": [
    "import sys\n",
    "import importlib\n",
    "importlib.reload(sys)\n",
    "# importlib.reload(FinancialDataDef)\n",
    "from FinancialDataDef import FinancialData\n",
    "\n",
    "import os\n",
    "import json\n",
    "current_dir = os.path.abspath('')\n",
    "peers_dir = os.path.join(current_dir, \"Peers_By_Stock\")\n",
    "file_target = os.path.join(peers_dir, str(ticker+\".json\"))\n",
    "file_target = open(file_target)\n",
    "file = json.load(file_target)\n",
    "peer_list = file\n",
    "peer_list = list(dict.fromkeys(peer_list))\n",
    "# peer_list = ['BA']\n",
    "peer_list.append(ticker)"
   ]
  },
  {
   "cell_type": "code",
   "execution_count": 103,
   "metadata": {},
   "outputs": [
    {
     "name": "stdout",
     "output_type": "stream",
     "text": [
      "Starting with BA\n"
     ]
    },
    {
     "name": "stderr",
     "output_type": "stream",
     "text": [
      "C:\\Users\\Lenovo\\Documents\\Dev\\equity_valuator\\FinancialDataDef.py:220: RuntimeWarning:\n",
      "\n",
      "invalid value encountered in log\n",
      "\n",
      "C:\\Users\\Lenovo\\Documents\\Dev\\equity_valuator\\FinancialDataDef.py:262: RuntimeWarning:\n",
      "\n",
      "invalid value encountered in log\n",
      "\n"
     ]
    },
    {
     "name": "stdout",
     "output_type": "stream",
     "text": [
      "BA finished\n",
      "Starting with RTX\n",
      "RTX finished\n",
      "Starting with LMT\n",
      "LMT finished\n",
      "Starting with NOC\n",
      "NOC finished\n",
      "Starting with GD\n",
      "GD finished\n",
      "Starting with LHX\n",
      "LHX finished\n",
      "Starting with TDG\n",
      "TDG finished\n",
      "Starting with HEI\n",
      "HEI finished\n",
      "Starting with TDY\n",
      "Statement Year is bigger than avg price year\n",
      "2021\n",
      "TDY finished\n",
      "Starting with TXT\n",
      "Statement Year is bigger than avg price year\n",
      "2021\n",
      "TXT finished\n",
      "Starting with LMT\n",
      "LMT finished\n",
      "<generator object <genexpr> at 0x000001CBA5F94C00>\n"
     ]
    }
   ],
   "source": [
    "peers_class_dict = {}\n",
    "peers_class_list = [FinancialData(peer, ticker, start_date, end_date) for peer in peer_list]\n",
    "print(peer.ticker for peer in peers_class_list)"
   ]
  },
  {
   "cell_type": "code",
   "execution_count": 104,
   "metadata": {},
   "outputs": [],
   "source": [
    "import seaborn as sns\n",
    "sns.set(font_scale=1)\n",
    "import matplotlib.ticker as tick\n",
    "\n",
    "def reformat_large_tick_values(tick_val, pos):\n",
    "    \"\"\"\n",
    "    Turns large tick values (in the billions, millions and thousands) such as 4500 into 4.5K and also appropriately turns 4000 into 4K (no zero after the decimal).\n",
    "    \"\"\"\n",
    "    if tick_val >= 1000000000:\n",
    "        val = round(tick_val/1000000000, 1)\n",
    "        new_tick_format = '{:}B'.format(val)\n",
    "    elif tick_val >= 1000000:\n",
    "        val = round(tick_val/1000000, 1)\n",
    "        new_tick_format = '{:}M'.format(val)\n",
    "    elif tick_val >= 1000:\n",
    "        val = round(tick_val/1000, 1)\n",
    "        new_tick_format = '{:}K'.format(val)\n",
    "    elif tick_val < 1000:\n",
    "        new_tick_format = round(tick_val, 1)\n",
    "    else:\n",
    "        new_tick_format = tick_val\n",
    "\n",
    "    # make new_tick_format into a string value\n",
    "    new_tick_format = str(new_tick_format)\n",
    "    \n",
    "    # code below will keep 4.5M as is but change values such as 4.0M to 4M since that zero after the decimal isn't needed\n",
    "    index_of_decimal = new_tick_format.find(\".\")\n",
    "    \n",
    "    if index_of_decimal != -1:\n",
    "        value_after_decimal = new_tick_format[index_of_decimal+1]\n",
    "        if value_after_decimal == \"0\":\n",
    "            # remove the 0 after the decimal point since it's not needed\n",
    "            new_tick_format = new_tick_format[0:index_of_decimal] + new_tick_format[index_of_decimal+2:]\n",
    "            \n",
    "    return new_tick_format"
   ]
  },
  {
   "cell_type": "code",
   "execution_count": 105,
   "metadata": {},
   "outputs": [],
   "source": [
    "import locale\n",
    "import seaborn as sns\n",
    "locale.setlocale(locale.LC_ALL, '')\n",
    "import plotly.graph_objects as go\n",
    "import plotly.express as px\n",
    "\n",
    "\n",
    "def Get_Target_Peer_Metric(metric, snd_metric, target_table\n",
    "                           , current_target_table, scale_factor, graph):\n",
    "    \n",
    "    if graph == \"scatter\":\n",
    "        metric_table = pd.DataFrame()\n",
    "        metric_table['Symbol'] = ticker\n",
    "        metric_table[\"{}\".format(metric)] = current_target_table[\"{}\".format(metric)].iloc[0]\n",
    "        metric_table[\"{}\".format(snd_metric)] = current_target_table[\"{}\".format(snd_metric)].iloc[0]\n",
    "        for peer in peers_class_list:\n",
    "            peer_dict = {'Symbol': peer.symbol, metric: getattr(peer,target_table)[\"{}\".format(metric)].iloc[0],\n",
    "                        snd_metric: getattr(peer,target_table)[\"{}\".format(snd_metric)].iloc[0]}\n",
    "            metric_table = metric_table.append(peer_dict, ignore_index=True)\n",
    "        # Get Unique continents\n",
    "        color_labels = metric_table['Symbol']\n",
    "\n",
    "        # List of colors in the color palettes\n",
    "        rgb_values = sns.color_palette(\"Set2\", 10)\n",
    "\n",
    "        # Map continents to the colors\n",
    "        color_map = dict(zip(color_labels, rgb_values))\n",
    "\n",
    "        # Finally use the mapped values\n",
    "\n",
    "        plt.figure(figsize=(15, 8), dpi=80)\n",
    "        plt.xlabel(\"{}\".format(metric))\n",
    "        plt.ylabel(\"{}\".format(snd_metric))\n",
    "        plt.scatter(metric_table[\"{}\".format(metric)]\n",
    "                    , metric_table[\"{}\".format(snd_metric)]\n",
    "                    , s=(metric_table[\"{}\".format(metric)]/scale_factor)\n",
    "                   , c=metric_table['Symbol'].map(color_map))\n",
    "        xmin, xmax = plt.xlim()\n",
    "        ymin, ymax = plt.ylim()\n",
    "        plt.xlim(xmin + xmin * 0.1, xmax + xmax*0.1)\n",
    "        plt.ylim(ymin + ymin * 0.1, ymax + ymax*0.1)\n",
    "\n",
    "\n",
    "        for i, txt in enumerate(metric_table['Symbol'] ):\n",
    "            plt.annotate(\"{}\\n\\n{}\".format(txt\n",
    "                         , locale.currency(metric_table[\"{}\".format(metric)][i], grouping=True))\n",
    "                         , (metric_table[\"{}\".format(metric)][i], metric_table[\"{}\".format(snd_metric)][i]))\n",
    "        ax = plt.gca()\n",
    "        ax.xaxis.set_major_formatter(tick.FuncFormatter(reformat_large_tick_values));\n",
    "        metric_table = metric_table.drop_duplicates(subset =[\"Symbol\"])\n",
    "\n",
    "        return metric_table\n",
    "\n",
    "    elif graph == \"bars\":\n",
    "\n",
    "\n",
    "        metric_table = pd.DataFrame()\n",
    "        metric_table['Symbol'] = ticker\n",
    "        metric_table[\"{}\".format(metric)] = current_target_table[\"{}\".format(metric)].iloc[0]\n",
    "        for peer in peers_class_list:\n",
    "            peer_dict = {'Symbol': peer.symbol, metric: getattr(peer,target_table)[\"{}\".format(metric)].iloc[0]}\n",
    "            metric_table = metric_table.append(peer_dict, ignore_index=True)\n",
    "\n",
    "        \n",
    "#         ax = metric_table[['Symbol',\"{}\".format(metric)]].plot(kind='bar', title =\"{}\".format(metric), figsize=(15, 10), legend=True, fontsize=12)\n",
    "#         ax.set_xlabel(\"Symbol\", fontsize=12)\n",
    "#         ax.set_ylabel(\"{}\".format(metric), fontsize=12)\n",
    "#         ax.set_xticklabels(metric_table['Symbol'])\n",
    "\n",
    "\n",
    "#         plt.xlabel(\"{}\".format(metric))\n",
    "#         ay = plt.gca()\n",
    "#         ax.yaxis.set_major_formatter(tick.FuncFormatter(reformat_large_tick_values));\n",
    "#         for p in ax.patches:\n",
    "#                 ax.annotate(str(p.get_height()), (p.get_x() * 1.005, p.get_height() * 1.005))\n",
    "\n",
    "        metric_table = metric_table.drop_duplicates(subset =[\"Symbol\"])\n",
    "        fig2 = px.bar(metric_table, x='Symbol', y=\"{}\".format(metric), title='{}. Year {}'.format(metric\n",
    "                                                                                                 ,current_target_table[\"Year\"].iloc[0]))\n",
    "        fig2.show()\n",
    "        return metric_table\n",
    "        \n",
    "    \n",
    "    if graph == 'lines':\n",
    "        metric_table = pd.DataFrame()\n",
    "        metric_table['Year'] = current_target_table['Year']\n",
    "#         metric_table[\"{}\".format(metric)] = current_target_table[\"{}\".format(metric)]\n",
    "        for peer in peers_class_list:\n",
    "            metric_table[\"{}\".format(peer.symbol)]= getattr(peer,target_table)[\"{}\".format(metric)]\n",
    "        fig = px.line(metric_table, x=\"Year\",y=[i for i in peer_list], title=\"{}\".format(metric))\n",
    "        fig.show()\n",
    "        return metric_table"
   ]
  },
  {
   "cell_type": "code",
   "execution_count": 106,
   "metadata": {},
   "outputs": [
    {
     "data": {
      "text/html": [
       "<div>\n",
       "<style scoped>\n",
       "    .dataframe tbody tr th:only-of-type {\n",
       "        vertical-align: middle;\n",
       "    }\n",
       "\n",
       "    .dataframe tbody tr th {\n",
       "        vertical-align: top;\n",
       "    }\n",
       "\n",
       "    .dataframe thead th {\n",
       "        text-align: right;\n",
       "    }\n",
       "</style>\n",
       "<table border=\"1\" class=\"dataframe\">\n",
       "  <thead>\n",
       "    <tr style=\"text-align: right;\">\n",
       "      <th></th>\n",
       "      <th>Symbol</th>\n",
       "      <th>Market Cap</th>\n",
       "      <th>Ev / Ebitda</th>\n",
       "    </tr>\n",
       "  </thead>\n",
       "  <tbody>\n",
       "    <tr>\n",
       "      <th>0</th>\n",
       "      <td>BA</td>\n",
       "      <td>116,844,860,000.0</td>\n",
       "      <td>118.92</td>\n",
       "    </tr>\n",
       "    <tr>\n",
       "      <th>1</th>\n",
       "      <td>RTX</td>\n",
       "      <td>124,534,937,164.8</td>\n",
       "      <td>13.59</td>\n",
       "    </tr>\n",
       "    <tr>\n",
       "      <th>2</th>\n",
       "      <td>LMT</td>\n",
       "      <td>92,811,767,596.48</td>\n",
       "      <td>11.6</td>\n",
       "    </tr>\n",
       "    <tr>\n",
       "      <th>3</th>\n",
       "      <td>NOC</td>\n",
       "      <td>57,921,647,100.0</td>\n",
       "      <td>8.02</td>\n",
       "    </tr>\n",
       "    <tr>\n",
       "      <th>4</th>\n",
       "      <td>GD</td>\n",
       "      <td>55,889,496,259.84</td>\n",
       "      <td>12.78</td>\n",
       "    </tr>\n",
       "    <tr>\n",
       "      <th>5</th>\n",
       "      <td>LHX</td>\n",
       "      <td>40,866,280,220.0</td>\n",
       "      <td>13.18</td>\n",
       "    </tr>\n",
       "    <tr>\n",
       "      <th>6</th>\n",
       "      <td>TDG</td>\n",
       "      <td>34,161,880,495.0</td>\n",
       "      <td>26.61</td>\n",
       "    </tr>\n",
       "    <tr>\n",
       "      <th>7</th>\n",
       "      <td>HEI</td>\n",
       "      <td>7,506,474,848.0</td>\n",
       "      <td>15.87</td>\n",
       "    </tr>\n",
       "    <tr>\n",
       "      <th>8</th>\n",
       "      <td>TDY</td>\n",
       "      <td>0.0</td>\n",
       "      <td>3.97</td>\n",
       "    </tr>\n",
       "    <tr>\n",
       "      <th>9</th>\n",
       "      <td>TXT</td>\n",
       "      <td>0.0</td>\n",
       "      <td>2.51</td>\n",
       "    </tr>\n",
       "  </tbody>\n",
       "</table>\n",
       "</div>"
      ],
      "text/plain": [
       "  Symbol        Market Cap  Ev / Ebitda\n",
       "0     BA 116,844,860,000.0       118.92\n",
       "1    RTX 124,534,937,164.8        13.59\n",
       "2    LMT 92,811,767,596.48         11.6\n",
       "3    NOC  57,921,647,100.0         8.02\n",
       "4     GD 55,889,496,259.84        12.78\n",
       "5    LHX  40,866,280,220.0        13.18\n",
       "6    TDG  34,161,880,495.0        26.61\n",
       "7    HEI   7,506,474,848.0        15.87\n",
       "8    TDY               0.0         3.97\n",
       "9    TXT               0.0         2.51"
      ]
     },
     "execution_count": 106,
     "metadata": {},
     "output_type": "execute_result"
    },
    {
     "data": {
      "image/png": "[encoded data removed]",
      "text/plain": [
       "<Figure size 1200x640 with 1 Axes>"
      ]
     },
     "metadata": {},
     "output_type": "display_data"
    }
   ],
   "source": [
    "Get_Target_Peer_Metric('Market Cap', 'Ev / Ebitda', 'entreprise_value_sheet'\n",
    "                       , entreprise_value_sheet,10000000, \"scatter\")"
   ]
  },
  {
   "cell_type": "code",
   "execution_count": 107,
   "metadata": {},
   "outputs": [
    {
     "data": {
      "text/html": [
       "<div>\n",
       "<style scoped>\n",
       "    .dataframe tbody tr th:only-of-type {\n",
       "        vertical-align: middle;\n",
       "    }\n",
       "\n",
       "    .dataframe tbody tr th {\n",
       "        vertical-align: top;\n",
       "    }\n",
       "\n",
       "    .dataframe thead th {\n",
       "        text-align: right;\n",
       "    }\n",
       "</style>\n",
       "<table border=\"1\" class=\"dataframe\">\n",
       "  <thead>\n",
       "    <tr style=\"text-align: right;\">\n",
       "      <th></th>\n",
       "      <th>Symbol</th>\n",
       "      <th>Debt</th>\n",
       "      <th>Ev / Ebitda</th>\n",
       "    </tr>\n",
       "  </thead>\n",
       "  <tbody>\n",
       "    <tr>\n",
       "      <th>0</th>\n",
       "      <td>BA</td>\n",
       "      <td>56,422,000,000.0</td>\n",
       "      <td>118.92</td>\n",
       "    </tr>\n",
       "    <tr>\n",
       "      <th>1</th>\n",
       "      <td>RTX</td>\n",
       "      <td>31,250,000,000.0</td>\n",
       "      <td>13.59</td>\n",
       "    </tr>\n",
       "    <tr>\n",
       "      <th>2</th>\n",
       "      <td>LMT</td>\n",
       "      <td>11,676,000,000.0</td>\n",
       "      <td>11.6</td>\n",
       "    </tr>\n",
       "    <tr>\n",
       "      <th>3</th>\n",
       "      <td>NOC</td>\n",
       "      <td>12,783,000,000.0</td>\n",
       "      <td>8.02</td>\n",
       "    </tr>\n",
       "    <tr>\n",
       "      <th>4</th>\n",
       "      <td>GD</td>\n",
       "      <td>11,495,000,000.0</td>\n",
       "      <td>12.78</td>\n",
       "    </tr>\n",
       "    <tr>\n",
       "      <th>5</th>\n",
       "      <td>LHX</td>\n",
       "      <td>7,059,000,000.0</td>\n",
       "      <td>13.18</td>\n",
       "    </tr>\n",
       "    <tr>\n",
       "      <th>6</th>\n",
       "      <td>TDG</td>\n",
       "      <td>19,829,000,000.0</td>\n",
       "      <td>26.61</td>\n",
       "    </tr>\n",
       "    <tr>\n",
       "      <th>7</th>\n",
       "      <td>HEI</td>\n",
       "      <td>225,253,000.0</td>\n",
       "      <td>15.87</td>\n",
       "    </tr>\n",
       "    <tr>\n",
       "      <th>8</th>\n",
       "      <td>TDY</td>\n",
       "      <td>4,100,700,000.0</td>\n",
       "      <td>3.97</td>\n",
       "    </tr>\n",
       "    <tr>\n",
       "      <th>9</th>\n",
       "      <td>TXT</td>\n",
       "      <td>3,185,000,000.0</td>\n",
       "      <td>2.51</td>\n",
       "    </tr>\n",
       "  </tbody>\n",
       "</table>\n",
       "</div>"
      ],
      "text/plain": [
       "  Symbol             Debt  Ev / Ebitda\n",
       "0     BA 56,422,000,000.0       118.92\n",
       "1    RTX 31,250,000,000.0        13.59\n",
       "2    LMT 11,676,000,000.0         11.6\n",
       "3    NOC 12,783,000,000.0         8.02\n",
       "4     GD 11,495,000,000.0        12.78\n",
       "5    LHX  7,059,000,000.0        13.18\n",
       "6    TDG 19,829,000,000.0        26.61\n",
       "7    HEI    225,253,000.0        15.87\n",
       "8    TDY  4,100,700,000.0         3.97\n",
       "9    TXT  3,185,000,000.0         2.51"
      ]
     },
     "execution_count": 107,
     "metadata": {},
     "output_type": "execute_result"
    },
    {
     "data": {
      "image/png": "[encoded data removed]",
      "text/plain": [
       "<Figure size 1200x640 with 1 Axes>"
      ]
     },
     "metadata": {},
     "output_type": "display_data"
    }
   ],
   "source": [
    "Get_Target_Peer_Metric('Debt', 'Ev / Ebitda', 'entreprise_value_sheet', entreprise_value_sheet, 1000000, \"scatter\")"
   ]
  },
  {
   "cell_type": "code",
   "execution_count": 108,
   "metadata": {
    "scrolled": true
   },
   "outputs": [
    {
     "data": {
      "application/vnd.plotly.v1+json": {
       "config": {
        "plotlyServerURL": "https://plot.ly"
       },
       "data": [
        {
         "alignmentgroup": "True",
         "hovertemplate": "Symbol=%{x}<br>Debt=%{y}<extra></extra>",
         "legendgroup": "",
         "marker": {
          "color": "#636efa"
         },
         "name": "",
         "offsetgroup": "",
         "orientation": "v",
         "showlegend": false,
         "textposition": "auto",
         "type": "bar",
         "x": [
          "BA",
          "RTX",
          "LMT",
          "NOC",
          "GD",
          "LHX",
          "TDG",
          "HEI",
          "TDY",
          "TXT"
         ],
         "xaxis": "x",
         "y": [
          56422000000,
          31250000000,
          11676000000,
          12783000000,
          11495000000,
          7059000000,
          19829000000,
          225253000,
          4100700000,
          3185000000
         ],
         "yaxis": "y"
        }
       ],
       "layout": {
        "barmode": "relative",
        "legend": {
         "tracegroupgap": 0
        },
        "template": {
         "data": {
          "bar": [
           {
            "error_x": {
             "color": "#2a3f5f"
            },
            "error_y": {
             "color": "#2a3f5f"
            },
            "marker": {
             "line": {
              "color": "#E5ECF6",
              "width": 0.5
             }
            },
            "type": "bar"
           }
          ],
          "barpolar": [
           {
            "marker": {
             "line": {
              "color": "#E5ECF6",
              "width": 0.5
             }
            },
            "type": "barpolar"
           }
          ],
          "carpet": [
           {
            "aaxis": {
             "endlinecolor": "#2a3f5f",
             "gridcolor": "white",
             "linecolor": "white",
             "minorgridcolor": "white",
             "startlinecolor": "#2a3f5f"
            },
            "baxis": {
             "endlinecolor": "#2a3f5f",
             "gridcolor": "white",
             "linecolor": "white",
             "minorgridcolor": "white",
             "startlinecolor": "#2a3f5f"
            },
            "type": "carpet"
           }
          ],
          "choropleth": [
           {
            "colorbar": {
             "outlinewidth": 0,
             "ticks": ""
            },
            "type": "choropleth"
           }
          ],
          "contour": [
           {
            "colorbar": {
             "outlinewidth": 0,
             "ticks": ""
            },
            "colorscale": [
             [
              0,
              "#0d0887"
             ],
             [
              0.1111111111111111,
              "#46039f"
             ],
             [
              0.2222222222222222,
              "#7201a8"
             ],
             [
              0.3333333333333333,
              "#9c179e"
             ],
             [
              0.4444444444444444,
              "#bd3786"
             ],
             [
              0.5555555555555556,
              "#d8576b"
             ],
             [
              0.6666666666666666,
              "#ed7953"
             ],
             [
              0.7777777777777778,
              "#fb9f3a"
             ],
             [
              0.8888888888888888,
              "#fdca26"
             ],
             [
              1,
              "#f0f921"
             ]
            ],
            "type": "contour"
           }
          ],
          "contourcarpet": [
           {
            "colorbar": {
             "outlinewidth": 0,
             "ticks": ""
            },
            "type": "contourcarpet"
           }
          ],
          "heatmap": [
           {
            "colorbar": {
             "outlinewidth": 0,
             "ticks": ""
            },
            "colorscale": [
             [
              0,
              "#0d0887"
             ],
             [
              0.1111111111111111,
              "#46039f"
             ],
             [
              0.2222222222222222,
              "#7201a8"
             ],
             [
              0.3333333333333333,
              "#9c179e"
             ],
             [
              0.4444444444444444,
              "#bd3786"
             ],
             [
              0.5555555555555556,
              "#d8576b"
             ],
             [
              0.6666666666666666,
              "#ed7953"
             ],
             [
              0.7777777777777778,
              "#fb9f3a"
             ],
             [
              0.8888888888888888,
              "#fdca26"
             ],
             [
              1,
              "#f0f921"
             ]
            ],
            "type": "heatmap"
           }
          ],
          "heatmapgl": [
           {
            "colorbar": {
             "outlinewidth": 0,
             "ticks": ""
            },
            "colorscale": [
             [
              0,
              "#0d0887"
             ],
             [
              0.1111111111111111,
              "#46039f"
             ],
             [
              0.2222222222222222,
              "#7201a8"
             ],
             [
              0.3333333333333333,
              "#9c179e"
             ],
             [
              0.4444444444444444,
              "#bd3786"
             ],
             [
              0.5555555555555556,
              "#d8576b"
             ],
             [
              0.6666666666666666,
              "#ed7953"
             ],
             [
              0.7777777777777778,
              "#fb9f3a"
             ],
             [
              0.8888888888888888,
              "#fdca26"
             ],
             [
              1,
              "#f0f921"
             ]
            ],
            "type": "heatmapgl"
           }
          ],
          "histogram": [
           {
            "marker": {
             "colorbar": {
              "outlinewidth": 0,
              "ticks": ""
             }
            },
            "type": "histogram"
           }
          ],
          "histogram2d": [
           {
            "colorbar": {
             "outlinewidth": 0,
             "ticks": ""
            },
            "colorscale": [
             [
              0,
              "#0d0887"
             ],
             [
              0.1111111111111111,
              "#46039f"
             ],
             [
              0.2222222222222222,
              "#7201a8"
             ],
             [
              0.3333333333333333,
              "#9c179e"
             ],
             [
              0.4444444444444444,
              "#bd3786"
             ],
             [
              0.5555555555555556,
              "#d8576b"
             ],
             [
              0.6666666666666666,
              "#ed7953"
             ],
             [
              0.7777777777777778,
              "#fb9f3a"
             ],
             [
              0.8888888888888888,
              "#fdca26"
             ],
             [
              1,
              "#f0f921"
             ]
            ],
            "type": "histogram2d"
           }
          ],
          "histogram2dcontour": [
           {
            "colorbar": {
             "outlinewidth": 0,
             "ticks": ""
            },
            "colorscale": [
             [
              0,
              "#0d0887"
             ],
             [
              0.1111111111111111,
              "#46039f"
             ],
             [
              0.2222222222222222,
              "#7201a8"
             ],
             [
              0.3333333333333333,
              "#9c179e"
             ],
             [
              0.4444444444444444,
              "#bd3786"
             ],
             [
              0.5555555555555556,
              "#d8576b"
             ],
             [
              0.6666666666666666,
              "#ed7953"
             ],
             [
              0.7777777777777778,
              "#fb9f3a"
             ],
             [
              0.8888888888888888,
              "#fdca26"
             ],
             [
              1,
              "#f0f921"
             ]
            ],
            "type": "histogram2dcontour"
           }
          ],
          "mesh3d": [
           {
            "colorbar": {
             "outlinewidth": 0,
             "ticks": ""
            },
            "type": "mesh3d"
           }
          ],
          "parcoords": [
           {
            "line": {
             "colorbar": {
              "outlinewidth": 0,
              "ticks": ""
             }
            },
            "type": "parcoords"
           }
          ],
          "pie": [
           {
            "automargin": true,
            "type": "pie"
           }
          ],
          "scatter": [
           {
            "marker": {
             "colorbar": {
              "outlinewidth": 0,
              "ticks": ""
             }
            },
            "type": "scatter"
           }
          ],
          "scatter3d": [
           {
            "line": {
             "colorbar": {
              "outlinewidth": 0,
              "ticks": ""
             }
            },
            "marker": {
             "colorbar": {
              "outlinewidth": 0,
              "ticks": ""
             }
            },
            "type": "scatter3d"
           }
          ],
          "scattercarpet": [
           {
            "marker": {
             "colorbar": {
              "outlinewidth": 0,
              "ticks": ""
             }
            },
            "type": "scattercarpet"
           }
          ],
          "scattergeo": [
           {
            "marker": {
             "colorbar": {
              "outlinewidth": 0,
              "ticks": ""
             }
            },
            "type": "scattergeo"
           }
          ],
          "scattergl": [
           {
            "marker": {
             "colorbar": {
              "outlinewidth": 0,
              "ticks": ""
             }
            },
            "type": "scattergl"
           }
          ],
          "scattermapbox": [
           {
            "marker": {
             "colorbar": {
              "outlinewidth": 0,
              "ticks": ""
             }
            },
            "type": "scattermapbox"
           }
          ],
          "scatterpolar": [
           {
            "marker": {
             "colorbar": {
              "outlinewidth": 0,
              "ticks": ""
             }
            },
            "type": "scatterpolar"
           }
          ],
          "scatterpolargl": [
           {
            "marker": {
             "colorbar": {
              "outlinewidth": 0,
              "ticks": ""
             }
            },
            "type": "scatterpolargl"
           }
          ],
          "scatterternary": [
           {
            "marker": {
             "colorbar": {
              "outlinewidth": 0,
              "ticks": ""
             }
            },
            "type": "scatterternary"
           }
          ],
          "surface": [
           {
            "colorbar": {
             "outlinewidth": 0,
             "ticks": ""
            },
            "colorscale": [
             [
              0,
              "#0d0887"
             ],
             [
              0.1111111111111111,
              "#46039f"
             ],
             [
              0.2222222222222222,
              "#7201a8"
             ],
             [
              0.3333333333333333,
              "#9c179e"
             ],
             [
              0.4444444444444444,
              "#bd3786"
             ],
             [
              0.5555555555555556,
              "#d8576b"
             ],
             [
              0.6666666666666666,
              "#ed7953"
             ],
             [
              0.7777777777777778,
              "#fb9f3a"
             ],
             [
              0.8888888888888888,
              "#fdca26"
             ],
             [
              1,
              "#f0f921"
             ]
            ],
            "type": "surface"
           }
          ],
          "table": [
           {
            "cells": {
             "fill": {
              "color": "#EBF0F8"
             },
             "line": {
              "color": "white"
             }
            },
            "header": {
             "fill": {
              "color": "#C8D4E3"
             },
             "line": {
              "color": "white"
             }
            },
            "type": "table"
           }
          ]
         },
         "layout": {
          "annotationdefaults": {
           "arrowcolor": "#2a3f5f",
           "arrowhead": 0,
           "arrowwidth": 1
          },
          "autotypenumbers": "strict",
          "coloraxis": {
           "colorbar": {
            "outlinewidth": 0,
            "ticks": ""
           }
          },
          "colorscale": {
           "diverging": [
            [
             0,
             "#8e0152"
            ],
            [
             0.1,
             "#c51b7d"
            ],
            [
             0.2,
             "#de77ae"
            ],
            [
             0.3,
             "#f1b6da"
            ],
            [
             0.4,
             "#fde0ef"
            ],
            [
             0.5,
             "#f7f7f7"
            ],
            [
             0.6,
             "#e6f5d0"
            ],
            [
             0.7,
             "#b8e186"
            ],
            [
             0.8,
             "#7fbc41"
            ],
            [
             0.9,
             "#4d9221"
            ],
            [
             1,
             "#276419"
            ]
           ],
           "sequential": [
            [
             0,
             "#0d0887"
            ],
            [
             0.1111111111111111,
             "#46039f"
            ],
            [
             0.2222222222222222,
             "#7201a8"
            ],
            [
             0.3333333333333333,
             "#9c179e"
            ],
            [
             0.4444444444444444,
             "#bd3786"
            ],
            [
             0.5555555555555556,
             "#d8576b"
            ],
            [
             0.6666666666666666,
             "#ed7953"
            ],
            [
             0.7777777777777778,
             "#fb9f3a"
            ],
            [
             0.8888888888888888,
             "#fdca26"
            ],
            [
             1,
             "#f0f921"
            ]
           ],
           "sequentialminus": [
            [
             0,
             "#0d0887"
            ],
            [
             0.1111111111111111,
             "#46039f"
            ],
            [
             0.2222222222222222,
             "#7201a8"
            ],
            [
             0.3333333333333333,
             "#9c179e"
            ],
            [
             0.4444444444444444,
             "#bd3786"
            ],
            [
             0.5555555555555556,
             "#d8576b"
            ],
            [
             0.6666666666666666,
             "#ed7953"
            ],
            [
             0.7777777777777778,
             "#fb9f3a"
            ],
            [
             0.8888888888888888,
             "#fdca26"
            ],
            [
             1,
             "#f0f921"
            ]
           ]
          },
          "colorway": [
           "#636efa",
           "#EF553B",
           "#00cc96",
           "#ab63fa",
           "#FFA15A",
           "#19d3f3",
           "#FF6692",
           "#B6E880",
           "#FF97FF",
           "#FECB52"
          ],
          "font": {
           "color": "#2a3f5f"
          },
          "geo": {
           "bgcolor": "white",
           "lakecolor": "white",
           "landcolor": "#E5ECF6",
           "showlakes": true,
           "showland": true,
           "subunitcolor": "white"
          },
          "hoverlabel": {
           "align": "left"
          },
          "hovermode": "closest",
          "mapbox": {
           "style": "light"
          },
          "paper_bgcolor": "white",
          "plot_bgcolor": "#E5ECF6",
          "polar": {
           "angularaxis": {
            "gridcolor": "white",
            "linecolor": "white",
            "ticks": ""
           },
           "bgcolor": "#E5ECF6",
           "radialaxis": {
            "gridcolor": "white",
            "linecolor": "white",
            "ticks": ""
           }
          },
          "scene": {
           "xaxis": {
            "backgroundcolor": "#E5ECF6",
            "gridcolor": "white",
            "gridwidth": 2,
            "linecolor": "white",
            "showbackground": true,
            "ticks": "",
            "zerolinecolor": "white"
           },
           "yaxis": {
            "backgroundcolor": "#E5ECF6",
            "gridcolor": "white",
            "gridwidth": 2,
            "linecolor": "white",
            "showbackground": true,
            "ticks": "",
            "zerolinecolor": "white"
           },
           "zaxis": {
            "backgroundcolor": "#E5ECF6",
            "gridcolor": "white",
            "gridwidth": 2,
            "linecolor": "white",
            "showbackground": true,
            "ticks": "",
            "zerolinecolor": "white"
           }
          },
          "shapedefaults": {
           "line": {
            "color": "#2a3f5f"
           }
          },
          "ternary": {
           "aaxis": {
            "gridcolor": "white",
            "linecolor": "white",
            "ticks": ""
           },
           "baxis": {
            "gridcolor": "white",
            "linecolor": "white",
            "ticks": ""
           },
           "bgcolor": "#E5ECF6",
           "caxis": {
            "gridcolor": "white",
            "linecolor": "white",
            "ticks": ""
           }
          },
          "title": {
           "x": 0.05
          },
          "xaxis": {
           "automargin": true,
           "gridcolor": "white",
           "linecolor": "white",
           "ticks": "",
           "title": {
            "standoff": 15
           },
           "zerolinecolor": "white",
           "zerolinewidth": 2
          },
          "yaxis": {
           "automargin": true,
           "gridcolor": "white",
           "linecolor": "white",
           "ticks": "",
           "title": {
            "standoff": 15
           },
           "zerolinecolor": "white",
           "zerolinewidth": 2
          }
         }
        },
        "title": {
         "text": "Debt. Year 2021"
        },
        "xaxis": {
         "anchor": "y",
         "domain": [
          0,
          1
         ],
         "title": {
          "text": "Symbol"
         }
        },
        "yaxis": {
         "anchor": "x",
         "domain": [
          0,
          1
         ],
         "title": {
          "text": "Debt"
         }
        }
       }
      },
      "text/html": [
       "<div>                            <div id=\"aefb579c-7dc4-47cf-9eb0-48a20bd73a86\" class=\"plotly-graph-div\" style=\"height:525px; width:100%;\"></div>            <script type=\"text/javascript\">                require([\"plotly\"], function(Plotly) {                    window.PLOTLYENV=window.PLOTLYENV || {};                                    if (document.getElementById(\"aefb579c-7dc4-47cf-9eb0-48a20bd73a86\")) {                    Plotly.newPlot(                        \"aefb579c-7dc4-47cf-9eb0-48a20bd73a86\",                        [{\"alignmentgroup\": \"True\", \"hovertemplate\": \"Symbol=%{x}<br>Debt=%{y}<extra></extra>\", \"legendgroup\": \"\", \"marker\": {\"color\": \"#636efa\"}, \"name\": \"\", \"offsetgroup\": \"\", \"orientation\": \"v\", \"showlegend\": false, \"textposition\": \"auto\", \"type\": \"bar\", \"x\": [\"BA\", \"RTX\", \"LMT\", \"NOC\", \"GD\", \"LHX\", \"TDG\", \"HEI\", \"TDY\", \"TXT\"], \"xaxis\": \"x\", \"y\": [56422000000.0, 31250000000.0, 11676000000.0, 12783000000.0, 11495000000.0, 7059000000.0, 19829000000.0, 225253000.0, 4100700000.0, 3185000000.0], \"yaxis\": \"y\"}],                        {\"barmode\": \"relative\", \"legend\": {\"tracegroupgap\": 0}, \"template\": {\"data\": {\"bar\": [{\"error_x\": {\"color\": \"#2a3f5f\"}, \"error_y\": {\"color\": \"#2a3f5f\"}, \"marker\": {\"line\": {\"color\": \"#E5ECF6\", \"width\": 0.5}}, \"type\": \"bar\"}], \"barpolar\": [{\"marker\": {\"line\": {\"color\": \"#E5ECF6\", \"width\": 0.5}}, \"type\": \"barpolar\"}], \"carpet\": [{\"aaxis\": {\"endlinecolor\": \"#2a3f5f\", \"gridcolor\": \"white\", \"linecolor\": \"white\", \"minorgridcolor\": \"white\", \"startlinecolor\": \"#2a3f5f\"}, \"baxis\": {\"endlinecolor\": \"#2a3f5f\", \"gridcolor\": \"white\", \"linecolor\": \"white\", \"minorgridcolor\": \"white\", \"startlinecolor\": \"#2a3f5f\"}, \"type\": \"carpet\"}], \"choropleth\": [{\"colorbar\": {\"outlinewidth\": 0, \"ticks\": \"\"}, \"type\": \"choropleth\"}], \"contour\": [{\"colorbar\": {\"outlinewidth\": 0, \"ticks\": \"\"}, \"colorscale\": [[0.0, \"#0d0887\"], [0.1111111111111111, \"#46039f\"], [0.2222222222222222, \"#7201a8\"], [0.3333333333333333, \"#9c179e\"], [0.4444444444444444, \"#bd3786\"], [0.5555555555555556, \"#d8576b\"], [0.6666666666666666, \"#ed7953\"], [0.7777777777777778, \"#fb9f3a\"], [0.8888888888888888, \"#fdca26\"], [1.0, \"#f0f921\"]], \"type\": \"contour\"}], \"contourcarpet\": [{\"colorbar\": {\"outlinewidth\": 0, \"ticks\": \"\"}, \"type\": \"contourcarpet\"}], \"heatmap\": [{\"colorbar\": {\"outlinewidth\": 0, \"ticks\": \"\"}, \"colorscale\": [[0.0, \"#0d0887\"], [0.1111111111111111, \"#46039f\"], [0.2222222222222222, \"#7201a8\"], [0.3333333333333333, \"#9c179e\"], [0.4444444444444444, \"#bd3786\"], [0.5555555555555556, \"#d8576b\"], [0.6666666666666666, \"#ed7953\"], [0.7777777777777778, \"#fb9f3a\"], [0.8888888888888888, \"#fdca26\"], [1.0, \"#f0f921\"]], \"type\": \"heatmap\"}], \"heatmapgl\": [{\"colorbar\": {\"outlinewidth\": 0, \"ticks\": \"\"}, \"colorscale\": [[0.0, \"#0d0887\"], [0.1111111111111111, \"#46039f\"], [0.2222222222222222, \"#7201a8\"], [0.3333333333333333, \"#9c179e\"], [0.4444444444444444, \"#bd3786\"], [0.5555555555555556, \"#d8576b\"], [0.6666666666666666, \"#ed7953\"], [0.7777777777777778, \"#fb9f3a\"], [0.8888888888888888, \"#fdca26\"], [1.0, \"#f0f921\"]], \"type\": \"heatmapgl\"}], \"histogram\": [{\"marker\": {\"colorbar\": {\"outlinewidth\": 0, \"ticks\": \"\"}}, \"type\": \"histogram\"}], \"histogram2d\": [{\"colorbar\": {\"outlinewidth\": 0, \"ticks\": \"\"}, \"colorscale\": [[0.0, \"#0d0887\"], [0.1111111111111111, \"#46039f\"], [0.2222222222222222, \"#7201a8\"], [0.3333333333333333, \"#9c179e\"], [0.4444444444444444, \"#bd3786\"], [0.5555555555555556, \"#d8576b\"], [0.6666666666666666, \"#ed7953\"], [0.7777777777777778, \"#fb9f3a\"], [0.8888888888888888, \"#fdca26\"], [1.0, \"#f0f921\"]], \"type\": \"histogram2d\"}], \"histogram2dcontour\": [{\"colorbar\": {\"outlinewidth\": 0, \"ticks\": \"\"}, \"colorscale\": [[0.0, \"#0d0887\"], [0.1111111111111111, \"#46039f\"], [0.2222222222222222, \"#7201a8\"], [0.3333333333333333, \"#9c179e\"], [0.4444444444444444, \"#bd3786\"], [0.5555555555555556, \"#d8576b\"], [0.6666666666666666, \"#ed7953\"], [0.7777777777777778, \"#fb9f3a\"], [0.8888888888888888, \"#fdca26\"], [1.0, \"#f0f921\"]], \"type\": \"histogram2dcontour\"}], \"mesh3d\": [{\"colorbar\": {\"outlinewidth\": 0, \"ticks\": \"\"}, \"type\": \"mesh3d\"}], \"parcoords\": [{\"line\": {\"colorbar\": {\"outlinewidth\": 0, \"ticks\": \"\"}}, \"type\": \"parcoords\"}], \"pie\": [{\"automargin\": true, \"type\": \"pie\"}], \"scatter\": [{\"marker\": {\"colorbar\": {\"outlinewidth\": 0, \"ticks\": \"\"}}, \"type\": \"scatter\"}], \"scatter3d\": [{\"line\": {\"colorbar\": {\"outlinewidth\": 0, \"ticks\": \"\"}}, \"marker\": {\"colorbar\": {\"outlinewidth\": 0, \"ticks\": \"\"}}, \"type\": \"scatter3d\"}], \"scattercarpet\": [{\"marker\": {\"colorbar\": {\"outlinewidth\": 0, \"ticks\": \"\"}}, \"type\": \"scattercarpet\"}], \"scattergeo\": [{\"marker\": {\"colorbar\": {\"outlinewidth\": 0, \"ticks\": \"\"}}, \"type\": \"scattergeo\"}], \"scattergl\": [{\"marker\": {\"colorbar\": {\"outlinewidth\": 0, \"ticks\": \"\"}}, \"type\": \"scattergl\"}], \"scattermapbox\": [{\"marker\": {\"colorbar\": {\"outlinewidth\": 0, \"ticks\": \"\"}}, \"type\": \"scattermapbox\"}], \"scatterpolar\": [{\"marker\": {\"colorbar\": {\"outlinewidth\": 0, \"ticks\": \"\"}}, \"type\": \"scatterpolar\"}], \"scatterpolargl\": [{\"marker\": {\"colorbar\": {\"outlinewidth\": 0, \"ticks\": \"\"}}, \"type\": \"scatterpolargl\"}], \"scatterternary\": [{\"marker\": {\"colorbar\": {\"outlinewidth\": 0, \"ticks\": \"\"}}, \"type\": \"scatterternary\"}], \"surface\": [{\"colorbar\": {\"outlinewidth\": 0, \"ticks\": \"\"}, \"colorscale\": [[0.0, \"#0d0887\"], [0.1111111111111111, \"#46039f\"], [0.2222222222222222, \"#7201a8\"], [0.3333333333333333, \"#9c179e\"], [0.4444444444444444, \"#bd3786\"], [0.5555555555555556, \"#d8576b\"], [0.6666666666666666, \"#ed7953\"], [0.7777777777777778, \"#fb9f3a\"], [0.8888888888888888, \"#fdca26\"], [1.0, \"#f0f921\"]], \"type\": \"surface\"}], \"table\": [{\"cells\": {\"fill\": {\"color\": \"#EBF0F8\"}, \"line\": {\"color\": \"white\"}}, \"header\": {\"fill\": {\"color\": \"#C8D4E3\"}, \"line\": {\"color\": \"white\"}}, \"type\": \"table\"}]}, \"layout\": {\"annotationdefaults\": {\"arrowcolor\": \"#2a3f5f\", \"arrowhead\": 0, \"arrowwidth\": 1}, \"autotypenumbers\": \"strict\", \"coloraxis\": {\"colorbar\": {\"outlinewidth\": 0, \"ticks\": \"\"}}, \"colorscale\": {\"diverging\": [[0, \"#8e0152\"], [0.1, \"#c51b7d\"], [0.2, \"#de77ae\"], [0.3, \"#f1b6da\"], [0.4, \"#fde0ef\"], [0.5, \"#f7f7f7\"], [0.6, \"#e6f5d0\"], [0.7, \"#b8e186\"], [0.8, \"#7fbc41\"], [0.9, \"#4d9221\"], [1, \"#276419\"]], \"sequential\": [[0.0, \"#0d0887\"], [0.1111111111111111, \"#46039f\"], [0.2222222222222222, \"#7201a8\"], [0.3333333333333333, \"#9c179e\"], [0.4444444444444444, \"#bd3786\"], [0.5555555555555556, \"#d8576b\"], [0.6666666666666666, \"#ed7953\"], [0.7777777777777778, \"#fb9f3a\"], [0.8888888888888888, \"#fdca26\"], [1.0, \"#f0f921\"]], \"sequentialminus\": [[0.0, \"#0d0887\"], [0.1111111111111111, \"#46039f\"], [0.2222222222222222, \"#7201a8\"], [0.3333333333333333, \"#9c179e\"], [0.4444444444444444, \"#bd3786\"], [0.5555555555555556, \"#d8576b\"], [0.6666666666666666, \"#ed7953\"], [0.7777777777777778, \"#fb9f3a\"], [0.8888888888888888, \"#fdca26\"], [1.0, \"#f0f921\"]]}, \"colorway\": [\"#636efa\", \"#EF553B\", \"#00cc96\", \"#ab63fa\", \"#FFA15A\", \"#19d3f3\", \"#FF6692\", \"#B6E880\", \"#FF97FF\", \"#FECB52\"], \"font\": {\"color\": \"#2a3f5f\"}, \"geo\": {\"bgcolor\": \"white\", \"lakecolor\": \"white\", \"landcolor\": \"#E5ECF6\", \"showlakes\": true, \"showland\": true, \"subunitcolor\": \"white\"}, \"hoverlabel\": {\"align\": \"left\"}, \"hovermode\": \"closest\", \"mapbox\": {\"style\": \"light\"}, \"paper_bgcolor\": \"white\", \"plot_bgcolor\": \"#E5ECF6\", \"polar\": {\"angularaxis\": {\"gridcolor\": \"white\", \"linecolor\": \"white\", \"ticks\": \"\"}, \"bgcolor\": \"#E5ECF6\", \"radialaxis\": {\"gridcolor\": \"white\", \"linecolor\": \"white\", \"ticks\": \"\"}}, \"scene\": {\"xaxis\": {\"backgroundcolor\": \"#E5ECF6\", \"gridcolor\": \"white\", \"gridwidth\": 2, \"linecolor\": \"white\", \"showbackground\": true, \"ticks\": \"\", \"zerolinecolor\": \"white\"}, \"yaxis\": {\"backgroundcolor\": \"#E5ECF6\", \"gridcolor\": \"white\", \"gridwidth\": 2, \"linecolor\": \"white\", \"showbackground\": true, \"ticks\": \"\", \"zerolinecolor\": \"white\"}, \"zaxis\": {\"backgroundcolor\": \"#E5ECF6\", \"gridcolor\": \"white\", \"gridwidth\": 2, \"linecolor\": \"white\", \"showbackground\": true, \"ticks\": \"\", \"zerolinecolor\": \"white\"}}, \"shapedefaults\": {\"line\": {\"color\": \"#2a3f5f\"}}, \"ternary\": {\"aaxis\": {\"gridcolor\": \"white\", \"linecolor\": \"white\", \"ticks\": \"\"}, \"baxis\": {\"gridcolor\": \"white\", \"linecolor\": \"white\", \"ticks\": \"\"}, \"bgcolor\": \"#E5ECF6\", \"caxis\": {\"gridcolor\": \"white\", \"linecolor\": \"white\", \"ticks\": \"\"}}, \"title\": {\"x\": 0.05}, \"xaxis\": {\"automargin\": true, \"gridcolor\": \"white\", \"linecolor\": \"white\", \"ticks\": \"\", \"title\": {\"standoff\": 15}, \"zerolinecolor\": \"white\", \"zerolinewidth\": 2}, \"yaxis\": {\"automargin\": true, \"gridcolor\": \"white\", \"linecolor\": \"white\", \"ticks\": \"\", \"title\": {\"standoff\": 15}, \"zerolinecolor\": \"white\", \"zerolinewidth\": 2}}}, \"title\": {\"text\": \"Debt. Year 2021\"}, \"xaxis\": {\"anchor\": \"y\", \"domain\": [0.0, 1.0], \"title\": {\"text\": \"Symbol\"}}, \"yaxis\": {\"anchor\": \"x\", \"domain\": [0.0, 1.0], \"title\": {\"text\": \"Debt\"}}},                        {\"responsive\": true}                    ).then(function(){\n",
       "                            \n",
       "var gd = document.getElementById('aefb579c-7dc4-47cf-9eb0-48a20bd73a86');\n",
       "var x = new MutationObserver(function (mutations, observer) {{\n",
       "        var display = window.getComputedStyle(gd).display;\n",
       "        if (!display || display === 'none') {{\n",
       "            console.log([gd, 'removed!']);\n",
       "            Plotly.purge(gd);\n",
       "            observer.disconnect();\n",
       "        }}\n",
       "}});\n",
       "\n",
       "// Listen for the removal of the full notebook cells\n",
       "var notebookContainer = gd.closest('#notebook-container');\n",
       "if (notebookContainer) {{\n",
       "    x.observe(notebookContainer, {childList: true});\n",
       "}}\n",
       "\n",
       "// Listen for the clearing of the current output cell\n",
       "var outputEl = gd.closest('.output');\n",
       "if (outputEl) {{\n",
       "    x.observe(outputEl, {childList: true});\n",
       "}}\n",
       "\n",
       "                        })                };                });            </script>        </div>"
      ]
     },
     "metadata": {},
     "output_type": "display_data"
    },
    {
     "data": {
      "text/html": [
       "<div>\n",
       "<style scoped>\n",
       "    .dataframe tbody tr th:only-of-type {\n",
       "        vertical-align: middle;\n",
       "    }\n",
       "\n",
       "    .dataframe tbody tr th {\n",
       "        vertical-align: top;\n",
       "    }\n",
       "\n",
       "    .dataframe thead th {\n",
       "        text-align: right;\n",
       "    }\n",
       "</style>\n",
       "<table border=\"1\" class=\"dataframe\">\n",
       "  <thead>\n",
       "    <tr style=\"text-align: right;\">\n",
       "      <th></th>\n",
       "      <th>Symbol</th>\n",
       "      <th>Debt</th>\n",
       "    </tr>\n",
       "  </thead>\n",
       "  <tbody>\n",
       "    <tr>\n",
       "      <th>0</th>\n",
       "      <td>BA</td>\n",
       "      <td>56,422,000,000.0</td>\n",
       "    </tr>\n",
       "    <tr>\n",
       "      <th>1</th>\n",
       "      <td>RTX</td>\n",
       "      <td>31,250,000,000.0</td>\n",
       "    </tr>\n",
       "    <tr>\n",
       "      <th>2</th>\n",
       "      <td>LMT</td>\n",
       "      <td>11,676,000,000.0</td>\n",
       "    </tr>\n",
       "    <tr>\n",
       "      <th>3</th>\n",
       "      <td>NOC</td>\n",
       "      <td>12,783,000,000.0</td>\n",
       "    </tr>\n",
       "    <tr>\n",
       "      <th>4</th>\n",
       "      <td>GD</td>\n",
       "      <td>11,495,000,000.0</td>\n",
       "    </tr>\n",
       "    <tr>\n",
       "      <th>5</th>\n",
       "      <td>LHX</td>\n",
       "      <td>7,059,000,000.0</td>\n",
       "    </tr>\n",
       "    <tr>\n",
       "      <th>6</th>\n",
       "      <td>TDG</td>\n",
       "      <td>19,829,000,000.0</td>\n",
       "    </tr>\n",
       "    <tr>\n",
       "      <th>7</th>\n",
       "      <td>HEI</td>\n",
       "      <td>225,253,000.0</td>\n",
       "    </tr>\n",
       "    <tr>\n",
       "      <th>8</th>\n",
       "      <td>TDY</td>\n",
       "      <td>4,100,700,000.0</td>\n",
       "    </tr>\n",
       "    <tr>\n",
       "      <th>9</th>\n",
       "      <td>TXT</td>\n",
       "      <td>3,185,000,000.0</td>\n",
       "    </tr>\n",
       "  </tbody>\n",
       "</table>\n",
       "</div>"
      ],
      "text/plain": [
       "  Symbol             Debt\n",
       "0     BA 56,422,000,000.0\n",
       "1    RTX 31,250,000,000.0\n",
       "2    LMT 11,676,000,000.0\n",
       "3    NOC 12,783,000,000.0\n",
       "4     GD 11,495,000,000.0\n",
       "5    LHX  7,059,000,000.0\n",
       "6    TDG 19,829,000,000.0\n",
       "7    HEI    225,253,000.0\n",
       "8    TDY  4,100,700,000.0\n",
       "9    TXT  3,185,000,000.0"
      ]
     },
     "execution_count": 108,
     "metadata": {},
     "output_type": "execute_result"
    }
   ],
   "source": [
    "Get_Target_Peer_Metric('Debt','null', 'entreprise_value_sheet', entreprise_value_sheet, 1, \"bars\")"
   ]
  },
  {
   "cell_type": "code",
   "execution_count": 109,
   "metadata": {},
   "outputs": [
    {
     "data": {
      "application/vnd.plotly.v1+json": {
       "config": {
        "plotlyServerURL": "https://plot.ly"
       },
       "data": [
        {
         "alignmentgroup": "True",
         "hovertemplate": "Symbol=%{x}<br>Price_to_earnings=%{y}<extra></extra>",
         "legendgroup": "",
         "marker": {
          "color": "#636efa"
         },
         "name": "",
         "offsetgroup": "",
         "orientation": "v",
         "showlegend": false,
         "textposition": "auto",
         "type": "bar",
         "x": [
          "BA",
          "RTX",
          "LMT",
          "NOC",
          "GD",
          "LHX",
          "TDG",
          "HEI",
          "TDY",
          "TXT"
         ],
         "xaxis": "x",
         "y": [
          -27.81,
          32.23,
          14.7,
          8.27,
          17.16,
          22.14,
          50.24,
          24.67,
          0,
          0
         ],
         "yaxis": "y"
        }
       ],
       "layout": {
        "barmode": "relative",
        "legend": {
         "tracegroupgap": 0
        },
        "template": {
         "data": {
          "bar": [
           {
            "error_x": {
             "color": "#2a3f5f"
            },
            "error_y": {
             "color": "#2a3f5f"
            },
            "marker": {
             "line": {
              "color": "#E5ECF6",
              "width": 0.5
             }
            },
            "type": "bar"
           }
          ],
          "barpolar": [
           {
            "marker": {
             "line": {
              "color": "#E5ECF6",
              "width": 0.5
             }
            },
            "type": "barpolar"
           }
          ],
          "carpet": [
           {
            "aaxis": {
             "endlinecolor": "#2a3f5f",
             "gridcolor": "white",
             "linecolor": "white",
             "minorgridcolor": "white",
             "startlinecolor": "#2a3f5f"
            },
            "baxis": {
             "endlinecolor": "#2a3f5f",
             "gridcolor": "white",
             "linecolor": "white",
             "minorgridcolor": "white",
             "startlinecolor": "#2a3f5f"
            },
            "type": "carpet"
           }
          ],
          "choropleth": [
           {
            "colorbar": {
             "outlinewidth": 0,
             "ticks": ""
            },
            "type": "choropleth"
           }
          ],
          "contour": [
           {
            "colorbar": {
             "outlinewidth": 0,
             "ticks": ""
            },
            "colorscale": [
             [
              0,
              "#0d0887"
             ],
             [
              0.1111111111111111,
              "#46039f"
             ],
             [
              0.2222222222222222,
              "#7201a8"
             ],
             [
              0.3333333333333333,
              "#9c179e"
             ],
             [
              0.4444444444444444,
              "#bd3786"
             ],
             [
              0.5555555555555556,
              "#d8576b"
             ],
             [
              0.6666666666666666,
              "#ed7953"
             ],
             [
              0.7777777777777778,
              "#fb9f3a"
             ],
             [
              0.8888888888888888,
              "#fdca26"
             ],
             [
              1,
              "#f0f921"
             ]
            ],
            "type": "contour"
           }
          ],
          "contourcarpet": [
           {
            "colorbar": {
             "outlinewidth": 0,
             "ticks": ""
            },
            "type": "contourcarpet"
           }
          ],
          "heatmap": [
           {
            "colorbar": {
             "outlinewidth": 0,
             "ticks": ""
            },
            "colorscale": [
             [
              0,
              "#0d0887"
             ],
             [
              0.1111111111111111,
              "#46039f"
             ],
             [
              0.2222222222222222,
              "#7201a8"
             ],
             [
              0.3333333333333333,
              "#9c179e"
             ],
             [
              0.4444444444444444,
              "#bd3786"
             ],
             [
              0.5555555555555556,
              "#d8576b"
             ],
             [
              0.6666666666666666,
              "#ed7953"
             ],
             [
              0.7777777777777778,
              "#fb9f3a"
             ],
             [
              0.8888888888888888,
              "#fdca26"
             ],
             [
              1,
              "#f0f921"
             ]
            ],
            "type": "heatmap"
           }
          ],
          "heatmapgl": [
           {
            "colorbar": {
             "outlinewidth": 0,
             "ticks": ""
            },
            "colorscale": [
             [
              0,
              "#0d0887"
             ],
             [
              0.1111111111111111,
              "#46039f"
             ],
             [
              0.2222222222222222,
              "#7201a8"
             ],
             [
              0.3333333333333333,
              "#9c179e"
             ],
             [
              0.4444444444444444,
              "#bd3786"
             ],
             [
              0.5555555555555556,
              "#d8576b"
             ],
             [
              0.6666666666666666,
              "#ed7953"
             ],
             [
              0.7777777777777778,
              "#fb9f3a"
             ],
             [
              0.8888888888888888,
              "#fdca26"
             ],
             [
              1,
              "#f0f921"
             ]
            ],
            "type": "heatmapgl"
           }
          ],
          "histogram": [
           {
            "marker": {
             "colorbar": {
              "outlinewidth": 0,
              "ticks": ""
             }
            },
            "type": "histogram"
           }
          ],
          "histogram2d": [
           {
            "colorbar": {
             "outlinewidth": 0,
             "ticks": ""
            },
            "colorscale": [
             [
              0,
              "#0d0887"
             ],
             [
              0.1111111111111111,
              "#46039f"
             ],
             [
              0.2222222222222222,
              "#7201a8"
             ],
             [
              0.3333333333333333,
              "#9c179e"
             ],
             [
              0.4444444444444444,
              "#bd3786"
             ],
             [
              0.5555555555555556,
              "#d8576b"
             ],
             [
              0.6666666666666666,
              "#ed7953"
             ],
             [
              0.7777777777777778,
              "#fb9f3a"
             ],
             [
              0.8888888888888888,
              "#fdca26"
             ],
             [
              1,
              "#f0f921"
             ]
            ],
            "type": "histogram2d"
           }
          ],
          "histogram2dcontour": [
           {
            "colorbar": {
             "outlinewidth": 0,
             "ticks": ""
            },
            "colorscale": [
             [
              0,
              "#0d0887"
             ],
             [
              0.1111111111111111,
              "#46039f"
             ],
             [
              0.2222222222222222,
              "#7201a8"
             ],
             [
              0.3333333333333333,
              "#9c179e"
             ],
             [
              0.4444444444444444,
              "#bd3786"
             ],
             [
              0.5555555555555556,
              "#d8576b"
             ],
             [
              0.6666666666666666,
              "#ed7953"
             ],
             [
              0.7777777777777778,
              "#fb9f3a"
             ],
             [
              0.8888888888888888,
              "#fdca26"
             ],
             [
              1,
              "#f0f921"
             ]
            ],
            "type": "histogram2dcontour"
           }
          ],
          "mesh3d": [
           {
            "colorbar": {
             "outlinewidth": 0,
             "ticks": ""
            },
            "type": "mesh3d"
           }
          ],
          "parcoords": [
           {
            "line": {
             "colorbar": {
              "outlinewidth": 0,
              "ticks": ""
             }
            },
            "type": "parcoords"
           }
          ],
          "pie": [
           {
            "automargin": true,
            "type": "pie"
           }
          ],
          "scatter": [
           {
            "marker": {
             "colorbar": {
              "outlinewidth": 0,
              "ticks": ""
             }
            },
            "type": "scatter"
           }
          ],
          "scatter3d": [
           {
            "line": {
             "colorbar": {
              "outlinewidth": 0,
              "ticks": ""
             }
            },
            "marker": {
             "colorbar": {
              "outlinewidth": 0,
              "ticks": ""
             }
            },
            "type": "scatter3d"
           }
          ],
          "scattercarpet": [
           {
            "marker": {
             "colorbar": {
              "outlinewidth": 0,
              "ticks": ""
             }
            },
            "type": "scattercarpet"
           }
          ],
          "scattergeo": [
           {
            "marker": {
             "colorbar": {
              "outlinewidth": 0,
              "ticks": ""
             }
            },
            "type": "scattergeo"
           }
          ],
          "scattergl": [
           {
            "marker": {
             "colorbar": {
              "outlinewidth": 0,
              "ticks": ""
             }
            },
            "type": "scattergl"
           }
          ],
          "scattermapbox": [
           {
            "marker": {
             "colorbar": {
              "outlinewidth": 0,
              "ticks": ""
             }
            },
            "type": "scattermapbox"
           }
          ],
          "scatterpolar": [
           {
            "marker": {
             "colorbar": {
              "outlinewidth": 0,
              "ticks": ""
             }
            },
            "type": "scatterpolar"
           }
          ],
          "scatterpolargl": [
           {
            "marker": {
             "colorbar": {
              "outlinewidth": 0,
              "ticks": ""
             }
            },
            "type": "scatterpolargl"
           }
          ],
          "scatterternary": [
           {
            "marker": {
             "colorbar": {
              "outlinewidth": 0,
              "ticks": ""
             }
            },
            "type": "scatterternary"
           }
          ],
          "surface": [
           {
            "colorbar": {
             "outlinewidth": 0,
             "ticks": ""
            },
            "colorscale": [
             [
              0,
              "#0d0887"
             ],
             [
              0.1111111111111111,
              "#46039f"
             ],
             [
              0.2222222222222222,
              "#7201a8"
             ],
             [
              0.3333333333333333,
              "#9c179e"
             ],
             [
              0.4444444444444444,
              "#bd3786"
             ],
             [
              0.5555555555555556,
              "#d8576b"
             ],
             [
              0.6666666666666666,
              "#ed7953"
             ],
             [
              0.7777777777777778,
              "#fb9f3a"
             ],
             [
              0.8888888888888888,
              "#fdca26"
             ],
             [
              1,
              "#f0f921"
             ]
            ],
            "type": "surface"
           }
          ],
          "table": [
           {
            "cells": {
             "fill": {
              "color": "#EBF0F8"
             },
             "line": {
              "color": "white"
             }
            },
            "header": {
             "fill": {
              "color": "#C8D4E3"
             },
             "line": {
              "color": "white"
             }
            },
            "type": "table"
           }
          ]
         },
         "layout": {
          "annotationdefaults": {
           "arrowcolor": "#2a3f5f",
           "arrowhead": 0,
           "arrowwidth": 1
          },
          "autotypenumbers": "strict",
          "coloraxis": {
           "colorbar": {
            "outlinewidth": 0,
            "ticks": ""
           }
          },
          "colorscale": {
           "diverging": [
            [
             0,
             "#8e0152"
            ],
            [
             0.1,
             "#c51b7d"
            ],
            [
             0.2,
             "#de77ae"
            ],
            [
             0.3,
             "#f1b6da"
            ],
            [
             0.4,
             "#fde0ef"
            ],
            [
             0.5,
             "#f7f7f7"
            ],
            [
             0.6,
             "#e6f5d0"
            ],
            [
             0.7,
             "#b8e186"
            ],
            [
             0.8,
             "#7fbc41"
            ],
            [
             0.9,
             "#4d9221"
            ],
            [
             1,
             "#276419"
            ]
           ],
           "sequential": [
            [
             0,
             "#0d0887"
            ],
            [
             0.1111111111111111,
             "#46039f"
            ],
            [
             0.2222222222222222,
             "#7201a8"
            ],
            [
             0.3333333333333333,
             "#9c179e"
            ],
            [
             0.4444444444444444,
             "#bd3786"
            ],
            [
             0.5555555555555556,
             "#d8576b"
            ],
            [
             0.6666666666666666,
             "#ed7953"
            ],
            [
             0.7777777777777778,
             "#fb9f3a"
            ],
            [
             0.8888888888888888,
             "#fdca26"
            ],
            [
             1,
             "#f0f921"
            ]
           ],
           "sequentialminus": [
            [
             0,
             "#0d0887"
            ],
            [
             0.1111111111111111,
             "#46039f"
            ],
            [
             0.2222222222222222,
             "#7201a8"
            ],
            [
             0.3333333333333333,
             "#9c179e"
            ],
            [
             0.4444444444444444,
             "#bd3786"
            ],
            [
             0.5555555555555556,
             "#d8576b"
            ],
            [
             0.6666666666666666,
             "#ed7953"
            ],
            [
             0.7777777777777778,
             "#fb9f3a"
            ],
            [
             0.8888888888888888,
             "#fdca26"
            ],
            [
             1,
             "#f0f921"
            ]
           ]
          },
          "colorway": [
           "#636efa",
           "#EF553B",
           "#00cc96",
           "#ab63fa",
           "#FFA15A",
           "#19d3f3",
           "#FF6692",
           "#B6E880",
           "#FF97FF",
           "#FECB52"
          ],
          "font": {
           "color": "#2a3f5f"
          },
          "geo": {
           "bgcolor": "white",
           "lakecolor": "white",
           "landcolor": "#E5ECF6",
           "showlakes": true,
           "showland": true,
           "subunitcolor": "white"
          },
          "hoverlabel": {
           "align": "left"
          },
          "hovermode": "closest",
          "mapbox": {
           "style": "light"
          },
          "paper_bgcolor": "white",
          "plot_bgcolor": "#E5ECF6",
          "polar": {
           "angularaxis": {
            "gridcolor": "white",
            "linecolor": "white",
            "ticks": ""
           },
           "bgcolor": "#E5ECF6",
           "radialaxis": {
            "gridcolor": "white",
            "linecolor": "white",
            "ticks": ""
           }
          },
          "scene": {
           "xaxis": {
            "backgroundcolor": "#E5ECF6",
            "gridcolor": "white",
            "gridwidth": 2,
            "linecolor": "white",
            "showbackground": true,
            "ticks": "",
            "zerolinecolor": "white"
           },
           "yaxis": {
            "backgroundcolor": "#E5ECF6",
            "gridcolor": "white",
            "gridwidth": 2,
            "linecolor": "white",
            "showbackground": true,
            "ticks": "",
            "zerolinecolor": "white"
           },
           "zaxis": {
            "backgroundcolor": "#E5ECF6",
            "gridcolor": "white",
            "gridwidth": 2,
            "linecolor": "white",
            "showbackground": true,
            "ticks": "",
            "zerolinecolor": "white"
           }
          },
          "shapedefaults": {
           "line": {
            "color": "#2a3f5f"
           }
          },
          "ternary": {
           "aaxis": {
            "gridcolor": "white",
            "linecolor": "white",
            "ticks": ""
           },
           "baxis": {
            "gridcolor": "white",
            "linecolor": "white",
            "ticks": ""
           },
           "bgcolor": "#E5ECF6",
           "caxis": {
            "gridcolor": "white",
            "linecolor": "white",
            "ticks": ""
           }
          },
          "title": {
           "x": 0.05
          },
          "xaxis": {
           "automargin": true,
           "gridcolor": "white",
           "linecolor": "white",
           "ticks": "",
           "title": {
            "standoff": 15
           },
           "zerolinecolor": "white",
           "zerolinewidth": 2
          },
          "yaxis": {
           "automargin": true,
           "gridcolor": "white",
           "linecolor": "white",
           "ticks": "",
           "title": {
            "standoff": 15
           },
           "zerolinecolor": "white",
           "zerolinewidth": 2
          }
         }
        },
        "title": {
         "text": "Price_to_earnings. Year 2021"
        },
        "xaxis": {
         "anchor": "y",
         "domain": [
          0,
          1
         ],
         "title": {
          "text": "Symbol"
         }
        },
        "yaxis": {
         "anchor": "x",
         "domain": [
          0,
          1
         ],
         "title": {
          "text": "Price_to_earnings"
         }
        }
       }
      },
      "text/html": [
       "<div>                            <div id=\"82a16d0e-6f80-43c6-9f18-ae7c5d9cef28\" class=\"plotly-graph-div\" style=\"height:525px; width:100%;\"></div>            <script type=\"text/javascript\">                require([\"plotly\"], function(Plotly) {                    window.PLOTLYENV=window.PLOTLYENV || {};                                    if (document.getElementById(\"82a16d0e-6f80-43c6-9f18-ae7c5d9cef28\")) {                    Plotly.newPlot(                        \"82a16d0e-6f80-43c6-9f18-ae7c5d9cef28\",                        [{\"alignmentgroup\": \"True\", \"hovertemplate\": \"Symbol=%{x}<br>Price_to_earnings=%{y}<extra></extra>\", \"legendgroup\": \"\", \"marker\": {\"color\": \"#636efa\"}, \"name\": \"\", \"offsetgroup\": \"\", \"orientation\": \"v\", \"showlegend\": false, \"textposition\": \"auto\", \"type\": \"bar\", \"x\": [\"BA\", \"RTX\", \"LMT\", \"NOC\", \"GD\", \"LHX\", \"TDG\", \"HEI\", \"TDY\", \"TXT\"], \"xaxis\": \"x\", \"y\": [-27.81, 32.23, 14.7, 8.27, 17.16, 22.14, 50.24, 24.67, 0.0, 0.0], \"yaxis\": \"y\"}],                        {\"barmode\": \"relative\", \"legend\": {\"tracegroupgap\": 0}, \"template\": {\"data\": {\"bar\": [{\"error_x\": {\"color\": \"#2a3f5f\"}, \"error_y\": {\"color\": \"#2a3f5f\"}, \"marker\": {\"line\": {\"color\": \"#E5ECF6\", \"width\": 0.5}}, \"type\": \"bar\"}], \"barpolar\": [{\"marker\": {\"line\": {\"color\": \"#E5ECF6\", \"width\": 0.5}}, \"type\": \"barpolar\"}], \"carpet\": [{\"aaxis\": {\"endlinecolor\": \"#2a3f5f\", \"gridcolor\": \"white\", \"linecolor\": \"white\", \"minorgridcolor\": \"white\", \"startlinecolor\": \"#2a3f5f\"}, \"baxis\": {\"endlinecolor\": \"#2a3f5f\", \"gridcolor\": \"white\", \"linecolor\": \"white\", \"minorgridcolor\": \"white\", \"startlinecolor\": \"#2a3f5f\"}, \"type\": \"carpet\"}], \"choropleth\": [{\"colorbar\": {\"outlinewidth\": 0, \"ticks\": \"\"}, \"type\": \"choropleth\"}], \"contour\": [{\"colorbar\": {\"outlinewidth\": 0, \"ticks\": \"\"}, \"colorscale\": [[0.0, \"#0d0887\"], [0.1111111111111111, \"#46039f\"], [0.2222222222222222, \"#7201a8\"], [0.3333333333333333, \"#9c179e\"], [0.4444444444444444, \"#bd3786\"], [0.5555555555555556, \"#d8576b\"], [0.6666666666666666, \"#ed7953\"], [0.7777777777777778, \"#fb9f3a\"], [0.8888888888888888, \"#fdca26\"], [1.0, \"#f0f921\"]], \"type\": \"contour\"}], \"contourcarpet\": [{\"colorbar\": {\"outlinewidth\": 0, \"ticks\": \"\"}, \"type\": \"contourcarpet\"}], \"heatmap\": [{\"colorbar\": {\"outlinewidth\": 0, \"ticks\": \"\"}, \"colorscale\": [[0.0, \"#0d0887\"], [0.1111111111111111, \"#46039f\"], [0.2222222222222222, \"#7201a8\"], [0.3333333333333333, \"#9c179e\"], [0.4444444444444444, \"#bd3786\"], [0.5555555555555556, \"#d8576b\"], [0.6666666666666666, \"#ed7953\"], [0.7777777777777778, \"#fb9f3a\"], [0.8888888888888888, \"#fdca26\"], [1.0, \"#f0f921\"]], \"type\": \"heatmap\"}], \"heatmapgl\": [{\"colorbar\": {\"outlinewidth\": 0, \"ticks\": \"\"}, \"colorscale\": [[0.0, \"#0d0887\"], [0.1111111111111111, \"#46039f\"], [0.2222222222222222, \"#7201a8\"], [0.3333333333333333, \"#9c179e\"], [0.4444444444444444, \"#bd3786\"], [0.5555555555555556, \"#d8576b\"], [0.6666666666666666, \"#ed7953\"], [0.7777777777777778, \"#fb9f3a\"], [0.8888888888888888, \"#fdca26\"], [1.0, \"#f0f921\"]], \"type\": \"heatmapgl\"}], \"histogram\": [{\"marker\": {\"colorbar\": {\"outlinewidth\": 0, \"ticks\": \"\"}}, \"type\": \"histogram\"}], \"histogram2d\": [{\"colorbar\": {\"outlinewidth\": 0, \"ticks\": \"\"}, \"colorscale\": [[0.0, \"#0d0887\"], [0.1111111111111111, \"#46039f\"], [0.2222222222222222, \"#7201a8\"], [0.3333333333333333, \"#9c179e\"], [0.4444444444444444, \"#bd3786\"], [0.5555555555555556, \"#d8576b\"], [0.6666666666666666, \"#ed7953\"], [0.7777777777777778, \"#fb9f3a\"], [0.8888888888888888, \"#fdca26\"], [1.0, \"#f0f921\"]], \"type\": \"histogram2d\"}], \"histogram2dcontour\": [{\"colorbar\": {\"outlinewidth\": 0, \"ticks\": \"\"}, \"colorscale\": [[0.0, \"#0d0887\"], [0.1111111111111111, \"#46039f\"], [0.2222222222222222, \"#7201a8\"], [0.3333333333333333, \"#9c179e\"], [0.4444444444444444, \"#bd3786\"], [0.5555555555555556, \"#d8576b\"], [0.6666666666666666, \"#ed7953\"], [0.7777777777777778, \"#fb9f3a\"], [0.8888888888888888, \"#fdca26\"], [1.0, \"#f0f921\"]], \"type\": \"histogram2dcontour\"}], \"mesh3d\": [{\"colorbar\": {\"outlinewidth\": 0, \"ticks\": \"\"}, \"type\": \"mesh3d\"}], \"parcoords\": [{\"line\": {\"colorbar\": {\"outlinewidth\": 0, \"ticks\": \"\"}}, \"type\": \"parcoords\"}], \"pie\": [{\"automargin\": true, \"type\": \"pie\"}], \"scatter\": [{\"marker\": {\"colorbar\": {\"outlinewidth\": 0, \"ticks\": \"\"}}, \"type\": \"scatter\"}], \"scatter3d\": [{\"line\": {\"colorbar\": {\"outlinewidth\": 0, \"ticks\": \"\"}}, \"marker\": {\"colorbar\": {\"outlinewidth\": 0, \"ticks\": \"\"}}, \"type\": \"scatter3d\"}], \"scattercarpet\": [{\"marker\": {\"colorbar\": {\"outlinewidth\": 0, \"ticks\": \"\"}}, \"type\": \"scattercarpet\"}], \"scattergeo\": [{\"marker\": {\"colorbar\": {\"outlinewidth\": 0, \"ticks\": \"\"}}, \"type\": \"scattergeo\"}], \"scattergl\": [{\"marker\": {\"colorbar\": {\"outlinewidth\": 0, \"ticks\": \"\"}}, \"type\": \"scattergl\"}], \"scattermapbox\": [{\"marker\": {\"colorbar\": {\"outlinewidth\": 0, \"ticks\": \"\"}}, \"type\": \"scattermapbox\"}], \"scatterpolar\": [{\"marker\": {\"colorbar\": {\"outlinewidth\": 0, \"ticks\": \"\"}}, \"type\": \"scatterpolar\"}], \"scatterpolargl\": [{\"marker\": {\"colorbar\": {\"outlinewidth\": 0, \"ticks\": \"\"}}, \"type\": \"scatterpolargl\"}], \"scatterternary\": [{\"marker\": {\"colorbar\": {\"outlinewidth\": 0, \"ticks\": \"\"}}, \"type\": \"scatterternary\"}], \"surface\": [{\"colorbar\": {\"outlinewidth\": 0, \"ticks\": \"\"}, \"colorscale\": [[0.0, \"#0d0887\"], [0.1111111111111111, \"#46039f\"], [0.2222222222222222, \"#7201a8\"], [0.3333333333333333, \"#9c179e\"], [0.4444444444444444, \"#bd3786\"], [0.5555555555555556, \"#d8576b\"], [0.6666666666666666, \"#ed7953\"], [0.7777777777777778, \"#fb9f3a\"], [0.8888888888888888, \"#fdca26\"], [1.0, \"#f0f921\"]], \"type\": \"surface\"}], \"table\": [{\"cells\": {\"fill\": {\"color\": \"#EBF0F8\"}, \"line\": {\"color\": \"white\"}}, \"header\": {\"fill\": {\"color\": \"#C8D4E3\"}, \"line\": {\"color\": \"white\"}}, \"type\": \"table\"}]}, \"layout\": {\"annotationdefaults\": {\"arrowcolor\": \"#2a3f5f\", \"arrowhead\": 0, \"arrowwidth\": 1}, \"autotypenumbers\": \"strict\", \"coloraxis\": {\"colorbar\": {\"outlinewidth\": 0, \"ticks\": \"\"}}, \"colorscale\": {\"diverging\": [[0, \"#8e0152\"], [0.1, \"#c51b7d\"], [0.2, \"#de77ae\"], [0.3, \"#f1b6da\"], [0.4, \"#fde0ef\"], [0.5, \"#f7f7f7\"], [0.6, \"#e6f5d0\"], [0.7, \"#b8e186\"], [0.8, \"#7fbc41\"], [0.9, \"#4d9221\"], [1, \"#276419\"]], \"sequential\": [[0.0, \"#0d0887\"], [0.1111111111111111, \"#46039f\"], [0.2222222222222222, \"#7201a8\"], [0.3333333333333333, \"#9c179e\"], [0.4444444444444444, \"#bd3786\"], [0.5555555555555556, \"#d8576b\"], [0.6666666666666666, \"#ed7953\"], [0.7777777777777778, \"#fb9f3a\"], [0.8888888888888888, \"#fdca26\"], [1.0, \"#f0f921\"]], \"sequentialminus\": [[0.0, \"#0d0887\"], [0.1111111111111111, \"#46039f\"], [0.2222222222222222, \"#7201a8\"], [0.3333333333333333, \"#9c179e\"], [0.4444444444444444, \"#bd3786\"], [0.5555555555555556, \"#d8576b\"], [0.6666666666666666, \"#ed7953\"], [0.7777777777777778, \"#fb9f3a\"], [0.8888888888888888, \"#fdca26\"], [1.0, \"#f0f921\"]]}, \"colorway\": [\"#636efa\", \"#EF553B\", \"#00cc96\", \"#ab63fa\", \"#FFA15A\", \"#19d3f3\", \"#FF6692\", \"#B6E880\", \"#FF97FF\", \"#FECB52\"], \"font\": {\"color\": \"#2a3f5f\"}, \"geo\": {\"bgcolor\": \"white\", \"lakecolor\": \"white\", \"landcolor\": \"#E5ECF6\", \"showlakes\": true, \"showland\": true, \"subunitcolor\": \"white\"}, \"hoverlabel\": {\"align\": \"left\"}, \"hovermode\": \"closest\", \"mapbox\": {\"style\": \"light\"}, \"paper_bgcolor\": \"white\", \"plot_bgcolor\": \"#E5ECF6\", \"polar\": {\"angularaxis\": {\"gridcolor\": \"white\", \"linecolor\": \"white\", \"ticks\": \"\"}, \"bgcolor\": \"#E5ECF6\", \"radialaxis\": {\"gridcolor\": \"white\", \"linecolor\": \"white\", \"ticks\": \"\"}}, \"scene\": {\"xaxis\": {\"backgroundcolor\": \"#E5ECF6\", \"gridcolor\": \"white\", \"gridwidth\": 2, \"linecolor\": \"white\", \"showbackground\": true, \"ticks\": \"\", \"zerolinecolor\": \"white\"}, \"yaxis\": {\"backgroundcolor\": \"#E5ECF6\", \"gridcolor\": \"white\", \"gridwidth\": 2, \"linecolor\": \"white\", \"showbackground\": true, \"ticks\": \"\", \"zerolinecolor\": \"white\"}, \"zaxis\": {\"backgroundcolor\": \"#E5ECF6\", \"gridcolor\": \"white\", \"gridwidth\": 2, \"linecolor\": \"white\", \"showbackground\": true, \"ticks\": \"\", \"zerolinecolor\": \"white\"}}, \"shapedefaults\": {\"line\": {\"color\": \"#2a3f5f\"}}, \"ternary\": {\"aaxis\": {\"gridcolor\": \"white\", \"linecolor\": \"white\", \"ticks\": \"\"}, \"baxis\": {\"gridcolor\": \"white\", \"linecolor\": \"white\", \"ticks\": \"\"}, \"bgcolor\": \"#E5ECF6\", \"caxis\": {\"gridcolor\": \"white\", \"linecolor\": \"white\", \"ticks\": \"\"}}, \"title\": {\"x\": 0.05}, \"xaxis\": {\"automargin\": true, \"gridcolor\": \"white\", \"linecolor\": \"white\", \"ticks\": \"\", \"title\": {\"standoff\": 15}, \"zerolinecolor\": \"white\", \"zerolinewidth\": 2}, \"yaxis\": {\"automargin\": true, \"gridcolor\": \"white\", \"linecolor\": \"white\", \"ticks\": \"\", \"title\": {\"standoff\": 15}, \"zerolinecolor\": \"white\", \"zerolinewidth\": 2}}}, \"title\": {\"text\": \"Price_to_earnings. Year 2021\"}, \"xaxis\": {\"anchor\": \"y\", \"domain\": [0.0, 1.0], \"title\": {\"text\": \"Symbol\"}}, \"yaxis\": {\"anchor\": \"x\", \"domain\": [0.0, 1.0], \"title\": {\"text\": \"Price_to_earnings\"}}},                        {\"responsive\": true}                    ).then(function(){\n",
       "                            \n",
       "var gd = document.getElementById('82a16d0e-6f80-43c6-9f18-ae7c5d9cef28');\n",
       "var x = new MutationObserver(function (mutations, observer) {{\n",
       "        var display = window.getComputedStyle(gd).display;\n",
       "        if (!display || display === 'none') {{\n",
       "            console.log([gd, 'removed!']);\n",
       "            Plotly.purge(gd);\n",
       "            observer.disconnect();\n",
       "        }}\n",
       "}});\n",
       "\n",
       "// Listen for the removal of the full notebook cells\n",
       "var notebookContainer = gd.closest('#notebook-container');\n",
       "if (notebookContainer) {{\n",
       "    x.observe(notebookContainer, {childList: true});\n",
       "}}\n",
       "\n",
       "// Listen for the clearing of the current output cell\n",
       "var outputEl = gd.closest('.output');\n",
       "if (outputEl) {{\n",
       "    x.observe(outputEl, {childList: true});\n",
       "}}\n",
       "\n",
       "                        })                };                });            </script>        </div>"
      ]
     },
     "metadata": {},
     "output_type": "display_data"
    },
    {
     "data": {
      "text/html": [
       "<div>\n",
       "<style scoped>\n",
       "    .dataframe tbody tr th:only-of-type {\n",
       "        vertical-align: middle;\n",
       "    }\n",
       "\n",
       "    .dataframe tbody tr th {\n",
       "        vertical-align: top;\n",
       "    }\n",
       "\n",
       "    .dataframe thead th {\n",
       "        text-align: right;\n",
       "    }\n",
       "</style>\n",
       "<table border=\"1\" class=\"dataframe\">\n",
       "  <thead>\n",
       "    <tr style=\"text-align: right;\">\n",
       "      <th></th>\n",
       "      <th>Symbol</th>\n",
       "      <th>Price_to_earnings</th>\n",
       "    </tr>\n",
       "  </thead>\n",
       "  <tbody>\n",
       "    <tr>\n",
       "      <th>0</th>\n",
       "      <td>BA</td>\n",
       "      <td>-27.81</td>\n",
       "    </tr>\n",
       "    <tr>\n",
       "      <th>1</th>\n",
       "      <td>RTX</td>\n",
       "      <td>32.23</td>\n",
       "    </tr>\n",
       "    <tr>\n",
       "      <th>2</th>\n",
       "      <td>LMT</td>\n",
       "      <td>14.7</td>\n",
       "    </tr>\n",
       "    <tr>\n",
       "      <th>3</th>\n",
       "      <td>NOC</td>\n",
       "      <td>8.27</td>\n",
       "    </tr>\n",
       "    <tr>\n",
       "      <th>4</th>\n",
       "      <td>GD</td>\n",
       "      <td>17.16</td>\n",
       "    </tr>\n",
       "    <tr>\n",
       "      <th>5</th>\n",
       "      <td>LHX</td>\n",
       "      <td>22.14</td>\n",
       "    </tr>\n",
       "    <tr>\n",
       "      <th>6</th>\n",
       "      <td>TDG</td>\n",
       "      <td>50.24</td>\n",
       "    </tr>\n",
       "    <tr>\n",
       "      <th>7</th>\n",
       "      <td>HEI</td>\n",
       "      <td>24.67</td>\n",
       "    </tr>\n",
       "    <tr>\n",
       "      <th>8</th>\n",
       "      <td>TDY</td>\n",
       "      <td>0.0</td>\n",
       "    </tr>\n",
       "    <tr>\n",
       "      <th>9</th>\n",
       "      <td>TXT</td>\n",
       "      <td>0.0</td>\n",
       "    </tr>\n",
       "  </tbody>\n",
       "</table>\n",
       "</div>"
      ],
      "text/plain": [
       "  Symbol  Price_to_earnings\n",
       "0     BA             -27.81\n",
       "1    RTX              32.23\n",
       "2    LMT               14.7\n",
       "3    NOC               8.27\n",
       "4     GD              17.16\n",
       "5    LHX              22.14\n",
       "6    TDG              50.24\n",
       "7    HEI              24.67\n",
       "8    TDY                0.0\n",
       "9    TXT                0.0"
      ]
     },
     "execution_count": 109,
     "metadata": {},
     "output_type": "execute_result"
    }
   ],
   "source": [
    "Get_Target_Peer_Metric('Price_to_earnings','null', 'entreprise_value_sheet', entreprise_value_sheet, 1, \"bars\")"
   ]
  },
  {
   "cell_type": "code",
   "execution_count": 110,
   "metadata": {},
   "outputs": [
    {
     "data": {
      "application/vnd.plotly.v1+json": {
       "config": {
        "plotlyServerURL": "https://plot.ly"
       },
       "data": [
        {
         "hovertemplate": "variable=BA<br>Year=%{x}<br>value=%{y}<extra></extra>",
         "legendgroup": "BA",
         "line": {
          "color": "#636efa",
          "dash": "solid"
         },
         "mode": "lines",
         "name": "BA",
         "orientation": "v",
         "showlegend": true,
         "type": "scatter",
         "x": [
          2021,
          2020,
          2019,
          2018
         ],
         "xaxis": "x",
         "y": [
          56422000000,
          61780000000,
          25073000000,
          11191000000
         ],
         "yaxis": "y"
        },
        {
         "hovertemplate": "variable=RTX<br>Year=%{x}<br>value=%{y}<extra></extra>",
         "legendgroup": "RTX",
         "line": {
          "color": "#EF553B",
          "dash": "solid"
         },
         "mode": "lines",
         "name": "RTX",
         "orientation": "v",
         "showlegend": true,
         "type": "scatter",
         "x": [
          2021,
          2020,
          2019,
          2018
         ],
         "xaxis": "x",
         "y": [
          31250000000,
          31512000000,
          40883000000,
          43996000000
         ],
         "yaxis": "y"
        },
        {
         "hovertemplate": "variable=LMT<br>Year=%{x}<br>value=%{y}<extra></extra>",
         "legendgroup": "LMT",
         "line": {
          "color": "#00cc96",
          "dash": "solid"
         },
         "mode": "lines",
         "name": "LMT",
         "orientation": "v",
         "showlegend": true,
         "type": "scatter",
         "x": [
          2021,
          2020,
          2019,
          2018,
          2021,
          2020,
          2019,
          2018
         ],
         "xaxis": "x",
         "y": [
          11676000000,
          12169000000,
          12654000000,
          13504000000,
          11676000000,
          12169000000,
          12654000000,
          13504000000
         ],
         "yaxis": "y"
        },
        {
         "hovertemplate": "variable=NOC<br>Year=%{x}<br>value=%{y}<extra></extra>",
         "legendgroup": "NOC",
         "line": {
          "color": "#ab63fa",
          "dash": "solid"
         },
         "mode": "lines",
         "name": "NOC",
         "orientation": "v",
         "showlegend": true,
         "type": "scatter",
         "x": [
          2021,
          2020,
          2019,
          2018
         ],
         "xaxis": "x",
         "y": [
          12783000000,
          15003000000,
          13879000000,
          14400000000
         ],
         "yaxis": "y"
        },
        {
         "hovertemplate": "variable=GD<br>Year=%{x}<br>value=%{y}<extra></extra>",
         "legendgroup": "GD",
         "line": {
          "color": "#FFA15A",
          "dash": "solid"
         },
         "mode": "lines",
         "name": "GD",
         "orientation": "v",
         "showlegend": true,
         "type": "scatter",
         "x": [
          2021,
          2020,
          2019,
          2018
         ],
         "xaxis": "x",
         "y": [
          11495000000,
          12998000000,
          11930000000,
          11567000000
         ],
         "yaxis": "y"
        },
        {
         "hovertemplate": "variable=LHX<br>Year=%{x}<br>value=%{y}<extra></extra>",
         "legendgroup": "LHX",
         "line": {
          "color": "#19d3f3",
          "dash": "solid"
         },
         "mode": "lines",
         "name": "LHX",
         "orientation": "v",
         "showlegend": true,
         "type": "scatter",
         "x": [
          2021,
          2020,
          2019,
          2018
         ],
         "xaxis": "x",
         "y": [
          7059000000,
          7059000000,
          7059000000,
          7059000000
         ],
         "yaxis": "y"
        },
        {
         "hovertemplate": "variable=TDG<br>Year=%{x}<br>value=%{y}<extra></extra>",
         "legendgroup": "TDG",
         "line": {
          "color": "#FF6692",
          "dash": "solid"
         },
         "mode": "lines",
         "name": "TDG",
         "orientation": "v",
         "showlegend": true,
         "type": "scatter",
         "x": [
          2021,
          2020,
          2019,
          2018
         ],
         "xaxis": "x",
         "y": [
          19829000000,
          19987000000,
          16714000000,
          12578433000
         ],
         "yaxis": "y"
        },
        {
         "hovertemplate": "variable=HEI<br>Year=%{x}<br>value=%{y}<extra></extra>",
         "legendgroup": "HEI",
         "line": {
          "color": "#B6E880",
          "dash": "solid"
         },
         "mode": "lines",
         "name": "HEI",
         "orientation": "v",
         "showlegend": true,
         "type": "scatter",
         "x": [
          2021,
          2020,
          2019,
          2018
         ],
         "xaxis": "x",
         "y": [
          225253000,
          730264000,
          553320000,
          531611000
         ],
         "yaxis": "y"
        },
        {
         "hovertemplate": "variable=TDY<br>Year=%{x}<br>value=%{y}<extra></extra>",
         "legendgroup": "TDY",
         "line": {
          "color": "#FF97FF",
          "dash": "solid"
         },
         "mode": "lines",
         "name": "TDY",
         "orientation": "v",
         "showlegend": true,
         "type": "scatter",
         "x": [
          2021,
          2020,
          2019,
          2018
         ],
         "xaxis": "x",
         "y": [
          4100700000,
          781800000,
          850600000,
          747500000
         ],
         "yaxis": "y"
        },
        {
         "hovertemplate": "variable=TXT<br>Year=%{x}<br>value=%{y}<extra></extra>",
         "legendgroup": "TXT",
         "line": {
          "color": "#FECB52",
          "dash": "solid"
         },
         "mode": "lines",
         "name": "TXT",
         "orientation": "v",
         "showlegend": true,
         "type": "scatter",
         "x": [
          2021,
          2020,
          2019,
          2018
         ],
         "xaxis": "x",
         "y": [
          3185000000,
          3707000000,
          3082000000,
          3066000000
         ],
         "yaxis": "y"
        }
       ],
       "layout": {
        "legend": {
         "title": {
          "text": "variable"
         },
         "tracegroupgap": 0
        },
        "template": {
         "data": {
          "bar": [
           {
            "error_x": {
             "color": "#2a3f5f"
            },
            "error_y": {
             "color": "#2a3f5f"
            },
            "marker": {
             "line": {
              "color": "#E5ECF6",
              "width": 0.5
             }
            },
            "type": "bar"
           }
          ],
          "barpolar": [
           {
            "marker": {
             "line": {
              "color": "#E5ECF6",
              "width": 0.5
             }
            },
            "type": "barpolar"
           }
          ],
          "carpet": [
           {
            "aaxis": {
             "endlinecolor": "#2a3f5f",
             "gridcolor": "white",
             "linecolor": "white",
             "minorgridcolor": "white",
             "startlinecolor": "#2a3f5f"
            },
            "baxis": {
             "endlinecolor": "#2a3f5f",
             "gridcolor": "white",
             "linecolor": "white",
             "minorgridcolor": "white",
             "startlinecolor": "#2a3f5f"
            },
            "type": "carpet"
           }
          ],
          "choropleth": [
           {
            "colorbar": {
             "outlinewidth": 0,
             "ticks": ""
            },
            "type": "choropleth"
           }
          ],
          "contour": [
           {
            "colorbar": {
             "outlinewidth": 0,
             "ticks": ""
            },
            "colorscale": [
             [
              0,
              "#0d0887"
             ],
             [
              0.1111111111111111,
              "#46039f"
             ],
             [
              0.2222222222222222,
              "#7201a8"
             ],
             [
              0.3333333333333333,
              "#9c179e"
             ],
             [
              0.4444444444444444,
              "#bd3786"
             ],
             [
              0.5555555555555556,
              "#d8576b"
             ],
             [
              0.6666666666666666,
              "#ed7953"
             ],
             [
              0.7777777777777778,
              "#fb9f3a"
             ],
             [
              0.8888888888888888,
              "#fdca26"
             ],
             [
              1,
              "#f0f921"
             ]
            ],
            "type": "contour"
           }
          ],
          "contourcarpet": [
           {
            "colorbar": {
             "outlinewidth": 0,
             "ticks": ""
            },
            "type": "contourcarpet"
           }
          ],
          "heatmap": [
           {
            "colorbar": {
             "outlinewidth": 0,
             "ticks": ""
            },
            "colorscale": [
             [
              0,
              "#0d0887"
             ],
             [
              0.1111111111111111,
              "#46039f"
             ],
             [
              0.2222222222222222,
              "#7201a8"
             ],
             [
              0.3333333333333333,
              "#9c179e"
             ],
             [
              0.4444444444444444,
              "#bd3786"
             ],
             [
              0.5555555555555556,
              "#d8576b"
             ],
             [
              0.6666666666666666,
              "#ed7953"
             ],
             [
              0.7777777777777778,
              "#fb9f3a"
             ],
             [
              0.8888888888888888,
              "#fdca26"
             ],
             [
              1,
              "#f0f921"
             ]
            ],
            "type": "heatmap"
           }
          ],
          "heatmapgl": [
           {
            "colorbar": {
             "outlinewidth": 0,
             "ticks": ""
            },
            "colorscale": [
             [
              0,
              "#0d0887"
             ],
             [
              0.1111111111111111,
              "#46039f"
             ],
             [
              0.2222222222222222,
              "#7201a8"
             ],
             [
              0.3333333333333333,
              "#9c179e"
             ],
             [
              0.4444444444444444,
              "#bd3786"
             ],
             [
              0.5555555555555556,
              "#d8576b"
             ],
             [
              0.6666666666666666,
              "#ed7953"
             ],
             [
              0.7777777777777778,
              "#fb9f3a"
             ],
             [
              0.8888888888888888,
              "#fdca26"
             ],
             [
              1,
              "#f0f921"
             ]
            ],
            "type": "heatmapgl"
           }
          ],
          "histogram": [
           {
            "marker": {
             "colorbar": {
              "outlinewidth": 0,
              "ticks": ""
             }
            },
            "type": "histogram"
           }
          ],
          "histogram2d": [
           {
            "colorbar": {
             "outlinewidth": 0,
             "ticks": ""
            },
            "colorscale": [
             [
              0,
              "#0d0887"
             ],
             [
              0.1111111111111111,
              "#46039f"
             ],
             [
              0.2222222222222222,
              "#7201a8"
             ],
             [
              0.3333333333333333,
              "#9c179e"
             ],
             [
              0.4444444444444444,
              "#bd3786"
             ],
             [
              0.5555555555555556,
              "#d8576b"
             ],
             [
              0.6666666666666666,
              "#ed7953"
             ],
             [
              0.7777777777777778,
              "#fb9f3a"
             ],
             [
              0.8888888888888888,
              "#fdca26"
             ],
             [
              1,
              "#f0f921"
             ]
            ],
            "type": "histogram2d"
           }
          ],
          "histogram2dcontour": [
           {
            "colorbar": {
             "outlinewidth": 0,
             "ticks": ""
            },
            "colorscale": [
             [
              0,
              "#0d0887"
             ],
             [
              0.1111111111111111,
              "#46039f"
             ],
             [
              0.2222222222222222,
              "#7201a8"
             ],
             [
              0.3333333333333333,
              "#9c179e"
             ],
             [
              0.4444444444444444,
              "#bd3786"
             ],
             [
              0.5555555555555556,
              "#d8576b"
             ],
             [
              0.6666666666666666,
              "#ed7953"
             ],
             [
              0.7777777777777778,
              "#fb9f3a"
             ],
             [
              0.8888888888888888,
              "#fdca26"
             ],
             [
              1,
              "#f0f921"
             ]
            ],
            "type": "histogram2dcontour"
           }
          ],
          "mesh3d": [
           {
            "colorbar": {
             "outlinewidth": 0,
             "ticks": ""
            },
            "type": "mesh3d"
           }
          ],
          "parcoords": [
           {
            "line": {
             "colorbar": {
              "outlinewidth": 0,
              "ticks": ""
             }
            },
            "type": "parcoords"
           }
          ],
          "pie": [
           {
            "automargin": true,
            "type": "pie"
           }
          ],
          "scatter": [
           {
            "marker": {
             "colorbar": {
              "outlinewidth": 0,
              "ticks": ""
             }
            },
            "type": "scatter"
           }
          ],
          "scatter3d": [
           {
            "line": {
             "colorbar": {
              "outlinewidth": 0,
              "ticks": ""
             }
            },
            "marker": {
             "colorbar": {
              "outlinewidth": 0,
              "ticks": ""
             }
            },
            "type": "scatter3d"
           }
          ],
          "scattercarpet": [
           {
            "marker": {
             "colorbar": {
              "outlinewidth": 0,
              "ticks": ""
             }
            },
            "type": "scattercarpet"
           }
          ],
          "scattergeo": [
           {
            "marker": {
             "colorbar": {
              "outlinewidth": 0,
              "ticks": ""
             }
            },
            "type": "scattergeo"
           }
          ],
          "scattergl": [
           {
            "marker": {
             "colorbar": {
              "outlinewidth": 0,
              "ticks": ""
             }
            },
            "type": "scattergl"
           }
          ],
          "scattermapbox": [
           {
            "marker": {
             "colorbar": {
              "outlinewidth": 0,
              "ticks": ""
             }
            },
            "type": "scattermapbox"
           }
          ],
          "scatterpolar": [
           {
            "marker": {
             "colorbar": {
              "outlinewidth": 0,
              "ticks": ""
             }
            },
            "type": "scatterpolar"
           }
          ],
          "scatterpolargl": [
           {
            "marker": {
             "colorbar": {
              "outlinewidth": 0,
              "ticks": ""
             }
            },
            "type": "scatterpolargl"
           }
          ],
          "scatterternary": [
           {
            "marker": {
             "colorbar": {
              "outlinewidth": 0,
              "ticks": ""
             }
            },
            "type": "scatterternary"
           }
          ],
          "surface": [
           {
            "colorbar": {
             "outlinewidth": 0,
             "ticks": ""
            },
            "colorscale": [
             [
              0,
              "#0d0887"
             ],
             [
              0.1111111111111111,
              "#46039f"
             ],
             [
              0.2222222222222222,
              "#7201a8"
             ],
             [
              0.3333333333333333,
              "#9c179e"
             ],
             [
              0.4444444444444444,
              "#bd3786"
             ],
             [
              0.5555555555555556,
              "#d8576b"
             ],
             [
              0.6666666666666666,
              "#ed7953"
             ],
             [
              0.7777777777777778,
              "#fb9f3a"
             ],
             [
              0.8888888888888888,
              "#fdca26"
             ],
             [
              1,
              "#f0f921"
             ]
            ],
            "type": "surface"
           }
          ],
          "table": [
           {
            "cells": {
             "fill": {
              "color": "#EBF0F8"
             },
             "line": {
              "color": "white"
             }
            },
            "header": {
             "fill": {
              "color": "#C8D4E3"
             },
             "line": {
              "color": "white"
             }
            },
            "type": "table"
           }
          ]
         },
         "layout": {
          "annotationdefaults": {
           "arrowcolor": "#2a3f5f",
           "arrowhead": 0,
           "arrowwidth": 1
          },
          "autotypenumbers": "strict",
          "coloraxis": {
           "colorbar": {
            "outlinewidth": 0,
            "ticks": ""
           }
          },
          "colorscale": {
           "diverging": [
            [
             0,
             "#8e0152"
            ],
            [
             0.1,
             "#c51b7d"
            ],
            [
             0.2,
             "#de77ae"
            ],
            [
             0.3,
             "#f1b6da"
            ],
            [
             0.4,
             "#fde0ef"
            ],
            [
             0.5,
             "#f7f7f7"
            ],
            [
             0.6,
             "#e6f5d0"
            ],
            [
             0.7,
             "#b8e186"
            ],
            [
             0.8,
             "#7fbc41"
            ],
            [
             0.9,
             "#4d9221"
            ],
            [
             1,
             "#276419"
            ]
           ],
           "sequential": [
            [
             0,
             "#0d0887"
            ],
            [
             0.1111111111111111,
             "#46039f"
            ],
            [
             0.2222222222222222,
             "#7201a8"
            ],
            [
             0.3333333333333333,
             "#9c179e"
            ],
            [
             0.4444444444444444,
             "#bd3786"
            ],
            [
             0.5555555555555556,
             "#d8576b"
            ],
            [
             0.6666666666666666,
             "#ed7953"
            ],
            [
             0.7777777777777778,
             "#fb9f3a"
            ],
            [
             0.8888888888888888,
             "#fdca26"
            ],
            [
             1,
             "#f0f921"
            ]
           ],
           "sequentialminus": [
            [
             0,
             "#0d0887"
            ],
            [
             0.1111111111111111,
             "#46039f"
            ],
            [
             0.2222222222222222,
             "#7201a8"
            ],
            [
             0.3333333333333333,
             "#9c179e"
            ],
            [
             0.4444444444444444,
             "#bd3786"
            ],
            [
             0.5555555555555556,
             "#d8576b"
            ],
            [
             0.6666666666666666,
             "#ed7953"
            ],
            [
             0.7777777777777778,
             "#fb9f3a"
            ],
            [
             0.8888888888888888,
             "#fdca26"
            ],
            [
             1,
             "#f0f921"
            ]
           ]
          },
          "colorway": [
           "#636efa",
           "#EF553B",
           "#00cc96",
           "#ab63fa",
           "#FFA15A",
           "#19d3f3",
           "#FF6692",
           "#B6E880",
           "#FF97FF",
           "#FECB52"
          ],
          "font": {
           "color": "#2a3f5f"
          },
          "geo": {
           "bgcolor": "white",
           "lakecolor": "white",
           "landcolor": "#E5ECF6",
           "showlakes": true,
           "showland": true,
           "subunitcolor": "white"
          },
          "hoverlabel": {
           "align": "left"
          },
          "hovermode": "closest",
          "mapbox": {
           "style": "light"
          },
          "paper_bgcolor": "white",
          "plot_bgcolor": "#E5ECF6",
          "polar": {
           "angularaxis": {
            "gridcolor": "white",
            "linecolor": "white",
            "ticks": ""
           },
           "bgcolor": "#E5ECF6",
           "radialaxis": {
            "gridcolor": "white",
            "linecolor": "white",
            "ticks": ""
           }
          },
          "scene": {
           "xaxis": {
            "backgroundcolor": "#E5ECF6",
            "gridcolor": "white",
            "gridwidth": 2,
            "linecolor": "white",
            "showbackground": true,
            "ticks": "",
            "zerolinecolor": "white"
           },
           "yaxis": {
            "backgroundcolor": "#E5ECF6",
            "gridcolor": "white",
            "gridwidth": 2,
            "linecolor": "white",
            "showbackground": true,
            "ticks": "",
            "zerolinecolor": "white"
           },
           "zaxis": {
            "backgroundcolor": "#E5ECF6",
            "gridcolor": "white",
            "gridwidth": 2,
            "linecolor": "white",
            "showbackground": true,
            "ticks": "",
            "zerolinecolor": "white"
           }
          },
          "shapedefaults": {
           "line": {
            "color": "#2a3f5f"
           }
          },
          "ternary": {
           "aaxis": {
            "gridcolor": "white",
            "linecolor": "white",
            "ticks": ""
           },
           "baxis": {
            "gridcolor": "white",
            "linecolor": "white",
            "ticks": ""
           },
           "bgcolor": "#E5ECF6",
           "caxis": {
            "gridcolor": "white",
            "linecolor": "white",
            "ticks": ""
           }
          },
          "title": {
           "x": 0.05
          },
          "xaxis": {
           "automargin": true,
           "gridcolor": "white",
           "linecolor": "white",
           "ticks": "",
           "title": {
            "standoff": 15
           },
           "zerolinecolor": "white",
           "zerolinewidth": 2
          },
          "yaxis": {
           "automargin": true,
           "gridcolor": "white",
           "linecolor": "white",
           "ticks": "",
           "title": {
            "standoff": 15
           },
           "zerolinecolor": "white",
           "zerolinewidth": 2
          }
         }
        },
        "title": {
         "text": "Debt"
        },
        "xaxis": {
         "anchor": "y",
         "domain": [
          0,
          1
         ],
         "title": {
          "text": "Year"
         }
        },
        "yaxis": {
         "anchor": "x",
         "domain": [
          0,
          1
         ],
         "title": {
          "text": "value"
         }
        }
       }
      },
      "text/html": [
       "<div>                            <div id=\"1a7df6b1-2a81-4537-a026-269b8ec83b9b\" class=\"plotly-graph-div\" style=\"height:525px; width:100%;\"></div>            <script type=\"text/javascript\">                require([\"plotly\"], function(Plotly) {                    window.PLOTLYENV=window.PLOTLYENV || {};                                    if (document.getElementById(\"1a7df6b1-2a81-4537-a026-269b8ec83b9b\")) {                    Plotly.newPlot(                        \"1a7df6b1-2a81-4537-a026-269b8ec83b9b\",                        [{\"hovertemplate\": \"variable=BA<br>Year=%{x}<br>value=%{y}<extra></extra>\", \"legendgroup\": \"BA\", \"line\": {\"color\": \"#636efa\", \"dash\": \"solid\"}, \"mode\": \"lines\", \"name\": \"BA\", \"orientation\": \"v\", \"showlegend\": true, \"type\": \"scatter\", \"x\": [2021, 2020, 2019, 2018], \"xaxis\": \"x\", \"y\": [56422000000.0, 61780000000.0, 25073000000.0, 11191000000.0], \"yaxis\": \"y\"}, {\"hovertemplate\": \"variable=RTX<br>Year=%{x}<br>value=%{y}<extra></extra>\", \"legendgroup\": \"RTX\", \"line\": {\"color\": \"#EF553B\", \"dash\": \"solid\"}, \"mode\": \"lines\", \"name\": \"RTX\", \"orientation\": \"v\", \"showlegend\": true, \"type\": \"scatter\", \"x\": [2021, 2020, 2019, 2018], \"xaxis\": \"x\", \"y\": [31250000000.0, 31512000000.0, 40883000000.0, 43996000000.0], \"yaxis\": \"y\"}, {\"hovertemplate\": \"variable=LMT<br>Year=%{x}<br>value=%{y}<extra></extra>\", \"legendgroup\": \"LMT\", \"line\": {\"color\": \"#00cc96\", \"dash\": \"solid\"}, \"mode\": \"lines\", \"name\": \"LMT\", \"orientation\": \"v\", \"showlegend\": true, \"type\": \"scatter\", \"x\": [2021, 2020, 2019, 2018, 2021, 2020, 2019, 2018], \"xaxis\": \"x\", \"y\": [11676000000.0, 12169000000.0, 12654000000.0, 13504000000.0, 11676000000.0, 12169000000.0, 12654000000.0, 13504000000.0], \"yaxis\": \"y\"}, {\"hovertemplate\": \"variable=NOC<br>Year=%{x}<br>value=%{y}<extra></extra>\", \"legendgroup\": \"NOC\", \"line\": {\"color\": \"#ab63fa\", \"dash\": \"solid\"}, \"mode\": \"lines\", \"name\": \"NOC\", \"orientation\": \"v\", \"showlegend\": true, \"type\": \"scatter\", \"x\": [2021, 2020, 2019, 2018], \"xaxis\": \"x\", \"y\": [12783000000.0, 15003000000.0, 13879000000.0, 14400000000.0], \"yaxis\": \"y\"}, {\"hovertemplate\": \"variable=GD<br>Year=%{x}<br>value=%{y}<extra></extra>\", \"legendgroup\": \"GD\", \"line\": {\"color\": \"#FFA15A\", \"dash\": \"solid\"}, \"mode\": \"lines\", \"name\": \"GD\", \"orientation\": \"v\", \"showlegend\": true, \"type\": \"scatter\", \"x\": [2021, 2020, 2019, 2018], \"xaxis\": \"x\", \"y\": [11495000000.0, 12998000000.0, 11930000000.0, 11567000000.0], \"yaxis\": \"y\"}, {\"hovertemplate\": \"variable=LHX<br>Year=%{x}<br>value=%{y}<extra></extra>\", \"legendgroup\": \"LHX\", \"line\": {\"color\": \"#19d3f3\", \"dash\": \"solid\"}, \"mode\": \"lines\", \"name\": \"LHX\", \"orientation\": \"v\", \"showlegend\": true, \"type\": \"scatter\", \"x\": [2021, 2020, 2019, 2018], \"xaxis\": \"x\", \"y\": [7059000000.0, 7059000000.0, 7059000000.0, 7059000000.0], \"yaxis\": \"y\"}, {\"hovertemplate\": \"variable=TDG<br>Year=%{x}<br>value=%{y}<extra></extra>\", \"legendgroup\": \"TDG\", \"line\": {\"color\": \"#FF6692\", \"dash\": \"solid\"}, \"mode\": \"lines\", \"name\": \"TDG\", \"orientation\": \"v\", \"showlegend\": true, \"type\": \"scatter\", \"x\": [2021, 2020, 2019, 2018], \"xaxis\": \"x\", \"y\": [19829000000.0, 19987000000.0, 16714000000.0, 12578433000.0], \"yaxis\": \"y\"}, {\"hovertemplate\": \"variable=HEI<br>Year=%{x}<br>value=%{y}<extra></extra>\", \"legendgroup\": \"HEI\", \"line\": {\"color\": \"#B6E880\", \"dash\": \"solid\"}, \"mode\": \"lines\", \"name\": \"HEI\", \"orientation\": \"v\", \"showlegend\": true, \"type\": \"scatter\", \"x\": [2021, 2020, 2019, 2018], \"xaxis\": \"x\", \"y\": [225253000.0, 730264000.0, 553320000.0, 531611000.0], \"yaxis\": \"y\"}, {\"hovertemplate\": \"variable=TDY<br>Year=%{x}<br>value=%{y}<extra></extra>\", \"legendgroup\": \"TDY\", \"line\": {\"color\": \"#FF97FF\", \"dash\": \"solid\"}, \"mode\": \"lines\", \"name\": \"TDY\", \"orientation\": \"v\", \"showlegend\": true, \"type\": \"scatter\", \"x\": [2021, 2020, 2019, 2018], \"xaxis\": \"x\", \"y\": [4100700000.0, 781800000.0, 850600000.0, 747500000.0], \"yaxis\": \"y\"}, {\"hovertemplate\": \"variable=TXT<br>Year=%{x}<br>value=%{y}<extra></extra>\", \"legendgroup\": \"TXT\", \"line\": {\"color\": \"#FECB52\", \"dash\": \"solid\"}, \"mode\": \"lines\", \"name\": \"TXT\", \"orientation\": \"v\", \"showlegend\": true, \"type\": \"scatter\", \"x\": [2021, 2020, 2019, 2018], \"xaxis\": \"x\", \"y\": [3185000000.0, 3707000000.0, 3082000000.0, 3066000000.0], \"yaxis\": \"y\"}],                        {\"legend\": {\"title\": {\"text\": \"variable\"}, \"tracegroupgap\": 0}, \"template\": {\"data\": {\"bar\": [{\"error_x\": {\"color\": \"#2a3f5f\"}, \"error_y\": {\"color\": \"#2a3f5f\"}, \"marker\": {\"line\": {\"color\": \"#E5ECF6\", \"width\": 0.5}}, \"type\": \"bar\"}], \"barpolar\": [{\"marker\": {\"line\": {\"color\": \"#E5ECF6\", \"width\": 0.5}}, \"type\": \"barpolar\"}], \"carpet\": [{\"aaxis\": {\"endlinecolor\": \"#2a3f5f\", \"gridcolor\": \"white\", \"linecolor\": \"white\", \"minorgridcolor\": \"white\", \"startlinecolor\": \"#2a3f5f\"}, \"baxis\": {\"endlinecolor\": \"#2a3f5f\", \"gridcolor\": \"white\", \"linecolor\": \"white\", \"minorgridcolor\": \"white\", \"startlinecolor\": \"#2a3f5f\"}, \"type\": \"carpet\"}], \"choropleth\": [{\"colorbar\": {\"outlinewidth\": 0, \"ticks\": \"\"}, \"type\": \"choropleth\"}], \"contour\": [{\"colorbar\": {\"outlinewidth\": 0, \"ticks\": \"\"}, \"colorscale\": [[0.0, \"#0d0887\"], [0.1111111111111111, \"#46039f\"], [0.2222222222222222, \"#7201a8\"], [0.3333333333333333, \"#9c179e\"], [0.4444444444444444, \"#bd3786\"], [0.5555555555555556, \"#d8576b\"], [0.6666666666666666, \"#ed7953\"], [0.7777777777777778, \"#fb9f3a\"], [0.8888888888888888, \"#fdca26\"], [1.0, \"#f0f921\"]], \"type\": \"contour\"}], \"contourcarpet\": [{\"colorbar\": {\"outlinewidth\": 0, \"ticks\": \"\"}, \"type\": \"contourcarpet\"}], \"heatmap\": [{\"colorbar\": {\"outlinewidth\": 0, \"ticks\": \"\"}, \"colorscale\": [[0.0, \"#0d0887\"], [0.1111111111111111, \"#46039f\"], [0.2222222222222222, \"#7201a8\"], [0.3333333333333333, \"#9c179e\"], [0.4444444444444444, \"#bd3786\"], [0.5555555555555556, \"#d8576b\"], [0.6666666666666666, \"#ed7953\"], [0.7777777777777778, \"#fb9f3a\"], [0.8888888888888888, \"#fdca26\"], [1.0, \"#f0f921\"]], \"type\": \"heatmap\"}], \"heatmapgl\": [{\"colorbar\": {\"outlinewidth\": 0, \"ticks\": \"\"}, \"colorscale\": [[0.0, \"#0d0887\"], [0.1111111111111111, \"#46039f\"], [0.2222222222222222, \"#7201a8\"], [0.3333333333333333, \"#9c179e\"], [0.4444444444444444, \"#bd3786\"], [0.5555555555555556, \"#d8576b\"], [0.6666666666666666, \"#ed7953\"], [0.7777777777777778, \"#fb9f3a\"], [0.8888888888888888, \"#fdca26\"], [1.0, \"#f0f921\"]], \"type\": \"heatmapgl\"}], \"histogram\": [{\"marker\": {\"colorbar\": {\"outlinewidth\": 0, \"ticks\": \"\"}}, \"type\": \"histogram\"}], \"histogram2d\": [{\"colorbar\": {\"outlinewidth\": 0, \"ticks\": \"\"}, \"colorscale\": [[0.0, \"#0d0887\"], [0.1111111111111111, \"#46039f\"], [0.2222222222222222, \"#7201a8\"], [0.3333333333333333, \"#9c179e\"], [0.4444444444444444, \"#bd3786\"], [0.5555555555555556, \"#d8576b\"], [0.6666666666666666, \"#ed7953\"], [0.7777777777777778, \"#fb9f3a\"], [0.8888888888888888, \"#fdca26\"], [1.0, \"#f0f921\"]], \"type\": \"histogram2d\"}], \"histogram2dcontour\": [{\"colorbar\": {\"outlinewidth\": 0, \"ticks\": \"\"}, \"colorscale\": [[0.0, \"#0d0887\"], [0.1111111111111111, \"#46039f\"], [0.2222222222222222, \"#7201a8\"], [0.3333333333333333, \"#9c179e\"], [0.4444444444444444, \"#bd3786\"], [0.5555555555555556, \"#d8576b\"], [0.6666666666666666, \"#ed7953\"], [0.7777777777777778, \"#fb9f3a\"], [0.8888888888888888, \"#fdca26\"], [1.0, \"#f0f921\"]], \"type\": \"histogram2dcontour\"}], \"mesh3d\": [{\"colorbar\": {\"outlinewidth\": 0, \"ticks\": \"\"}, \"type\": \"mesh3d\"}], \"parcoords\": [{\"line\": {\"colorbar\": {\"outlinewidth\": 0, \"ticks\": \"\"}}, \"type\": \"parcoords\"}], \"pie\": [{\"automargin\": true, \"type\": \"pie\"}], \"scatter\": [{\"marker\": {\"colorbar\": {\"outlinewidth\": 0, \"ticks\": \"\"}}, \"type\": \"scatter\"}], \"scatter3d\": [{\"line\": {\"colorbar\": {\"outlinewidth\": 0, \"ticks\": \"\"}}, \"marker\": {\"colorbar\": {\"outlinewidth\": 0, \"ticks\": \"\"}}, \"type\": \"scatter3d\"}], \"scattercarpet\": [{\"marker\": {\"colorbar\": {\"outlinewidth\": 0, \"ticks\": \"\"}}, \"type\": \"scattercarpet\"}], \"scattergeo\": [{\"marker\": {\"colorbar\": {\"outlinewidth\": 0, \"ticks\": \"\"}}, \"type\": \"scattergeo\"}], \"scattergl\": [{\"marker\": {\"colorbar\": {\"outlinewidth\": 0, \"ticks\": \"\"}}, \"type\": \"scattergl\"}], \"scattermapbox\": [{\"marker\": {\"colorbar\": {\"outlinewidth\": 0, \"ticks\": \"\"}}, \"type\": \"scattermapbox\"}], \"scatterpolar\": [{\"marker\": {\"colorbar\": {\"outlinewidth\": 0, \"ticks\": \"\"}}, \"type\": \"scatterpolar\"}], \"scatterpolargl\": [{\"marker\": {\"colorbar\": {\"outlinewidth\": 0, \"ticks\": \"\"}}, \"type\": \"scatterpolargl\"}], \"scatterternary\": [{\"marker\": {\"colorbar\": {\"outlinewidth\": 0, \"ticks\": \"\"}}, \"type\": \"scatterternary\"}], \"surface\": [{\"colorbar\": {\"outlinewidth\": 0, \"ticks\": \"\"}, \"colorscale\": [[0.0, \"#0d0887\"], [0.1111111111111111, \"#46039f\"], [0.2222222222222222, \"#7201a8\"], [0.3333333333333333, \"#9c179e\"], [0.4444444444444444, \"#bd3786\"], [0.5555555555555556, \"#d8576b\"], [0.6666666666666666, \"#ed7953\"], [0.7777777777777778, \"#fb9f3a\"], [0.8888888888888888, \"#fdca26\"], [1.0, \"#f0f921\"]], \"type\": \"surface\"}], \"table\": [{\"cells\": {\"fill\": {\"color\": \"#EBF0F8\"}, \"line\": {\"color\": \"white\"}}, \"header\": {\"fill\": {\"color\": \"#C8D4E3\"}, \"line\": {\"color\": \"white\"}}, \"type\": \"table\"}]}, \"layout\": {\"annotationdefaults\": {\"arrowcolor\": \"#2a3f5f\", \"arrowhead\": 0, \"arrowwidth\": 1}, \"autotypenumbers\": \"strict\", \"coloraxis\": {\"colorbar\": {\"outlinewidth\": 0, \"ticks\": \"\"}}, \"colorscale\": {\"diverging\": [[0, \"#8e0152\"], [0.1, \"#c51b7d\"], [0.2, \"#de77ae\"], [0.3, \"#f1b6da\"], [0.4, \"#fde0ef\"], [0.5, \"#f7f7f7\"], [0.6, \"#e6f5d0\"], [0.7, \"#b8e186\"], [0.8, \"#7fbc41\"], [0.9, \"#4d9221\"], [1, \"#276419\"]], \"sequential\": [[0.0, \"#0d0887\"], [0.1111111111111111, \"#46039f\"], [0.2222222222222222, \"#7201a8\"], [0.3333333333333333, \"#9c179e\"], [0.4444444444444444, \"#bd3786\"], [0.5555555555555556, \"#d8576b\"], [0.6666666666666666, \"#ed7953\"], [0.7777777777777778, \"#fb9f3a\"], [0.8888888888888888, \"#fdca26\"], [1.0, \"#f0f921\"]], \"sequentialminus\": [[0.0, \"#0d0887\"], [0.1111111111111111, \"#46039f\"], [0.2222222222222222, \"#7201a8\"], [0.3333333333333333, \"#9c179e\"], [0.4444444444444444, \"#bd3786\"], [0.5555555555555556, \"#d8576b\"], [0.6666666666666666, \"#ed7953\"], [0.7777777777777778, \"#fb9f3a\"], [0.8888888888888888, \"#fdca26\"], [1.0, \"#f0f921\"]]}, \"colorway\": [\"#636efa\", \"#EF553B\", \"#00cc96\", \"#ab63fa\", \"#FFA15A\", \"#19d3f3\", \"#FF6692\", \"#B6E880\", \"#FF97FF\", \"#FECB52\"], \"font\": {\"color\": \"#2a3f5f\"}, \"geo\": {\"bgcolor\": \"white\", \"lakecolor\": \"white\", \"landcolor\": \"#E5ECF6\", \"showlakes\": true, \"showland\": true, \"subunitcolor\": \"white\"}, \"hoverlabel\": {\"align\": \"left\"}, \"hovermode\": \"closest\", \"mapbox\": {\"style\": \"light\"}, \"paper_bgcolor\": \"white\", \"plot_bgcolor\": \"#E5ECF6\", \"polar\": {\"angularaxis\": {\"gridcolor\": \"white\", \"linecolor\": \"white\", \"ticks\": \"\"}, \"bgcolor\": \"#E5ECF6\", \"radialaxis\": {\"gridcolor\": \"white\", \"linecolor\": \"white\", \"ticks\": \"\"}}, \"scene\": {\"xaxis\": {\"backgroundcolor\": \"#E5ECF6\", \"gridcolor\": \"white\", \"gridwidth\": 2, \"linecolor\": \"white\", \"showbackground\": true, \"ticks\": \"\", \"zerolinecolor\": \"white\"}, \"yaxis\": {\"backgroundcolor\": \"#E5ECF6\", \"gridcolor\": \"white\", \"gridwidth\": 2, \"linecolor\": \"white\", \"showbackground\": true, \"ticks\": \"\", \"zerolinecolor\": \"white\"}, \"zaxis\": {\"backgroundcolor\": \"#E5ECF6\", \"gridcolor\": \"white\", \"gridwidth\": 2, \"linecolor\": \"white\", \"showbackground\": true, \"ticks\": \"\", \"zerolinecolor\": \"white\"}}, \"shapedefaults\": {\"line\": {\"color\": \"#2a3f5f\"}}, \"ternary\": {\"aaxis\": {\"gridcolor\": \"white\", \"linecolor\": \"white\", \"ticks\": \"\"}, \"baxis\": {\"gridcolor\": \"white\", \"linecolor\": \"white\", \"ticks\": \"\"}, \"bgcolor\": \"#E5ECF6\", \"caxis\": {\"gridcolor\": \"white\", \"linecolor\": \"white\", \"ticks\": \"\"}}, \"title\": {\"x\": 0.05}, \"xaxis\": {\"automargin\": true, \"gridcolor\": \"white\", \"linecolor\": \"white\", \"ticks\": \"\", \"title\": {\"standoff\": 15}, \"zerolinecolor\": \"white\", \"zerolinewidth\": 2}, \"yaxis\": {\"automargin\": true, \"gridcolor\": \"white\", \"linecolor\": \"white\", \"ticks\": \"\", \"title\": {\"standoff\": 15}, \"zerolinecolor\": \"white\", \"zerolinewidth\": 2}}}, \"title\": {\"text\": \"Debt\"}, \"xaxis\": {\"anchor\": \"y\", \"domain\": [0.0, 1.0], \"title\": {\"text\": \"Year\"}}, \"yaxis\": {\"anchor\": \"x\", \"domain\": [0.0, 1.0], \"title\": {\"text\": \"value\"}}},                        {\"responsive\": true}                    ).then(function(){\n",
       "                            \n",
       "var gd = document.getElementById('1a7df6b1-2a81-4537-a026-269b8ec83b9b');\n",
       "var x = new MutationObserver(function (mutations, observer) {{\n",
       "        var display = window.getComputedStyle(gd).display;\n",
       "        if (!display || display === 'none') {{\n",
       "            console.log([gd, 'removed!']);\n",
       "            Plotly.purge(gd);\n",
       "            observer.disconnect();\n",
       "        }}\n",
       "}});\n",
       "\n",
       "// Listen for the removal of the full notebook cells\n",
       "var notebookContainer = gd.closest('#notebook-container');\n",
       "if (notebookContainer) {{\n",
       "    x.observe(notebookContainer, {childList: true});\n",
       "}}\n",
       "\n",
       "// Listen for the clearing of the current output cell\n",
       "var outputEl = gd.closest('.output');\n",
       "if (outputEl) {{\n",
       "    x.observe(outputEl, {childList: true});\n",
       "}}\n",
       "\n",
       "                        })                };                });            </script>        </div>"
      ]
     },
     "metadata": {},
     "output_type": "display_data"
    },
    {
     "data": {
      "text/html": [
       "<div>\n",
       "<style scoped>\n",
       "    .dataframe tbody tr th:only-of-type {\n",
       "        vertical-align: middle;\n",
       "    }\n",
       "\n",
       "    .dataframe tbody tr th {\n",
       "        vertical-align: top;\n",
       "    }\n",
       "\n",
       "    .dataframe thead th {\n",
       "        text-align: right;\n",
       "    }\n",
       "</style>\n",
       "<table border=\"1\" class=\"dataframe\">\n",
       "  <thead>\n",
       "    <tr style=\"text-align: right;\">\n",
       "      <th></th>\n",
       "      <th>Year</th>\n",
       "      <th>BA</th>\n",
       "      <th>RTX</th>\n",
       "      <th>LMT</th>\n",
       "      <th>NOC</th>\n",
       "      <th>GD</th>\n",
       "      <th>LHX</th>\n",
       "      <th>TDG</th>\n",
       "      <th>HEI</th>\n",
       "      <th>TDY</th>\n",
       "      <th>TXT</th>\n",
       "    </tr>\n",
       "  </thead>\n",
       "  <tbody>\n",
       "    <tr>\n",
       "      <th>0</th>\n",
       "      <td>2021</td>\n",
       "      <td>56,422,000,000.0</td>\n",
       "      <td>31,250,000,000.0</td>\n",
       "      <td>11,676,000,000.0</td>\n",
       "      <td>12,783,000,000.0</td>\n",
       "      <td>11,495,000,000.0</td>\n",
       "      <td>7,059,000,000.0</td>\n",
       "      <td>19,829,000,000.0</td>\n",
       "      <td>225,253,000.0</td>\n",
       "      <td>4,100,700,000.0</td>\n",
       "      <td>3,185,000,000.0</td>\n",
       "    </tr>\n",
       "    <tr>\n",
       "      <th>1</th>\n",
       "      <td>2020</td>\n",
       "      <td>61,780,000,000.0</td>\n",
       "      <td>31,512,000,000.0</td>\n",
       "      <td>12,169,000,000.0</td>\n",
       "      <td>15,003,000,000.0</td>\n",
       "      <td>12,998,000,000.0</td>\n",
       "      <td>7,059,000,000.0</td>\n",
       "      <td>19,987,000,000.0</td>\n",
       "      <td>730,264,000.0</td>\n",
       "      <td>781,800,000.0</td>\n",
       "      <td>3,707,000,000.0</td>\n",
       "    </tr>\n",
       "    <tr>\n",
       "      <th>2</th>\n",
       "      <td>2019</td>\n",
       "      <td>25,073,000,000.0</td>\n",
       "      <td>40,883,000,000.0</td>\n",
       "      <td>12,654,000,000.0</td>\n",
       "      <td>13,879,000,000.0</td>\n",
       "      <td>11,930,000,000.0</td>\n",
       "      <td>7,059,000,000.0</td>\n",
       "      <td>16,714,000,000.0</td>\n",
       "      <td>553,320,000.0</td>\n",
       "      <td>850,600,000.0</td>\n",
       "      <td>3,082,000,000.0</td>\n",
       "    </tr>\n",
       "    <tr>\n",
       "      <th>3</th>\n",
       "      <td>2018</td>\n",
       "      <td>11,191,000,000.0</td>\n",
       "      <td>43,996,000,000.0</td>\n",
       "      <td>13,504,000,000.0</td>\n",
       "      <td>14,400,000,000.0</td>\n",
       "      <td>11,567,000,000.0</td>\n",
       "      <td>7,059,000,000.0</td>\n",
       "      <td>12,578,433,000.0</td>\n",
       "      <td>531,611,000.0</td>\n",
       "      <td>747,500,000.0</td>\n",
       "      <td>3,066,000,000.0</td>\n",
       "    </tr>\n",
       "  </tbody>\n",
       "</table>\n",
       "</div>"
      ],
      "text/plain": [
       "   Year               BA              RTX              LMT              NOC  \\\n",
       "0  2021 56,422,000,000.0 31,250,000,000.0 11,676,000,000.0 12,783,000,000.0   \n",
       "1  2020 61,780,000,000.0 31,512,000,000.0 12,169,000,000.0 15,003,000,000.0   \n",
       "2  2019 25,073,000,000.0 40,883,000,000.0 12,654,000,000.0 13,879,000,000.0   \n",
       "3  2018 11,191,000,000.0 43,996,000,000.0 13,504,000,000.0 14,400,000,000.0   \n",
       "\n",
       "                GD             LHX              TDG           HEI  \\\n",
       "0 11,495,000,000.0 7,059,000,000.0 19,829,000,000.0 225,253,000.0   \n",
       "1 12,998,000,000.0 7,059,000,000.0 19,987,000,000.0 730,264,000.0   \n",
       "2 11,930,000,000.0 7,059,000,000.0 16,714,000,000.0 553,320,000.0   \n",
       "3 11,567,000,000.0 7,059,000,000.0 12,578,433,000.0 531,611,000.0   \n",
       "\n",
       "              TDY             TXT  \n",
       "0 4,100,700,000.0 3,185,000,000.0  \n",
       "1   781,800,000.0 3,707,000,000.0  \n",
       "2   850,600,000.0 3,082,000,000.0  \n",
       "3   747,500,000.0 3,066,000,000.0  "
      ]
     },
     "execution_count": 110,
     "metadata": {},
     "output_type": "execute_result"
    }
   ],
   "source": [
    "Get_Target_Peer_Metric('Debt','null', 'entreprise_value_sheet', entreprise_value_sheet, 1, \"lines\")"
   ]
  },
  {
   "cell_type": "code",
   "execution_count": null,
   "metadata": {},
   "outputs": [],
   "source": []
  }
 ],
 "metadata": {
  "colab": {
   "collapsed_sections": [],
   "name": "FinancesData.ipynb",
   "provenance": []
  },
  "kernelspec": {
   "display_name": "Python 3",
   "language": "python",
   "name": "python3"
  },
  "language_info": {
   "codemirror_mode": {
    "name": "ipython",
    "version": 3
   },
   "file_extension": ".py",
   "mimetype": "text/x-python",
   "name": "python",
   "nbconvert_exporter": "python",
   "pygments_lexer": "ipython3",
   "version": "3.7.3"
  }
 },
 "nbformat": 4,
 "nbformat_minor": 1
}
